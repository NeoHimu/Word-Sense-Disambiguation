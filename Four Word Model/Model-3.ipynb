{
 "cells": [
  {
   "cell_type": "code",
   "execution_count": 1,
   "metadata": {
    "collapsed": true
   },
   "outputs": [],
   "source": [
    "import tensorflow as tf\n",
    "tf.logging.set_verbosity(tf.logging.WARN)\n",
    "import pickle\n",
    "import numpy as np\n",
    "import os\n",
    "from sklearn.model_selection import train_test_split\n",
    "from sklearn.metrics import f1_score\n",
    "from sklearn.metrics import accuracy_score\n",
    "import os\n",
    "from tensorflow.python.client import device_lib\n",
    "from collections import Counter"
   ]
  },
  {
   "cell_type": "code",
   "execution_count": 2,
   "metadata": {
    "collapsed": true
   },
   "outputs": [],
   "source": [
    "f = open('../Glove/word_embedding_glove', 'rb')\n",
    "word_embedding = pickle.load(f)\n",
    "f.close()\n",
    "word_embedding = word_embedding[: len(word_embedding)-1]\n",
    "\n",
    "f = open('../Glove/vocab_glove', 'rb')\n",
    "vocab = pickle.load(f)\n",
    "f.close()\n",
    "\n",
    "word2id = dict((w, i) for i,w in enumerate(vocab))\n",
    "id2word = dict((i, w) for i,w in enumerate(vocab))\n",
    "\n",
    "unknown_token = \"UNKNOWN_TOKEN\"\n",
    "\n",
    "f = open(\"train.pickle\", 'rb')\n",
    "full_data = pickle.load(f)\n",
    "f.close()"
   ]
  },
  {
   "cell_type": "code",
   "execution_count": 3,
   "metadata": {
    "collapsed": true
   },
   "outputs": [],
   "source": [
    "# Model Description\n",
    "sense_word = 'hard'\n",
    "model_name = 'model-3'\n",
    "model_dir = 'output/' + sense_word + '/' + model_name\n",
    "save_dir = os.path.join(model_dir, \"save/\")\n",
    "log_dir = os.path.join(model_dir, \"log\")\n",
    "\n",
    "if not os.path.exists(model_dir):\n",
    "    os.mkdir(model_dir)\n",
    "if not os.path.exists(save_dir):\n",
    "    os.mkdir(save_dir)\n",
    "if not os.path.exists(log_dir):\n",
    "    os.mkdir(log_dir)"
   ]
  },
  {
   "cell_type": "code",
   "execution_count": 4,
   "metadata": {},
   "outputs": [
    {
     "name": "stdout",
     "output_type": "stream",
     "text": [
      "Counter({'HARD1': 3455, 'HARD2': 502, 'HARD3': 376})\n",
      "[ 1.21578586  5.30486965  5.47934437]\n"
     ]
    }
   ],
   "source": [
    "sense_counts = Counter(full_data[sense_word][1])\n",
    "print(sense_counts)\n",
    "total_count = len(full_data[sense_word][1])\n",
    "sort_sense_counts = sense_counts.most_common()\n",
    "vocab_sense = [k for k,v in sort_sense_counts]\n",
    "freq_sense = [v for k,v in sort_sense_counts]\n",
    "weights = np.multiply(6, [1 - count/total_count for count in freq_sense])\n",
    "weights = weights.astype(np.float32)\n",
    "print(weights)"
   ]
  },
  {
   "cell_type": "code",
   "execution_count": 5,
   "metadata": {
    "collapsed": true
   },
   "outputs": [],
   "source": [
    "# Parameters\n",
    "mode = 'train'\n",
    "num_senses = 3\n",
    "batch_size = 64\n",
    "vocab_size = len(vocab)\n",
    "unk_vocab_size = 1\n",
    "word_emb_size = len(word_embedding[0])\n",
    "max_sent_size = 200\n",
    "hidden_size = 100\n",
    "keep_prob = 0.5\n",
    "l2_lambda = 0.002\n",
    "init_lr = 0.005\n",
    "decay_steps = 500\n",
    "decay_rate = 0.96\n",
    "clip_norm = 1\n",
    "clipping = True"
   ]
  },
  {
   "cell_type": "code",
   "execution_count": 6,
   "metadata": {
    "collapsed": true
   },
   "outputs": [],
   "source": [
    "# MODEL\n",
    "x = tf.placeholder('int32', [batch_size, max_sent_size], name=\"x\")\n",
    "y = tf.placeholder('int32', [batch_size], name=\"y\")\n",
    "x_mask  = tf.placeholder('bool', [batch_size, max_sent_size], name='x_mask') \n",
    "is_train = tf.placeholder('bool', [], name='is_train')\n",
    "word_emb_mat = tf.placeholder('float', [None, word_emb_size], name='emb_mat')\n",
    "input_keep_prob = tf.cond(is_train,lambda:keep_prob, lambda:tf.constant(1.0))\n",
    "x_len = tf.reduce_sum(tf.cast(x_mask, 'int32'), 1)\n",
    "\n",
    "with tf.name_scope(\"word_embedding\"):\n",
    "    if mode == 'train':\n",
    "        unk_word_emb_mat = tf.get_variable(\"word_emb_mat\", dtype='float', shape=[unk_vocab_size, word_emb_size], initializer=tf.contrib.layers.xavier_initializer(uniform=True, seed=0, dtype=tf.float32))\n",
    "    else:\n",
    "        unk_word_emb_mat = tf.get_variable(\"word_emb_mat\", shape=[unk_vocab_size, word_emb_size], dtype='float')\n",
    "        \n",
    "    final_word_emb_mat = tf.concat([word_emb_mat, unk_word_emb_mat], 0)\n",
    "    Wx = tf.nn.embedding_lookup(final_word_emb_mat, x)  \n",
    "\n",
    "with tf.variable_scope(\"lstm1\"):\n",
    "    cell_fw1 = tf.contrib.rnn.BasicLSTMCell(hidden_size,state_is_tuple=True)\n",
    "    cell_bw1 = tf.contrib.rnn.BasicLSTMCell(hidden_size,state_is_tuple=True)\n",
    "\n",
    "    d_cell_fw1 = tf.contrib.rnn.DropoutWrapper(cell_fw1, input_keep_prob=input_keep_prob)\n",
    "    d_cell_bw1 = tf.contrib.rnn.DropoutWrapper(cell_bw1, input_keep_prob=input_keep_prob)\n",
    "    \n",
    "    (fw_h1, bw_h1), _ = tf.nn.bidirectional_dynamic_rnn(d_cell_fw1, d_cell_bw1, Wx, sequence_length=x_len, dtype='float', scope='lstm1')\n",
    "    h1 = tf.concat([fw_h1, bw_h1], 2)\n",
    "    \n",
    "with tf.variable_scope(\"lstm2\"):\n",
    "    cell_fw2 = tf.contrib.rnn.BasicLSTMCell(hidden_size,state_is_tuple=True)\n",
    "    cell_bw2 = tf.contrib.rnn.BasicLSTMCell(hidden_size,state_is_tuple=True)\n",
    "\n",
    "    d_cell_fw2 = tf.contrib.rnn.DropoutWrapper(cell_fw2, input_keep_prob=input_keep_prob)\n",
    "    d_cell_bw2 = tf.contrib.rnn.DropoutWrapper(cell_bw2, input_keep_prob=input_keep_prob)\n",
    "    \n",
    "    (fw_h2, bw_h2), _ = tf.nn.bidirectional_dynamic_rnn(d_cell_fw2, d_cell_bw2, h1, sequence_length=x_len, dtype='float', scope='lstm2')\n",
    "    h = tf.concat([fw_h2, bw_h2], 2)\n",
    "\n",
    "def attention(input_x, input_mask, W_att):\n",
    "    h_masked = tf.boolean_mask(input_x, input_mask)\n",
    "    h_tanh = tf.tanh(h_masked)\n",
    "    u = tf.matmul(h_tanh, W_att)\n",
    "    a = tf.nn.softmax(u)\n",
    "    c = tf.reduce_sum(tf.multiply(h_tanh, a), 0)  \n",
    "    return c\n",
    "\n",
    "with tf.variable_scope(\"attention\"):\n",
    "    W_att = tf.Variable(tf.truncated_normal([2*hidden_size, 1], mean=0.0, stddev=0.1, seed=0), name=\"W_att\")\n",
    "    c = tf.expand_dims(attention(h[0], x_mask[0], W_att), 0)\n",
    "    for i in range(1, batch_size):\n",
    "        c = tf.concat([c, tf.expand_dims(attention(h[i], x_mask[i], W_att), 0)], 0)\n",
    "        \n",
    "with tf.variable_scope(\"softmax_layer\"):\n",
    "    W = tf.Variable(tf.truncated_normal([2*hidden_size, num_senses], mean=0.0, stddev=0.1, seed=0), name=\"W\")\n",
    "    b = tf.Variable(tf.zeros([num_senses]), name=\"b\")\n",
    "    drop_c = tf.nn.dropout(c, input_keep_prob)\n",
    "    logits = tf.matmul(drop_c, W) + b\n",
    "    predictions = tf.argmax(logits, 1)\n",
    "\n",
    "class_weight = tf.constant(weights)\n",
    "weighted_logits = logits * class_weight\n",
    "loss = tf.reduce_mean(tf.nn.sparse_softmax_cross_entropy_with_logits(logits=weighted_logits, labels=y))\n",
    "global_step = tf.Variable(0, trainable=False, name=\"global_step\")\n",
    "\n",
    "learning_rate = tf.train.exponential_decay(init_lr, global_step, decay_steps, decay_rate, staircase=True)\n",
    "\n",
    "tv_all = tf.trainable_variables()\n",
    "tv_regu =[]\n",
    "for t in tv_all:\n",
    "    if t.name.find('b:')==-1:\n",
    "        tv_regu.append(t)\n",
    "        \n",
    "# l2 Loss\n",
    "l2_loss = l2_lambda * tf.reduce_sum([ tf.nn.l2_loss(v) for v in tv_regu ])\n",
    "\n",
    "total_loss = loss + l2_loss\n",
    "\n",
    "# Optimizer for loss\n",
    "optimizer = tf.train.AdamOptimizer(learning_rate)\n",
    "\n",
    "# Gradients and Variables for Loss\n",
    "grads_vars = optimizer.compute_gradients(total_loss)\n",
    "\n",
    "# Clipping of Gradients\n",
    "clipped_grads = grads_vars\n",
    "if(clipping == True):\n",
    "    clipped_grads = [(tf.clip_by_norm(grad, clip_norm), var) for grad, var in clipped_grads]\n",
    "\n",
    "# Training Optimizer for Total Loss\n",
    "train_op = optimizer.apply_gradients(clipped_grads, global_step=global_step)\n",
    "\n",
    "# Summaries\n",
    "var_summaries = []\n",
    "for v in tv_all:\n",
    "    var_summary = tf.summary.histogram(\"{}/var\".format(v.name), v)\n",
    "    var_summaries.append(var_summary)\n",
    "\n",
    "var_summaries_merged = tf.summary.merge(var_summaries)\n",
    "\n",
    "loss_summary = tf.summary.scalar(\"loss\", loss)\n",
    "total_loss_summary = tf.summary.scalar(\"total_loss\", total_loss)\n",
    "summary = tf.summary.merge_all()"
   ]
  },
  {
   "cell_type": "code",
   "execution_count": 7,
   "metadata": {
    "collapsed": true
   },
   "outputs": [],
   "source": [
    "os.environ[\"CUDA_DEVICE_ORDER\"]=\"PCI_BUS_ID\"   # see issue #152\n",
    "os.environ[\"CUDA_VISIBLE_DEVICES\"]=\"1\"\n",
    "config = tf.ConfigProto()\n",
    "config.gpu_options.allow_growth = True\n",
    "sess = tf.Session(config=config)\n",
    "sess.run(tf.global_variables_initializer())                          # For initializing all the variables\n",
    "saver = tf.train.Saver()                                             # For Saving the model\n",
    "summary_writer = tf.summary.FileWriter(log_dir, sess.graph)          # For writing Summaries"
   ]
  },
  {
   "cell_type": "code",
   "execution_count": 8,
   "metadata": {
    "scrolled": true
   },
   "outputs": [
    {
     "name": "stderr",
     "output_type": "stream",
     "text": [
      "/users/btech/aviraj/cs771/lib/python3.5/site-packages/sklearn/model_selection/_split.py:2026: FutureWarning: From version 0.21, test_size will always complement train_size unless both are specified.\n",
      "  FutureWarning)\n"
     ]
    }
   ],
   "source": [
    "# Splitting\n",
    "data_x = full_data[sense_word][0]\n",
    "data_y = full_data[sense_word][2]\n",
    "x_train, x_test, y_train, y_test = train_test_split(data_x, data_y, train_size=0.8, shuffle=True, stratify=data_y, random_state=0)\n",
    "\n",
    "x_train, x_val, y_train, y_val = train_test_split(x_train, y_train, train_size=0.9, shuffle=True, stratify=y_train, random_state=0)"
   ]
  },
  {
   "cell_type": "code",
   "execution_count": 9,
   "metadata": {
    "collapsed": true
   },
   "outputs": [],
   "source": [
    "def data_prepare(x):\n",
    "    num_examples = len(x)\n",
    "\n",
    "    xx = np.zeros([num_examples, max_sent_size], dtype=int)\n",
    "    xx_mask = np.zeros([num_examples, max_sent_size], dtype=bool)\n",
    "\n",
    "    for j in range(num_examples):\n",
    "        for i in range(max_sent_size):\n",
    "            if(i>=len(x[j])):\n",
    "                break\n",
    "            w = x[j][i]\n",
    "            xx[j][i] = word2id[w] if w in word2id else word2id['UNKNOWN_TOKEN']\n",
    "            xx_mask[j][i] = True\n",
    "            \n",
    "    return xx, xx_mask\n",
    "\n",
    "def eval_score(yy, pred):\n",
    "    num_batches = int(len(yy)/batch_size)\n",
    "    f1 = f1_score(yy[:batch_size*num_batches], pred, average='macro')\n",
    "    accu = accuracy_score(yy[:batch_size*num_batches], pred)\n",
    "    return f1*100, accu*100\n",
    "\n",
    "def model(xx, yy, mask, train_cond=True):\n",
    "    num_batches = int(len(xx)/batch_size)\n",
    "    losses = 0\n",
    "    preds = []\n",
    "    for j in range(num_batches): \n",
    "        \n",
    "        s = j * batch_size\n",
    "        e = (j+1) * batch_size\n",
    "        \n",
    "        feed_dict = {x:xx[s:e], y:yy[s:e], x_mask:mask[s:e], is_train:train_cond, input_keep_prob:keep_prob, word_emb_mat:word_embedding}\n",
    "        \n",
    "        \n",
    "        if(train_cond==True):\n",
    "            _, _loss, step, _summary = sess.run([train_op, total_loss, global_step, summary], feed_dict)\n",
    "            summary_writer.add_summary(_summary, step)  \n",
    "#             print(\"Steps:{}\".format(step), \", Loss: {}\".format(_loss))\n",
    "\n",
    "        else:\n",
    "            _loss, pred = sess.run([total_loss, predictions], feed_dict)\n",
    "            preds.append(pred)\n",
    "            \n",
    "        losses +=_loss\n",
    "\n",
    "    if(train_cond==False):\n",
    "        y_pred = []\n",
    "        for i in range(num_batches):\n",
    "            for pred in preds[i]:\n",
    "                y_pred.append(pred)\n",
    "        return losses/num_batches, y_pred\n",
    "    \n",
    "    return losses/num_batches, step"
   ]
  },
  {
   "cell_type": "code",
   "execution_count": 10,
   "metadata": {
    "collapsed": true
   },
   "outputs": [],
   "source": [
    "x_id_train, mask_train = data_prepare(x_train)\n",
    "x_id_val, mask_val = data_prepare(x_val)\n",
    "x_id_test, mask_test = data_prepare(x_test)\n",
    "y_train = np.array(y_train)"
   ]
  },
  {
   "cell_type": "code",
   "execution_count": 11,
   "metadata": {
    "scrolled": true
   },
   "outputs": [
    {
     "name": "stdout",
     "output_type": "stream",
     "text": [
      "Epoch: 1 Step: 48 loss: 9.53506787121\n",
      "Epoch: 2 Step: 96 loss: 1.81961081177\n",
      "Epoch: 3 Step: 144 loss: 1.19337606803\n",
      "Epoch: 4 Step: 192 loss: 0.967174999416\n",
      "Epoch: 5 Step: 240 loss: 0.859784771999\n",
      "Saved Model Complete\n",
      "Train: F1 Score:  46.2728990557 Accuracy:  73.2096354167 Loss:  0.935422244171\n",
      "Val: F1 Score:  44.6230136155 Accuracy:  70.9375 Loss:  0.885838544369\n",
      "Epoch: 6 Step: 288 loss: 0.815433536967\n",
      "Epoch: 7 Step: 336 loss: 0.756411065037\n",
      "Epoch: 8 Step: 384 loss: 0.722958392153\n",
      "Epoch: 9 Step: 432 loss: 0.67455783921\n",
      "Epoch: 10 Step: 480 loss: 0.677137187993\n",
      "Saved Model Complete\n",
      "Train: F1 Score:  45.3513910841 Accuracy:  81.15234375 Loss:  0.622080009431\n",
      "Val: F1 Score:  43.2422709632 Accuracy:  81.875 Loss:  0.607948565483\n",
      "Epoch: 11 Step: 528 loss: 0.65565276891\n",
      "Epoch: 12 Step: 576 loss: 0.645226646215\n",
      "Epoch: 13 Step: 624 loss: 0.631849833454\n",
      "Epoch: 14 Step: 672 loss: 0.653128698468\n",
      "Epoch: 15 Step: 720 loss: 0.610900692021\n",
      "Saved Model Complete\n",
      "Train: F1 Score:  60.5870838384 Accuracy:  83.3658854167 Loss:  0.585401636859\n",
      "Val: F1 Score:  61.1966168463 Accuracy:  85.3125 Loss:  0.595154416561\n",
      "Epoch: 16 Step: 768 loss: 0.640408499787\n",
      "Epoch: 17 Step: 816 loss: 0.573454591756\n",
      "Epoch: 18 Step: 864 loss: 0.573158189033\n",
      "Epoch: 19 Step: 912 loss: 0.580998883272\n",
      "Epoch: 20 Step: 960 loss: 0.599028664331\n",
      "Saved Model Complete\n",
      "Train: F1 Score:  66.2391100441 Accuracy:  85.6119791667 Loss:  0.579200811684\n",
      "Val: F1 Score:  63.3909012244 Accuracy:  84.375 Loss:  0.571177864075\n",
      "Epoch: 21 Step: 1008 loss: 0.613934485242\n",
      "Epoch: 22 Step: 1056 loss: 0.607284868757\n",
      "Epoch: 23 Step: 1104 loss: 0.597342180709\n",
      "Epoch: 24 Step: 1152 loss: 0.570371546472\n",
      "Epoch: 25 Step: 1200 loss: 0.580265671636\n",
      "Saved Model Complete\n",
      "Train: F1 Score:  67.9210837096 Accuracy:  86.7513020833 Loss:  0.537070132792\n",
      "Val: F1 Score:  73.5174165398 Accuracy:  89.0625 Loss:  0.566295391321\n",
      "Epoch: 26 Step: 1248 loss: 0.568779307107\n",
      "Epoch: 27 Step: 1296 loss: 0.55141502743\n",
      "Epoch: 28 Step: 1344 loss: 0.559002238015\n",
      "Epoch: 29 Step: 1392 loss: 0.569756407291\n",
      "Epoch: 30 Step: 1440 loss: 0.573152939479\n",
      "Saved Model Complete\n",
      "Train: F1 Score:  69.0664553653 Accuracy:  87.3046875 Loss:  0.59051666595\n",
      "Val: F1 Score:  68.3056653491 Accuracy:  88.125 Loss:  0.647302913666\n",
      "Epoch: 31 Step: 1488 loss: 0.601928584278\n",
      "Epoch: 32 Step: 1536 loss: 0.581918654342\n",
      "Epoch: 33 Step: 1584 loss: 0.539948465923\n",
      "Epoch: 34 Step: 1632 loss: 0.562553635488\n",
      "Epoch: 35 Step: 1680 loss: 0.547960610439\n",
      "Saved Model Complete\n",
      "Train: F1 Score:  71.4368257896 Accuracy:  88.4765625 Loss:  0.517511847119\n",
      "Val: F1 Score:  63.9771663859 Accuracy:  86.875 Loss:  0.614117074013\n",
      "Epoch: 36 Step: 1728 loss: 0.566355666146\n",
      "Epoch: 37 Step: 1776 loss: 0.555698808903\n",
      "Epoch: 38 Step: 1824 loss: 0.56517353033\n",
      "Epoch: 39 Step: 1872 loss: 0.581259304037\n",
      "Epoch: 40 Step: 1920 loss: 0.585148503383\n",
      "Saved Model Complete\n",
      "Train: F1 Score:  72.4950138601 Accuracy:  88.7044270833 Loss:  0.578148378059\n",
      "Val: F1 Score:  68.0165923988 Accuracy:  87.5 Loss:  0.708620613813\n",
      "Epoch: 41 Step: 1968 loss: 0.567735542854\n",
      "Epoch: 42 Step: 2016 loss: 0.539583496749\n",
      "Epoch: 43 Step: 2064 loss: 0.544194473575\n",
      "Epoch: 44 Step: 2112 loss: 0.556465638181\n",
      "Epoch: 45 Step: 2160 loss: 0.559930261845\n",
      "Saved Model Complete\n",
      "Train: F1 Score:  76.9940617261 Accuracy:  89.16015625 Loss:  0.536304668213\n",
      "Val: F1 Score:  74.9496075234 Accuracy:  88.4375 Loss:  0.573511379957\n",
      "Epoch: 46 Step: 2208 loss: 0.556281161805\n",
      "Epoch: 47 Step: 2256 loss: 0.549503739923\n",
      "Epoch: 48 Step: 2304 loss: 0.561590575303\n",
      "Epoch: 49 Step: 2352 loss: 0.538634177297\n",
      "Epoch: 50 Step: 2400 loss: 0.548110162839\n",
      "Saved Model Complete\n",
      "Train: F1 Score:  69.2087726432 Accuracy:  88.2486979167 Loss:  0.513670069476\n",
      "Val: F1 Score:  75.8463136033 Accuracy:  89.6875 Loss:  0.542824417353\n",
      "Test: F1 Score:  61.845299018 Accuracy:  85.0961538462 Loss:  0.683341053816\n"
     ]
    }
   ],
   "source": [
    "num_epochs = 50\n",
    "\n",
    "for i in range(num_epochs):\n",
    "    \n",
    "    random = np.random.choice(len(y_train), size=(len(y_train)), replace=False)\n",
    "    x_id_train = x_id_train[random]\n",
    "    y_train = y_train[random]\n",
    "    mask_train = mask_train[random]\n",
    "            \n",
    "    losses, step = model(x_id_train, y_train, mask_train)\n",
    "    print(\"Epoch:\", i+1,\"Step:\", step, \"loss:\",losses)\n",
    "    \n",
    "    if((i+1)%5==0):\n",
    "        saver.save(sess, save_path=save_dir)                         \n",
    "        print(\"Saved Model Complete\")\n",
    "        train_loss, train_pred = model(x_id_train, y_train, mask_train, train_cond=False)\n",
    "        f1_, accu_ = eval_score(y_train, train_pred)\n",
    "        print(\"Train: F1 Score: \",  f1_, \"Accuracy: \", accu_, \"Loss: \", train_loss)\n",
    "        val_loss, val_pred = model(x_id_val, y_val, mask_val, train_cond=False)\n",
    "        f1_, accu_ = eval_score(y_val, val_pred)\n",
    "        print(\"Val: F1 Score: \",  f1_, \"Accuracy: \", accu_, \"Loss: \", val_loss)\n",
    "        \n",
    "test_loss, test_pred = model(x_id_test, y_test, mask_test, train_cond=False)\n",
    "f1_, accu_ = eval_score(y_test, test_pred)\n",
    "print(\"Test: F1 Score: \",  f1_, \"Accuracy: \", accu_, \"Loss: \", test_loss)"
   ]
  },
  {
   "cell_type": "code",
   "execution_count": null,
   "metadata": {
    "collapsed": true
   },
   "outputs": [],
   "source": []
  },
  {
   "cell_type": "code",
   "execution_count": null,
   "metadata": {
    "collapsed": true
   },
   "outputs": [],
   "source": [
    "saver.restore(sess, save_dir)"
   ]
  }
 ],
 "metadata": {
  "kernelspec": {
   "display_name": "cs771",
   "language": "python",
   "name": "cs771"
  },
  "language_info": {
   "codemirror_mode": {
    "name": "ipython",
    "version": 3
   },
   "file_extension": ".py",
   "mimetype": "text/x-python",
   "name": "python",
   "nbconvert_exporter": "python",
   "pygments_lexer": "ipython3",
   "version": "3.5.2"
  }
 },
 "nbformat": 4,
 "nbformat_minor": 2
}
