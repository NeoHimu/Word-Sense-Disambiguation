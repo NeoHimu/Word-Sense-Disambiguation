{
 "cells": [
  {
   "cell_type": "code",
   "execution_count": 1,
   "metadata": {
    "collapsed": true
   },
   "outputs": [],
   "source": [
    "import tensorflow as tf\n",
    "tf.logging.set_verbosity(tf.logging.WARN)\n",
    "import pickle\n",
    "import numpy as np\n",
    "import os\n",
    "from sklearn.model_selection import train_test_split\n",
    "from sklearn.metrics import f1_score\n",
    "from sklearn.metrics import accuracy_score\n",
    "import os\n",
    "from tensorflow.python.client import device_lib\n",
    "from collections import Counter"
   ]
  },
  {
   "cell_type": "code",
   "execution_count": 2,
   "metadata": {
    "collapsed": true
   },
   "outputs": [],
   "source": [
    "f = open('../Glove/word_embedding_glove', 'rb')\n",
    "word_embedding = pickle.load(f)\n",
    "f.close()\n",
    "word_embedding = word_embedding[: len(word_embedding)-1]\n",
    "\n",
    "f = open('../Glove/vocab_glove', 'rb')\n",
    "vocab = pickle.load(f)\n",
    "f.close()\n",
    "\n",
    "word2id = dict((w, i) for i,w in enumerate(vocab))\n",
    "id2word = dict((i, w) for i,w in enumerate(vocab))\n",
    "\n",
    "unknown_token = \"UNKNOWN_TOKEN\"\n",
    "\n",
    "f = open(\"train.pickle\", 'rb')\n",
    "full_data = pickle.load(f)\n",
    "f.close()"
   ]
  },
  {
   "cell_type": "code",
   "execution_count": 3,
   "metadata": {
    "collapsed": true
   },
   "outputs": [],
   "source": [
    "# Model Description\n",
    "sense_word = 'line'\n",
    "model_name = 'model-4'\n",
    "model_dir = 'output/' + sense_word + '/' + model_name\n",
    "save_dir = os.path.join(model_dir, \"save/\")\n",
    "log_dir = os.path.join(model_dir, \"log\")\n",
    "\n",
    "if not os.path.exists(model_dir):\n",
    "    os.mkdir(model_dir)\n",
    "if not os.path.exists(save_dir):\n",
    "    os.mkdir(save_dir)\n",
    "if not os.path.exists(log_dir):\n",
    "    os.mkdir(log_dir)"
   ]
  },
  {
   "cell_type": "code",
   "execution_count": 4,
   "metadata": {},
   "outputs": [
    {
     "name": "stdout",
     "output_type": "stream",
     "text": [
      "Counter({'product': 2217, 'phone': 429, 'text': 404, 'division': 374, 'cord': 373, 'formation': 349})\n",
      "[ 2.79160643  5.3791604   5.41533995  5.45875549  5.46020269  5.49493504]\n"
     ]
    }
   ],
   "source": [
    "sense_counts = Counter(full_data[sense_word][1])\n",
    "print(sense_counts)\n",
    "total_count = len(full_data[sense_word][1])\n",
    "sort_sense_counts = sense_counts.most_common()\n",
    "vocab_sense = [k for k,v in sort_sense_counts]\n",
    "freq_sense = [v for k,v in sort_sense_counts]\n",
    "weights = np.multiply(6, [1 - count/total_count for count in freq_sense])\n",
    "weights = weights.astype(np.float32)\n",
    "print(weights)\n",
    "\n",
    "sense2id = dict((w, i) for i,w in enumerate(vocab_sense))\n",
    "id2sense= dict((i, w) for i,w in enumerate(vocab_sense))"
   ]
  },
  {
   "cell_type": "code",
   "execution_count": 5,
   "metadata": {
    "collapsed": true
   },
   "outputs": [],
   "source": [
    "# Parameters\n",
    "mode = 'train'\n",
    "num_senses = len(vocab_sense)\n",
    "batch_size = 64\n",
    "vocab_size = len(vocab)\n",
    "unk_vocab_size = 1\n",
    "word_emb_size = len(word_embedding[0])\n",
    "max_sent_size = 200\n",
    "hidden_size = 100\n",
    "keep_prob = 0.5\n",
    "l2_lambda = 0.002\n",
    "init_lr = 0.005\n",
    "decay_steps = 500\n",
    "decay_rate = 0.96\n",
    "clip_norm = 1\n",
    "clipping = True"
   ]
  },
  {
   "cell_type": "code",
   "execution_count": 6,
   "metadata": {
    "collapsed": true
   },
   "outputs": [],
   "source": [
    "# MODEL\n",
    "x = tf.placeholder('int32', [batch_size, max_sent_size], name=\"x\")\n",
    "y = tf.placeholder('int32', [batch_size], name=\"y\")\n",
    "x_mask  = tf.placeholder('bool', [batch_size, max_sent_size], name='x_mask') \n",
    "is_train = tf.placeholder('bool', [], name='is_train')\n",
    "word_emb_mat = tf.placeholder('float', [None, word_emb_size], name='emb_mat')\n",
    "input_keep_prob = tf.cond(is_train,lambda:keep_prob, lambda:tf.constant(1.0))\n",
    "x_len = tf.reduce_sum(tf.cast(x_mask, 'int32'), 1)\n",
    "\n",
    "with tf.name_scope(\"word_embedding\"):\n",
    "    if mode == 'train':\n",
    "        unk_word_emb_mat = tf.get_variable(\"word_emb_mat\", dtype='float', shape=[unk_vocab_size, word_emb_size], initializer=tf.contrib.layers.xavier_initializer(uniform=True, seed=0, dtype=tf.float32))\n",
    "    else:\n",
    "        unk_word_emb_mat = tf.get_variable(\"word_emb_mat\", shape=[unk_vocab_size, word_emb_size], dtype='float')\n",
    "        \n",
    "    final_word_emb_mat = tf.concat([word_emb_mat, unk_word_emb_mat], 0)\n",
    "    Wx = tf.nn.embedding_lookup(final_word_emb_mat, x)  \n",
    "\n",
    "with tf.variable_scope(\"lstm1\"):\n",
    "    cell_fw1 = tf.contrib.rnn.BasicLSTMCell(hidden_size,state_is_tuple=True)\n",
    "    cell_bw1 = tf.contrib.rnn.BasicLSTMCell(hidden_size,state_is_tuple=True)\n",
    "\n",
    "    d_cell_fw1 = tf.contrib.rnn.DropoutWrapper(cell_fw1, input_keep_prob=input_keep_prob)\n",
    "    d_cell_bw1 = tf.contrib.rnn.DropoutWrapper(cell_bw1, input_keep_prob=input_keep_prob)\n",
    "    \n",
    "    (fw_h1, bw_h1), _ = tf.nn.bidirectional_dynamic_rnn(d_cell_fw1, d_cell_bw1, Wx, sequence_length=x_len, dtype='float', scope='lstm1')\n",
    "    h1 = tf.concat([fw_h1, bw_h1], 2)\n",
    "    \n",
    "with tf.variable_scope(\"lstm2\"):\n",
    "    cell_fw2 = tf.contrib.rnn.BasicLSTMCell(hidden_size,state_is_tuple=True)\n",
    "    cell_bw2 = tf.contrib.rnn.BasicLSTMCell(hidden_size,state_is_tuple=True)\n",
    "\n",
    "    d_cell_fw2 = tf.contrib.rnn.DropoutWrapper(cell_fw2, input_keep_prob=input_keep_prob)\n",
    "    d_cell_bw2 = tf.contrib.rnn.DropoutWrapper(cell_bw2, input_keep_prob=input_keep_prob)\n",
    "    \n",
    "    (fw_h2, bw_h2), _ = tf.nn.bidirectional_dynamic_rnn(d_cell_fw2, d_cell_bw2, h1, sequence_length=x_len, dtype='float', scope='lstm2')\n",
    "    h = tf.concat([fw_h2, bw_h2], 2)\n",
    "\n",
    "def attention(input_x, input_mask, W_att):\n",
    "    h_masked = tf.boolean_mask(input_x, input_mask)\n",
    "    h_tanh = tf.tanh(h_masked)\n",
    "    u = tf.matmul(h_tanh, W_att)\n",
    "    a = tf.nn.softmax(u)\n",
    "    c = tf.reduce_sum(tf.multiply(h_tanh, a), 0)  \n",
    "    return c\n",
    "\n",
    "with tf.variable_scope(\"attention\"):\n",
    "    W_att = tf.Variable(tf.truncated_normal([2*hidden_size, 1], mean=0.0, stddev=0.1, seed=0), name=\"W_att\")\n",
    "    c = tf.expand_dims(attention(h[0], x_mask[0], W_att), 0)\n",
    "    for i in range(1, batch_size):\n",
    "        c = tf.concat([c, tf.expand_dims(attention(h[i], x_mask[i], W_att), 0)], 0)\n",
    "        \n",
    "with tf.variable_scope(\"softmax_layer\"):\n",
    "    W = tf.Variable(tf.truncated_normal([2*hidden_size, num_senses], mean=0.0, stddev=0.1, seed=0), name=\"W\")\n",
    "    b = tf.Variable(tf.zeros([num_senses]), name=\"b\")\n",
    "    drop_c = tf.nn.dropout(c, input_keep_prob)\n",
    "    logits = tf.matmul(drop_c, W) + b\n",
    "    predictions = tf.argmax(logits, 1)\n",
    "\n",
    "class_weight = tf.constant(weights)\n",
    "weighted_logits = logits * class_weight\n",
    "loss = tf.reduce_mean(tf.nn.sparse_softmax_cross_entropy_with_logits(logits=weighted_logits, labels=y))\n",
    "global_step = tf.Variable(0, trainable=False, name=\"global_step\")\n",
    "\n",
    "learning_rate = tf.train.exponential_decay(init_lr, global_step, decay_steps, decay_rate, staircase=True)\n",
    "\n",
    "tv_all = tf.trainable_variables()\n",
    "tv_regu =[]\n",
    "for t in tv_all:\n",
    "    if t.name.find('b:')==-1:\n",
    "        tv_regu.append(t)\n",
    "        \n",
    "# l2 Loss\n",
    "l2_loss = l2_lambda * tf.reduce_sum([ tf.nn.l2_loss(v) for v in tv_regu ])\n",
    "\n",
    "total_loss = loss + l2_loss\n",
    "\n",
    "# Optimizer for loss\n",
    "optimizer = tf.train.AdamOptimizer(learning_rate)\n",
    "\n",
    "# Gradients and Variables for Loss\n",
    "grads_vars = optimizer.compute_gradients(total_loss)\n",
    "\n",
    "# Clipping of Gradients\n",
    "clipped_grads = grads_vars\n",
    "if(clipping == True):\n",
    "    clipped_grads = [(tf.clip_by_norm(grad, clip_norm), var) for grad, var in clipped_grads]\n",
    "\n",
    "# Training Optimizer for Total Loss\n",
    "train_op = optimizer.apply_gradients(clipped_grads, global_step=global_step)\n",
    "\n",
    "# Summaries\n",
    "var_summaries = []\n",
    "for v in tv_all:\n",
    "    var_summary = tf.summary.histogram(\"{}/var\".format(v.name), v)\n",
    "    var_summaries.append(var_summary)\n",
    "\n",
    "var_summaries_merged = tf.summary.merge(var_summaries)\n",
    "\n",
    "loss_summary = tf.summary.scalar(\"loss\", loss)\n",
    "total_loss_summary = tf.summary.scalar(\"total_loss\", total_loss)\n",
    "summary = tf.summary.merge_all()"
   ]
  },
  {
   "cell_type": "code",
   "execution_count": 7,
   "metadata": {
    "collapsed": true
   },
   "outputs": [],
   "source": [
    "os.environ[\"CUDA_DEVICE_ORDER\"]=\"PCI_BUS_ID\"   # see issue #152\n",
    "os.environ[\"CUDA_VISIBLE_DEVICES\"]=\"1\"\n",
    "config = tf.ConfigProto()\n",
    "config.gpu_options.allow_growth = True\n",
    "sess = tf.Session(config=config)\n",
    "sess.run(tf.global_variables_initializer())                          # For initializing all the variables\n",
    "saver = tf.train.Saver()                                             # For Saving the model\n",
    "summary_writer = tf.summary.FileWriter(log_dir, sess.graph)          # For writing Summaries"
   ]
  },
  {
   "cell_type": "code",
   "execution_count": 8,
   "metadata": {
    "scrolled": true
   },
   "outputs": [
    {
     "name": "stderr",
     "output_type": "stream",
     "text": [
      "/users/btech/aviraj/cs771/lib/python3.5/site-packages/sklearn/model_selection/_split.py:2026: FutureWarning: From version 0.21, test_size will always complement train_size unless both are specified.\n",
      "  FutureWarning)\n"
     ]
    }
   ],
   "source": [
    "# Splitting\n",
    "data_x = full_data[sense_word][0]\n",
    "data_label = full_data[sense_word][1]\n",
    "x_train, x_test, label_train, label_test = train_test_split(data_x, data_label, train_size=0.8, shuffle=True, stratify=data_label, random_state=0)\n",
    "\n",
    "x_train, x_val, label_train, label_val = train_test_split(x_train, label_train, train_size=0.9, shuffle=True, stratify=label_train, random_state=0)"
   ]
  },
  {
   "cell_type": "code",
   "execution_count": 9,
   "metadata": {
    "collapsed": true
   },
   "outputs": [],
   "source": [
    "def data_prepare(x, y):\n",
    "    num_examples = len(x)\n",
    "\n",
    "    xx = np.zeros([num_examples, max_sent_size], dtype=int)\n",
    "    xx_mask = np.zeros([num_examples, max_sent_size], dtype=bool)\n",
    "    yy = np.zeros([num_examples], dtype=int)\n",
    "\n",
    "    for j in range(num_examples):\n",
    "        for i in range(max_sent_size):\n",
    "            if(i>=len(x[j])):\n",
    "                break\n",
    "            w = x[j][i]\n",
    "            xx[j][i] = word2id[w] if w in word2id else word2id['UNKNOWN_TOKEN']\n",
    "            xx_mask[j][i] = True\n",
    "        yy[j] = sense2id[y[j]]\n",
    "    return xx, xx_mask, yy\n",
    "\n",
    "def eval_score(yy, pred):\n",
    "    num_batches = int(len(yy)/batch_size)\n",
    "    f1 = f1_score(yy[:batch_size*num_batches], pred, average='macro')\n",
    "    accu = accuracy_score(yy[:batch_size*num_batches], pred)\n",
    "    return f1*100, accu*100\n",
    "\n",
    "def model(xx, yy, mask, train_cond=True):\n",
    "    num_batches = int(len(xx)/batch_size)\n",
    "    losses = 0\n",
    "    preds = []\n",
    "    for j in range(num_batches): \n",
    "        \n",
    "        s = j * batch_size\n",
    "        e = (j+1) * batch_size\n",
    "        \n",
    "        feed_dict = {x:xx[s:e], y:yy[s:e], x_mask:mask[s:e], is_train:train_cond, input_keep_prob:keep_prob, word_emb_mat:word_embedding}\n",
    "        \n",
    "        \n",
    "        if(train_cond==True):\n",
    "            _, _loss, step, _summary = sess.run([train_op, total_loss, global_step, summary], feed_dict)\n",
    "            summary_writer.add_summary(_summary, step)  \n",
    "#             print(\"Steps:{}\".format(step), \", Loss: {}\".format(_loss))\n",
    "\n",
    "        else:\n",
    "            _loss, pred = sess.run([total_loss, predictions], feed_dict)\n",
    "            preds.append(pred)\n",
    "            \n",
    "        losses +=_loss\n",
    "\n",
    "    if(train_cond==False):\n",
    "        y_pred = []\n",
    "        for i in range(num_batches):\n",
    "            for pred in preds[i]:\n",
    "                y_pred.append(pred)\n",
    "        return losses/num_batches, y_pred\n",
    "    \n",
    "    return losses/num_batches, step"
   ]
  },
  {
   "cell_type": "code",
   "execution_count": 10,
   "metadata": {
    "collapsed": true
   },
   "outputs": [],
   "source": [
    "x_id_train, mask_train, y_train = data_prepare(x_train, label_train)\n",
    "x_id_val, mask_val, y_val = data_prepare(x_val, label_val)\n",
    "x_id_test, mask_test, y_test = data_prepare(x_test, label_test)"
   ]
  },
  {
   "cell_type": "code",
   "execution_count": 11,
   "metadata": {
    "scrolled": true
   },
   "outputs": [
    {
     "name": "stdout",
     "output_type": "stream",
     "text": [
      "Epoch: 1 Step: 46 loss: 22.3828353208\n",
      "Epoch: 2 Step: 92 loss: 2.72828447819\n",
      "Epoch: 3 Step: 138 loss: 1.83851867396\n",
      "Epoch: 4 Step: 184 loss: 1.51413769048\n",
      "Epoch: 5 Step: 230 loss: 1.42799968046\n",
      "Saved Model Complete\n",
      "Train: F1 Score:  62.5004063634 Accuracy:  77.7173913043 Loss:  1.31198807773\n",
      "Val: F1 Score:  57.6094632558 Accuracy:  76.25 Loss:  1.44117708206\n",
      "Epoch: 6 Step: 276 loss: 1.31077245267\n",
      "Epoch: 7 Step: 322 loss: 1.2462957942\n",
      "Epoch: 8 Step: 368 loss: 1.17711524989\n",
      "Epoch: 9 Step: 414 loss: 1.18521055061\n",
      "Epoch: 10 Step: 460 loss: 1.1480958073\n",
      "Saved Model Complete\n",
      "Train: F1 Score:  68.2997051631 Accuracy:  80.027173913 Loss:  1.07203928802\n",
      "Val: F1 Score:  61.6862823944 Accuracy:  77.1875 Loss:  1.26277811527\n",
      "Epoch: 11 Step: 506 loss: 1.08428968554\n",
      "Epoch: 12 Step: 552 loss: 1.08812896195\n",
      "Epoch: 13 Step: 598 loss: 1.01988625786\n",
      "Epoch: 14 Step: 644 loss: 1.0676368475\n",
      "Epoch: 15 Step: 690 loss: 1.02859584663\n",
      "Saved Model Complete\n",
      "Train: F1 Score:  72.4455834078 Accuracy:  82.4388586957 Loss:  0.974816770657\n",
      "Val: F1 Score:  66.1222489925 Accuracy:  80.3125 Loss:  1.09612705708\n",
      "Epoch: 16 Step: 736 loss: 1.04287191578\n",
      "Epoch: 17 Step: 782 loss: 1.04085232123\n",
      "Epoch: 18 Step: 828 loss: 0.988264425941\n",
      "Epoch: 19 Step: 874 loss: 0.993353340937\n",
      "Epoch: 20 Step: 920 loss: 0.973904097858\n",
      "Saved Model Complete\n",
      "Train: F1 Score:  75.1692530622 Accuracy:  84.1032608696 Loss:  0.937154960373\n",
      "Val: F1 Score:  68.6025400919 Accuracy:  80.625 Loss:  1.13247864246\n",
      "Epoch: 21 Step: 966 loss: 0.985147367353\n",
      "Epoch: 22 Step: 1012 loss: 0.966643845258\n",
      "Epoch: 23 Step: 1058 loss: 0.929449744847\n",
      "Epoch: 24 Step: 1104 loss: 0.965734965127\n",
      "Epoch: 25 Step: 1150 loss: 0.966578140207\n",
      "Saved Model Complete\n",
      "Train: F1 Score:  63.2983522076 Accuracy:  75.6114130435 Loss:  1.14604606706\n",
      "Val: F1 Score:  63.7818333724 Accuracy:  75.9375 Loss:  1.31220390797\n",
      "Epoch: 26 Step: 1196 loss: 0.945847608473\n",
      "Epoch: 27 Step: 1242 loss: 0.960400068242\n",
      "Epoch: 28 Step: 1288 loss: 0.943538324988\n",
      "Epoch: 29 Step: 1334 loss: 0.940861222537\n",
      "Epoch: 30 Step: 1380 loss: 0.917053318542\n",
      "Saved Model Complete\n",
      "Train: F1 Score:  73.3029634712 Accuracy:  82.1671195652 Loss:  0.91959843817\n",
      "Val: F1 Score:  68.3188516945 Accuracy:  79.375 Loss:  1.13905605078\n",
      "Epoch: 31 Step: 1426 loss: 0.91809134898\n",
      "Epoch: 32 Step: 1472 loss: 0.97755692964\n",
      "Epoch: 33 Step: 1518 loss: 0.932937024728\n",
      "Epoch: 34 Step: 1564 loss: 0.908185164566\n",
      "Epoch: 35 Step: 1610 loss: 0.93039327212\n",
      "Saved Model Complete\n",
      "Train: F1 Score:  74.2108847113 Accuracy:  82.0991847826 Loss:  0.853052371222\n",
      "Val: F1 Score:  69.3100184381 Accuracy:  79.6875 Loss:  0.975394618511\n",
      "Epoch: 36 Step: 1656 loss: 0.878013346506\n",
      "Epoch: 37 Step: 1702 loss: 0.924673642801\n",
      "Epoch: 38 Step: 1748 loss: 0.912682297437\n",
      "Epoch: 39 Step: 1794 loss: 0.885930623697\n",
      "Epoch: 40 Step: 1840 loss: 0.895235993292\n",
      "Saved Model Complete\n",
      "Train: F1 Score:  79.9944398453 Accuracy:  87.0923913043 Loss:  0.859747041827\n",
      "Val: F1 Score:  72.3184721774 Accuracy:  82.1875 Loss:  1.05325362682\n",
      "Epoch: 41 Step: 1886 loss: 0.879708871893\n",
      "Epoch: 42 Step: 1932 loss: 0.902450809012\n",
      "Epoch: 43 Step: 1978 loss: 0.868794748317\n",
      "Epoch: 44 Step: 2024 loss: 0.872050221847\n",
      "Epoch: 45 Step: 2070 loss: 0.890842718923\n",
      "Saved Model Complete\n",
      "Train: F1 Score:  78.6137375448 Accuracy:  85.7676630435 Loss:  0.865653455257\n",
      "Val: F1 Score:  71.6990250345 Accuracy:  81.5625 Loss:  1.00803806782\n",
      "Epoch: 46 Step: 2116 loss: 0.911829901778\n",
      "Epoch: 47 Step: 2162 loss: 0.910077781781\n",
      "Epoch: 48 Step: 2208 loss: 0.887343844642\n",
      "Epoch: 49 Step: 2254 loss: 0.865361305683\n",
      "Epoch: 50 Step: 2300 loss: 0.892995130757\n",
      "Saved Model Complete\n",
      "Train: F1 Score:  77.4072488774 Accuracy:  84.8505434783 Loss:  0.843123656252\n",
      "Val: F1 Score:  72.6358540636 Accuracy:  82.1875 Loss:  1.07005932331\n",
      "Test: F1 Score:  70.3737705504 Accuracy:  81.640625 Loss:  1.15379261474\n"
     ]
    }
   ],
   "source": [
    "num_epochs = 50\n",
    "\n",
    "for i in range(num_epochs):\n",
    "    \n",
    "    random = np.random.choice(len(y_train), size=(len(y_train)), replace=False)\n",
    "    x_id_train = x_id_train[random]\n",
    "    y_train = y_train[random]\n",
    "    mask_train = mask_train[random]\n",
    "            \n",
    "    losses, step = model(x_id_train, y_train, mask_train)\n",
    "    print(\"Epoch:\", i+1,\"Step:\", step, \"loss:\",losses)\n",
    "    \n",
    "    if((i+1)%5==0):\n",
    "        saver.save(sess, save_path=save_dir)                         \n",
    "        print(\"Saved Model Complete\")\n",
    "        train_loss, train_pred = model(x_id_train, y_train, mask_train, train_cond=False)\n",
    "        f1_, accu_ = eval_score(y_train, train_pred)\n",
    "        print(\"Train: F1 Score: \",  f1_, \"Accuracy: \", accu_, \"Loss: \", train_loss)\n",
    "        val_loss, val_pred = model(x_id_val, y_val, mask_val, train_cond=False)\n",
    "        f1_, accu_ = eval_score(y_val, val_pred)\n",
    "        print(\"Val: F1 Score: \",  f1_, \"Accuracy: \", accu_, \"Loss: \", val_loss)\n",
    "        \n",
    "test_loss, test_pred = model(x_id_test, y_test, mask_test, train_cond=False)\n",
    "f1_, accu_ = eval_score(y_test, test_pred)\n",
    "print(\"Test: F1 Score: \",  f1_, \"Accuracy: \", accu_, \"Loss: \", test_loss)"
   ]
  },
  {
   "cell_type": "code",
   "execution_count": null,
   "metadata": {
    "collapsed": true
   },
   "outputs": [],
   "source": []
  },
  {
   "cell_type": "code",
   "execution_count": null,
   "metadata": {
    "collapsed": true
   },
   "outputs": [],
   "source": [
    "saver.restore(sess, save_dir)"
   ]
  }
 ],
 "metadata": {
  "kernelspec": {
   "display_name": "envs",
   "language": "python",
   "name": "cs771"
  },
  "language_info": {
   "codemirror_mode": {
    "name": "ipython",
    "version": 3
   },
   "file_extension": ".py",
   "mimetype": "text/x-python",
   "name": "python",
   "nbconvert_exporter": "python",
   "pygments_lexer": "ipython3",
   "version": "3.5.2"
  }
 },
 "nbformat": 4,
 "nbformat_minor": 2
}
