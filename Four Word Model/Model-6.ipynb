{
 "cells": [
  {
   "cell_type": "code",
   "execution_count": 1,
   "metadata": {
    "collapsed": true
   },
   "outputs": [],
   "source": [
    "import tensorflow as tf\n",
    "tf.logging.set_verbosity(tf.logging.WARN)\n",
    "import pickle\n",
    "import numpy as np\n",
    "import os\n",
    "from sklearn.model_selection import train_test_split\n",
    "from sklearn.metrics import f1_score\n",
    "from sklearn.metrics import accuracy_score\n",
    "import os\n",
    "from tensorflow.python.client import device_lib\n",
    "from collections import Counter"
   ]
  },
  {
   "cell_type": "code",
   "execution_count": 2,
   "metadata": {
    "collapsed": true
   },
   "outputs": [],
   "source": [
    "f = open('../Glove/word_embedding_glove', 'rb')\n",
    "word_embedding = pickle.load(f)\n",
    "f.close()\n",
    "word_embedding = word_embedding[: len(word_embedding)-1]\n",
    "\n",
    "f = open('../Glove/vocab_glove', 'rb')\n",
    "vocab = pickle.load(f)\n",
    "f.close()\n",
    "\n",
    "word2id = dict((w, i) for i,w in enumerate(vocab))\n",
    "id2word = dict((i, w) for i,w in enumerate(vocab))\n",
    "\n",
    "unknown_token = \"UNKNOWN_TOKEN\"\n",
    "\n",
    "f = open(\"train.pickle\", 'rb')\n",
    "full_data = pickle.load(f)\n",
    "f.close()"
   ]
  },
  {
   "cell_type": "code",
   "execution_count": 3,
   "metadata": {
    "collapsed": true
   },
   "outputs": [],
   "source": [
    "# Model Description\n",
    "sense_word = 'interest'\n",
    "model_name = 'model-6'\n",
    "model_dir = 'output/' + sense_word + '/' + model_name\n",
    "save_dir = os.path.join(model_dir, \"save/\")\n",
    "log_dir = os.path.join(model_dir, \"log\")\n",
    "\n",
    "if not os.path.exists(model_dir):\n",
    "    os.mkdir(model_dir)\n",
    "if not os.path.exists(save_dir):\n",
    "    os.mkdir(save_dir)\n",
    "if not os.path.exists(log_dir):\n",
    "    os.mkdir(log_dir)"
   ]
  },
  {
   "cell_type": "code",
   "execution_count": 18,
   "metadata": {},
   "outputs": [
    {
     "name": "stdout",
     "output_type": "stream",
     "text": [
      "Initial:  Counter({'interest6': 1252, 'interest5': 500, 'interest1': 361, 'interest4': 178, 'interest3': 66, 'interest2': 11})\n",
      "Final:  Counter({'interest6': 1252, 'interest5': 500, 'interest1': 361, 'interest4': 178, 'interest3': 66})\n",
      "[ 2.81289768  4.72719574  5.08103514  5.54688168  5.83198977]\n"
     ]
    }
   ],
   "source": [
    "sense_counts = Counter(full_data[sense_word][1])\n",
    "print(\"Initial: \", sense_counts)\n",
    "sort_sense_counts = sense_counts.most_common()\n",
    "vocab_sense = [k for k,v in sort_sense_counts]\n",
    "\n",
    "xx = full_data[sense_word][0]\n",
    "yy = full_data[sense_word][1]\n",
    "\n",
    "data_x = []\n",
    "data_label = []\n",
    "for i in range(len(xx)):\n",
    "    if(yy[i]!=vocab_sense[-1]):\n",
    "        data_label.append(yy[i])\n",
    "        data_x.append(xx[i])\n",
    "\n",
    "sense_counts = Counter(data_label)\n",
    "print(\"Final: \",sense_counts)\n",
    "total_count = len(data_label)\n",
    "sort_sense_counts = sense_counts.most_common()\n",
    "vocab_sense = [k for k,v in sort_sense_counts]\n",
    "freq_sense = [v for k,v in sort_sense_counts]\n",
    "weights = np.multiply(6, [1 - count/total_count for count in freq_sense])\n",
    "weights = weights.astype(np.float32)\n",
    "print(weights)\n",
    "\n",
    "sense2id = dict((w, i) for i,w in enumerate(vocab_sense))\n",
    "id2sense= dict((i, w) for i,w in enumerate(vocab_sense))"
   ]
  },
  {
   "cell_type": "code",
   "execution_count": 5,
   "metadata": {
    "collapsed": true
   },
   "outputs": [],
   "source": [
    "# Parameters\n",
    "mode = 'train'\n",
    "num_senses = len(vocab_sense)\n",
    "batch_size = 64\n",
    "vocab_size = len(vocab)\n",
    "unk_vocab_size = 1\n",
    "word_emb_size = len(word_embedding[0])\n",
    "max_sent_size = 200\n",
    "hidden_size = 100\n",
    "keep_prob = 0.5\n",
    "l2_lambda = 0.002\n",
    "init_lr = 0.005\n",
    "decay_steps = 500\n",
    "decay_rate = 0.96\n",
    "clip_norm = 1\n",
    "clipping = True"
   ]
  },
  {
   "cell_type": "code",
   "execution_count": 6,
   "metadata": {
    "collapsed": true
   },
   "outputs": [],
   "source": [
    "# MODEL\n",
    "x = tf.placeholder('int32', [batch_size, max_sent_size], name=\"x\")\n",
    "y = tf.placeholder('int32', [batch_size], name=\"y\")\n",
    "x_mask  = tf.placeholder('bool', [batch_size, max_sent_size], name='x_mask') \n",
    "is_train = tf.placeholder('bool', [], name='is_train')\n",
    "word_emb_mat = tf.placeholder('float', [None, word_emb_size], name='emb_mat')\n",
    "input_keep_prob = tf.cond(is_train,lambda:keep_prob, lambda:tf.constant(1.0))\n",
    "x_len = tf.reduce_sum(tf.cast(x_mask, 'int32'), 1)\n",
    "\n",
    "with tf.name_scope(\"word_embedding\"):\n",
    "    if mode == 'train':\n",
    "        unk_word_emb_mat = tf.get_variable(\"word_emb_mat\", dtype='float', shape=[unk_vocab_size, word_emb_size], initializer=tf.contrib.layers.xavier_initializer(uniform=True, seed=0, dtype=tf.float32))\n",
    "    else:\n",
    "        unk_word_emb_mat = tf.get_variable(\"word_emb_mat\", shape=[unk_vocab_size, word_emb_size], dtype='float')\n",
    "        \n",
    "    final_word_emb_mat = tf.concat([word_emb_mat, unk_word_emb_mat], 0)\n",
    "    Wx = tf.nn.embedding_lookup(final_word_emb_mat, x)  \n",
    "\n",
    "with tf.variable_scope(\"lstm1\"):\n",
    "    cell_fw1 = tf.contrib.rnn.BasicLSTMCell(hidden_size,state_is_tuple=True)\n",
    "    cell_bw1 = tf.contrib.rnn.BasicLSTMCell(hidden_size,state_is_tuple=True)\n",
    "\n",
    "    d_cell_fw1 = tf.contrib.rnn.DropoutWrapper(cell_fw1, input_keep_prob=input_keep_prob)\n",
    "    d_cell_bw1 = tf.contrib.rnn.DropoutWrapper(cell_bw1, input_keep_prob=input_keep_prob)\n",
    "    \n",
    "    (fw_h1, bw_h1), _ = tf.nn.bidirectional_dynamic_rnn(d_cell_fw1, d_cell_bw1, Wx, sequence_length=x_len, dtype='float', scope='lstm1')\n",
    "    h1 = tf.concat([fw_h1, bw_h1], 2)\n",
    "    \n",
    "with tf.variable_scope(\"lstm2\"):\n",
    "    cell_fw2 = tf.contrib.rnn.BasicLSTMCell(hidden_size,state_is_tuple=True)\n",
    "    cell_bw2 = tf.contrib.rnn.BasicLSTMCell(hidden_size,state_is_tuple=True)\n",
    "\n",
    "    d_cell_fw2 = tf.contrib.rnn.DropoutWrapper(cell_fw2, input_keep_prob=input_keep_prob)\n",
    "    d_cell_bw2 = tf.contrib.rnn.DropoutWrapper(cell_bw2, input_keep_prob=input_keep_prob)\n",
    "    \n",
    "    (fw_h2, bw_h2), _ = tf.nn.bidirectional_dynamic_rnn(d_cell_fw2, d_cell_bw2, h1, sequence_length=x_len, dtype='float', scope='lstm2')\n",
    "    h = tf.concat([fw_h2, bw_h2], 2)\n",
    "\n",
    "def attention(input_x, input_mask, W_att):\n",
    "    h_masked = tf.boolean_mask(input_x, input_mask)\n",
    "    h_tanh = tf.tanh(h_masked)\n",
    "    u = tf.matmul(h_tanh, W_att)\n",
    "    a = tf.nn.softmax(u)\n",
    "    c = tf.reduce_sum(tf.multiply(h_tanh, a), 0)  \n",
    "    return c\n",
    "\n",
    "with tf.variable_scope(\"attention\"):\n",
    "    W_att = tf.Variable(tf.truncated_normal([2*hidden_size, 1], mean=0.0, stddev=0.1, seed=0), name=\"W_att\")\n",
    "    c = tf.expand_dims(attention(h[0], x_mask[0], W_att), 0)\n",
    "    for i in range(1, batch_size):\n",
    "        c = tf.concat([c, tf.expand_dims(attention(h[i], x_mask[i], W_att), 0)], 0)\n",
    "        \n",
    "with tf.variable_scope(\"softmax_layer\"):\n",
    "    W = tf.Variable(tf.truncated_normal([2*hidden_size, num_senses], mean=0.0, stddev=0.1, seed=0), name=\"W\")\n",
    "    b = tf.Variable(tf.zeros([num_senses]), name=\"b\")\n",
    "    drop_c = tf.nn.dropout(c, input_keep_prob)\n",
    "    logits = tf.matmul(drop_c, W) + b\n",
    "    predictions = tf.argmax(logits, 1)\n",
    "\n",
    "class_weight = tf.constant(weights)\n",
    "weighted_logits = logits * class_weight\n",
    "loss = tf.reduce_mean(tf.nn.sparse_softmax_cross_entropy_with_logits(logits=weighted_logits, labels=y))\n",
    "global_step = tf.Variable(0, trainable=False, name=\"global_step\")\n",
    "\n",
    "learning_rate = tf.train.exponential_decay(init_lr, global_step, decay_steps, decay_rate, staircase=True)\n",
    "\n",
    "tv_all = tf.trainable_variables()\n",
    "tv_regu =[]\n",
    "for t in tv_all:\n",
    "    if t.name.find('b:')==-1:\n",
    "        tv_regu.append(t)\n",
    "        \n",
    "# l2 Loss\n",
    "l2_loss = l2_lambda * tf.reduce_sum([ tf.nn.l2_loss(v) for v in tv_regu ])\n",
    "\n",
    "total_loss = loss + l2_loss\n",
    "\n",
    "# Optimizer for loss\n",
    "optimizer = tf.train.AdamOptimizer(learning_rate)\n",
    "\n",
    "# Gradients and Variables for Loss\n",
    "grads_vars = optimizer.compute_gradients(total_loss)\n",
    "\n",
    "# Clipping of Gradients\n",
    "clipped_grads = grads_vars\n",
    "if(clipping == True):\n",
    "    clipped_grads = [(tf.clip_by_norm(grad, clip_norm), var) for grad, var in clipped_grads]\n",
    "\n",
    "# Training Optimizer for Total Loss\n",
    "train_op = optimizer.apply_gradients(clipped_grads, global_step=global_step)\n",
    "\n",
    "# Summaries\n",
    "var_summaries = []\n",
    "for v in tv_all:\n",
    "    var_summary = tf.summary.histogram(\"{}/var\".format(v.name), v)\n",
    "    var_summaries.append(var_summary)\n",
    "\n",
    "var_summaries_merged = tf.summary.merge(var_summaries)\n",
    "\n",
    "loss_summary = tf.summary.scalar(\"loss\", loss)\n",
    "total_loss_summary = tf.summary.scalar(\"total_loss\", total_loss)\n",
    "summary = tf.summary.merge_all()"
   ]
  },
  {
   "cell_type": "code",
   "execution_count": 7,
   "metadata": {
    "collapsed": true
   },
   "outputs": [],
   "source": [
    "os.environ[\"CUDA_DEVICE_ORDER\"]=\"PCI_BUS_ID\"   # see issue #152\n",
    "os.environ[\"CUDA_VISIBLE_DEVICES\"]=\"0\"\n",
    "config = tf.ConfigProto()\n",
    "config.gpu_options.allow_growth = True\n",
    "sess = tf.Session(config=config)\n",
    "sess.run(tf.global_variables_initializer())                          # For initializing all the variables\n",
    "saver = tf.train.Saver()                                             # For Saving the model\n",
    "summary_writer = tf.summary.FileWriter(log_dir, sess.graph)          # For writing Summaries"
   ]
  },
  {
   "cell_type": "code",
   "execution_count": 8,
   "metadata": {
    "scrolled": true
   },
   "outputs": [
    {
     "name": "stderr",
     "output_type": "stream",
     "text": [
      "/users/btech/aviraj/cs771/lib/python3.5/site-packages/sklearn/model_selection/_split.py:2026: FutureWarning: From version 0.21, test_size will always complement train_size unless both are specified.\n",
      "  FutureWarning)\n"
     ]
    }
   ],
   "source": [
    "# Splitting\n",
    "x_train, x_test, label_train, label_test = train_test_split(data_x, data_label, train_size=0.8, shuffle=True, stratify=data_label, random_state=0)\n",
    "\n",
    "x_train, x_val, label_train, label_val = train_test_split(x_train, label_train, train_size=0.9, shuffle=True, stratify=label_train, random_state=0)"
   ]
  },
  {
   "cell_type": "code",
   "execution_count": 9,
   "metadata": {
    "collapsed": true
   },
   "outputs": [],
   "source": [
    "def data_prepare(x, y):\n",
    "    num_examples = len(x)\n",
    "\n",
    "    xx = np.zeros([num_examples, max_sent_size], dtype=int)\n",
    "    xx_mask = np.zeros([num_examples, max_sent_size], dtype=bool)\n",
    "    yy = np.zeros([num_examples], dtype=int)\n",
    "\n",
    "    for j in range(num_examples):\n",
    "        for i in range(max_sent_size):\n",
    "            if(i>=len(x[j])):\n",
    "                break\n",
    "            w = x[j][i]\n",
    "            xx[j][i] = word2id[w] if w in word2id else word2id['UNKNOWN_TOKEN']\n",
    "            xx_mask[j][i] = True\n",
    "        yy[j] = sense2id[y[j]]\n",
    "    return xx, xx_mask, yy\n",
    "\n",
    "def eval_score(yy, pred):\n",
    "    num_batches = int(len(yy)/batch_size)\n",
    "    f1 = f1_score(yy[:batch_size*num_batches], pred, average='macro')\n",
    "    accu = accuracy_score(yy[:batch_size*num_batches], pred)\n",
    "    return f1*100, accu*100\n",
    "\n",
    "def model(xx, yy, mask, train_cond=True):\n",
    "    num_batches = int(len(xx)/batch_size)\n",
    "    losses = 0\n",
    "    preds = []\n",
    "    for j in range(num_batches): \n",
    "        \n",
    "        s = j * batch_size\n",
    "        e = (j+1) * batch_size\n",
    "        \n",
    "        feed_dict = {x:xx[s:e], y:yy[s:e], x_mask:mask[s:e], is_train:train_cond, input_keep_prob:keep_prob, word_emb_mat:word_embedding}\n",
    "        \n",
    "        \n",
    "        if(train_cond==True):\n",
    "            _, _loss, step, _summary = sess.run([train_op, total_loss, global_step, summary], feed_dict)\n",
    "            summary_writer.add_summary(_summary, step)  \n",
    "#             print(\"Steps:{}\".format(step), \", Loss: {}\".format(_loss))\n",
    "\n",
    "        else:\n",
    "            _loss, pred = sess.run([total_loss, predictions], feed_dict)\n",
    "            preds.append(pred)\n",
    "            \n",
    "        losses +=_loss\n",
    "\n",
    "    if(train_cond==False):\n",
    "        y_pred = []\n",
    "        for i in range(num_batches):\n",
    "            for pred in preds[i]:\n",
    "                y_pred.append(pred)\n",
    "        return losses/num_batches, y_pred\n",
    "    \n",
    "    return losses/num_batches, step"
   ]
  },
  {
   "cell_type": "code",
   "execution_count": 10,
   "metadata": {
    "collapsed": true
   },
   "outputs": [],
   "source": [
    "x_id_train, mask_train, y_train = data_prepare(x_train, label_train)\n",
    "x_id_val, mask_val, y_val = data_prepare(x_val, label_val)\n",
    "x_id_test, mask_test, y_test = data_prepare(x_test, label_test)"
   ]
  },
  {
   "cell_type": "code",
   "execution_count": 11,
   "metadata": {
    "scrolled": true
   },
   "outputs": [
    {
     "name": "stdout",
     "output_type": "stream",
     "text": [
      "Epoch: 1 Step: 26 loss: 20.7321775877\n",
      "Epoch: 2 Step: 52 loss: 3.57617118725\n",
      "Epoch: 3 Step: 78 loss: 2.27850867693\n",
      "Epoch: 4 Step: 104 loss: 1.78495009129\n",
      "Epoch: 5 Step: 130 loss: 1.58404174218\n",
      "Saved Model Complete\n",
      "Train: F1 Score:  54.7387524971 Accuracy:  80.46875 Loss:  1.35200868203\n"
     ]
    },
    {
     "name": "stderr",
     "output_type": "stream",
     "text": [
      "/users/btech/aviraj/cs771/lib/python3.5/site-packages/sklearn/metrics/classification.py:1135: UndefinedMetricWarning: F-score is ill-defined and being set to 0.0 in labels with no predicted samples.\n",
      "  'precision', 'predicted', average, warn_for)\n"
     ]
    },
    {
     "name": "stdout",
     "output_type": "stream",
     "text": [
      "Val: F1 Score:  42.9046569995 Accuracy:  75.78125 Loss:  1.50298053026\n",
      "Epoch: 6 Step: 156 loss: 1.39490951942\n",
      "Epoch: 7 Step: 182 loss: 1.24043845901\n",
      "Epoch: 8 Step: 208 loss: 1.21913119692\n",
      "Epoch: 9 Step: 234 loss: 1.06976982493\n",
      "Epoch: 10 Step: 260 loss: 1.07420297311\n",
      "Saved Model Complete\n",
      "Train: F1 Score:  53.9814424412 Accuracy:  78.0048076923 Loss:  1.11981170911\n",
      "Val: F1 Score:  49.8384957848 Accuracy:  73.4375 Loss:  1.49067407846\n",
      "Epoch: 11 Step: 286 loss: 1.04611577896\n",
      "Epoch: 12 Step: 312 loss: 0.934893140426\n",
      "Epoch: 13 Step: 338 loss: 0.96302074194\n",
      "Epoch: 14 Step: 364 loss: 0.916108427139\n",
      "Epoch: 15 Step: 390 loss: 0.919457204067\n",
      "Saved Model Complete\n",
      "Train: F1 Score:  61.6387731198 Accuracy:  83.5336538462 Loss:  0.887425711522\n",
      "Val: F1 Score:  51.2827257996 Accuracy:  78.125 Loss:  1.28587508202\n",
      "Epoch: 16 Step: 416 loss: 0.857683181763\n",
      "Epoch: 17 Step: 442 loss: 0.910234935009\n",
      "Epoch: 18 Step: 468 loss: 0.848565039726\n",
      "Epoch: 19 Step: 494 loss: 0.933669528136\n",
      "Epoch: 20 Step: 520 loss: 0.869538456202\n",
      "Saved Model Complete\n",
      "Train: F1 Score:  69.9019496487 Accuracy:  85.9375 Loss:  0.842162574713\n",
      "Val: F1 Score:  56.5269198034 Accuracy:  81.25 Loss:  1.15191832185\n",
      "Epoch: 21 Step: 546 loss: 0.854455583371\n",
      "Epoch: 22 Step: 572 loss: 0.851901318018\n",
      "Epoch: 23 Step: 598 loss: 0.857674403833\n",
      "Epoch: 24 Step: 624 loss: 0.803349948846\n",
      "Epoch: 25 Step: 650 loss: 0.794897962075\n",
      "Saved Model Complete\n",
      "Train: F1 Score:  62.8706468815 Accuracy:  86.5985576923 Loss:  0.760838538408\n",
      "Val: F1 Score:  51.7941111714 Accuracy:  79.6875 Loss:  1.0991345048\n",
      "Epoch: 26 Step: 676 loss: 0.85086148748\n",
      "Epoch: 27 Step: 702 loss: 0.814822483521\n",
      "Epoch: 28 Step: 728 loss: 0.774252850276\n",
      "Epoch: 29 Step: 754 loss: 0.7700731846\n",
      "Epoch: 30 Step: 780 loss: 0.815417404358\n",
      "Saved Model Complete\n",
      "Train: F1 Score:  63.4079203098 Accuracy:  85.6971153846 Loss:  0.870038568974\n",
      "Val: F1 Score:  54.3923785208 Accuracy:  80.46875 Loss:  1.40503194928\n",
      "Epoch: 31 Step: 806 loss: 0.770318494393\n",
      "Epoch: 32 Step: 832 loss: 0.777980229029\n",
      "Epoch: 33 Step: 858 loss: 0.816184250208\n",
      "Epoch: 34 Step: 884 loss: 0.795003042771\n",
      "Epoch: 35 Step: 910 loss: 0.778729954591\n",
      "Saved Model Complete\n",
      "Train: F1 Score:  69.6790398279 Accuracy:  88.8822115385 Loss:  0.718620095115\n",
      "Val: F1 Score:  60.0715667311 Accuracy:  84.375 Loss:  1.10262072086\n",
      "Epoch: 36 Step: 936 loss: 0.806709284966\n",
      "Epoch: 37 Step: 962 loss: 0.839476321752\n",
      "Epoch: 38 Step: 988 loss: 0.7497130449\n",
      "Epoch: 39 Step: 1014 loss: 0.768530176236\n",
      "Epoch: 40 Step: 1040 loss: 0.800020034497\n",
      "Saved Model Complete\n",
      "Train: F1 Score:  66.7223436902 Accuracy:  89.5432692308 Loss:  0.709677888797\n",
      "Val: F1 Score:  49.6055876491 Accuracy:  82.8125 Loss:  1.10739821196\n",
      "Epoch: 41 Step: 1066 loss: 0.778719908916\n",
      "Epoch: 42 Step: 1092 loss: 0.758476041831\n",
      "Epoch: 43 Step: 1118 loss: 0.721628665924\n",
      "Epoch: 44 Step: 1144 loss: 0.798664771594\n",
      "Epoch: 45 Step: 1170 loss: 0.749529859194\n",
      "Saved Model Complete\n",
      "Train: F1 Score:  78.5706455937 Accuracy:  90.0841346154 Loss:  0.727378643476\n",
      "Val: F1 Score:  61.9769080371 Accuracy:  83.59375 Loss:  1.07822984457\n",
      "Epoch: 46 Step: 1196 loss: 0.762834851558\n",
      "Epoch: 47 Step: 1222 loss: 0.77336999774\n",
      "Epoch: 48 Step: 1248 loss: 0.752184349757\n",
      "Epoch: 49 Step: 1274 loss: 0.749112853637\n",
      "Epoch: 50 Step: 1300 loss: 0.774477850932\n",
      "Saved Model Complete\n",
      "Train: F1 Score:  74.3037062502 Accuracy:  89.7235576923 Loss:  0.702210531785\n",
      "Val: F1 Score:  60.9714536671 Accuracy:  85.15625 Loss:  0.964450240135\n",
      "Test: F1 Score:  62.6753453253 Accuracy:  84.1517857143 Loss:  0.859745672771\n"
     ]
    }
   ],
   "source": [
    "num_epochs = 50\n",
    "\n",
    "for i in range(num_epochs):\n",
    "    \n",
    "    random = np.random.choice(len(y_train), size=(len(y_train)), replace=False)\n",
    "    x_id_train = x_id_train[random]\n",
    "    y_train = y_train[random]\n",
    "    mask_train = mask_train[random]\n",
    "            \n",
    "    losses, step = model(x_id_train, y_train, mask_train)\n",
    "    print(\"Epoch:\", i+1,\"Step:\", step, \"loss:\",losses)\n",
    "    \n",
    "    if((i+1)%5==0):\n",
    "        saver.save(sess, save_path=save_dir)                         \n",
    "        print(\"Saved Model Complete\")\n",
    "        train_loss, train_pred = model(x_id_train, y_train, mask_train, train_cond=False)\n",
    "        f1_, accu_ = eval_score(y_train, train_pred)\n",
    "        print(\"Train: F1 Score: \",  f1_, \"Accuracy: \", accu_, \"Loss: \", train_loss)\n",
    "        val_loss, val_pred = model(x_id_val, y_val, mask_val, train_cond=False)\n",
    "        f1_, accu_ = eval_score(y_val, val_pred)\n",
    "        print(\"Val: F1 Score: \",  f1_, \"Accuracy: \", accu_, \"Loss: \", val_loss)\n",
    "        \n",
    "test_loss, test_pred = model(x_id_test, y_test, mask_test, train_cond=False)\n",
    "f1_, accu_ = eval_score(y_test, test_pred)\n",
    "print(\"Test: F1 Score: \",  f1_, \"Accuracy: \", accu_, \"Loss: \", test_loss)"
   ]
  },
  {
   "cell_type": "code",
   "execution_count": null,
   "metadata": {
    "collapsed": true
   },
   "outputs": [],
   "source": []
  },
  {
   "cell_type": "code",
   "execution_count": null,
   "metadata": {
    "collapsed": true
   },
   "outputs": [],
   "source": [
    "saver.restore(sess, save_dir)"
   ]
  }
 ],
 "metadata": {
  "kernelspec": {
   "display_name": "cs771",
   "language": "python",
   "name": "cs771"
  },
  "language_info": {
   "codemirror_mode": {
    "name": "ipython",
    "version": 3
   },
   "file_extension": ".py",
   "mimetype": "text/x-python",
   "name": "python",
   "nbconvert_exporter": "python",
   "pygments_lexer": "ipython3",
   "version": "3.5.2"
  }
 },
 "nbformat": 4,
 "nbformat_minor": 2
}
