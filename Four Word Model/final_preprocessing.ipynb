{
 "cells": [
  {
   "cell_type": "code",
   "execution_count": 1,
   "metadata": {},
   "outputs": [],
   "source": [
    "import re\n",
    "import pickle"
   ]
  },
  {
   "cell_type": "code",
   "execution_count": 2,
   "metadata": {},
   "outputs": [],
   "source": [
    "def decontracted(phrase):\n",
    "    # specific\n",
    "    phrase = re.sub(r\"won't\", \"will not\", phrase)\n",
    "\n",
    "    # general\n",
    "    phrase = re.sub(r\"n\\'t\", \" not\", phrase)\n",
    "    phrase = re.sub(r\"\\'re\", \" are\", phrase)\n",
    "    phrase = re.sub(r\"\\'s\", \" is\", phrase)\n",
    "    phrase = re.sub(r\"\\'d\", \" would\", phrase)\n",
    "    phrase = re.sub(r\"\\'ll\", \" will\", phrase)\n",
    "    phrase = re.sub(r\"\\'t\", \" not\", phrase)\n",
    "    phrase = re.sub(r\"\\'ve\", \" have\", phrase)\n",
    "    phrase = re.sub(r\"\\'m\", \" am\", phrase)\n",
    "    phrase = re.sub(r\"\\'d've\", \" would have\", phrase)\n",
    "    phrase = re.sub(r\"\\'d'y\", \" do you\", phrase)\n",
    "    return phrase\n"
   ]
  },
  {
   "cell_type": "code",
   "execution_count": 3,
   "metadata": {},
   "outputs": [],
   "source": [
    "train = {}\n",
    "\n",
    "with open('./Preprocess_Files/hard/sent') as f:\n",
    "    sents = f.readlines()\n",
    "content = [x.strip() for x in sents]\n",
    "    \n",
    "with open('./Preprocess_Files/hard/sense') as f:\n",
    "    senses = f.readlines()\n",
    "\n",
    "sents = []\n",
    "for sent in content:\n",
    "    text = decontracted(sent.replace(\" ' \",\"'\"))\n",
    "    result = \"\".join(x for x in text if x.isalpha() or x.isspace())\n",
    "    result = result.replace('  ',' ').split()\n",
    "    sents.append(result)\n",
    "\n",
    "type_ = []\n",
    "for sense in senses:\n",
    "    sense = sense.strip('\\n').replace('HARD1','1').replace('HARD2','2').replace('HARD3','3')\n",
    "    type_.append(int(sense))\n",
    "\n",
    "train['hard'] = []\n",
    "train['hard'].extend([sents, type_])"
   ]
  },
  {
   "cell_type": "code",
   "execution_count": 4,
   "metadata": {},
   "outputs": [],
   "source": [
    "with open('./Preprocess_Files/interest/sent') as f:\n",
    "    sents = f.readlines()\n",
    "content = [x.strip() for x in sents]\n",
    "    \n",
    "with open('./Preprocess_Files/interest/sense') as f:\n",
    "    senses = f.readlines()\n",
    "\n",
    "sents = []\n",
    "for sent in content:\n",
    "    text = decontracted(sent.replace(\" ' \",\"'\"))\n",
    "    result = \"\".join(x for x in text if x.isalpha() or x.isspace())\n",
    "    result = result.replace('  ',' ').split()\n",
    "    sents.append(result)\n",
    "\n",
    "type_ = []\n",
    "\n",
    "for sense in senses:\n",
    "    sense = sense.strip('\\n').replace('interest1','1').replace('interest2','2').replace('interest3','3').replace('interest4','4').replace('interest5','5').replace('interest6','6')\n",
    "    type_.append(int(sense))\n",
    "\n",
    "train['interest'] = []\n",
    "train['interest'].extend([sents, type_])"
   ]
  },
  {
   "cell_type": "code",
   "execution_count": 5,
   "metadata": {},
   "outputs": [],
   "source": [
    "with open('./Preprocess_Files/line/sent') as f:\n",
    "    sents = f.readlines()\n",
    "content = [x.strip() for x in sents]\n",
    "    \n",
    "with open('./Preprocess_Files/line/sense') as f:\n",
    "    senses = f.readlines()\n",
    "\n",
    "sents = []\n",
    "for sent in content:\n",
    "    text = decontracted(sent.replace(\" ' \",\"'\"))\n",
    "    result = \"\".join(x for x in text if x.isalpha() or x.isspace())\n",
    "    result = result.replace('  ',' ').split()\n",
    "    sents.append(result)\n",
    "\n",
    "type_ = []\n",
    "\n",
    "for sense in senses:\n",
    "    sense = sense.strip('\\n').replace('text','1').replace('phone','2').replace('product','3').replace('formation','4').replace('division','5').replace('cord','6')\n",
    "    type_.append(int(sense))\n",
    "\n",
    "train['line'] = []\n",
    "train['line'].extend([sents, type_])"
   ]
  },
  {
   "cell_type": "code",
   "execution_count": 6,
   "metadata": {},
   "outputs": [],
   "source": [
    "with open('./Preprocess_Files/serve/sent') as f:\n",
    "    sents = f.readlines()\n",
    "content = [x.strip() for x in sents]\n",
    "    \n",
    "with open('./Preprocess_Files/serve/sense') as f:\n",
    "    senses = f.readlines()\n",
    "\n",
    "sents = []\n",
    "for sent in content:\n",
    "    text = decontracted(sent.replace(\" ' \",\"'\"))\n",
    "    result = \"\".join(x for x in text if x.isalpha() or x.isspace())\n",
    "    result = result.replace('  ',' ').split()\n",
    "    sents.append(result)\n",
    "\n",
    "type_ = []\n",
    "\n",
    "for sense in senses:\n",
    "    sense = sense.strip('\\n').replace('SERVE2','1').replace('SERVE6','2').replace('SERVE10','3').replace('SERVE12','4')\n",
    "    type_.append(int(sense))\n",
    "\n",
    "train['serve'] = []\n",
    "train['serve'].extend([sents, type_])"
   ]
  },
  {
   "cell_type": "code",
   "execution_count": 7,
   "metadata": {},
   "outputs": [],
   "source": [
    "with open('train.pickle', 'wb') as f:\n",
    "    pickle.dump(train, f)"
   ]
  },
  {
   "cell_type": "code",
   "execution_count": 12,
   "metadata": {},
   "outputs": [
    {
     "name": "stdout",
     "output_type": "stream",
     "text": [
      "['He', 'may', 'lose', 'all', 'popular', 'support', 'but', 'someone', 'has', 'to', 'kill', 'him', 'to', 'defeat', 'him', 'and', 'that', 'is', 'HARD', 'to', 'do']\n",
      "1\n"
     ]
    }
   ],
   "source": [
    "print(train['hard'][0][0])\n",
    "print(train['hard'][1][0]) #class of hard"
   ]
  },
  {
   "cell_type": "code",
   "execution_count": null,
   "metadata": {},
   "outputs": [],
   "source": []
  }
 ],
 "metadata": {
  "kernelspec": {
   "display_name": "Python 3",
   "language": "python",
   "name": "python3"
  },
  "language_info": {
   "codemirror_mode": {
    "name": "ipython",
    "version": 3
   },
   "file_extension": ".py",
   "mimetype": "text/x-python",
   "name": "python",
   "nbconvert_exporter": "python",
   "pygments_lexer": "ipython3",
   "version": "3.6.2"
  }
 },
 "nbformat": 4,
 "nbformat_minor": 2
}
