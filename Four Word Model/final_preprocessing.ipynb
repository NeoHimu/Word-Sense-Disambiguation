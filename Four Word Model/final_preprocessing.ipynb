{
 "cells": [
  {
   "cell_type": "code",
   "execution_count": 1,
   "metadata": {},
   "outputs": [],
   "source": [
    "import re\n",
    "import pickle"
   ]
  },
  {
   "cell_type": "code",
   "execution_count": 2,
   "metadata": {},
   "outputs": [],
   "source": [
    "def decontracted(phrase):\n",
    "    # specific\n",
    "    phrase = re.sub(r\"won't\", \"will not\", phrase)\n",
    "\n",
    "    # general\n",
    "    phrase = re.sub(r\"n\\'t\", \" not\", phrase)\n",
    "    phrase = re.sub(r\"\\'re\", \" are\", phrase)\n",
    "    phrase = re.sub(r\"\\'s\", \" is\", phrase)\n",
    "    phrase = re.sub(r\"\\'d\", \" would\", phrase)\n",
    "    phrase = re.sub(r\"\\'ll\", \" will\", phrase)\n",
    "    phrase = re.sub(r\"\\'t\", \" not\", phrase)\n",
    "    phrase = re.sub(r\"\\'ve\", \" have\", phrase)\n",
    "    phrase = re.sub(r\"\\'m\", \" am\", phrase)\n",
    "    phrase = re.sub(r\"\\'d've\", \" would have\", phrase)\n",
    "    phrase = re.sub(r\"\\'d'y\", \" do you\", phrase)\n",
    "    return phrase\n"
   ]
  },
  {
   "cell_type": "code",
   "execution_count": 3,
   "metadata": {},
   "outputs": [],
   "source": [
    "train = {}\n",
    "\n",
    "with open('./Preprocess_Files/hard/sent') as f:\n",
    "    sents = f.readlines()\n",
    "content = [x.strip() for x in sents]\n",
    "    \n",
    "with open('./Preprocess_Files/hard/sense') as f:\n",
    "    senses = f.readlines()\n",
    "\n",
    "sents = []\n",
    "for sent in content:\n",
    "    text = decontracted(sent.replace(\" ' \",\"'\"))\n",
    "    result = \"\".join(x for x in text if x.isalpha() or x.isspace())\n",
    "    result = result.replace('  ',' ').split()\n",
    "    result = [string.lower() for string in result]\n",
    "    sents.append(result)\n",
    "\n",
    "type_class = []\n",
    "type_name = []\n",
    "for sense in senses:\n",
    "    sense = sense.strip('\\n')\n",
    "    type_name.append(sense)\n",
    "    \n",
    "    sense = sense.replace('HARD1','0').replace('HARD2','1').replace('HARD3','2')\n",
    "    type_class.append(int(sense))\n",
    "\n",
    "train['hard'] = []\n",
    "train['hard'].extend([sents, type_name, type_class])"
   ]
  },
  {
   "cell_type": "code",
   "execution_count": 4,
   "metadata": {},
   "outputs": [],
   "source": [
    "with open('./Preprocess_Files/interest/sent') as f:\n",
    "    sents = f.readlines()\n",
    "content = [x.strip() for x in sents]\n",
    "    \n",
    "with open('./Preprocess_Files/interest/sense') as f:\n",
    "    senses = f.readlines()\n",
    "\n",
    "sents = []\n",
    "for sent in content:\n",
    "    text = decontracted(sent.replace(\" ' \",\"'\"))\n",
    "    result = \"\".join(x for x in text if x.isalpha() or x.isspace())\n",
    "    result = result.replace('  ',' ').split()\n",
    "    result = [string.lower() for string in result]\n",
    "    sents.append(result)\n",
    "\n",
    "type_class = []\n",
    "type_name = []\n",
    "for sense in senses:\n",
    "    sense = sense.strip('\\n')\n",
    "    type_name.append(sense)\n",
    "    \n",
    "    sense = sense.replace('interest1','0').replace('interest2','1').replace('interest3','2').replace('interest4','3').replace('interest5','4').replace('interest6','5')\n",
    "    type_class.append(int(sense))\n",
    "\n",
    "train['interest'] = []\n",
    "train['interest'].extend([sents, type_name, type_class])"
   ]
  },
  {
   "cell_type": "code",
   "execution_count": 5,
   "metadata": {},
   "outputs": [],
   "source": [
    "with open('./Preprocess_Files/line/sent') as f:\n",
    "    sents = f.readlines()\n",
    "content = [x.strip() for x in sents]\n",
    "    \n",
    "with open('./Preprocess_Files/line/sense') as f:\n",
    "    senses = f.readlines()\n",
    "\n",
    "sents = []\n",
    "for sent in content:\n",
    "    text = decontracted(sent.replace(\" ' \",\"'\"))\n",
    "    result = \"\".join(x for x in text if x.isalpha() or x.isspace())\n",
    "    result = result.replace('  ',' ').split()\n",
    "    result = [string.lower() for string in result]\n",
    "    sents.append(result)\n",
    "\n",
    "type_class = []\n",
    "type_name = []\n",
    "for sense in senses:\n",
    "    sense = sense.strip('\\n')\n",
    "    type_name.append(sense)\n",
    "    \n",
    "    sense = sense.replace('text','0').replace('phone','1').replace('product','2').replace('formation','3').replace('division','4').replace('cord','5')\n",
    "    type_class.append(int(sense))\n",
    "\n",
    "train['line'] = []\n",
    "train['line'].extend([sents, type_name, type_class])"
   ]
  },
  {
   "cell_type": "code",
   "execution_count": 6,
   "metadata": {},
   "outputs": [],
   "source": [
    "with open('./Preprocess_Files/serve/sent') as f:\n",
    "    sents = f.readlines()\n",
    "content = [x.strip() for x in sents]\n",
    "    \n",
    "with open('./Preprocess_Files/serve/sense') as f:\n",
    "    senses = f.readlines()\n",
    "\n",
    "sents = []\n",
    "for sent in content:\n",
    "    text = decontracted(sent.replace(\" ' \",\"'\"))\n",
    "    result = \"\".join(x for x in text if x.isalpha() or x.isspace())\n",
    "    result = result.replace('  ',' ').split()\n",
    "    result = [string.lower() for string in result]\n",
    "    sents.append(result)\n",
    "\n",
    "type_class = []\n",
    "type_name = []\n",
    "for sense in senses:\n",
    "    sense = sense.strip('\\n')\n",
    "    type_name.append(sense)\n",
    "    \n",
    "    sense = sense.replace('SERVE2','0').replace('SERVE6','1').replace('SERVE10','2').replace('SERVE12','3')\n",
    "    type_class.append(int(sense))\n",
    "\n",
    "train['serve'] = []\n",
    "train['serve'].extend([sents, type_name, type_class])"
   ]
  },
  {
   "cell_type": "code",
   "execution_count": 7,
   "metadata": {},
   "outputs": [],
   "source": [
    "with open('train.pickle', 'wb') as f:\n",
    "    pickle.dump(train, f)"
   ]
  },
  {
   "cell_type": "code",
   "execution_count": 8,
   "metadata": {},
   "outputs": [
    {
     "name": "stdout",
     "output_type": "stream",
     "text": [
      "['he', 'may', 'lose', 'all', 'popular', 'support', 'but', 'someone', 'has', 'to', 'kill', 'him', 'to', 'defeat', 'him', 'and', 'that', 'is', 'hard', 'to', 'do']\n",
      "HARD1\n"
     ]
    }
   ],
   "source": [
    "print(train['hard'][0][0])\n",
    "print(train['hard'][1][0]) #class of hard"
   ]
  },
  {
   "cell_type": "code",
   "execution_count": 9,
   "metadata": {},
   "outputs": [
    {
     "name": "stdout",
     "output_type": "stream",
     "text": [
      "108\n",
      "127\n",
      "165\n",
      "161\n"
     ]
    }
   ],
   "source": [
    "def max_length(target):\n",
    "    max_len = 0\n",
    "    for sentence in train[target][0]:\n",
    "        temp_len = len(sentence)\n",
    "        max_len = max(max_len, temp_len)\n",
    "    print(max_len)\n",
    "\n",
    "max_length('hard') \n",
    "max_length('interest')\n",
    "max_length('line')\n",
    "max_length('serve')"
   ]
  },
  {
   "cell_type": "code",
   "execution_count": null,
   "metadata": {},
   "outputs": [],
   "source": []
  }
 ],
 "metadata": {
  "kernelspec": {
   "display_name": "Python 3",
   "language": "python",
   "name": "python3"
  },
  "language_info": {
   "codemirror_mode": {
    "name": "ipython",
    "version": 3
   },
   "file_extension": ".py",
   "mimetype": "text/x-python",
   "name": "python",
   "nbconvert_exporter": "python",
   "pygments_lexer": "ipython3",
   "version": "3.6.2"
  }
 },
 "nbformat": 4,
 "nbformat_minor": 2
}
