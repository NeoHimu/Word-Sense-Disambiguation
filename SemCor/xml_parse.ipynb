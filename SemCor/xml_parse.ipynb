{
 "cells": [
  {
   "cell_type": "code",
   "execution_count": 1,
   "metadata": {},
   "outputs": [],
   "source": [
    "from nltk.corpus import wordnet as wn\n",
    "from bs4 import BeautifulSoup\n",
    "import urllib.request\n",
    "import pickle"
   ]
  },
  {
   "cell_type": "code",
   "execution_count": 5,
   "metadata": {},
   "outputs": [],
   "source": [
    "with open('/home/robsr/Study/Projects/Python/Word-Sense-Disambiguation/data/WSD_Training_Corpora/SemCor/semcor_data_formatted.xml', 'r') as f:\n",
    "    soup = BeautifulSoup(f, 'xml')"
   ]
  },
  {
   "cell_type": "code",
   "execution_count": null,
   "metadata": {},
   "outputs": [],
   "source": [
    "train = []\n",
    "count = 0\n",
    "for sentence in soup.find_all('sentence'):\n",
    "    temp_sent = []\n",
    "    temp_sent.append(sentence.get('id'))\n",
    "    \n",
    "    string = sentence.text.strip('\\n').split('\\n')\n",
    "    temp_sent.append(string)\n",
    "    \n",
    "    list_ = sentence.contents\n",
    "    id_list = []\n",
    "    lemma_list = []\n",
    "    pos_list = []\n",
    "    for i in range(1,len(list_),2):\n",
    "        id_list.append(list_[i].get('id'))\n",
    "        lemma_list.append(list_[i].get('lemma'))\n",
    "        pos_list.append(list_[i].get('pos'))\n",
    "    temp_sent.extend([id_list, lemma_list, pos_list])\n",
    "    train.append(temp_sent)"
   ]
  },
  {
   "cell_type": "code",
   "execution_count": null,
   "metadata": {},
   "outputs": [],
   "source": [
    "# with open('train_semcor_sent_list.pickle', 'wb') as f:\n",
    "#     pickle.dump(train, f)"
   ]
  },
  {
   "cell_type": "code",
   "execution_count": null,
   "metadata": {
    "collapsed": true
   },
   "outputs": [],
   "source": []
  }
 ],
 "metadata": {
  "kernelspec": {
   "display_name": "Python 3",
   "language": "python",
   "name": "python3"
  },
  "language_info": {
   "codemirror_mode": {
    "name": "ipython",
    "version": 3
   },
   "file_extension": ".py",
   "mimetype": "text/x-python",
   "name": "python",
   "nbconvert_exporter": "python",
   "pygments_lexer": "ipython3",
   "version": "3.6.2"
  }
 },
 "nbformat": 4,
 "nbformat_minor": 2
}
