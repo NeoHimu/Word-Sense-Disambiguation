{
 "cells": [
  {
   "cell_type": "code",
   "execution_count": 1,
   "metadata": {
    "collapsed": true
   },
   "outputs": [],
   "source": [
    "import tensorflow as tf\n",
    "tf.logging.set_verbosity(tf.logging.WARN)\n",
    "import pickle\n",
    "import numpy as np\n",
    "import os\n",
    "from sklearn.model_selection import train_test_split\n",
    "from sklearn.metrics import f1_score\n",
    "from sklearn.metrics import accuracy_score\n",
    "import os\n",
    "from tensorflow.python.client import device_lib\n",
    "from collections import Counter"
   ]
  },
  {
   "cell_type": "code",
   "execution_count": 2,
   "metadata": {
    "collapsed": true
   },
   "outputs": [],
   "source": [
    "f = open('../Glove/word_embedding_glove', 'rb')\n",
    "word_embedding = pickle.load(f)\n",
    "f.close()\n",
    "word_embedding = word_embedding[: len(word_embedding)-1]\n",
    "\n",
    "f = open('../Glove/vocab_glove', 'rb')\n",
    "vocab = pickle.load(f)\n",
    "f.close()\n",
    "\n",
    "word2id = dict((w, i) for i,w in enumerate(vocab))\n",
    "id2word = dict((i, w) for i,w in enumerate(vocab))\n",
    "\n",
    "unknown_token = \"UNKNOWN_TOKEN\""
   ]
  },
  {
   "cell_type": "code",
   "execution_count": 3,
   "metadata": {
    "collapsed": true
   },
   "outputs": [],
   "source": [
    "f = open(\"../../dataset/sense/dict_sense-keys\", 'rb')\n",
    "dict_sense_keys = pickle.load(f)\n",
    "f.close()\n",
    "\n",
    "f = open(\"../../dataset/sense/dict_word-sense\", 'rb')\n",
    "dict_word_sense = pickle.load(f)\n",
    "f.close()"
   ]
  },
  {
   "cell_type": "code",
   "execution_count": 4,
   "metadata": {
    "collapsed": true
   },
   "outputs": [],
   "source": [
    "# Model Description\n",
    "sense_word = 'force'\n",
    "model_name = 'multigpu'\n",
    "sense_word_dir = 'output/' + sense_word\n",
    "model_dir = sense_word_dir + '/' + model_name\n",
    "save_dir = os.path.join(model_dir, \"save/\")\n",
    "log_dir = os.path.join(model_dir, \"log\")\n",
    "\n",
    "if not os.path.exists(sense_word_dir):\n",
    "    os.mkdir(sense_word_dir)\n",
    "if not os.path.exists(model_dir):\n",
    "    os.mkdir(model_dir)\n",
    "if not os.path.exists(save_dir):\n",
    "    os.mkdir(save_dir)\n",
    "if not os.path.exists(log_dir):\n",
    "    os.mkdir(log_dir)"
   ]
  },
  {
   "cell_type": "code",
   "execution_count": 5,
   "metadata": {
    "scrolled": false
   },
   "outputs": [
    {
     "data": {
      "text/plain": [
       "[('14', 1150),\n",
       " ('07', 969),\n",
       " ('41', 543),\n",
       " ('04', 495),\n",
       " ('18', 492),\n",
       " ('36', 31),\n",
       " ('19', 20),\n",
       " ('38', 10),\n",
       " ('32', 7),\n",
       " ('35', 6)]"
      ]
     },
     "execution_count": 5,
     "metadata": {},
     "output_type": "execute_result"
    }
   ],
   "source": [
    "f = open(\"../../dataset/checkwords/\"+ sense_word + \"_data\", 'rb')\n",
    "data = pickle.load(f)\n",
    "f.close()\n",
    "\n",
    "data_y = []\n",
    "for i in range(len(data)):\n",
    "    data_y.append(dict_sense_keys[data[i][0]][2])\n",
    "\n",
    "sense_count = Counter(data_y)\n",
    "sense_count = sense_count.most_common()\n",
    "vocab_sense = [k for k,v in sense_count[:5]]\n",
    "sense_count"
   ]
  },
  {
   "cell_type": "code",
   "execution_count": 6,
   "metadata": {},
   "outputs": [
    {
     "data": {
      "text/plain": [
       "['14', '07', '41', '04', '18']"
      ]
     },
     "execution_count": 6,
     "metadata": {},
     "output_type": "execute_result"
    }
   ],
   "source": [
    "vocab_sense"
   ]
  },
  {
   "cell_type": "code",
   "execution_count": 7,
   "metadata": {},
   "outputs": [
    {
     "name": "stdout",
     "output_type": "stream",
     "text": [
      "3649 3723\n"
     ]
    }
   ],
   "source": [
    "data_x = []\n",
    "data_label = []\n",
    "for i in range(len(data)):\n",
    "    if dict_sense_keys[data[i][0]][2] in vocab_sense:\n",
    "        data_x.append(data[i][1])\n",
    "        data_label.append(dict_sense_keys[data[i][0]][2])\n",
    "\n",
    "print(len(data_label), len(data_y))\n",
    "\n",
    "# vocab_sense = dict_word_sense[sense_word]\n",
    "\n",
    "sense2id = dict((s, i) for i,s in enumerate(vocab_sense))\n",
    "id2sense = dict((i, s) for i,s in enumerate(vocab))"
   ]
  },
  {
   "cell_type": "code",
   "execution_count": 8,
   "metadata": {
    "collapsed": true
   },
   "outputs": [],
   "source": [
    "# Parameters\n",
    "mode = 'train'\n",
    "num_senses = len(vocab_sense)\n",
    "batch_size = 64\n",
    "vocab_size = len(vocab)\n",
    "unk_vocab_size = 1\n",
    "word_emb_size = len(word_embedding[0])\n",
    "max_sent_size = 200\n",
    "hidden_size = 100\n",
    "keep_prob = 0.5\n",
    "l2_lambda = 0.001\n",
    "init_lr = 0.005\n",
    "decay_steps = 500\n",
    "decay_rate = 0.96\n",
    "clip_norm = 1\n",
    "clipping = True"
   ]
  },
  {
   "cell_type": "code",
   "execution_count": 9,
   "metadata": {},
   "outputs": [
    {
     "name": "stderr",
     "output_type": "stream",
     "text": [
      "/users/btech/aviraj/cs771/lib/python3.5/site-packages/sklearn/model_selection/_split.py:2026: FutureWarning: From version 0.21, test_size will always complement train_size unless both are specified.\n",
      "  FutureWarning)\n"
     ]
    }
   ],
   "source": [
    "index = []\n",
    "for i in range(len(data_x)):\n",
    "    index.append(i)\n",
    "\n",
    "index_train, index_val, label_train, label_val = train_test_split(index, data_label, train_size=0.8, shuffle=True, stratify=data_label, random_state=0)\n",
    "\n",
    "data_x = np.array(data_x)\n",
    "\n",
    "x_train = data_x[index_train]\n",
    "x_val = data_x[index_val]"
   ]
  },
  {
   "cell_type": "code",
   "execution_count": 10,
   "metadata": {},
   "outputs": [],
   "source": [
    "os.environ[\"CUDA_DEVICE_ORDER\"]=\"PCI_BUS_ID\"   # see issue #152\n",
    "os.environ[\"CUDA_VISIBLE_DEVICES\"]=\"0,1,2\"\n",
    "num_gpus = 3"
   ]
  },
  {
   "cell_type": "code",
   "execution_count": 11,
   "metadata": {
    "collapsed": true
   },
   "outputs": [],
   "source": [
    "def average_gradients(tower_grads):\n",
    "    average_grads = []\n",
    "    for grad_and_vars in zip(*tower_grads):\n",
    "        # Note that each grad_and_vars looks like the following:\n",
    "        #   ((grad0_gpu0, var0_gpu0), ... , (grad0_gpuN, var0_gpuN))\n",
    "        grads = []\n",
    "        for g, _ in grad_and_vars:\n",
    "            # Add 0 dimension to the gradients to represent the tower.\n",
    "            expanded_g = tf.expand_dims(g, 0)\n",
    "\n",
    "            # Append on a 'tower' dimension which we will average over below.\n",
    "            grads.append(expanded_g)\n",
    "\n",
    "        # Average over the 'tower' dimension.\n",
    "        grad = tf.concat(grads, 0)\n",
    "        grad = tf.reduce_mean(grad, 0)\n",
    "\n",
    "        # Keep in mind that the Variables are redundant because they are shared\n",
    "        # across towers. So .. we will just return the first tower's pointer to\n",
    "        # the Variable.\n",
    "        v = grad_and_vars[0][1]\n",
    "        grad_and_var = (grad, v)\n",
    "        average_grads.append(grad_and_var)\n",
    "    return average_grads"
   ]
  },
  {
   "cell_type": "code",
   "execution_count": 12,
   "metadata": {
    "scrolled": true
   },
   "outputs": [
    {
     "ename": "ValueError",
     "evalue": "Tried to convert 'input' to a tensor and failed. Error: None values not supported.",
     "output_type": "error",
     "traceback": [
      "\u001b[0;31m---------------------------------------------------------------------------\u001b[0m",
      "\u001b[0;31mValueError\u001b[0m                                Traceback (most recent call last)",
      "\u001b[0;32m/usr/local/lib/python3.5/dist-packages/tensorflow/python/framework/op_def_library.py\u001b[0m in \u001b[0;36mapply_op\u001b[0;34m(self, op_type_name, name, **keywords)\u001b[0m\n\u001b[1;32m    489\u001b[0m                 \u001b[0mas_ref\u001b[0m\u001b[0;34m=\u001b[0m\u001b[0minput_arg\u001b[0m\u001b[0;34m.\u001b[0m\u001b[0mis_ref\u001b[0m\u001b[0;34m,\u001b[0m\u001b[0;34m\u001b[0m\u001b[0m\n\u001b[0;32m--> 490\u001b[0;31m                 preferred_dtype=default_dtype)\n\u001b[0m\u001b[1;32m    491\u001b[0m           \u001b[0;32mexcept\u001b[0m \u001b[0mTypeError\u001b[0m \u001b[0;32mas\u001b[0m \u001b[0merr\u001b[0m\u001b[0;34m:\u001b[0m\u001b[0;34m\u001b[0m\u001b[0m\n",
      "\u001b[0;32m/usr/local/lib/python3.5/dist-packages/tensorflow/python/framework/ops.py\u001b[0m in \u001b[0;36minternal_convert_to_tensor\u001b[0;34m(value, dtype, name, as_ref, preferred_dtype)\u001b[0m\n\u001b[1;32m    740\u001b[0m         \u001b[0;32mif\u001b[0m \u001b[0mret\u001b[0m \u001b[0;32mis\u001b[0m \u001b[0;32mNone\u001b[0m\u001b[0;34m:\u001b[0m\u001b[0;34m\u001b[0m\u001b[0m\n\u001b[0;32m--> 741\u001b[0;31m           \u001b[0mret\u001b[0m \u001b[0;34m=\u001b[0m \u001b[0mconversion_func\u001b[0m\u001b[0;34m(\u001b[0m\u001b[0mvalue\u001b[0m\u001b[0;34m,\u001b[0m \u001b[0mdtype\u001b[0m\u001b[0;34m=\u001b[0m\u001b[0mdtype\u001b[0m\u001b[0;34m,\u001b[0m \u001b[0mname\u001b[0m\u001b[0;34m=\u001b[0m\u001b[0mname\u001b[0m\u001b[0;34m,\u001b[0m \u001b[0mas_ref\u001b[0m\u001b[0;34m=\u001b[0m\u001b[0mas_ref\u001b[0m\u001b[0;34m)\u001b[0m\u001b[0;34m\u001b[0m\u001b[0m\n\u001b[0m\u001b[1;32m    742\u001b[0m \u001b[0;34m\u001b[0m\u001b[0m\n",
      "\u001b[0;32m/usr/local/lib/python3.5/dist-packages/tensorflow/python/framework/constant_op.py\u001b[0m in \u001b[0;36m_constant_tensor_conversion_function\u001b[0;34m(v, dtype, name, as_ref)\u001b[0m\n\u001b[1;32m    112\u001b[0m   \u001b[0m_\u001b[0m \u001b[0;34m=\u001b[0m \u001b[0mas_ref\u001b[0m\u001b[0;34m\u001b[0m\u001b[0m\n\u001b[0;32m--> 113\u001b[0;31m   \u001b[0;32mreturn\u001b[0m \u001b[0mconstant\u001b[0m\u001b[0;34m(\u001b[0m\u001b[0mv\u001b[0m\u001b[0;34m,\u001b[0m \u001b[0mdtype\u001b[0m\u001b[0;34m=\u001b[0m\u001b[0mdtype\u001b[0m\u001b[0;34m,\u001b[0m \u001b[0mname\u001b[0m\u001b[0;34m=\u001b[0m\u001b[0mname\u001b[0m\u001b[0;34m)\u001b[0m\u001b[0;34m\u001b[0m\u001b[0m\n\u001b[0m\u001b[1;32m    114\u001b[0m \u001b[0;34m\u001b[0m\u001b[0m\n",
      "\u001b[0;32m/usr/local/lib/python3.5/dist-packages/tensorflow/python/framework/constant_op.py\u001b[0m in \u001b[0;36mconstant\u001b[0;34m(value, dtype, shape, name, verify_shape)\u001b[0m\n\u001b[1;32m    101\u001b[0m   tensor_value.tensor.CopyFrom(\n\u001b[0;32m--> 102\u001b[0;31m       tensor_util.make_tensor_proto(value, dtype=dtype, shape=shape, verify_shape=verify_shape))\n\u001b[0m\u001b[1;32m    103\u001b[0m   \u001b[0mdtype_value\u001b[0m \u001b[0;34m=\u001b[0m \u001b[0mattr_value_pb2\u001b[0m\u001b[0;34m.\u001b[0m\u001b[0mAttrValue\u001b[0m\u001b[0;34m(\u001b[0m\u001b[0mtype\u001b[0m\u001b[0;34m=\u001b[0m\u001b[0mtensor_value\u001b[0m\u001b[0;34m.\u001b[0m\u001b[0mtensor\u001b[0m\u001b[0;34m.\u001b[0m\u001b[0mdtype\u001b[0m\u001b[0;34m)\u001b[0m\u001b[0;34m\u001b[0m\u001b[0m\n",
      "\u001b[0;32m/usr/local/lib/python3.5/dist-packages/tensorflow/python/framework/tensor_util.py\u001b[0m in \u001b[0;36mmake_tensor_proto\u001b[0;34m(values, dtype, shape, verify_shape)\u001b[0m\n\u001b[1;32m    363\u001b[0m     \u001b[0;32mif\u001b[0m \u001b[0mvalues\u001b[0m \u001b[0;32mis\u001b[0m \u001b[0;32mNone\u001b[0m\u001b[0;34m:\u001b[0m\u001b[0;34m\u001b[0m\u001b[0m\n\u001b[0;32m--> 364\u001b[0;31m       \u001b[0;32mraise\u001b[0m \u001b[0mValueError\u001b[0m\u001b[0;34m(\u001b[0m\u001b[0;34m\"None values not supported.\"\u001b[0m\u001b[0;34m)\u001b[0m\u001b[0;34m\u001b[0m\u001b[0m\n\u001b[0m\u001b[1;32m    365\u001b[0m     \u001b[0;31m# if dtype is provided, forces numpy array to be the type\u001b[0m\u001b[0;34m\u001b[0m\u001b[0;34m\u001b[0m\u001b[0m\n",
      "\u001b[0;31mValueError\u001b[0m: None values not supported.",
      "\nDuring handling of the above exception, another exception occurred:\n",
      "\u001b[0;31mValueError\u001b[0m                                Traceback (most recent call last)",
      "\u001b[0;32m/usr/local/lib/python3.5/dist-packages/tensorflow/python/framework/op_def_library.py\u001b[0m in \u001b[0;36mapply_op\u001b[0;34m(self, op_type_name, name, **keywords)\u001b[0m\n\u001b[1;32m    503\u001b[0m               observed = ops.internal_convert_to_tensor(\n\u001b[0;32m--> 504\u001b[0;31m                   values, as_ref=input_arg.is_ref).dtype.name\n\u001b[0m\u001b[1;32m    505\u001b[0m             \u001b[0;32mexcept\u001b[0m \u001b[0mValueError\u001b[0m \u001b[0;32mas\u001b[0m \u001b[0merr\u001b[0m\u001b[0;34m:\u001b[0m\u001b[0;34m\u001b[0m\u001b[0m\n",
      "\u001b[0;32m/usr/local/lib/python3.5/dist-packages/tensorflow/python/framework/ops.py\u001b[0m in \u001b[0;36minternal_convert_to_tensor\u001b[0;34m(value, dtype, name, as_ref, preferred_dtype)\u001b[0m\n\u001b[1;32m    740\u001b[0m         \u001b[0;32mif\u001b[0m \u001b[0mret\u001b[0m \u001b[0;32mis\u001b[0m \u001b[0;32mNone\u001b[0m\u001b[0;34m:\u001b[0m\u001b[0;34m\u001b[0m\u001b[0m\n\u001b[0;32m--> 741\u001b[0;31m           \u001b[0mret\u001b[0m \u001b[0;34m=\u001b[0m \u001b[0mconversion_func\u001b[0m\u001b[0;34m(\u001b[0m\u001b[0mvalue\u001b[0m\u001b[0;34m,\u001b[0m \u001b[0mdtype\u001b[0m\u001b[0;34m=\u001b[0m\u001b[0mdtype\u001b[0m\u001b[0;34m,\u001b[0m \u001b[0mname\u001b[0m\u001b[0;34m=\u001b[0m\u001b[0mname\u001b[0m\u001b[0;34m,\u001b[0m \u001b[0mas_ref\u001b[0m\u001b[0;34m=\u001b[0m\u001b[0mas_ref\u001b[0m\u001b[0;34m)\u001b[0m\u001b[0;34m\u001b[0m\u001b[0m\n\u001b[0m\u001b[1;32m    742\u001b[0m \u001b[0;34m\u001b[0m\u001b[0m\n",
      "\u001b[0;32m/usr/local/lib/python3.5/dist-packages/tensorflow/python/framework/constant_op.py\u001b[0m in \u001b[0;36m_constant_tensor_conversion_function\u001b[0;34m(v, dtype, name, as_ref)\u001b[0m\n\u001b[1;32m    112\u001b[0m   \u001b[0m_\u001b[0m \u001b[0;34m=\u001b[0m \u001b[0mas_ref\u001b[0m\u001b[0;34m\u001b[0m\u001b[0m\n\u001b[0;32m--> 113\u001b[0;31m   \u001b[0;32mreturn\u001b[0m \u001b[0mconstant\u001b[0m\u001b[0;34m(\u001b[0m\u001b[0mv\u001b[0m\u001b[0;34m,\u001b[0m \u001b[0mdtype\u001b[0m\u001b[0;34m=\u001b[0m\u001b[0mdtype\u001b[0m\u001b[0;34m,\u001b[0m \u001b[0mname\u001b[0m\u001b[0;34m=\u001b[0m\u001b[0mname\u001b[0m\u001b[0;34m)\u001b[0m\u001b[0;34m\u001b[0m\u001b[0m\n\u001b[0m\u001b[1;32m    114\u001b[0m \u001b[0;34m\u001b[0m\u001b[0m\n",
      "\u001b[0;32m/usr/local/lib/python3.5/dist-packages/tensorflow/python/framework/constant_op.py\u001b[0m in \u001b[0;36mconstant\u001b[0;34m(value, dtype, shape, name, verify_shape)\u001b[0m\n\u001b[1;32m    101\u001b[0m   tensor_value.tensor.CopyFrom(\n\u001b[0;32m--> 102\u001b[0;31m       tensor_util.make_tensor_proto(value, dtype=dtype, shape=shape, verify_shape=verify_shape))\n\u001b[0m\u001b[1;32m    103\u001b[0m   \u001b[0mdtype_value\u001b[0m \u001b[0;34m=\u001b[0m \u001b[0mattr_value_pb2\u001b[0m\u001b[0;34m.\u001b[0m\u001b[0mAttrValue\u001b[0m\u001b[0;34m(\u001b[0m\u001b[0mtype\u001b[0m\u001b[0;34m=\u001b[0m\u001b[0mtensor_value\u001b[0m\u001b[0;34m.\u001b[0m\u001b[0mtensor\u001b[0m\u001b[0;34m.\u001b[0m\u001b[0mdtype\u001b[0m\u001b[0;34m)\u001b[0m\u001b[0;34m\u001b[0m\u001b[0m\n",
      "\u001b[0;32m/usr/local/lib/python3.5/dist-packages/tensorflow/python/framework/tensor_util.py\u001b[0m in \u001b[0;36mmake_tensor_proto\u001b[0;34m(values, dtype, shape, verify_shape)\u001b[0m\n\u001b[1;32m    363\u001b[0m     \u001b[0;32mif\u001b[0m \u001b[0mvalues\u001b[0m \u001b[0;32mis\u001b[0m \u001b[0;32mNone\u001b[0m\u001b[0;34m:\u001b[0m\u001b[0;34m\u001b[0m\u001b[0m\n\u001b[0;32m--> 364\u001b[0;31m       \u001b[0;32mraise\u001b[0m \u001b[0mValueError\u001b[0m\u001b[0;34m(\u001b[0m\u001b[0;34m\"None values not supported.\"\u001b[0m\u001b[0;34m)\u001b[0m\u001b[0;34m\u001b[0m\u001b[0m\n\u001b[0m\u001b[1;32m    365\u001b[0m     \u001b[0;31m# if dtype is provided, forces numpy array to be the type\u001b[0m\u001b[0;34m\u001b[0m\u001b[0;34m\u001b[0m\u001b[0m\n",
      "\u001b[0;31mValueError\u001b[0m: None values not supported.",
      "\nDuring handling of the above exception, another exception occurred:\n",
      "\u001b[0;31mValueError\u001b[0m                                Traceback (most recent call last)",
      "\u001b[0;32m<ipython-input-12-3f706e11a11d>\u001b[0m in \u001b[0;36m<module>\u001b[0;34m()\u001b[0m\n\u001b[1;32m    115\u001b[0m                 \u001b[0mtower_grads\u001b[0m\u001b[0;34m.\u001b[0m\u001b[0mappend\u001b[0m\u001b[0;34m(\u001b[0m\u001b[0mclipped_grads\u001b[0m\u001b[0;34m)\u001b[0m\u001b[0;34m\u001b[0m\u001b[0m\n\u001b[1;32m    116\u001b[0m \u001b[0;34m\u001b[0m\u001b[0m\n\u001b[0;32m--> 117\u001b[0;31m     \u001b[0mtower_grads\u001b[0m \u001b[0;34m=\u001b[0m \u001b[0maverage_gradients\u001b[0m\u001b[0;34m(\u001b[0m\u001b[0mtower_grads\u001b[0m\u001b[0;34m)\u001b[0m\u001b[0;34m\u001b[0m\u001b[0m\n\u001b[0m\u001b[1;32m    118\u001b[0m     \u001b[0mtrain_op\u001b[0m \u001b[0;34m=\u001b[0m \u001b[0moptimizer\u001b[0m\u001b[0;34m.\u001b[0m\u001b[0mapply_gradients\u001b[0m\u001b[0;34m(\u001b[0m\u001b[0mtower_grads\u001b[0m\u001b[0;34m)\u001b[0m\u001b[0;34m\u001b[0m\u001b[0m\n\u001b[1;32m    119\u001b[0m \u001b[0;34m\u001b[0m\u001b[0m\n",
      "\u001b[0;32m<ipython-input-11-70e2f1c7300c>\u001b[0m in \u001b[0;36maverage_gradients\u001b[0;34m(tower_grads)\u001b[0m\n\u001b[1;32m      7\u001b[0m         \u001b[0;32mfor\u001b[0m \u001b[0mg\u001b[0m\u001b[0;34m,\u001b[0m \u001b[0m_\u001b[0m \u001b[0;32min\u001b[0m \u001b[0mgrad_and_vars\u001b[0m\u001b[0;34m:\u001b[0m\u001b[0;34m\u001b[0m\u001b[0m\n\u001b[1;32m      8\u001b[0m             \u001b[0;31m# Add 0 dimension to the gradients to represent the tower.\u001b[0m\u001b[0;34m\u001b[0m\u001b[0;34m\u001b[0m\u001b[0m\n\u001b[0;32m----> 9\u001b[0;31m             \u001b[0mexpanded_g\u001b[0m \u001b[0;34m=\u001b[0m \u001b[0mtf\u001b[0m\u001b[0;34m.\u001b[0m\u001b[0mexpand_dims\u001b[0m\u001b[0;34m(\u001b[0m\u001b[0mg\u001b[0m\u001b[0;34m,\u001b[0m \u001b[0;36m0\u001b[0m\u001b[0;34m)\u001b[0m\u001b[0;34m\u001b[0m\u001b[0m\n\u001b[0m\u001b[1;32m     10\u001b[0m \u001b[0;34m\u001b[0m\u001b[0m\n\u001b[1;32m     11\u001b[0m             \u001b[0;31m# Append on a 'tower' dimension which we will average over below.\u001b[0m\u001b[0;34m\u001b[0m\u001b[0;34m\u001b[0m\u001b[0m\n",
      "\u001b[0;32m/usr/local/lib/python3.5/dist-packages/tensorflow/python/ops/array_ops.py\u001b[0m in \u001b[0;36mexpand_dims\u001b[0;34m(input, axis, name, dim)\u001b[0m\n\u001b[1;32m    167\u001b[0m       \u001b[0;32mraise\u001b[0m \u001b[0mValueError\u001b[0m\u001b[0;34m(\u001b[0m\u001b[0;34m\"can't specify both 'dim' and 'axis'\"\u001b[0m\u001b[0;34m)\u001b[0m\u001b[0;34m\u001b[0m\u001b[0m\n\u001b[1;32m    168\u001b[0m     \u001b[0maxis\u001b[0m \u001b[0;34m=\u001b[0m \u001b[0mdim\u001b[0m\u001b[0;34m\u001b[0m\u001b[0m\n\u001b[0;32m--> 169\u001b[0;31m   \u001b[0;32mreturn\u001b[0m \u001b[0mgen_array_ops\u001b[0m\u001b[0;34m.\u001b[0m\u001b[0m_expand_dims\u001b[0m\u001b[0;34m(\u001b[0m\u001b[0minput\u001b[0m\u001b[0;34m,\u001b[0m \u001b[0maxis\u001b[0m\u001b[0;34m,\u001b[0m \u001b[0mname\u001b[0m\u001b[0;34m)\u001b[0m\u001b[0;34m\u001b[0m\u001b[0m\n\u001b[0m\u001b[1;32m    170\u001b[0m \u001b[0;31m# pylint: enable=redefined-builtin,protected-access\u001b[0m\u001b[0;34m\u001b[0m\u001b[0;34m\u001b[0m\u001b[0m\n\u001b[1;32m    171\u001b[0m \u001b[0;34m\u001b[0m\u001b[0m\n",
      "\u001b[0;32m/usr/local/lib/python3.5/dist-packages/tensorflow/python/ops/gen_array_ops.py\u001b[0m in \u001b[0;36m_expand_dims\u001b[0;34m(input, dim, name)\u001b[0m\n\u001b[1;32m    860\u001b[0m     \u001b[0mdimension\u001b[0m \u001b[0mof\u001b[0m \u001b[0msize\u001b[0m \u001b[0;36m1\u001b[0m \u001b[0madded\u001b[0m\u001b[0;34m.\u001b[0m\u001b[0;34m\u001b[0m\u001b[0m\n\u001b[1;32m    861\u001b[0m   \"\"\"\n\u001b[0;32m--> 862\u001b[0;31m   \u001b[0mresult\u001b[0m \u001b[0;34m=\u001b[0m \u001b[0m_op_def_lib\u001b[0m\u001b[0;34m.\u001b[0m\u001b[0mapply_op\u001b[0m\u001b[0;34m(\u001b[0m\u001b[0;34m\"ExpandDims\"\u001b[0m\u001b[0;34m,\u001b[0m \u001b[0minput\u001b[0m\u001b[0;34m=\u001b[0m\u001b[0minput\u001b[0m\u001b[0;34m,\u001b[0m \u001b[0mdim\u001b[0m\u001b[0;34m=\u001b[0m\u001b[0mdim\u001b[0m\u001b[0;34m,\u001b[0m \u001b[0mname\u001b[0m\u001b[0;34m=\u001b[0m\u001b[0mname\u001b[0m\u001b[0;34m)\u001b[0m\u001b[0;34m\u001b[0m\u001b[0m\n\u001b[0m\u001b[1;32m    863\u001b[0m   \u001b[0;32mreturn\u001b[0m \u001b[0mresult\u001b[0m\u001b[0;34m\u001b[0m\u001b[0m\n\u001b[1;32m    864\u001b[0m \u001b[0;34m\u001b[0m\u001b[0m\n",
      "\u001b[0;32m/usr/local/lib/python3.5/dist-packages/tensorflow/python/framework/op_def_library.py\u001b[0m in \u001b[0;36mapply_op\u001b[0;34m(self, op_type_name, name, **keywords)\u001b[0m\n\u001b[1;32m    506\u001b[0m               raise ValueError(\n\u001b[1;32m    507\u001b[0m                   \u001b[0;34m\"Tried to convert '%s' to a tensor and failed. Error: %s\"\u001b[0m \u001b[0;34m%\u001b[0m\u001b[0;34m\u001b[0m\u001b[0m\n\u001b[0;32m--> 508\u001b[0;31m                   (input_name, err))\n\u001b[0m\u001b[1;32m    509\u001b[0m             prefix = (\"Input '%s' of '%s' Op has type %s that does not match\" %\n\u001b[1;32m    510\u001b[0m                       (input_name, op_type_name, observed))\n",
      "\u001b[0;31mValueError\u001b[0m: Tried to convert 'input' to a tensor and failed. Error: None values not supported."
     ]
    }
   ],
   "source": [
    "# MODEL\n",
    "\n",
    "with tf.device('/cpu:0'):\n",
    "    tower_grads = []\n",
    "    \n",
    "    x = tf.placeholder('int32', [num_gpus, batch_size, max_sent_size], name=\"x\")\n",
    "    y = tf.placeholder('int32', [num_gpus, batch_size], name=\"y\")\n",
    "    x_mask  = tf.placeholder('bool', [num_gpus, batch_size, max_sent_size], name='x_mask') \n",
    "    is_train = tf.placeholder('bool', [], name='is_train')\n",
    "    word_emb_mat = tf.placeholder('float', [None, word_emb_size], name='emb_mat')\n",
    "    input_keep_prob = tf.cond(is_train,lambda:keep_prob, lambda:tf.constant(1.0))\n",
    "\n",
    "    global_step = tf.Variable(0, trainable=False, name=\"global_step\")\n",
    "\n",
    "    learning_rate = tf.train.exponential_decay(init_lr, global_step, decay_steps, decay_rate, staircase=True)\n",
    "    \n",
    "    with tf.variable_scope(tf.get_variable_scope()):\n",
    "        for gpu_idx in range(num_gpus):\n",
    "            with tf.name_scope(\"model_{}\".format(gpu_idx)) as scope, tf.device('/gpu:%d' % i):\n",
    "\n",
    "                if gpu_idx > 0:\n",
    "                        tf.get_variable_scope().reuse_variables()\n",
    "\n",
    "                with tf.variable_scope(\"word_embedding\"):\n",
    "                    unk_word_emb_mat = tf.get_variable(\"word_emb_mat\", dtype='float', shape=[unk_vocab_size, word_emb_size], initializer=tf.contrib.layers.xavier_initializer(uniform=True, seed=0, dtype=tf.float32))\n",
    "                    final_word_emb_mat = tf.concat([word_emb_mat, unk_word_emb_mat], 0)\n",
    "\n",
    "                with tf.name_scope(\"word\"):\n",
    "                    Wx = tf.nn.embedding_lookup(final_word_emb_mat, x[gpu_idx])  \n",
    "\n",
    "                x_len = tf.reduce_sum(tf.cast(x_mask[gpu_idx], 'int32'), 1)\n",
    "\n",
    "                with tf.variable_scope(\"lstm1\"):\n",
    "                    cell_fw1 = tf.contrib.rnn.BasicLSTMCell(hidden_size,state_is_tuple=True)\n",
    "                    cell_bw1 = tf.contrib.rnn.BasicLSTMCell(hidden_size,state_is_tuple=True)\n",
    "\n",
    "                    d_cell_fw1 = tf.contrib.rnn.DropoutWrapper(cell_fw1, input_keep_prob=input_keep_prob)\n",
    "                    d_cell_bw1 = tf.contrib.rnn.DropoutWrapper(cell_bw1, input_keep_prob=input_keep_prob)\n",
    "\n",
    "                    (fw_h1, bw_h1), _ = tf.nn.bidirectional_dynamic_rnn(d_cell_fw1, d_cell_bw1, Wx, sequence_length=x_len, dtype='float', scope='lstm1')\n",
    "                    h1 = tf.concat([fw_h1, bw_h1], 2)\n",
    "\n",
    "                with tf.variable_scope(\"lstm2\"):\n",
    "                    cell_fw2 = tf.contrib.rnn.BasicLSTMCell(hidden_size,state_is_tuple=True)\n",
    "                    cell_bw2 = tf.contrib.rnn.BasicLSTMCell(hidden_size,state_is_tuple=True)\n",
    "\n",
    "                    d_cell_fw2 = tf.contrib.rnn.DropoutWrapper(cell_fw2, input_keep_prob=input_keep_prob)\n",
    "                    d_cell_bw2 = tf.contrib.rnn.DropoutWrapper(cell_bw2, input_keep_prob=input_keep_prob)\n",
    "\n",
    "                    (fw_h2, bw_h2), _ = tf.nn.bidirectional_dynamic_rnn(d_cell_fw2, d_cell_bw2, h1, sequence_length=x_len, dtype='float', scope='lstm2')\n",
    "                    h = tf.concat([fw_h2, bw_h2], 2)\n",
    "\n",
    "                def attention(input_x, input_mask, W_att):\n",
    "                    h_masked = tf.boolean_mask(input_x, input_mask)\n",
    "                    h_tanh = tf.tanh(h_masked)\n",
    "                    u = tf.matmul(h_tanh, W_att)\n",
    "                    a = tf.nn.softmax(u)\n",
    "                    c = tf.reduce_sum(tf.multiply(h_tanh, a), 0)  \n",
    "                    return c\n",
    "                \n",
    "                with tf.variable_scope(\"attention\"):\n",
    "                    W_att = tf.Variable(tf.truncated_normal([2*hidden_size, 1], mean=0.0, stddev=0.1, seed=0), name=\"W_att\")\n",
    "                    c = tf.expand_dims(attention(h[0], x_mask[gpu_idx[0], W_att), 0)\n",
    "                    for i in range(1, batch_size):\n",
    "                        c = tf.concat([c, tf.expand_dims(attention(h[i], x_mask[gpu_idx][i], W_att), 0)], 0)\n",
    "\n",
    "                with tf.variable_scope(\"softmax_layer\"):\n",
    "                    W = tf.Variable(tf.truncated_normal([2*hidden_size, num_senses], mean=0.0, stddev=0.1, seed=0), name=\"W\")\n",
    "                    b = tf.Variable(tf.zeros([num_senses]), name=\"b\")\n",
    "                    drop_c = tf.nn.dropout(c, input_keep_prob)\n",
    "                    logits = tf.matmul(drop_c, W) + b\n",
    "                    predictions = tf.argmax(logits, 1)\n",
    "#                 with tf.variable_scope(\"attention\"):\n",
    "#                     W_att = tf.get_variable(\"W_att\", shape=[2*hidden_size, 1], initializer=tf.truncated_normal_initializer(mean=0.0, stddev=0.1, seed=0))\n",
    "#                     c = tf.expand_dims(attention(h[0], x_mask[gpu_idx][0], W_att), 0)\n",
    "#                     for i in range(1, batch_size):\n",
    "#                         c = tf.concat([c, tf.expand_dims(attention(h[i], x_mask[gpu_idx][i], W_att), 0)], 0)\n",
    "\n",
    "#                 with tf.variable_scope(\"softmax_layer\"):\n",
    "#                     W = tf.get_variable(\"W\", shape=[2*hidden_size, num_senses], initializer=tf.truncated_normal_initializer(mean=0.0, stddev=0.1, seed=0))\n",
    "#                     b = tf.get_variable(\"b\", shape=[num_senses], initializer=tf.zeros_initializer())\n",
    "#                     drop_c = tf.nn.dropout(c, input_keep_prob)\n",
    "#                     logits = tf.matmul(drop_c, W) + b\n",
    "#                     predictions = tf.argmax(logits, 1)\n",
    "\n",
    "                loss = tf.reduce_mean(tf.nn.sparse_softmax_cross_entropy_with_logits(logits=logits, labels=y[gpu_idx]))\n",
    "\n",
    "\n",
    "    #             tv_all = tf.trainable_variables()\n",
    "    #             tv_regu =[]\n",
    "    #             for t in tv_all:\n",
    "    #                 if t.name.find('b:')==-1:\n",
    "    #                     tv_regu.append(t)\n",
    "    #                     print(gpu_idx, t)\n",
    "                # l2 Loss\n",
    "    #             l2_loss = l2_lambda * tf.reduce_sum([ tf.nn.l2_loss(v) for v in tv_regu ])\n",
    "\n",
    "                total_loss = loss \n",
    "\n",
    "                # Optimizer for loss\n",
    "                optimizer = tf.train.AdamOptimizer(learning_rate)\n",
    "\n",
    "                # Gradients and Variables for Loss\n",
    "                grads_vars = optimizer.compute_gradients(total_loss)\n",
    "\n",
    "                # Clipping of Gradients\n",
    "                clipped_grads = grads_vars\n",
    "    #             if(clipping == True):\n",
    "    #                 clipped_grads = [(tf.clip_by_norm(grad, clip_norm), var) for grad, var in clipped_grads]\n",
    "\n",
    "                # Training Optimizer for Total Loss\n",
    "    #             train_op = optimizer.apply_gradients(clipped_grads, global_step=global_step)\n",
    "\n",
    "\n",
    "                tower_grads.append(clipped_grads)\n",
    "\n",
    "    tower_grads = average_gradients(tower_grads)\n",
    "    train_op = optimizer.apply_gradients(tower_grads)\n",
    "\n",
    "            \n",
    "            \n",
    "#             # Summaries\n",
    "#             var_summaries = []\n",
    "#             for v in tv_all:\n",
    "#                 var_summary = tf.summary.histogram(\"{}/var\".format(v.name), v)\n",
    "#                 var_summaries.append(var_summary)\n",
    "\n",
    "#             var_summaries_merged = tf.summary.merge(var_summaries)\n",
    "\n",
    "#             loss_summary = tf.summary.scalar(\"loss\", loss)\n",
    "#             total_loss_summary = tf.summary.scalar(\"total_loss\", total_loss)\n",
    "#             summary = tf.summary.merge_all()"
   ]
  },
  {
   "cell_type": "code",
   "execution_count": null,
   "metadata": {},
   "outputs": [],
   "source": [
    "gpu_idx"
   ]
  },
  {
   "cell_type": "code",
   "execution_count": 15,
   "metadata": {
    "scrolled": true
   },
   "outputs": [
    {
     "data": {
      "text/plain": [
       "[(<tensorflow.python.framework.ops.IndexedSlices at 0x7fe09aa8dcc0>,\n",
       "  <tf.Variable 'word_embedding/word_emb_mat:0' shape=(1, 100) dtype=float32_ref>),\n",
       " (<tf.Tensor 'model_1/gradients/model_1/lstm1/lstm1/fw/fw/while/fw/basic_lstm_cell/basic_lstm_cell/MatMul/Enter_grad/b_acc_3:0' shape=(200, 400) dtype=float32>,\n",
       "  <tf.Variable 'lstm1/lstm1/fw/basic_lstm_cell/kernel:0' shape=(200, 400) dtype=float32_ref>),\n",
       " (<tf.Tensor 'model_1/gradients/model_1/lstm1/lstm1/fw/fw/while/fw/basic_lstm_cell/basic_lstm_cell/BiasAdd/Enter_grad/b_acc_3:0' shape=(400,) dtype=float32>,\n",
       "  <tf.Variable 'lstm1/lstm1/fw/basic_lstm_cell/bias:0' shape=(400,) dtype=float32_ref>),\n",
       " (<tf.Tensor 'model_1/gradients/model_1/lstm1/lstm1/bw/bw/while/bw/basic_lstm_cell/basic_lstm_cell/MatMul/Enter_grad/b_acc_3:0' shape=(200, 400) dtype=float32>,\n",
       "  <tf.Variable 'lstm1/lstm1/bw/basic_lstm_cell/kernel:0' shape=(200, 400) dtype=float32_ref>),\n",
       " (<tf.Tensor 'model_1/gradients/model_1/lstm1/lstm1/bw/bw/while/bw/basic_lstm_cell/basic_lstm_cell/BiasAdd/Enter_grad/b_acc_3:0' shape=(400,) dtype=float32>,\n",
       "  <tf.Variable 'lstm1/lstm1/bw/basic_lstm_cell/bias:0' shape=(400,) dtype=float32_ref>),\n",
       " (<tf.Tensor 'model_1/gradients/model_1/lstm2/lstm2/fw/fw/while/fw/basic_lstm_cell/basic_lstm_cell/MatMul/Enter_grad/b_acc_3:0' shape=(300, 400) dtype=float32>,\n",
       "  <tf.Variable 'lstm2/lstm2/fw/basic_lstm_cell/kernel:0' shape=(300, 400) dtype=float32_ref>),\n",
       " (<tf.Tensor 'model_1/gradients/model_1/lstm2/lstm2/fw/fw/while/fw/basic_lstm_cell/basic_lstm_cell/BiasAdd/Enter_grad/b_acc_3:0' shape=(400,) dtype=float32>,\n",
       "  <tf.Variable 'lstm2/lstm2/fw/basic_lstm_cell/bias:0' shape=(400,) dtype=float32_ref>),\n",
       " (<tf.Tensor 'model_1/gradients/model_1/lstm2/lstm2/bw/bw/while/bw/basic_lstm_cell/basic_lstm_cell/MatMul/Enter_grad/b_acc_3:0' shape=(300, 400) dtype=float32>,\n",
       "  <tf.Variable 'lstm2/lstm2/bw/basic_lstm_cell/kernel:0' shape=(300, 400) dtype=float32_ref>),\n",
       " (<tf.Tensor 'model_1/gradients/model_1/lstm2/lstm2/bw/bw/while/bw/basic_lstm_cell/basic_lstm_cell/BiasAdd/Enter_grad/b_acc_3:0' shape=(400,) dtype=float32>,\n",
       "  <tf.Variable 'lstm2/lstm2/bw/basic_lstm_cell/bias:0' shape=(400,) dtype=float32_ref>),\n",
       " (None,\n",
       "  <tf.Variable 'model_0/attention/W_att:0' shape=(200, 1) dtype=float32_ref>),\n",
       " (None,\n",
       "  <tf.Variable 'model_0/softmax_layer/W:0' shape=(200, 5) dtype=float32_ref>),\n",
       " (None,\n",
       "  <tf.Variable 'model_0/softmax_layer/b:0' shape=(5,) dtype=float32_ref>),\n",
       " (<tf.Tensor 'model_1/gradients/AddN_64:0' shape=(200, 1) dtype=float32>,\n",
       "  <tf.Variable 'model_1/attention/W_att:0' shape=(200, 1) dtype=float32_ref>),\n",
       " (<tf.Tensor 'model_1/gradients/model_1/softmax_layer/MatMul_grad/tuple/control_dependency_1:0' shape=(200, 5) dtype=float32>,\n",
       "  <tf.Variable 'model_1/softmax_layer/W:0' shape=(200, 5) dtype=float32_ref>),\n",
       " (<tf.Tensor 'model_1/gradients/model_1/softmax_layer/add_grad/tuple/control_dependency_1:0' shape=(5,) dtype=float32>,\n",
       "  <tf.Variable 'model_1/softmax_layer/b:0' shape=(5,) dtype=float32_ref>)]"
      ]
     },
     "execution_count": 15,
     "metadata": {},
     "output_type": "execute_result"
    }
   ],
   "source": [
    "tower_grads[1]"
   ]
  },
  {
   "cell_type": "code",
   "execution_count": 12,
   "metadata": {
    "collapsed": true
   },
   "outputs": [],
   "source": [
    "\n",
    "config = tf.ConfigProto()\n",
    "config.gpu_options.allow_growth = True\n",
    "sess = tf.Session(config=config)\n",
    "sess.run(tf.global_variables_initializer())                          # For initializing all the variables\n",
    "saver = tf.train.Saver()                                             # For Saving the model\n",
    "summary_writer = tf.summary.FileWriter(log_dir, sess.graph)          # For writing Summaries"
   ]
  },
  {
   "cell_type": "code",
   "execution_count": 18,
   "metadata": {
    "collapsed": true
   },
   "outputs": [],
   "source": [
    "graph = tf.Graph()"
   ]
  },
  {
   "cell_type": "code",
   "execution_count": null,
   "metadata": {
    "collapsed": true
   },
   "outputs": [],
   "source": [
    "with graph.as_default():\n",
    "    global_step = tf.get_variable(\n",
    "        'global_step', [],\n",
    "        initializer=tf.constant_initializer(0), trainable=False)"
   ]
  },
  {
   "cell_type": "code",
   "execution_count": 16,
   "metadata": {
    "collapsed": true
   },
   "outputs": [],
   "source": [
    "def data_prepare(x, y):\n",
    "    num_examples = len(x)\n",
    "\n",
    "    xx = np.zeros([num_examples, max_sent_size], dtype=int)\n",
    "    xx_mask = np.zeros([num_examples, max_sent_size], dtype=bool)\n",
    "    yy = np.zeros([num_examples], dtype=int)\n",
    "\n",
    "    for j in range(num_examples):\n",
    "        for i in range(max_sent_size):\n",
    "            if(i>=len(x[j])):\n",
    "                break\n",
    "            w = x[j][i]\n",
    "            xx[j][i] = word2id[w] if w in word2id else word2id['UNKNOWN_TOKEN']\n",
    "            xx_mask[j][i] = True\n",
    "        yy[j] = sense2id[y[j]]\n",
    "    return xx, xx_mask, yy\n",
    "\n",
    "def eval_score(yy, pred):\n",
    "    num_batches = int(len(yy)/batch_size)\n",
    "    f1 = f1_score(yy[:batch_size*num_batches], pred, average='macro')\n",
    "    accu = accuracy_score(yy[:batch_size*num_batches], pred)\n",
    "    return f1*100, accu*100\n",
    "\n",
    "def model(xx, yy, mask, train_cond=True):\n",
    "    num_batches = int(len(xx)/batch_size)\n",
    "    losses = 0\n",
    "    preds = []\n",
    "    for j in range(num_batches): \n",
    "        \n",
    "        s = j * batch_size\n",
    "        e = (j+1) * batch_size\n",
    "        \n",
    "        feed_dict = {x:xx[s:e], y:yy[s:e], x_mask:mask[s:e], is_train:train_cond, input_keep_prob:keep_prob, word_emb_mat:word_embedding}\n",
    "        \n",
    "        \n",
    "        if(train_cond==True):\n",
    "            _, _loss, step, _summary = sess.run([train_op, total_loss, global_step, summary], feed_dict)\n",
    "            summary_writer.add_summary(_summary, step)  \n",
    "#             print(\"Steps:{}\".format(step), \", Loss: {}\".format(_loss))\n",
    "\n",
    "        else:\n",
    "            _loss, pred = sess.run([total_loss, predictions], feed_dict)\n",
    "            preds.append(pred)\n",
    "            \n",
    "        losses +=_loss\n",
    "\n",
    "    if(train_cond==False):\n",
    "        y_pred = []\n",
    "        for i in range(num_batches):\n",
    "            for pred in preds[i]:\n",
    "                y_pred.append(pred)\n",
    "        return losses/num_batches, y_pred\n",
    "    \n",
    "    return losses/num_batches, step"
   ]
  },
  {
   "cell_type": "code",
   "execution_count": 17,
   "metadata": {
    "collapsed": true
   },
   "outputs": [],
   "source": [
    "x_id_train, mask_train, y_train = data_prepare(x_train, label_train)\n",
    "x_id_val, mask_val, y_val = data_prepare(x_val, label_val)"
   ]
  },
  {
   "cell_type": "code",
   "execution_count": 15,
   "metadata": {
    "scrolled": true
   },
   "outputs": [
    {
     "name": "stdout",
     "output_type": "stream",
     "text": [
      "Epoch: 1 Step: 45 loss: 7.25343734953\n",
      "Epoch: 2 Step: 90 loss: 1.4831570175\n",
      "Epoch: 3 Step: 135 loss: 1.0810598082\n",
      "Epoch: 4 Step: 180 loss: 0.944087953038\n",
      "Epoch: 5 Step: 225 loss: 0.863520430194\n",
      "Model Saved\n",
      "Train: F1 Score:  83.2738919103 Accuracy:  83.9236111111 Loss:  0.844421825144\n",
      "Val: F1 Score:  78.3070117359 Accuracy:  78.9772727273 Loss:  0.979586254467\n",
      "Epoch: 6 Step: 270 loss: 0.801635636224\n",
      "Epoch: 7 Step: 315 loss: 0.796668424871\n",
      "Epoch: 8 Step: 360 loss: 0.718497693539\n",
      "Epoch: 9 Step: 405 loss: 0.690002215571\n",
      "Epoch: 10 Step: 450 loss: 0.715332831277\n",
      "Model Saved\n",
      "Train: F1 Score:  88.9951902583 Accuracy:  89.8958333333 Loss:  0.618835814132\n",
      "Val: F1 Score:  84.3478170199 Accuracy:  86.0795454545 Loss:  0.726294073192\n",
      "Epoch: 11 Step: 495 loss: 0.652956566546\n",
      "Epoch: 12 Step: 540 loss: 0.611100173659\n",
      "Epoch: 13 Step: 585 loss: 0.607148494985\n",
      "Epoch: 14 Step: 630 loss: 0.589992363585\n",
      "Epoch: 15 Step: 675 loss: 0.604815690385\n",
      "Model Saved\n",
      "Train: F1 Score:  90.1125042132 Accuracy:  91.1111111111 Loss:  0.545743848218\n",
      "Val: F1 Score:  86.7836045646 Accuracy:  87.9261363636 Loss:  0.687934528698\n",
      "Epoch: 16 Step: 720 loss: 0.549721182055\n",
      "Epoch: 17 Step: 765 loss: 0.580008547174\n",
      "Epoch: 18 Step: 810 loss: 0.572317245934\n",
      "Epoch: 19 Step: 855 loss: 0.566027481688\n",
      "Epoch: 20 Step: 900 loss: 0.577675380972\n",
      "Model Saved\n",
      "Train: F1 Score:  89.7101841597 Accuracy:  90.6944444444 Loss:  0.54128957457\n",
      "Val: F1 Score:  83.9570512777 Accuracy:  85.6534090909 Loss:  0.710630078207\n",
      "Epoch: 21 Step: 945 loss: 0.552729704645\n",
      "Epoch: 22 Step: 990 loss: 0.526799884107\n",
      "Epoch: 23 Step: 1035 loss: 0.529304177231\n",
      "Epoch: 24 Step: 1080 loss: 0.576301099194\n",
      "Epoch: 25 Step: 1125 loss: 0.525831386778\n",
      "Model Saved\n",
      "Train: F1 Score:  93.5546993294 Accuracy:  93.8888888889 Loss:  0.462741139862\n",
      "Val: F1 Score:  87.9491600278 Accuracy:  88.9204545455 Loss:  0.665293883194\n",
      "Epoch: 26 Step: 1170 loss: 0.544642598099\n",
      "Epoch: 27 Step: 1215 loss: 0.523929735687\n",
      "Epoch: 28 Step: 1260 loss: 0.5083105531\n",
      "Epoch: 29 Step: 1305 loss: 0.521243731181\n",
      "Epoch: 30 Step: 1350 loss: 0.535122056802\n",
      "Model Saved\n",
      "Train: F1 Score:  91.438910511 Accuracy:  92.1527777778 Loss:  0.519809497727\n",
      "Val: F1 Score:  88.4767736307 Accuracy:  89.7727272727 Loss:  0.739860534668\n",
      "Epoch: 31 Step: 1395 loss: 0.511490639051\n",
      "Epoch: 32 Step: 1440 loss: 0.522352903419\n",
      "Epoch: 33 Step: 1485 loss: 0.54006354279\n",
      "Epoch: 34 Step: 1530 loss: 0.494209757778\n",
      "Epoch: 35 Step: 1575 loss: 0.495499122805\n",
      "Model Saved\n",
      "Train: F1 Score:  93.7805849115 Accuracy:  94.2013888889 Loss:  0.456733138031\n",
      "Val: F1 Score:  89.6417767265 Accuracy:  90.4829545455 Loss:  0.622021152215\n",
      "Epoch: 36 Step: 1620 loss: 0.511140139898\n",
      "Epoch: 37 Step: 1665 loss: 0.499381431606\n",
      "Epoch: 38 Step: 1710 loss: 0.504835480452\n",
      "Epoch: 39 Step: 1755 loss: 0.531064635515\n",
      "Epoch: 40 Step: 1800 loss: 0.485062037574\n",
      "Model Saved\n",
      "Train: F1 Score:  91.7157381187 Accuracy:  92.1875 Loss:  0.503504510058\n",
      "Val: F1 Score:  87.8433213587 Accuracy:  88.4943181818 Loss:  0.695486702702\n",
      "Epoch: 41 Step: 1845 loss: 0.482893865638\n",
      "Epoch: 42 Step: 1890 loss: 0.499921468894\n",
      "Epoch: 43 Step: 1935 loss: 0.505940352546\n",
      "Epoch: 44 Step: 1980 loss: 0.487358705865\n",
      "Epoch: 45 Step: 2025 loss: 0.484628779358\n",
      "Model Saved\n",
      "Train: F1 Score:  92.7533733814 Accuracy:  93.0902777778 Loss:  0.478732405106\n",
      "Val: F1 Score:  86.6036826302 Accuracy:  87.7840909091 Loss:  0.726872411641\n",
      "Epoch: 46 Step: 2070 loss: 0.518868636423\n",
      "Epoch: 47 Step: 2115 loss: 0.472559659349\n",
      "Epoch: 48 Step: 2160 loss: 0.488997715049\n",
      "Epoch: 49 Step: 2205 loss: 0.501811295748\n",
      "Epoch: 50 Step: 2250 loss: 0.479892618789\n",
      "Model Saved\n",
      "Train: F1 Score:  93.3758736758 Accuracy:  93.5069444444 Loss:  0.450466439459\n",
      "Val: F1 Score:  87.6866636816 Accuracy:  88.3522727273 Loss:  0.665118464015\n",
      "Epoch: 51 Step: 2295 loss: 0.471779064337\n",
      "Epoch: 52 Step: 2340 loss: 0.506054033173\n",
      "Epoch: 53 Step: 2385 loss: 0.483026678032\n",
      "Epoch: 54 Step: 2430 loss: 0.472686116563\n",
      "Epoch: 55 Step: 2475 loss: 0.507008479039\n",
      "Model Saved\n",
      "Train: F1 Score:  92.9011811174 Accuracy:  93.2986111111 Loss:  0.485145593352\n",
      "Val: F1 Score:  88.5858567747 Accuracy:  89.4886363636 Loss:  0.673446083611\n",
      "Epoch: 56 Step: 2520 loss: 0.496675719155\n",
      "Epoch: 57 Step: 2565 loss: 0.483585340447\n",
      "Epoch: 58 Step: 2610 loss: 0.481621380647\n",
      "Epoch: 59 Step: 2655 loss: 0.47103188369\n",
      "Epoch: 60 Step: 2700 loss: 0.475741465224\n",
      "Model Saved\n",
      "Train: F1 Score:  91.9720536956 Accuracy:  92.4305555556 Loss:  0.529102636708\n",
      "Val: F1 Score:  88.3490468662 Accuracy:  88.9204545455 Loss:  0.692296318033\n"
     ]
    }
   ],
   "source": [
    "num_epochs = 60\n",
    "log_period = 5\n",
    "\n",
    "for i in range(num_epochs):\n",
    "    random = np.random.choice(len(y_train), size=(len(y_train)), replace=False)\n",
    "    x_id_train = x_id_train[random]\n",
    "    y_train = y_train[random]\n",
    "    mask_train = mask_train[random]    \n",
    "    \n",
    "    losses, step = model(x_id_train, y_train, mask_train)\n",
    "    print(\"Epoch:\", i+1,\"Step:\", step, \"loss:\",losses)\n",
    "    \n",
    "    if((i+1)%log_period==0):\n",
    "        saver.save(sess, save_path=save_dir)                         \n",
    "        print(\"Model Saved\")\n",
    "        train_loss, train_pred = model(x_id_train, y_train, mask_train, train_cond=False)\n",
    "        f1_, accu_ = eval_score(y_train, train_pred)\n",
    "        print(\"Train: F1 Score: \",  f1_, \"Accuracy: \", accu_, \"Loss: \", train_loss)\n",
    "        val_loss, val_pred = model(x_id_val, y_val, mask_val, train_cond=False)\n",
    "        f1_, accu_ = eval_score(y_val, val_pred)\n",
    "        print(\"Val: F1 Score: \",  f1_, \"Accuracy: \", accu_, \"Loss: \", val_loss)\n",
    "        \n",
    "# test_loss, test_pred, test_pred_pos, test_true_pos = model(x_id_test, y_test, mask_test, pos_id_test, train_cond=False)        \n",
    "# f1_, accu_, f1_pos_, accu_pos_ = etest_score(y_test, test_pred, test_pred_pos, test_true_pos)\n",
    "# print(\"test: F1 Score: \",  f1_, \"Accuracy: \", accu_, \"POS F1 Score: \",  f1_pos_, \"POS Accuracy: \", accu_pos_, \"Loss: \", test_loss)"
   ]
  },
  {
   "cell_type": "code",
   "execution_count": null,
   "metadata": {
    "collapsed": true
   },
   "outputs": [],
   "source": []
  },
  {
   "cell_type": "code",
   "execution_count": null,
   "metadata": {
    "collapsed": true
   },
   "outputs": [],
   "source": [
    "saver.restore(sess, save_dir)"
   ]
  }
 ],
 "metadata": {
  "kernelspec": {
   "display_name": "cs771",
   "language": "python",
   "name": "cs771"
  },
  "language_info": {
   "codemirror_mode": {
    "name": "ipython",
    "version": 3
   },
   "file_extension": ".py",
   "mimetype": "text/x-python",
   "name": "python",
   "nbconvert_exporter": "python",
   "pygments_lexer": "ipython3",
   "version": "3.5.2"
  }
 },
 "nbformat": 4,
 "nbformat_minor": 2
}
