{
 "cells": [
  {
   "cell_type": "code",
   "execution_count": 1,
   "metadata": {
    "collapsed": true
   },
   "outputs": [],
   "source": [
    "import tensorflow as tf\n",
    "tf.logging.set_verbosity(tf.logging.WARN)\n",
    "import pickle\n",
    "import numpy as np\n",
    "import os\n",
    "from sklearn.model_selection import train_test_split\n",
    "from sklearn.metrics import f1_score\n",
    "from sklearn.metrics import accuracy_score\n",
    "import os\n",
    "from tensorflow.python.client import device_lib\n",
    "from collections import Counter"
   ]
  },
  {
   "cell_type": "code",
   "execution_count": 2,
   "metadata": {
    "collapsed": true
   },
   "outputs": [],
   "source": [
    "f = open('../Glove/word_embedding_glove', 'rb')\n",
    "word_embedding = pickle.load(f)\n",
    "f.close()\n",
    "word_embedding = word_embedding[: len(word_embedding)-1]\n",
    "\n",
    "f = open('../Glove/vocab_glove', 'rb')\n",
    "vocab = pickle.load(f)\n",
    "f.close()\n",
    "\n",
    "word2id = dict((w, i) for i,w in enumerate(vocab))\n",
    "id2word = dict((i, w) for i,w in enumerate(vocab))\n",
    "\n",
    "unknown_token = \"UNKNOWN_TOKEN\""
   ]
  },
  {
   "cell_type": "code",
   "execution_count": 3,
   "metadata": {
    "collapsed": true
   },
   "outputs": [],
   "source": [
    "f = open(\"../../dataset/sense/dict_sense-keys\", 'rb')\n",
    "dict_sense_keys = pickle.load(f)\n",
    "f.close()\n",
    "\n",
    "f = open(\"../../dataset/sense/dict_word-sense\", 'rb')\n",
    "dict_word_sense = pickle.load(f)\n",
    "f.close()"
   ]
  },
  {
   "cell_type": "code",
   "execution_count": 4,
   "metadata": {
    "collapsed": true
   },
   "outputs": [],
   "source": [
    "# Model Description\n",
    "sense_word = 'make'\n",
    "model_name = 'model-2'\n",
    "sense_word_dir = 'output/' + sense_word\n",
    "model_dir = sense_word_dir + '/' + model_name\n",
    "save_dir = os.path.join(model_dir, \"save/\")\n",
    "log_dir = os.path.join(model_dir, \"log\")\n",
    "\n",
    "if not os.path.exists(sense_word_dir):\n",
    "    os.mkdir(sense_word_dir)\n",
    "if not os.path.exists(model_dir):\n",
    "    os.mkdir(model_dir)\n",
    "if not os.path.exists(save_dir):\n",
    "    os.mkdir(save_dir)\n",
    "if not os.path.exists(log_dir):\n",
    "    os.mkdir(log_dir)"
   ]
  },
  {
   "cell_type": "code",
   "execution_count": 5,
   "metadata": {
    "scrolled": false
   },
   "outputs": [
    {
     "data": {
      "text/plain": [
       "[('36', 2006),\n",
       " ('30', 1025),\n",
       " ('42', 968),\n",
       " ('41', 962),\n",
       " ('31', 617),\n",
       " ('32', 543),\n",
       " ('38', 445),\n",
       " ('40', 20),\n",
       " ('29', 6),\n",
       " ('09', 1)]"
      ]
     },
     "execution_count": 5,
     "metadata": {},
     "output_type": "execute_result"
    }
   ],
   "source": [
    "f = open(\"../../dataset/checkwords/\"+ sense_word + \"_data\", 'rb')\n",
    "data = pickle.load(f)\n",
    "f.close()\n",
    "\n",
    "pos_tags = []\n",
    "for i in range(len(data)):\n",
    "    for p in data[i][2]:\n",
    "        pos_tags.append(p)\n",
    "        \n",
    "pos_count = Counter(pos_tags)\n",
    "pos_count = pos_count.most_common()\n",
    "vocab_pos = [k for k,v in pos_count]\n",
    "\n",
    "data_y = []\n",
    "for i in range(len(data)):\n",
    "    data_y.append(dict_sense_keys[data[i][0]][2])\n",
    "\n",
    "sense_count = Counter(data_y)\n",
    "sense_count = sense_count.most_common()\n",
    "vocab_sense = [k for k,v in sense_count[:7]]\n",
    "sense_count"
   ]
  },
  {
   "cell_type": "code",
   "execution_count": 6,
   "metadata": {},
   "outputs": [
    {
     "data": {
      "text/plain": [
       "['36', '30', '42', '41', '31', '32', '38']"
      ]
     },
     "execution_count": 6,
     "metadata": {},
     "output_type": "execute_result"
    }
   ],
   "source": [
    "vocab_sense"
   ]
  },
  {
   "cell_type": "code",
   "execution_count": 7,
   "metadata": {},
   "outputs": [
    {
     "name": "stdout",
     "output_type": "stream",
     "text": [
      "6566 6593\n"
     ]
    },
    {
     "data": {
      "text/plain": [
       "12"
      ]
     },
     "execution_count": 7,
     "metadata": {},
     "output_type": "execute_result"
    }
   ],
   "source": [
    "data_x = []\n",
    "data_label = []\n",
    "data_pos = []\n",
    "for i in range(len(data)):\n",
    "    if dict_sense_keys[data[i][0]][2] in vocab_sense:\n",
    "        data_x.append(data[i][1])\n",
    "        data_pos.append(data[i][2])\n",
    "        data_label.append(dict_sense_keys[data[i][0]][2])\n",
    "\n",
    "print(len(data_label), len(data_y))\n",
    "\n",
    "pos2id = dict((s, i) for i,s in enumerate(vocab_pos))\n",
    "id2pos = dict((i, s) for i,s in enumerate(vocab_pos))\n",
    "\n",
    "# vocab_sense = dict_word_sense[sense_word]\n",
    "\n",
    "sense2id = dict((s, i) for i,s in enumerate(vocab_sense))\n",
    "id2sense = dict((i, s) for i,s in enumerate(vocab))\n",
    "len(vocab_pos)"
   ]
  },
  {
   "cell_type": "code",
   "execution_count": 8,
   "metadata": {
    "collapsed": true
   },
   "outputs": [],
   "source": [
    "# Parameters\n",
    "mode = 'train'\n",
    "num_senses = len(vocab_sense)\n",
    "num_pos = len(vocab_pos)\n",
    "batch_size = 64\n",
    "vocab_size = len(vocab)\n",
    "unk_vocab_size = 1\n",
    "word_emb_size = len(word_embedding[0])\n",
    "max_sent_size = 200\n",
    "hidden_size = 100\n",
    "keep_prob = 0.5\n",
    "l2_lambda = 0.001\n",
    "init_lr = 0.005\n",
    "decay_steps = 500\n",
    "decay_rate = 0.96\n",
    "clip_norm = 1\n",
    "clipping = True\n",
    "pos_lambda = 5"
   ]
  },
  {
   "cell_type": "code",
   "execution_count": 9,
   "metadata": {
    "collapsed": true,
    "scrolled": true
   },
   "outputs": [],
   "source": [
    "# MODEL\n",
    "x = tf.placeholder('int32', [batch_size, max_sent_size], name=\"x\")\n",
    "y = tf.placeholder('int32', [batch_size], name=\"y\")\n",
    "y_pos = tf.placeholder('int32', [batch_size, None], name=\"y_pos\")\n",
    "x_mask  = tf.placeholder('bool', [batch_size, max_sent_size], name='x_mask') \n",
    "is_train = tf.placeholder('bool', [], name='is_train')\n",
    "word_emb_mat = tf.placeholder('float', [None, word_emb_size], name='emb_mat')\n",
    "input_keep_prob = tf.cond(is_train,lambda:keep_prob, lambda:tf.constant(1.0))\n",
    "x_len = tf.reduce_sum(tf.cast(x_mask, 'int32'), 1)\n",
    "\n",
    "with tf.name_scope(\"word_embedding\"):\n",
    "    if mode == 'train':\n",
    "        unk_word_emb_mat = tf.get_variable(\"word_emb_mat\", dtype='float', shape=[unk_vocab_size, word_emb_size], initializer=tf.contrib.layers.xavier_initializer(uniform=True, seed=0, dtype=tf.float32))\n",
    "    else:\n",
    "        unk_word_emb_mat = tf.get_variable(\"word_emb_mat\", shape=[unk_vocab_size, word_emb_size], dtype='float')\n",
    "        \n",
    "    final_word_emb_mat = tf.concat([word_emb_mat, unk_word_emb_mat], 0)\n",
    "    Wx = tf.nn.embedding_lookup(final_word_emb_mat, x)  \n",
    "\n",
    "with tf.variable_scope(\"lstm1\"):\n",
    "    cell_fw1 = tf.contrib.rnn.BasicLSTMCell(hidden_size,state_is_tuple=True)\n",
    "    cell_bw1 = tf.contrib.rnn.BasicLSTMCell(hidden_size,state_is_tuple=True)\n",
    "\n",
    "    d_cell_fw1 = tf.contrib.rnn.DropoutWrapper(cell_fw1, input_keep_prob=input_keep_prob)\n",
    "    d_cell_bw1 = tf.contrib.rnn.DropoutWrapper(cell_bw1, input_keep_prob=input_keep_prob)\n",
    "    \n",
    "    (fw_h1, bw_h1), _ = tf.nn.bidirectional_dynamic_rnn(d_cell_fw1, d_cell_bw1, Wx, sequence_length=x_len, dtype='float', scope='lstm1')\n",
    "    h1 = tf.concat([fw_h1, bw_h1], 2)\n",
    "    \n",
    "with tf.variable_scope(\"lstm2\"):\n",
    "    cell_fw2 = tf.contrib.rnn.BasicLSTMCell(hidden_size,state_is_tuple=True)\n",
    "    cell_bw2 = tf.contrib.rnn.BasicLSTMCell(hidden_size,state_is_tuple=True)\n",
    "\n",
    "    d_cell_fw2 = tf.contrib.rnn.DropoutWrapper(cell_fw2, input_keep_prob=input_keep_prob)\n",
    "    d_cell_bw2 = tf.contrib.rnn.DropoutWrapper(cell_bw2, input_keep_prob=input_keep_prob)\n",
    "    \n",
    "    (fw_h2, bw_h2), _ = tf.nn.bidirectional_dynamic_rnn(d_cell_fw2, d_cell_bw2, h1, sequence_length=x_len, dtype='float', scope='lstm2')\n",
    "    h = tf.concat([fw_h2, bw_h2], 2)\n",
    "\n",
    "def attention(input_x, input_mask, W_att):\n",
    "    h_masked = tf.boolean_mask(input_x, input_mask)\n",
    "    h_tanh = tf.tanh(h_masked)\n",
    "    u = tf.matmul(h_tanh, W_att)\n",
    "    a = tf.nn.softmax(u)\n",
    "    c = tf.reduce_sum(tf.multiply(h_tanh, a), 0)  \n",
    "    return c\n",
    "\n",
    "with tf.variable_scope(\"attention\"):\n",
    "    W_att = tf.Variable(tf.truncated_normal([2*hidden_size, 1], mean=0.0, stddev=0.1, seed=0), name=\"W_att\")\n",
    "    c = tf.expand_dims(attention(h[0], x_mask[0], W_att), 0)\n",
    "    for i in range(1, batch_size):\n",
    "        c = tf.concat([c, tf.expand_dims(attention(h[i], x_mask[i], W_att), 0)], 0)\n",
    "        \n",
    "with tf.variable_scope(\"softmax_layer\"):\n",
    "    W = tf.Variable(tf.truncated_normal([2*hidden_size, num_senses], mean=0.0, stddev=0.1, seed=0), name=\"W\")\n",
    "    b = tf.Variable(tf.zeros([num_senses]), name=\"b\")\n",
    "    drop_c = tf.nn.dropout(c, input_keep_prob)\n",
    "    logits = tf.matmul(drop_c, W) + b\n",
    "    predictions = tf.argmax(logits, 1)\n",
    "    \n",
    "flat_h1 = tf.reshape(h1, [-1, 2*hidden_size])\n",
    "\n",
    "with tf.variable_scope(\"softmax_layer_pos\"):\n",
    "    W = tf.Variable(tf.truncated_normal([2*hidden_size, num_pos], mean=0.0, stddev=0.1, seed=0), name=\"W\")\n",
    "    b = tf.Variable(tf.zeros([num_pos]), name=\"b\")\n",
    "    drop_flat_h1 = tf.nn.dropout(flat_h1, input_keep_prob)\n",
    "    flat_logits_pos = tf.matmul(drop_flat_h1, W) + b\n",
    "    logits_pos = tf.reshape(flat_logits_pos, [batch_size, max_sent_size, num_pos])\n",
    "    predictions_pos = tf.arg_max(logits_pos, 2)\n",
    "    \n",
    "\n",
    "float_x_mask = tf.cast(x_mask, 'float')\n",
    "\n",
    "loss = tf.reduce_mean(tf.nn.sparse_softmax_cross_entropy_with_logits(logits=logits, labels=y))\n",
    "# loss_pos = tf.reduce_mean(tf.nn.sparse_softmax_cross_entropy_with_logits(logits=logits_pos, labels=y_pos), name=\"loss_pos\")\n",
    "loss_pos = pos_lambda*tf.contrib.seq2seq.sequence_loss(logits_pos, y_pos, float_x_mask, name=\"loss_pos\")\n",
    "\n",
    "\n",
    "global_step = tf.Variable(0, trainable=False, name=\"global_step\")\n",
    "\n",
    "learning_rate = tf.train.exponential_decay(init_lr, global_step, decay_steps, decay_rate, staircase=True)\n",
    "\n",
    "tv_all = tf.trainable_variables()\n",
    "tv_regu =[]\n",
    "for t in tv_all:\n",
    "    if t.name.find('b:')==-1:\n",
    "        tv_regu.append(t)\n",
    "        \n",
    "# l2 Loss\n",
    "l2_loss = l2_lambda * tf.reduce_sum([ tf.nn.l2_loss(v) for v in tv_regu ])\n",
    "\n",
    "total_loss = loss + l2_loss + loss_pos\n",
    "\n",
    "# Optimizer for loss\n",
    "optimizer = tf.train.AdamOptimizer(learning_rate)\n",
    "optimizer_pos = tf.train.AdamOptimizer(learning_rate).minimize(loss_pos, global_step)\n",
    "\n",
    "# Gradients and Variables for Loss\n",
    "grads_vars = optimizer.compute_gradients(total_loss)\n",
    "\n",
    "# Clipping of Gradients\n",
    "clipped_grads = grads_vars\n",
    "if(clipping == True):\n",
    "    clipped_grads = [(tf.clip_by_norm(grad, clip_norm), var) for grad, var in clipped_grads]\n",
    "\n",
    "# Training Optimizer for Total Loss\n",
    "train_op = optimizer.apply_gradients(clipped_grads, global_step=global_step)\n",
    "\n",
    "# Summaries\n",
    "var_summaries = []\n",
    "for v in tv_all:\n",
    "    var_summary = tf.summary.histogram(\"{}/var\".format(v.name), v)\n",
    "    var_summaries.append(var_summary)\n",
    "\n",
    "var_summaries_merged = tf.summary.merge(var_summaries)\n",
    "\n",
    "loss_summary = tf.summary.scalar(\"loss\", loss)\n",
    "loss_pos_summary = tf.summary.scalar(\"loss_pos\", loss_pos)\n",
    "total_loss_summary = tf.summary.scalar(\"total_loss\", total_loss)\n",
    "summary = tf.summary.merge_all()"
   ]
  },
  {
   "cell_type": "code",
   "execution_count": 10,
   "metadata": {
    "collapsed": true
   },
   "outputs": [],
   "source": [
    "os.environ[\"CUDA_DEVICE_ORDER\"]=\"PCI_BUS_ID\"   # see issue #152\n",
    "os.environ[\"CUDA_VISIBLE_DEVICES\"]=\"0\"\n",
    "config = tf.ConfigProto()\n",
    "config.gpu_options.allow_growth = True\n",
    "sess = tf.Session(config=config)\n",
    "sess.run(tf.global_variables_initializer())                          # For initializing all the variables\n",
    "saver = tf.train.Saver()                                             # For Saving the model\n",
    "summary_writer = tf.summary.FileWriter(log_dir, sess.graph)          # For writing Summaries"
   ]
  },
  {
   "cell_type": "code",
   "execution_count": 11,
   "metadata": {
    "collapsed": true
   },
   "outputs": [],
   "source": [
    "index = []\n",
    "for i in range(len(data_x)):\n",
    "    index.append(i)"
   ]
  },
  {
   "cell_type": "code",
   "execution_count": 12,
   "metadata": {
    "scrolled": true
   },
   "outputs": [
    {
     "name": "stderr",
     "output_type": "stream",
     "text": [
      "/users/btech/aviraj/cs771/lib/python3.5/site-packages/sklearn/model_selection/_split.py:2026: FutureWarning: From version 0.21, test_size will always complement train_size unless both are specified.\n",
      "  FutureWarning)\n"
     ]
    }
   ],
   "source": [
    "index_train, index_val, label_train, label_val = train_test_split(index, data_label, train_size=0.8, shuffle=True, stratify=data_label, random_state=0)\n",
    "\n",
    "data_x = np.array(data_x)\n",
    "data_pos = np.array(data_pos)\n",
    "\n",
    "x_train = data_x[index_train]\n",
    "pos_train = data_pos[index_train]\n",
    "x_val = data_x[index_val]\n",
    "pos_val = data_pos[index_val]"
   ]
  },
  {
   "cell_type": "code",
   "execution_count": 13,
   "metadata": {
    "collapsed": true
   },
   "outputs": [],
   "source": [
    "def data_prepare(x, y, p):\n",
    "    num_examples = len(x)\n",
    "\n",
    "    xx = np.zeros([num_examples, max_sent_size], dtype=int)\n",
    "    xx_mask = np.zeros([num_examples, max_sent_size], dtype=bool)\n",
    "    yy = np.zeros([num_examples], dtype=int)\n",
    "    pp = np.zeros([num_examples, max_sent_size], dtype=int)\n",
    "\n",
    "    for j in range(num_examples):\n",
    "        for i in range(max_sent_size):\n",
    "            if(i>=len(x[j])):\n",
    "                break\n",
    "            w = x[j][i]\n",
    "            xx[j][i] = word2id[w] if w in word2id else word2id['UNKNOWN_TOKEN']\n",
    "            xx_mask[j][i] = True\n",
    "            pp[j][i] = pos2id[p[j][i]]\n",
    "        yy[j] = sense2id[y[j]]\n",
    "        \n",
    "    return xx, xx_mask, yy, pp\n",
    "\n",
    "def model(xx, yy, mask, pp, train_cond=True, pretrain=False):\n",
    "    num_batches = int(len(xx)/batch_size)\n",
    "    losses = 0\n",
    "    preds = []\n",
    "    preds_pos = []\n",
    "    true_pos = []\n",
    "    for j in range(num_batches): \n",
    "        \n",
    "        s = j * batch_size\n",
    "        e = (j+1) * batch_size\n",
    "        \n",
    "        feed_dict = {x:xx[s:e], y:yy[s:e], y_pos:pp[s:e], x_mask:mask[s:e], is_train:train_cond, input_keep_prob:keep_prob, word_emb_mat:word_embedding}\n",
    "        \n",
    "        \n",
    "        if(train_cond==True):\n",
    "            if(pretrain==False):\n",
    "                _, _loss, step, _summary = sess.run([train_op, total_loss, global_step, summary], feed_dict)\n",
    "            else:\n",
    "                 _, _loss, step, _summary = sess.run([optimizer_pos, loss_pos, global_step, summary], feed_dict)\n",
    "            \n",
    "            summary_writer.add_summary(_summary, step)  \n",
    "#             print(\"Steps:{}\".format(step), \", Loss: {}\".format(_loss))\n",
    "\n",
    "        else:\n",
    "            _loss, pred, pred_pos = sess.run([total_loss, predictions, predictions_pos], feed_dict)\n",
    "            preds.append(pred)\n",
    "            for k in range(batch_size):\n",
    "                preds_pos.append(pred_pos[k][:sum(mask[s+k])])\n",
    "                true_pos.append(pp[s+k][:sum(mask[s+k])])\n",
    "\n",
    "        losses +=_loss\n",
    "\n",
    "    if(train_cond==False):\n",
    "        y_pred = []\n",
    "        pos_true = []\n",
    "        pos_pred = []\n",
    "        for i in range(num_batches):\n",
    "            for pred in preds[i]:\n",
    "                y_pred.append(pred)\n",
    "                \n",
    "        for i in range(len(preds_pos)):\n",
    "            for j in range(len(preds_pos[i])):\n",
    "                pos_pred.append(preds_pos[i][j])\n",
    "                pos_true.append(true_pos[i][j])\n",
    "\n",
    "        return losses/num_batches, y_pred, pos_pred, pos_true\n",
    "    \n",
    "    return losses/num_batches, step\n",
    "\n",
    "def eval_score(yy, pred, pos_true, pos_pred):\n",
    "    num_batches = int(len(yy)/batch_size)\n",
    "    f1 = f1_score(yy[:batch_size*num_batches], pred, average='macro')\n",
    "    f1_pos = f1_score(pos_true, pos_pred, average='macro')\n",
    "    accu = accuracy_score(yy[:batch_size*num_batches], pred)\n",
    "    accu_pos = accuracy_score(pos_true, pos_pred)\n",
    "    return f1*100, accu*100, f1_pos*100, accu_pos*100"
   ]
  },
  {
   "cell_type": "code",
   "execution_count": 14,
   "metadata": {
    "collapsed": true
   },
   "outputs": [],
   "source": [
    "x_id_train, mask_train, y_train, pos_id_train = data_prepare(x_train, label_train, pos_train)\n",
    "x_id_val, mask_val, y_val, pos_id_val = data_prepare(x_val, label_val,pos_val)"
   ]
  },
  {
   "cell_type": "code",
   "execution_count": null,
   "metadata": {
    "scrolled": true
   },
   "outputs": [
    {
     "name": "stdout",
     "output_type": "stream",
     "text": [
      "Epoch: 1 Step: 82 loss: 4.20103755521\n",
      "Epoch: 2 Step: 164 loss: 2.06892757009\n",
      "Epoch: 3 Step: 246 loss: 1.69105557407\n",
      "Epoch: 4 Step: 328 loss: 1.49732642057\n",
      "Epoch: 5 Step: 410 loss: 1.36615284769\n",
      "Model Saved\n",
      "Train: F1 :  11.3456350045 Accu:  13.1669207317 POS F1 :  86.5622979122 POS Accu:  91.0413015751 Loss:  12.3653393955\n",
      "Val: F1 :  11.0045317975 Accu:  12.734375 POS F1 :  84.5592111771 POS Accu:  90.8151549943 Loss:  12.1016426563\n",
      "Epoch: 6 Step: 492 loss: 7.60699284367\n",
      "Epoch: 7 Step: 574 loss: 4.34266976612\n",
      "Epoch: 8 Step: 656 loss: 4.02297259831\n",
      "Epoch: 9 Step: 738 loss: 3.91549083372\n",
      "Epoch: 10 Step: 820 loss: 3.83692075567\n",
      "Model Saved\n",
      "Train: F1 :  31.9635620113 Accu:  40.7774390244 POS F1 :  84.8485828261 POS Accu:  90.2883777842 Loss:  3.81428017849\n",
      "Val: F1 :  32.8449555448 Accu:  42.1875 POS F1 :  83.616478623 POS Accu:  89.9606994613 Loss:  3.882594347\n",
      "Epoch: 11 Step: 902 loss: 3.77755887334\n",
      "Epoch: 12 Step: 984 loss: 3.73471727313\n",
      "Epoch: 13 Step: 1066 loss: 3.7075655693\n",
      "Epoch: 14 Step: 1148 loss: 3.68578216797\n",
      "Epoch: 15 Step: 1230 loss: 3.65216570656\n",
      "Model Saved\n",
      "Train: F1 :  43.0609353874 Accu:  47.5228658537 POS F1 :  85.4530562224 POS Accu:  90.6690305123 Loss:  3.60527278737\n",
      "Val: F1 :  42.5515612593 Accu:  46.09375 POS F1 :  84.3151112673 POS Accu:  90.3470811622 Loss:  3.72168724537\n",
      "Epoch: 16 Step: 1312 loss: 3.65387230966\n",
      "Epoch: 17 Step: 1394 loss: 3.63233447656\n",
      "Epoch: 18 Step: 1476 loss: 3.62011097408\n",
      "Epoch: 19 Step: 1558 loss: 3.60061792048\n",
      "Epoch: 20 Step: 1640 loss: 3.61924155456\n",
      "Model Saved\n",
      "Train: F1 :  41.9464010441 Accu:  48.7423780488 POS F1 :  85.7086496312 POS Accu:  90.8415584954 Loss:  3.53991273554\n",
      "Val: F1 :  37.5658913803 Accu:  45.078125 POS F1 :  84.0489599385 POS Accu:  90.5457917513 Loss:  3.67295349836\n",
      "Epoch: 21 Step: 1722 loss: 3.59585033975\n",
      "Epoch: 22 Step: 1804 loss: 3.56858544815\n",
      "Epoch: 23 Step: 1886 loss: 3.56688192123\n",
      "Epoch: 24 Step: 1968 loss: 3.55069648056\n",
      "Epoch: 25 Step: 2050 loss: 3.57374749823\n",
      "Model Saved\n",
      "Train: F1 :  41.9624036892 Accu:  48.7233231707 POS F1 :  85.5580684218 POS Accu:  90.9575819152 Loss:  3.53661975046\n",
      "Val: F1 :  40.8601585319 Accu:  47.65625 POS F1 :  83.7732382231 POS Accu:  90.6473549413 Loss:  3.69658746719\n",
      "Epoch: 26 Step: 2132 loss: 3.56705779855\n",
      "Epoch: 27 Step: 2214 loss: 3.55041531819\n",
      "Epoch: 28 Step: 2296 loss: 3.53322118666\n",
      "Epoch: 29 Step: 2378 loss: 3.5432774032\n",
      "Epoch: 30 Step: 2460 loss: 3.52337720336\n",
      "Model Saved\n",
      "Train: F1 :  42.8230590001 Accu:  48.6089939024 POS F1 :  85.7039487416 POS Accu:  90.9599099776 Loss:  3.52550499904\n",
      "Val: F1 :  36.7927111464 Accu:  44.140625 POS F1 :  84.8170908117 POS Accu:  90.8151549943 Loss:  3.61880782843\n",
      "Epoch: 31 Step: 2542 loss: 3.51917997221\n",
      "Epoch: 32 Step: 2624 loss: 3.50996048276\n",
      "Epoch: 33 Step: 2706 loss: 3.52267552585\n",
      "Epoch: 34 Step: 2788 loss: 3.51112185455\n",
      "Epoch: 35 Step: 2870 loss: 3.51539997357\n",
      "Model Saved\n",
      "Train: F1 :  38.0983324902 Accu:  47.7134146341 POS F1 :  85.3267694123 POS Accu:  91.097438343 Loss:  3.51148006102\n",
      "Val: F1 :  38.4669212438 Accu:  48.359375 POS F1 :  84.801670865 POS Accu:  90.9189260797 Loss:  3.59576570988\n",
      "Epoch: 36 Step: 2952 loss: 3.50481976242\n",
      "Epoch: 37 Step: 3034 loss: 3.4923988697\n",
      "Epoch: 38 Step: 3116 loss: 3.47176898689\n",
      "Epoch: 39 Step: 3198 loss: 3.46150223802\n",
      "Epoch: 40 Step: 3280 loss: 3.4530697305\n",
      "Model Saved\n",
      "Train: F1 :  46.4500460006 Accu:  49.8285060976 POS F1 :  85.5880160605 POS Accu:  91.2125909145 Loss:  3.48583175496\n",
      "Val: F1 :  42.0967177281 Accu:  45.46875 POS F1 :  83.4673860332 POS Accu:  90.9719155701 Loss:  3.59586788416\n"
     ]
    }
   ],
   "source": [
    "num_epochs = 60\n",
    "pre_train_period = 5\n",
    "log_period = 5\n",
    "\n",
    "for i in range(num_epochs):\n",
    "    random = np.random.choice(len(y_train), size=(len(y_train)), replace=False)\n",
    "    x_id_train = x_id_train[random]\n",
    "    y_train = y_train[random]\n",
    "    mask_train = mask_train[random]    \n",
    "    pos_id_train = pos_id_train[random]\n",
    "    \n",
    "    if(i<pre_train_period):\n",
    "        losses, step = model(x_id_train, y_train, mask_train, pos_id_train, pretrain=True)\n",
    "    else:\n",
    "        losses, step = model(x_id_train, y_train, mask_train, pos_id_train)\n",
    "    print(\"Epoch:\", i+1,\"Step:\", step, \"loss:\",losses)\n",
    "    \n",
    "    if((i+1)%log_period==0):\n",
    "        saver.save(sess, save_path=save_dir)                         \n",
    "        print(\"Model Saved\")\n",
    "        train_loss, train_pred, train_pred_pos, train_true_pos = model(x_id_train, y_train, mask_train, pos_id_train, train_cond=False)        \n",
    "        f1_, accu_, f1_pos_, accu_pos_ = eval_score(y_train, train_pred, train_pred_pos, train_true_pos)\n",
    "        print(\"Train: F1 : \",  f1_, \"Accu: \", accu_, \"POS F1 : \",  f1_pos_, \"POS Accu: \", accu_pos_, \"Loss: \", train_loss)\n",
    "        \n",
    "        val_loss, val_pred, val_pred_pos, val_true_pos = model(x_id_val, y_val, mask_val, pos_id_val, train_cond=False)        \n",
    "        f1_, accu_, f1_pos_, accu_pos_ = eval_score(y_val, val_pred, val_pred_pos, val_true_pos)\n",
    "        print(\"Val: F1 : \",  f1_, \"Accu: \", accu_, \"POS F1 : \",  f1_pos_, \"POS Accu: \", accu_pos_, \"Loss: \", val_loss)\n",
    "        \n",
    "# test_loss, test_pred, test_pred_pos, test_true_pos = model(x_id_test, y_test, mask_test, pos_id_test, train_cond=False)        \n",
    "# f1_, accu_, f1_pos_, accu_pos_ = etest_score(y_test, test_pred, test_pred_pos, test_true_pos)\n",
    "# print(\"test: F1 Score: \",  f1_, \"Accuracy: \", accu_, \"POS F1 Score: \",  f1_pos_, \"POS Accuracy: \", accu_pos_, \"Loss: \", test_loss)"
   ]
  },
  {
   "cell_type": "code",
   "execution_count": null,
   "metadata": {
    "collapsed": true
   },
   "outputs": [],
   "source": []
  },
  {
   "cell_type": "code",
   "execution_count": null,
   "metadata": {
    "collapsed": true
   },
   "outputs": [],
   "source": [
    "saver.restore(sess, save_dir)"
   ]
  }
 ],
 "metadata": {
  "kernelspec": {
   "display_name": "cs771",
   "language": "python",
   "name": "cs771"
  },
  "language_info": {
   "codemirror_mode": {
    "name": "ipython",
    "version": 3
   },
   "file_extension": ".py",
   "mimetype": "text/x-python",
   "name": "python",
   "nbconvert_exporter": "python",
   "pygments_lexer": "ipython3",
   "version": "3.5.2"
  }
 },
 "nbformat": 4,
 "nbformat_minor": 2
}
