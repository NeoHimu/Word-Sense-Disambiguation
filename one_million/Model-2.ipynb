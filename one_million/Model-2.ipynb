{
 "cells": [
  {
   "cell_type": "code",
   "execution_count": 1,
   "metadata": {
    "collapsed": true
   },
   "outputs": [],
   "source": [
    "import tensorflow as tf\n",
    "tf.logging.set_verbosity(tf.logging.WARN)\n",
    "import pickle\n",
    "import numpy as np\n",
    "import os\n",
    "from sklearn.model_selection import train_test_split\n",
    "from sklearn.metrics import f1_score\n",
    "from sklearn.metrics import accuracy_score\n",
    "import os\n",
    "from tensorflow.python.client import device_lib\n",
    "from collections import Counter"
   ]
  },
  {
   "cell_type": "code",
   "execution_count": 2,
   "metadata": {
    "collapsed": true
   },
   "outputs": [],
   "source": [
    "f = open('../Glove/word_embedding_glove', 'rb')\n",
    "word_embedding = pickle.load(f)\n",
    "f.close()\n",
    "word_embedding = word_embedding[: len(word_embedding)-1]\n",
    "\n",
    "f = open('../Glove/vocab_glove', 'rb')\n",
    "vocab = pickle.load(f)\n",
    "f.close()\n",
    "\n",
    "word2id = dict((w, i) for i,w in enumerate(vocab))\n",
    "id2word = dict((i, w) for i,w in enumerate(vocab))\n",
    "\n",
    "unknown_token = \"UNKNOWN_TOKEN\""
   ]
  },
  {
   "cell_type": "code",
   "execution_count": 3,
   "metadata": {
    "collapsed": true
   },
   "outputs": [],
   "source": [
    "f = open(\"../../dataset/sense/dict_sense-keys\", 'rb')\n",
    "dict_sense_keys = pickle.load(f)\n",
    "f.close()\n",
    "\n",
    "f = open(\"../../dataset/sense/dict_word-sense\", 'rb')\n",
    "dict_word_sense = pickle.load(f)\n",
    "f.close()"
   ]
  },
  {
   "cell_type": "code",
   "execution_count": 4,
   "metadata": {
    "collapsed": true
   },
   "outputs": [],
   "source": [
    "# Model Description\n",
    "sense_word = 'make'\n",
    "model_name = 'model-2'\n",
    "sense_word_dir = 'output/' + sense_word\n",
    "model_dir = sense_word_dir + '/' + model_name\n",
    "save_dir = os.path.join(model_dir, \"save/\")\n",
    "log_dir = os.path.join(model_dir, \"log\")\n",
    "\n",
    "if not os.path.exists(sense_word_dir):\n",
    "    os.mkdir(sense_word_dir)\n",
    "if not os.path.exists(model_dir):\n",
    "    os.mkdir(model_dir)\n",
    "if not os.path.exists(save_dir):\n",
    "    os.mkdir(save_dir)\n",
    "if not os.path.exists(log_dir):\n",
    "    os.mkdir(log_dir)"
   ]
  },
  {
   "cell_type": "code",
   "execution_count": 5,
   "metadata": {
    "scrolled": false
   },
   "outputs": [
    {
     "data": {
      "text/plain": [
       "[('36', 2006),\n",
       " ('30', 1025),\n",
       " ('42', 968),\n",
       " ('41', 962),\n",
       " ('31', 617),\n",
       " ('32', 543),\n",
       " ('38', 445),\n",
       " ('40', 20),\n",
       " ('29', 6),\n",
       " ('09', 1)]"
      ]
     },
     "execution_count": 5,
     "metadata": {},
     "output_type": "execute_result"
    }
   ],
   "source": [
    "f = open(\"../../dataset/checkwords/\"+ sense_word + \"_data\", 'rb')\n",
    "data = pickle.load(f)\n",
    "f.close()\n",
    "\n",
    "pos_tags = []\n",
    "for i in range(len(data)):\n",
    "    for p in data[i][2]:\n",
    "        pos_tags.append(p)\n",
    "        \n",
    "pos_count = Counter(pos_tags)\n",
    "pos_count = pos_count.most_common()\n",
    "vocab_pos = [k for k,v in pos_count]\n",
    "\n",
    "data_y = []\n",
    "for i in range(len(data)):\n",
    "    data_y.append(dict_sense_keys[data[i][0]][2])\n",
    "\n",
    "sense_count = Counter(data_y)\n",
    "sense_count = sense_count.most_common()\n",
    "vocab_sense = [k for k,v in sense_count[:7]]\n",
    "sense_count"
   ]
  },
  {
   "cell_type": "code",
   "execution_count": 6,
   "metadata": {},
   "outputs": [
    {
     "data": {
      "text/plain": [
       "['36', '30', '42', '41', '31', '32', '38']"
      ]
     },
     "execution_count": 6,
     "metadata": {},
     "output_type": "execute_result"
    }
   ],
   "source": [
    "vocab_sense"
   ]
  },
  {
   "cell_type": "code",
   "execution_count": 7,
   "metadata": {},
   "outputs": [
    {
     "name": "stdout",
     "output_type": "stream",
     "text": [
      "6566 6593\n"
     ]
    },
    {
     "data": {
      "text/plain": [
       "12"
      ]
     },
     "execution_count": 7,
     "metadata": {},
     "output_type": "execute_result"
    }
   ],
   "source": [
    "data_x = []\n",
    "data_label = []\n",
    "data_pos = []\n",
    "for i in range(len(data)):\n",
    "    if dict_sense_keys[data[i][0]][2] in vocab_sense:\n",
    "        data_x.append(data[i][1])\n",
    "        data_pos.append(data[i][2])\n",
    "        data_label.append(dict_sense_keys[data[i][0]][2])\n",
    "\n",
    "print(len(data_label), len(data_y))\n",
    "\n",
    "pos2id = dict((s, i) for i,s in enumerate(vocab_pos))\n",
    "id2pos = dict((i, s) for i,s in enumerate(vocab_pos))\n",
    "\n",
    "# vocab_sense = dict_word_sense[sense_word]\n",
    "\n",
    "sense2id = dict((s, i) for i,s in enumerate(vocab_sense))\n",
    "id2sense = dict((i, s) for i,s in enumerate(vocab))\n",
    "len(vocab_pos)"
   ]
  },
  {
   "cell_type": "code",
   "execution_count": 8,
   "metadata": {
    "collapsed": true
   },
   "outputs": [],
   "source": [
    "# Parameters\n",
    "mode = 'train'\n",
    "num_senses = len(vocab_sense)\n",
    "num_pos = len(vocab_pos)\n",
    "batch_size = 64\n",
    "vocab_size = len(vocab)\n",
    "unk_vocab_size = 1\n",
    "word_emb_size = len(word_embedding[0])\n",
    "max_sent_size = 200\n",
    "hidden_size = 100\n",
    "keep_prob = 0.5\n",
    "l2_lambda = 0.001\n",
    "init_lr = 0.001\n",
    "decay_steps = 500\n",
    "decay_rate = 0.96\n",
    "clip_norm = 1\n",
    "clipping = True\n",
    "pos_lambda = 5"
   ]
  },
  {
   "cell_type": "code",
   "execution_count": 9,
   "metadata": {
    "collapsed": true,
    "scrolled": true
   },
   "outputs": [],
   "source": [
    "# MODEL\n",
    "x = tf.placeholder('int32', [batch_size, max_sent_size], name=\"x\")\n",
    "y = tf.placeholder('int32', [batch_size], name=\"y\")\n",
    "y_pos = tf.placeholder('int32', [batch_size, None], name=\"y_pos\")\n",
    "x_mask  = tf.placeholder('bool', [batch_size, max_sent_size], name='x_mask') \n",
    "is_train = tf.placeholder('bool', [], name='is_train')\n",
    "word_emb_mat = tf.placeholder('float', [None, word_emb_size], name='emb_mat')\n",
    "input_keep_prob = tf.cond(is_train,lambda:keep_prob, lambda:tf.constant(1.0))\n",
    "x_len = tf.reduce_sum(tf.cast(x_mask, 'int32'), 1)\n",
    "\n",
    "with tf.name_scope(\"word_embedding\"):\n",
    "    if mode == 'train':\n",
    "        unk_word_emb_mat = tf.get_variable(\"word_emb_mat\", dtype='float', shape=[unk_vocab_size, word_emb_size], initializer=tf.contrib.layers.xavier_initializer(uniform=True, seed=0, dtype=tf.float32))\n",
    "    else:\n",
    "        unk_word_emb_mat = tf.get_variable(\"word_emb_mat\", shape=[unk_vocab_size, word_emb_size], dtype='float')\n",
    "        \n",
    "    final_word_emb_mat = tf.concat([word_emb_mat, unk_word_emb_mat], 0)\n",
    "    Wx = tf.nn.embedding_lookup(final_word_emb_mat, x)  \n",
    "\n",
    "with tf.variable_scope(\"lstm1\"):\n",
    "    cell_fw1 = tf.contrib.rnn.BasicLSTMCell(hidden_size,state_is_tuple=True)\n",
    "    cell_bw1 = tf.contrib.rnn.BasicLSTMCell(hidden_size,state_is_tuple=True)\n",
    "\n",
    "    d_cell_fw1 = tf.contrib.rnn.DropoutWrapper(cell_fw1, input_keep_prob=input_keep_prob)\n",
    "    d_cell_bw1 = tf.contrib.rnn.DropoutWrapper(cell_bw1, input_keep_prob=input_keep_prob)\n",
    "    \n",
    "    (fw_h1, bw_h1), _ = tf.nn.bidirectional_dynamic_rnn(d_cell_fw1, d_cell_bw1, Wx, sequence_length=x_len, dtype='float', scope='lstm1')\n",
    "    h1 = tf.concat([fw_h1, bw_h1], 2)\n",
    "    \n",
    "with tf.variable_scope(\"lstm2\"):\n",
    "    cell_fw2 = tf.contrib.rnn.BasicLSTMCell(hidden_size,state_is_tuple=True)\n",
    "    cell_bw2 = tf.contrib.rnn.BasicLSTMCell(hidden_size,state_is_tuple=True)\n",
    "\n",
    "    d_cell_fw2 = tf.contrib.rnn.DropoutWrapper(cell_fw2, input_keep_prob=input_keep_prob)\n",
    "    d_cell_bw2 = tf.contrib.rnn.DropoutWrapper(cell_bw2, input_keep_prob=input_keep_prob)\n",
    "    \n",
    "    (fw_h2, bw_h2), _ = tf.nn.bidirectional_dynamic_rnn(d_cell_fw2, d_cell_bw2, h1, sequence_length=x_len, dtype='float', scope='lstm2')\n",
    "    h = tf.concat([fw_h2, bw_h2], 2)\n",
    "\n",
    "def attention(input_x, input_mask, W_att):\n",
    "    h_masked = tf.boolean_mask(input_x, input_mask)\n",
    "    h_tanh = tf.tanh(h_masked)\n",
    "    u = tf.matmul(h_tanh, W_att)\n",
    "    a = tf.nn.softmax(u)\n",
    "    c = tf.reduce_sum(tf.multiply(h_tanh, a), 0)  \n",
    "    return c\n",
    "\n",
    "with tf.variable_scope(\"attention\"):\n",
    "    W_att = tf.Variable(tf.truncated_normal([2*hidden_size, 1], mean=0.0, stddev=0.1, seed=0), name=\"W_att\")\n",
    "    c = tf.expand_dims(attention(h[0], x_mask[0], W_att), 0)\n",
    "    for i in range(1, batch_size):\n",
    "        c = tf.concat([c, tf.expand_dims(attention(h[i], x_mask[i], W_att), 0)], 0)\n",
    "        \n",
    "with tf.variable_scope(\"softmax_layer\"):\n",
    "    W = tf.Variable(tf.truncated_normal([2*hidden_size, num_senses], mean=0.0, stddev=0.1, seed=0), name=\"W\")\n",
    "    b = tf.Variable(tf.zeros([num_senses]), name=\"b\")\n",
    "    drop_c = tf.nn.dropout(c, input_keep_prob)\n",
    "    logits = tf.matmul(drop_c, W) + b\n",
    "    predictions = tf.argmax(logits, 1)\n",
    "    \n",
    "flat_h1 = tf.reshape(h1, [-1, 2*hidden_size])\n",
    "\n",
    "with tf.variable_scope(\"softmax_layer_pos\"):\n",
    "    W = tf.Variable(tf.truncated_normal([2*hidden_size, num_pos], mean=0.0, stddev=0.1, seed=0), name=\"W\")\n",
    "    b = tf.Variable(tf.zeros([num_pos]), name=\"b\")\n",
    "    drop_flat_h1 = tf.nn.dropout(flat_h1, input_keep_prob)\n",
    "    flat_logits_pos = tf.matmul(drop_flat_h1, W) + b\n",
    "    logits_pos = tf.reshape(flat_logits_pos, [batch_size, max_sent_size, num_pos])\n",
    "    predictions_pos = tf.arg_max(logits_pos, 2)\n",
    "    \n",
    "\n",
    "float_x_mask = tf.cast(x_mask, 'float')\n",
    "\n",
    "loss = tf.reduce_mean(tf.nn.sparse_softmax_cross_entropy_with_logits(logits=logits, labels=y))\n",
    "# loss_pos = tf.reduce_mean(tf.nn.sparse_softmax_cross_entropy_with_logits(logits=logits_pos, labels=y_pos), name=\"loss_pos\")\n",
    "loss_pos = pos_lambda*tf.contrib.seq2seq.sequence_loss(logits_pos, y_pos, float_x_mask, name=\"loss_pos\")\n",
    "\n",
    "\n",
    "global_step = tf.Variable(0, trainable=False, name=\"global_step\")\n",
    "\n",
    "learning_rate = tf.train.exponential_decay(init_lr, global_step, decay_steps, decay_rate, staircase=True)\n",
    "\n",
    "tv_all = tf.trainable_variables()\n",
    "tv_regu =[]\n",
    "for t in tv_all:\n",
    "    if t.name.find('b:')==-1:\n",
    "        tv_regu.append(t)\n",
    "        \n",
    "# l2 Loss\n",
    "l2_loss = l2_lambda * tf.reduce_sum([ tf.nn.l2_loss(v) for v in tv_regu ])\n",
    "\n",
    "total_loss = loss + l2_loss + loss_pos\n",
    "\n",
    "# Optimizer for loss\n",
    "optimizer = tf.train.AdamOptimizer(learning_rate)\n",
    "optimizer_pos = tf.train.AdamOptimizer(learning_rate).minimize(loss_pos, global_step)\n",
    "\n",
    "# Gradients and Variables for Loss\n",
    "grads_vars = optimizer.compute_gradients(total_loss)\n",
    "\n",
    "# Clipping of Gradients\n",
    "clipped_grads = grads_vars\n",
    "if(clipping == True):\n",
    "    clipped_grads = [(tf.clip_by_norm(grad, clip_norm), var) for grad, var in clipped_grads]\n",
    "\n",
    "# Training Optimizer for Total Loss\n",
    "train_op = optimizer.apply_gradients(clipped_grads, global_step=global_step)\n",
    "\n",
    "# Summaries\n",
    "var_summaries = []\n",
    "for v in tv_all:\n",
    "    var_summary = tf.summary.histogram(\"{}/var\".format(v.name), v)\n",
    "    var_summaries.append(var_summary)\n",
    "\n",
    "var_summaries_merged = tf.summary.merge(var_summaries)\n",
    "\n",
    "loss_summary = tf.summary.scalar(\"loss\", loss)\n",
    "loss_pos_summary = tf.summary.scalar(\"loss_pos\", loss_pos)\n",
    "total_loss_summary = tf.summary.scalar(\"total_loss\", total_loss)\n",
    "summary = tf.summary.merge_all()"
   ]
  },
  {
   "cell_type": "code",
   "execution_count": 10,
   "metadata": {
    "collapsed": true
   },
   "outputs": [],
   "source": [
    "os.environ[\"CUDA_DEVICE_ORDER\"]=\"PCI_BUS_ID\"   # see issue #152\n",
    "os.environ[\"CUDA_VISIBLE_DEVICES\"]=\"0\"\n",
    "config = tf.ConfigProto()\n",
    "config.gpu_options.allow_growth = True\n",
    "sess = tf.Session(config=config)\n",
    "sess.run(tf.global_variables_initializer())                          # For initializing all the variables\n",
    "saver = tf.train.Saver()                                             # For Saving the model\n",
    "summary_writer = tf.summary.FileWriter(log_dir, sess.graph)          # For writing Summaries"
   ]
  },
  {
   "cell_type": "code",
   "execution_count": 11,
   "metadata": {
    "collapsed": true
   },
   "outputs": [],
   "source": [
    "index = []\n",
    "for i in range(len(data_x)):\n",
    "    index.append(i)"
   ]
  },
  {
   "cell_type": "code",
   "execution_count": 12,
   "metadata": {
    "scrolled": true
   },
   "outputs": [
    {
     "name": "stderr",
     "output_type": "stream",
     "text": [
      "/users/btech/aviraj/cs771/lib/python3.5/site-packages/sklearn/model_selection/_split.py:2026: FutureWarning: From version 0.21, test_size will always complement train_size unless both are specified.\n",
      "  FutureWarning)\n"
     ]
    }
   ],
   "source": [
    "index_train, index_val, label_train, label_val = train_test_split(index, data_label, train_size=0.8, shuffle=True, stratify=data_label, random_state=0)\n",
    "\n",
    "data_x = np.array(data_x)\n",
    "data_pos = np.array(data_pos)\n",
    "\n",
    "x_train = data_x[index_train]\n",
    "pos_train = data_pos[index_train]\n",
    "x_val = data_x[index_val]\n",
    "pos_val = data_pos[index_val]"
   ]
  },
  {
   "cell_type": "code",
   "execution_count": 13,
   "metadata": {
    "collapsed": true
   },
   "outputs": [],
   "source": [
    "def data_prepare(x, y, p):\n",
    "    num_examples = len(x)\n",
    "\n",
    "    xx = np.zeros([num_examples, max_sent_size], dtype=int)\n",
    "    xx_mask = np.zeros([num_examples, max_sent_size], dtype=bool)\n",
    "    yy = np.zeros([num_examples], dtype=int)\n",
    "    pp = np.zeros([num_examples, max_sent_size], dtype=int)\n",
    "\n",
    "    for j in range(num_examples):\n",
    "        for i in range(max_sent_size):\n",
    "            if(i>=len(x[j])):\n",
    "                break\n",
    "            w = x[j][i]\n",
    "            xx[j][i] = word2id[w] if w in word2id else word2id['UNKNOWN_TOKEN']\n",
    "            xx_mask[j][i] = True\n",
    "            pp[j][i] = pos2id[p[j][i]]\n",
    "        yy[j] = sense2id[y[j]]\n",
    "        \n",
    "    return xx, xx_mask, yy, pp\n",
    "\n",
    "def model(xx, yy, mask, pp, train_cond=True, pretrain=False):\n",
    "    num_batches = int(len(xx)/batch_size)\n",
    "    losses = 0\n",
    "    preds = []\n",
    "    preds_pos = []\n",
    "    true_pos = []\n",
    "    for j in range(num_batches): \n",
    "        \n",
    "        s = j * batch_size\n",
    "        e = (j+1) * batch_size\n",
    "        \n",
    "        feed_dict = {x:xx[s:e], y:yy[s:e], y_pos:pp[s:e], x_mask:mask[s:e], is_train:train_cond, input_keep_prob:keep_prob, word_emb_mat:word_embedding}\n",
    "        \n",
    "        \n",
    "        if(train_cond==True):\n",
    "            if(pretrain==False):\n",
    "                _, _loss, step, _summary = sess.run([train_op, total_loss, global_step, summary], feed_dict)\n",
    "            else:\n",
    "                 _, _loss, step, _summary = sess.run([optimizer_pos, loss_pos, global_step, summary], feed_dict)\n",
    "            \n",
    "            summary_writer.add_summary(_summary, step)  \n",
    "#             print(\"Steps:{}\".format(step), \", Loss: {}\".format(_loss))\n",
    "\n",
    "        else:\n",
    "            _loss, pred, pred_pos = sess.run([total_loss, predictions, predictions_pos], feed_dict)\n",
    "            preds.append(pred)\n",
    "            for k in range(batch_size):\n",
    "                preds_pos.append(pred_pos[k][:sum(mask[s+k])])\n",
    "                true_pos.append(pp[s+k][:sum(mask[s+k])])\n",
    "\n",
    "        losses +=_loss\n",
    "\n",
    "    if(train_cond==False):\n",
    "        y_pred = []\n",
    "        pos_true = []\n",
    "        pos_pred = []\n",
    "        for i in range(num_batches):\n",
    "            for pred in preds[i]:\n",
    "                y_pred.append(pred)\n",
    "                \n",
    "        for i in range(len(preds_pos)):\n",
    "            for j in range(len(preds_pos[i])):\n",
    "                pos_pred.append(preds_pos[i][j])\n",
    "                pos_true.append(true_pos[i][j])\n",
    "\n",
    "        return losses/num_batches, y_pred, pos_pred, pos_true\n",
    "    \n",
    "    return losses/num_batches, step\n",
    "\n",
    "def eval_score(yy, pred, pos_true, pos_pred):\n",
    "    num_batches = int(len(yy)/batch_size)\n",
    "    f1 = f1_score(yy[:batch_size*num_batches], pred, average='macro')\n",
    "    f1_pos = f1_score(pos_true, pos_pred, average='macro')\n",
    "    accu = accuracy_score(yy[:batch_size*num_batches], pred)\n",
    "    accu_pos = accuracy_score(pos_true, pos_pred)\n",
    "    return f1*100, accu*100, f1_pos*100, accu_pos*100"
   ]
  },
  {
   "cell_type": "code",
   "execution_count": 14,
   "metadata": {
    "collapsed": true
   },
   "outputs": [],
   "source": [
    "x_id_train, mask_train, y_train, pos_id_train = data_prepare(x_train, label_train, pos_train)\n",
    "x_id_val, mask_val, y_val, pos_id_val = data_prepare(x_val, label_val,pos_val)"
   ]
  },
  {
   "cell_type": "code",
   "execution_count": null,
   "metadata": {
    "scrolled": true
   },
   "outputs": [
    {
     "name": "stdout",
     "output_type": "stream",
     "text": [
      "Epoch: 1 Step: 82 loss: 7.29130619328\n",
      "Epoch: 2 Step: 164 loss: 3.39651041787\n",
      "Epoch: 3 Step: 246 loss: 2.71683007915\n",
      "Epoch: 4 Step: 328 loss: 2.43815185966\n",
      "Epoch: 5 Step: 410 loss: 2.24556547985\n",
      "Model Saved\n",
      "Train: F1 :  11.0826669943 Accu:  14.1768292683 POS F1 :  75.3190847118 POS Accu:  85.4806256223 Loss:  14.56520262\n"
     ]
    },
    {
     "name": "stderr",
     "output_type": "stream",
     "text": [
      "/users/btech/aviraj/cs771/lib/python3.5/site-packages/sklearn/metrics/classification.py:1137: UndefinedMetricWarning: F-score is ill-defined and being set to 0.0 in labels with no true samples.\n",
      "  'recall', 'true', average, warn_for)\n"
     ]
    },
    {
     "name": "stdout",
     "output_type": "stream",
     "text": [
      "Val: F1 :  11.422097647 Accu:  13.59375 POS F1 :  74.3827380571 POS Accu:  85.1165768789 Loss:  14.5262640476\n",
      "Epoch: 6 Step: 492 loss: 7.11034627077\n",
      "Epoch: 7 Step: 574 loss: 4.89882376717\n",
      "Epoch: 8 Step: 656 loss: 4.55379004595\n",
      "Epoch: 9 Step: 738 loss: 4.35986684008\n",
      "Epoch: 10 Step: 820 loss: 4.22095590975\n",
      "Model Saved\n",
      "Train: F1 :  20.1636570146 Accu:  33.6890243902 POS F1 :  79.9938061709 POS Accu:  87.490665837 Loss:  4.16565993646\n",
      "Val: F1 :  19.2119333407 Accu:  33.28125 POS F1 :  79.1010325315 POS Accu:  87.1103064559 Loss:  4.23361828327\n",
      "Epoch: 11 Step: 902 loss: 4.10776603803\n",
      "Epoch: 12 Step: 984 loss: 4.0089331749\n",
      "Epoch: 13 Step: 1066 loss: 3.9485820968\n",
      "Epoch: 14 Step: 1148 loss: 3.85976829761\n",
      "Epoch: 15 Step: 1230 loss: 3.81747781067\n",
      "Model Saved\n",
      "Train: F1 :  33.0121867756 Accu:  42.2827743902 POS F1 :  81.6407042843 POS Accu:  88.5633858309 Loss:  3.76535015862\n",
      "Val: F1 :  30.6115245972 Accu:  40.0 POS F1 :  79.9747033265 POS Accu:  88.1899673231 Loss:  3.87053152323\n",
      "Epoch: 16 Step: 1312 loss: 3.77134418778\n",
      "Epoch: 17 Step: 1394 loss: 3.72458992644\n",
      "Epoch: 18 Step: 1476 loss: 3.68852053038\n",
      "Epoch: 19 Step: 1558 loss: 3.65609245765\n",
      "Epoch: 20 Step: 1640 loss: 3.62874812033\n",
      "Model Saved\n",
      "Train: F1 :  38.9366362163 Accu:  45.7888719512 POS F1 :  83.074385431 POS Accu:  89.119388591 Loss:  3.57672607026\n",
      "Val: F1 :  37.011533468 Accu:  43.75 POS F1 :  81.4808436421 POS Accu:  88.8059701493 Loss:  3.72997068167\n",
      "Epoch: 21 Step: 1722 loss: 3.59415420381\n",
      "Epoch: 22 Step: 1804 loss: 3.58932813784\n",
      "Epoch: 23 Step: 1886 loss: 3.53778393676\n",
      "Epoch: 24 Step: 1968 loss: 3.53822965738\n",
      "Epoch: 25 Step: 2050 loss: 3.514984032\n",
      "Model Saved\n",
      "Train: F1 :  42.2733949886 Accu:  47.5228658537 POS F1 :  84.1925699032 POS Accu:  89.6421074455 Loss:  3.48095278333\n",
      "Val: F1 :  41.3893851432 Accu:  46.71875 POS F1 :  81.4358264502 POS Accu:  89.3093703082 Loss:  3.58271721601\n",
      "Epoch: 26 Step: 2132 loss: 3.47359545929\n",
      "Epoch: 27 Step: 2214 loss: 3.4833631312\n",
      "Epoch: 28 Step: 2296 loss: 3.45201105316\n",
      "Epoch: 29 Step: 2378 loss: 3.44478368178\n",
      "Epoch: 30 Step: 2460 loss: 3.43458564398\n",
      "Model Saved\n",
      "Train: F1 :  37.9831145096 Accu:  46.9131097561 POS F1 :  83.9641271217 POS Accu:  89.9223841595 Loss:  3.46207881555\n",
      "Val: F1 :  35.8409026012 Accu:  45.390625 POS F1 :  82.5501305453 POS Accu:  89.8304336307 Loss:  3.57101353407\n",
      "Epoch: 31 Step: 2542 loss: 3.40967947972\n",
      "Epoch: 32 Step: 2624 loss: 3.40147921516\n",
      "Epoch: 33 Step: 2706 loss: 3.39074414532\n",
      "Epoch: 34 Step: 2788 loss: 3.38375869321\n",
      "Epoch: 35 Step: 2870 loss: 3.36551585721\n",
      "Model Saved\n",
      "Train: F1 :  47.3983127624 Accu:  50.6097560976 POS F1 :  84.9998615564 POS Accu:  90.2677534428 Loss:  3.32074116788\n",
      "Val: F1 :  42.742480394 Accu:  46.171875 POS F1 :  82.8655342828 POS Accu:  89.8149783626 Loss:  3.47770214081\n",
      "Epoch: 36 Step: 2952 loss: 3.37294298265\n",
      "Epoch: 37 Step: 3034 loss: 3.35698459207\n",
      "Epoch: 38 Step: 3116 loss: 3.35060475803\n",
      "Epoch: 39 Step: 3198 loss: 3.33714720389\n",
      "Epoch: 40 Step: 3280 loss: 3.33619814675\n",
      "Model Saved\n",
      "Train: F1 :  44.9388704876 Accu:  48.837652439 POS F1 :  84.8322423839 POS Accu:  90.1833749702 Loss:  3.34200866048\n",
      "Val: F1 :  43.126601842 Accu:  47.421875 POS F1 :  83.2646718119 POS Accu:  89.9253731343 Loss:  3.46069288254\n",
      "Epoch: 41 Step: 3362 loss: 3.29476107039\n",
      "Epoch: 42 Step: 3444 loss: 3.32252217502\n",
      "Epoch: 43 Step: 3526 loss: 3.29822484168\n",
      "Epoch: 44 Step: 3608 loss: 3.29399963414\n",
      "Epoch: 45 Step: 3690 loss: 3.2876282029\n",
      "Model Saved\n",
      "Train: F1 :  50.7025611604 Accu:  53.0106707317 POS F1 :  85.142963643 POS Accu:  90.4545595968 Loss:  3.24171559694\n",
      "Val: F1 :  43.04197308 Accu:  47.1875 POS F1 :  83.7223793644 POS Accu:  90.2874679855 Loss:  3.43733553886\n",
      "Epoch: 46 Step: 3772 loss: 3.31231980498\n",
      "Epoch: 47 Step: 3854 loss: 3.26494610019\n",
      "Epoch: 48 Step: 3936 loss: 3.2747570189\n",
      "Epoch: 49 Step: 4018 loss: 3.27372032549\n",
      "Epoch: 50 Step: 4100 loss: 3.24485368845\n",
      "Model Saved\n",
      "Train: F1 :  47.6659867627 Accu:  52.3818597561 POS F1 :  85.134535773 POS Accu:  90.5135143541 Loss:  3.23264857036\n",
      "Val: F1 :  40.8577980832 Accu:  46.40625 POS F1 :  83.0011707796 POS Accu:  90.3139627307 Loss:  3.41646276712\n"
     ]
    }
   ],
   "source": [
    "num_epochs = 50\n",
    "pre_train_period = 5\n",
    "log_period = 5\n",
    "\n",
    "for i in range(num_epochs):\n",
    "    random = np.random.choice(len(y_train), size=(len(y_train)), replace=False)\n",
    "    x_id_train = x_id_train[random]\n",
    "    y_train = y_train[random]\n",
    "    mask_train = mask_train[random]    \n",
    "    pos_id_train = pos_id_train[random]\n",
    "    \n",
    "    if(i<pre_train_period):\n",
    "        losses, step = model(x_id_train, y_train, mask_train, pos_id_train, pretrain=True)\n",
    "    else:\n",
    "        losses, step = model(x_id_train, y_train, mask_train, pos_id_train)\n",
    "    print(\"Epoch:\", i+1,\"Step:\", step, \"loss:\",losses)\n",
    "    \n",
    "    if((i+1)%log_period==0):\n",
    "        saver.save(sess, save_path=save_dir)                         \n",
    "        print(\"Model Saved\")\n",
    "        train_loss, train_pred, train_pred_pos, train_true_pos = model(x_id_train, y_train, mask_train, pos_id_train, train_cond=False)        \n",
    "        f1_, accu_, f1_pos_, accu_pos_ = eval_score(y_train, train_pred, train_pred_pos, train_true_pos)\n",
    "        print(\"Train: F1 : \",  f1_, \"Accu: \", accu_, \"POS F1 : \",  f1_pos_, \"POS Accu: \", accu_pos_, \"Loss: \", train_loss)\n",
    "        \n",
    "        val_loss, val_pred, val_pred_pos, val_true_pos = model(x_id_val, y_val, mask_val, pos_id_val, train_cond=False)        \n",
    "        f1_, accu_, f1_pos_, accu_pos_ = eval_score(y_val, val_pred, val_pred_pos, val_true_pos)\n",
    "        print(\"Val: F1 : \",  f1_, \"Accu: \", accu_, \"POS F1 : \",  f1_pos_, \"POS Accu: \", accu_pos_, \"Loss: \", val_loss)\n",
    "        \n",
    "# test_loss, test_pred, test_pred_pos, test_true_pos = model(x_id_test, y_test, mask_test, pos_id_test, train_cond=False)        \n",
    "# f1_, accu_, f1_pos_, accu_pos_ = etest_score(y_test, test_pred, test_pred_pos, test_true_pos)\n",
    "# print(\"test: F1 Score: \",  f1_, \"Accuracy: \", accu_, \"POS F1 Score: \",  f1_pos_, \"POS Accuracy: \", accu_pos_, \"Loss: \", test_loss)"
   ]
  },
  {
   "cell_type": "code",
   "execution_count": null,
   "metadata": {},
   "outputs": [
    {
     "name": "stdout",
     "output_type": "stream",
     "text": [
      "Epoch: 1 Step: 4182 loss: 3.25334065426\n",
      "Epoch: 2 Step: 4264 loss: 3.24466936472\n"
     ]
    }
   ],
   "source": [
    "num_epochs = 50\n",
    "pre_train_period = 0\n",
    "log_period = 5\n",
    "\n",
    "for i in range(num_epochs):\n",
    "    random = np.random.choice(len(y_train), size=(len(y_train)), replace=False)\n",
    "    x_id_train = x_id_train[random]\n",
    "    y_train = y_train[random]\n",
    "    mask_train = mask_train[random]    \n",
    "    pos_id_train = pos_id_train[random]\n",
    "    \n",
    "    if(i<pre_train_period):\n",
    "        losses, step = model(x_id_train, y_train, mask_train, pos_id_train, pretrain=True)\n",
    "    else:\n",
    "        losses, step = model(x_id_train, y_train, mask_train, pos_id_train)\n",
    "    print(\"Epoch:\", i+1,\"Step:\", step, \"loss:\",losses)\n",
    "    \n",
    "    if((i+1)%log_period==0):\n",
    "        saver.save(sess, save_path=save_dir)                         \n",
    "        print(\"Model Saved\")\n",
    "        train_loss, train_pred, train_pred_pos, train_true_pos = model(x_id_train, y_train, mask_train, pos_id_train, train_cond=False)        \n",
    "        f1_, accu_, f1_pos_, accu_pos_ = eval_score(y_train, train_pred, train_pred_pos, train_true_pos)\n",
    "        print(\"Train: F1 : \",  f1_, \"Accu: \", accu_, \"POS F1 : \",  f1_pos_, \"POS Accu: \", accu_pos_, \"Loss: \", train_loss)\n",
    "        \n",
    "        val_loss, val_pred, val_pred_pos, val_true_pos = model(x_id_val, y_val, mask_val, pos_id_val, train_cond=False)        \n",
    "        f1_, accu_, f1_pos_, accu_pos_ = eval_score(y_val, val_pred, val_pred_pos, val_true_pos)\n",
    "        print(\"Val: F1 : \",  f1_, \"Accu: \", accu_, \"POS F1 : \",  f1_pos_, \"POS Accu: \", accu_pos_, \"Loss: \", val_loss)\n",
    "        \n",
    "# test_loss, test_pred, test_pred_pos, test_true_pos = model(x_id_test, y_test, mask_test, pos_id_test, train_cond=False)        \n",
    "# f1_, accu_, f1_pos_, accu_pos_ = etest_score(y_test, test_pred, test_pred_pos, test_true_pos)\n",
    "# print(\"test: F1 Score: \",  f1_, \"Accuracy: \", accu_, \"POS F1 Score: \",  f1_pos_, \"POS Accuracy: \", accu_pos_, \"Loss: \", test_loss)"
   ]
  },
  {
   "cell_type": "code",
   "execution_count": null,
   "metadata": {
    "collapsed": true
   },
   "outputs": [],
   "source": [
    "saver.restore(sess, save_dir)"
   ]
  }
 ],
 "metadata": {
  "kernelspec": {
   "display_name": "cs771",
   "language": "python",
   "name": "cs771"
  },
  "language_info": {
   "codemirror_mode": {
    "name": "ipython",
    "version": 3
   },
   "file_extension": ".py",
   "mimetype": "text/x-python",
   "name": "python",
   "nbconvert_exporter": "python",
   "pygments_lexer": "ipython3",
   "version": "3.5.2"
  }
 },
 "nbformat": 4,
 "nbformat_minor": 2
}
