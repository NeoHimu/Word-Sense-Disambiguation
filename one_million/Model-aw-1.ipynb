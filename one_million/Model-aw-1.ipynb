{
 "cells": [
  {
   "cell_type": "code",
   "execution_count": 1,
   "metadata": {
    "collapsed": true
   },
   "outputs": [],
   "source": [
    "import tensorflow as tf\n",
    "tf.logging.set_verbosity(tf.logging.WARN)\n",
    "import pickle\n",
    "import numpy as np\n",
    "import os\n",
    "from sklearn.model_selection import train_test_split\n",
    "from sklearn.metrics import f1_score\n",
    "from sklearn.metrics import accuracy_score\n",
    "import os\n",
    "from tensorflow.python.client import device_lib\n",
    "from collections import Counter\n",
    "import time"
   ]
  },
  {
   "cell_type": "code",
   "execution_count": 2,
   "metadata": {
    "collapsed": true
   },
   "outputs": [],
   "source": [
    "f = open('../Glove/word_embedding_glove', 'rb')\n",
    "word_embedding = pickle.load(f)\n",
    "f.close()\n",
    "word_embedding = word_embedding[: len(word_embedding)-1]\n",
    "\n",
    "f = open('../Glove/vocab_glove', 'rb')\n",
    "vocab = pickle.load(f)\n",
    "f.close()\n",
    "\n",
    "word2id = dict((w, i) for i,w in enumerate(vocab))\n",
    "id2word = dict((i, w) for i,w in enumerate(vocab))\n",
    "\n",
    "unknown_token = \"UNKNOWN_TOKEN\""
   ]
  },
  {
   "cell_type": "code",
   "execution_count": 3,
   "metadata": {
    "collapsed": true
   },
   "outputs": [],
   "source": [
    "# Model Description\n",
    "model_name = 'model-aw-1'\n",
    "model_dir = 'output/' + model_name\n",
    "save_dir = os.path.join(model_dir, \"save/\")\n",
    "log_dir = os.path.join(model_dir, \"log\")\n",
    "\n",
    "if not os.path.exists(model_dir):\n",
    "    os.mkdir(model_dir)\n",
    "if not os.path.exists(save_dir):\n",
    "    os.mkdir(save_dir)\n",
    "if not os.path.exists(log_dir):\n",
    "    os.mkdir(log_dir)"
   ]
  },
  {
   "cell_type": "code",
   "execution_count": 4,
   "metadata": {},
   "outputs": [
    {
     "data": {
      "text/plain": [
       "46"
      ]
     },
     "execution_count": 4,
     "metadata": {},
     "output_type": "execute_result"
    }
   ],
   "source": [
    "# with open('/data/aviraj/dataset/raw_preprocess_train','rb') as f:\n",
    "#     data=pickle.load(f)\n",
    "\n",
    "# f = open(\"../../dataset/sense/dict_sense-keys\", 'rb')\n",
    "# dict_sense_keys = pickle.load(f)\n",
    "# f.close()\n",
    "\n",
    "# f = open(\"../../dataset/sense/dict_word-sense\", 'rb')\n",
    "# dict_word_sense = pickle.load(f)\n",
    "# f.close()\n",
    "\n",
    "# data_y = []\n",
    "# for i in range(len(data)):\n",
    "#     for j in range(len(data[i][2])):\n",
    "#         if data[i][2][j] is not None:\n",
    "#             data_y.append(dict_sense_keys[data[i][2][j]][3])\n",
    "\n",
    "# sense_count = Counter(data_y)\n",
    "# sense_count = sense_count.most_common()\n",
    "# vocab_sense = [k for k,v in sense_count]\n",
    "\n",
    "# data_x = []\n",
    "# data_label = []\n",
    "# for i in range(len(data)):\n",
    "#     if(len(data[i][1])<=200):\n",
    "#         data_label.append([dict_sense_keys[ss][3] if ss is not None else None for ss in data[i][2]])\n",
    "#         data_x.append(data[i][1])\n",
    "\n",
    "# max_len = 0\n",
    "# for i in range(len(data_x)):\n",
    "#     max_len = max(max_len, len(data_x[i]))\n",
    "#     if(len(data_x[i])>200):\n",
    "#         print(i)\n",
    "# print(\"max_len: \", max_len)\n",
    "\n",
    "\n",
    "with open('/data/aviraj/dataset/train_data','rb') as f:\n",
    "    train_data=pickle.load(f)\n",
    "    \n",
    "with open('/data/aviraj/dataset/val_data','rb') as f:\n",
    "    val_data=pickle.load(f)\n",
    "    \n",
    "\n",
    "with open('/data/aviraj/dataset/fulldata_vocab_sense','rb') as f:\n",
    "    vocab_sense=pickle.load(f)\n",
    "\n",
    "    \n",
    "sense2id = dict((s, i) for i,s in enumerate(vocab_sense))\n",
    "id2sense = dict((i, s) for i,s in enumerate(vocab))\n",
    "\n",
    "len(vocab_sense)"
   ]
  },
  {
   "cell_type": "code",
   "execution_count": 5,
   "metadata": {
    "collapsed": true
   },
   "outputs": [],
   "source": [
    "# Parameters\n",
    "mode = 'train'\n",
    "num_senses = len(vocab_sense)+1\n",
    "batch_size = 128\n",
    "vocab_size = len(vocab)\n",
    "unk_vocab_size = 1\n",
    "word_emb_size = len(word_embedding[0])\n",
    "max_sent_size = 200\n",
    "hidden_size = 100\n",
    "keep_prob = 0.5\n",
    "l2_lambda = 0.002\n",
    "init_lr = 0.005\n",
    "decay_steps = 500\n",
    "decay_rate = 0.96\n",
    "clip_norm = 1\n",
    "clipping = True\n",
    "mask_value = -10"
   ]
  },
  {
   "cell_type": "code",
   "execution_count": 6,
   "metadata": {},
   "outputs": [],
   "source": [
    "# MODEL\n",
    "x = tf.placeholder('int32', [batch_size, max_sent_size], name=\"x\")\n",
    "y = tf.placeholder('int32', [batch_size, max_sent_size], name=\"y\")\n",
    "x_mask  = tf.placeholder('bool', [batch_size, max_sent_size], name='x_mask')\n",
    "sense_mask  = tf.placeholder('bool', [batch_size, max_sent_size], name='sense_mask')\n",
    "is_train = tf.placeholder('bool', [], name='is_train')\n",
    "word_emb_mat = tf.placeholder('float', [None, word_emb_size], name='emb_mat')\n",
    "input_keep_prob = tf.cond(is_train,lambda:keep_prob, lambda:tf.constant(1.0))\n",
    "x_len = tf.reduce_sum(tf.cast(x_mask, 'int32'), 1)\n",
    "\n",
    "with tf.name_scope(\"word_embedding\"):\n",
    "    if mode == 'train':\n",
    "        unk_word_emb_mat = tf.get_variable(\"word_emb_mat\", dtype='float', shape=[unk_vocab_size, word_emb_size], initializer=tf.contrib.layers.xavier_initializer(uniform=True, seed=0, dtype=tf.float32))\n",
    "    else:\n",
    "        unk_word_emb_mat = tf.get_variable(\"word_emb_mat\", shape=[unk_vocab_size, word_emb_size], dtype='float')\n",
    "        \n",
    "    final_word_emb_mat = tf.concat([word_emb_mat, unk_word_emb_mat], 0)\n",
    "    Wx = tf.nn.embedding_lookup(final_word_emb_mat, x)  \n",
    "\n",
    "with tf.variable_scope(\"lstm1\"):\n",
    "    cell_fw1 = tf.contrib.rnn.BasicLSTMCell(hidden_size,state_is_tuple=True)\n",
    "    cell_bw1 = tf.contrib.rnn.BasicLSTMCell(hidden_size,state_is_tuple=True)\n",
    "\n",
    "    d_cell_fw1 = tf.contrib.rnn.DropoutWrapper(cell_fw1, input_keep_prob=input_keep_prob)\n",
    "    d_cell_bw1 = tf.contrib.rnn.DropoutWrapper(cell_bw1, input_keep_prob=input_keep_prob)\n",
    "    \n",
    "    (fw_h1, bw_h1), _ = tf.nn.bidirectional_dynamic_rnn(d_cell_fw1, d_cell_bw1, Wx, sequence_length=x_len, dtype='float', scope='lstm1')\n",
    "    h1 = tf.concat([fw_h1, bw_h1], 2)\n",
    "    \n",
    "with tf.variable_scope(\"lstm2\"):\n",
    "    cell_fw2 = tf.contrib.rnn.BasicLSTMCell(hidden_size,state_is_tuple=True)\n",
    "    cell_bw2 = tf.contrib.rnn.BasicLSTMCell(hidden_size,state_is_tuple=True)\n",
    "\n",
    "    d_cell_fw2 = tf.contrib.rnn.DropoutWrapper(cell_fw2, input_keep_prob=input_keep_prob)\n",
    "    d_cell_bw2 = tf.contrib.rnn.DropoutWrapper(cell_bw2, input_keep_prob=input_keep_prob)\n",
    "    \n",
    "    (fw_h2, bw_h2), _ = tf.nn.bidirectional_dynamic_rnn(d_cell_fw2, d_cell_bw2, h1, sequence_length=x_len, dtype='float', scope='lstm2')\n",
    "    h = tf.concat([fw_h2, bw_h2], 2)\n",
    "\n",
    "def attention(input_x, input_mask, W_att):\n",
    "    h_masked = tf.boolean_mask(input_x, input_mask)\n",
    "    h_tanh = tf.tanh(h_masked)\n",
    "    u = tf.matmul(h_tanh, W_att)\n",
    "    a = tf.nn.softmax(u)\n",
    "    c = tf.reduce_sum(tf.multiply(h_tanh, a), 0)  \n",
    "    return c\n",
    "\n",
    "with tf.variable_scope(\"attention\"):\n",
    "    W_att = tf.Variable(tf.truncated_normal([2*hidden_size, 1], mean=0.0, stddev=0.1, seed=0), name=\"W_att\")\n",
    "    c = tf.expand_dims(attention(h[0], x_mask[0], W_att), 0)\n",
    "    for i in range(1, batch_size):\n",
    "        c = tf.concat([c, tf.expand_dims(attention(h[i], x_mask[i], W_att), 0)], 0)\n",
    "        \n",
    "    cc = tf.expand_dims(c, 1)\n",
    "    c_final = tf.tile(cc, [1,max_sent_size, 1])\n",
    "    h_final = tf.concat([c_final,h],2)\n",
    "    flat_h_final = tf.reshape(h_final, [-1, 4*hidden_size])\n",
    "\n",
    "float_sense_mask = tf.cast(sense_mask, 'float')\n",
    "\n",
    "with tf.variable_scope(\"softmax_layer\"):\n",
    "    W = tf.Variable(tf.truncated_normal([4*hidden_size, num_senses], mean=0.0, stddev=0.1, seed=0), name=\"W\")\n",
    "    b = tf.Variable(tf.zeros([num_senses]), name=\"b\")\n",
    "    drop_flat_h_final = tf.nn.dropout(flat_h_final, input_keep_prob)\n",
    "    flat_logits_sense = tf.matmul(drop_flat_h_final, W) + b\n",
    "    logits = tf.reshape(flat_logits_sense, [batch_size, max_sent_size, num_senses])\n",
    "    predictions = tf.arg_max(logits, 2)\n",
    "    \n",
    "loss = tf.contrib.seq2seq.sequence_loss(logits, y, float_sense_mask, name=\"loss\")\n",
    "\n",
    "global_step = tf.Variable(0, trainable=False, name=\"global_step\")\n",
    "\n",
    "learning_rate = tf.train.exponential_decay(init_lr, global_step, decay_steps, decay_rate, staircase=True)\n",
    "\n",
    "tv_all = tf.trainable_variables()\n",
    "tv_regu =[]\n",
    "for t in tv_all:\n",
    "    if t.name.find('b:')==-1:\n",
    "        tv_regu.append(t)\n",
    "        \n",
    "# l2 Loss\n",
    "l2_loss = l2_lambda * tf.reduce_sum([ tf.nn.l2_loss(v) for v in tv_regu ])\n",
    "\n",
    "total_loss = loss + l2_loss\n",
    "\n",
    "# Optimizer for loss\n",
    "optimizer = tf.train.AdamOptimizer(learning_rate)\n",
    "\n",
    "# Gradients and Variables for Loss\n",
    "grads_vars = optimizer.compute_gradients(total_loss)\n",
    "\n",
    "# Clipping of Gradients\n",
    "clipped_grads = grads_vars\n",
    "if(clipping == True):\n",
    "    clipped_grads = [(tf.clip_by_norm(grad, clip_norm), var) for grad, var in clipped_grads]\n",
    "\n",
    "# Training Optimizer for Total Loss\n",
    "train_op = optimizer.apply_gradients(clipped_grads, global_step=global_step)\n",
    "\n",
    "# Summaries\n",
    "var_summaries = []\n",
    "for v in tv_all:\n",
    "    var_summary = tf.summary.histogram(\"{}/var\".format(v.name), v)\n",
    "    var_summaries.append(var_summary)\n",
    "\n",
    "var_summaries_merged = tf.summary.merge(var_summaries)\n",
    "\n",
    "loss_summary = tf.summary.scalar(\"loss\", loss)\n",
    "total_loss_summary = tf.summary.scalar(\"total_loss\", total_loss)\n",
    "summary = tf.summary.merge_all()"
   ]
  },
  {
   "cell_type": "code",
   "execution_count": 7,
   "metadata": {
    "collapsed": true
   },
   "outputs": [],
   "source": [
    "os.environ[\"CUDA_DEVICE_ORDER\"]=\"PCI_BUS_ID\"   # see issue #152\n",
    "os.environ[\"CUDA_VISIBLE_DEVICES\"]=\"0\"\n",
    "config = tf.ConfigProto()\n",
    "config.gpu_options.allow_growth = True\n",
    "sess = tf.Session(config=config)\n",
    "sess.run(tf.global_variables_initializer())                          # For initializing all the variables\n",
    "saver = tf.train.Saver()                                             # For Saving the model\n",
    "summary_writer = tf.summary.FileWriter(log_dir, sess.graph)          # For writing Summaries"
   ]
  },
  {
   "cell_type": "code",
   "execution_count": 29,
   "metadata": {
    "collapsed": true
   },
   "outputs": [],
   "source": [
    "def data_prepare(x, y):\n",
    "    num_examples = len(x)\n",
    "\n",
    "    xx = np.zeros([num_examples, max_sent_size], dtype=int)\n",
    "    xx_mask = np.zeros([num_examples, max_sent_size], dtype=bool)\n",
    "    ss_mask = np.zeros([num_examples, max_sent_size], dtype=bool)\n",
    "    yy = np.zeros([num_examples,max_sent_size], dtype=int)\n",
    "    \n",
    "    for j in range(num_examples):\n",
    "        for i in range(max_sent_size):\n",
    "            if(i>=len(x[j])):\n",
    "                break\n",
    "            w = x[j][i]\n",
    "            s = y[j][i]\n",
    "            xx[j][i] = word2id[w] if w in word2id else word2id['UNKNOWN_TOKEN']\n",
    "            xx_mask[j][i] = True\n",
    "            ss_mask[j][i] = True if s in vocab_sense else False\n",
    "            yy[j][i] = sense2id[s] if s in vocab_sense else num_senses  \n",
    "        \n",
    "    return xx, xx_mask ,ss_mask , yy\n",
    "\n",
    "def model(xx, yy, mask, smask, train_cond=True, pretrain=False):\n",
    "    num_batches = int(len(xx)/batch_size)\n",
    "    losses = 0\n",
    "    preds_sense = []\n",
    "    true_sense = []\n",
    "    \n",
    "    for j in range(num_batches): \n",
    "        \n",
    "        s = j * batch_size\n",
    "        e = (j+1) * batch_size\n",
    "        \n",
    "        feed_dict = {x:xx[s:e], y:yy[s:e], x_mask:mask[s:e], sense_mask:smask[s:e], is_train:train_cond, input_keep_prob:keep_prob, word_emb_mat:word_embedding}\n",
    "        \n",
    "        \n",
    "        if(train_cond==True):\n",
    "            _, _loss, step, _summary = sess.run([train_op, total_loss, global_step, summary], feed_dict)\n",
    "            \n",
    "            summary_writer.add_summary(_summary, step)\n",
    "            if((j+1)%100==0):\n",
    "                print(\"Steps: {}\".format(step), \", Loss: {0:.4f}\".format(_loss))\n",
    "\n",
    "        else:\n",
    "            _loss, pred = sess.run([total_loss, predictions], feed_dict)\n",
    "            preds_sense.append(pred[smask[s:e]])\n",
    "            true_sense.append(yy[s:e][smask[s:e]])\n",
    "        \n",
    "\n",
    "        losses +=_loss\n",
    "\n",
    "    if(train_cond==False): \n",
    "        sense_preds = []\n",
    "        sense_true = []\n",
    "        for i in range(num_batches):\n",
    "            for ps in preds_sense[i]:      \n",
    "                sense_preds.append(ps)\n",
    "            for ts in true_sense[i]:\n",
    "                sense_true.append(ts)\n",
    "        return losses/num_batches, sense_preds, sense_true \n",
    "\n",
    "    return losses/num_batches, step\n",
    "\n",
    "def eval_score(yy, pred):\n",
    "    f1 = f1_score(yy, pred, average='macro')\n",
    "    accu = accuracy_score(yy, pred)\n",
    "    return f1*100, accu*100"
   ]
  },
  {
   "cell_type": "code",
   "execution_count": 9,
   "metadata": {},
   "outputs": [],
   "source": [
    "# np.random.seed(0)\n",
    "# random = np.random.choice(len(data_x), size=(len(data_x)), replace=False)\n",
    "\n",
    "# data_x = np.array(data_x)\n",
    "# data_y = np.array(data_label)\n",
    "# train_size = int(0.8*len(data_x))\n",
    "# x_train = data_x[random[:train_size]]\n",
    "# x_val = data_x[random[train_size:]]\n",
    "# y_train = data_y[random[:train_size]]\n",
    "# y_val = data_y[random[train_size:]]\n",
    "\n",
    "# x_id_train, mask_train, sense_mask_train, y_train = data_prepare(x_train, y_train)\n",
    "# x_id_val, mask_val, sense_mask_val, y_val = data_prepare(x_val, y_val)\n",
    "\n",
    "# with open('/data/aviraj/dataset/train_data','wb') as f:\n",
    "#     pickle.dump([x_id_train, mask_train, sense_mask_train, y_train], f)\n",
    "    \n",
    "# with open('/data/aviraj/dataset/val_data','wb') as f:\n",
    "#     pickle.dump([x_id_val, mask_val, sense_mask_val, y_val], f)\n",
    "    \n",
    "\n",
    "x_id_train, mask_train, sense_mask_train, y_train = train_data\n",
    "x_id_val, mask_val, sense_mask_val, y_val = val_data"
   ]
  },
  {
   "cell_type": "code",
   "execution_count": 10,
   "metadata": {
    "scrolled": true
   },
   "outputs": [
    {
     "name": "stdout",
     "output_type": "stream",
     "text": [
      "Steps: 100 , Loss: 2.9060\n",
      "Steps: 200 , Loss: 2.0829\n",
      "Steps: 300 , Loss: 1.4188\n",
      "Steps: 400 , Loss: 0.9241\n",
      "Steps: 500 , Loss: 0.6810\n",
      "Steps: 600 , Loss: 0.4979\n",
      "Steps: 700 , Loss: 0.4529\n",
      "Steps: 800 , Loss: 0.4216\n",
      "Steps: 900 , Loss: 0.3976\n",
      "Steps: 1000 , Loss: 0.3510\n",
      "Steps: 1100 , Loss: 0.3176\n",
      "Steps: 1200 , Loss: 0.2815\n",
      "Steps: 1300 , Loss: 0.3656\n",
      "Steps: 1400 , Loss: 0.4096\n",
      "Steps: 1500 , Loss: 0.2567\n",
      "Steps: 1600 , Loss: 0.2888\n",
      "Steps: 1700 , Loss: 0.3375\n",
      "Steps: 1800 , Loss: 0.2907\n",
      "Steps: 1900 , Loss: 0.2715\n",
      "Steps: 2000 , Loss: 0.3040\n",
      "Steps: 2100 , Loss: 0.2520\n",
      "Steps: 2200 , Loss: 0.2736\n",
      "Steps: 2300 , Loss: 0.2571\n",
      "Steps: 2400 , Loss: 0.2707\n",
      "Steps: 2500 , Loss: 0.3731\n",
      "Steps: 2600 , Loss: 0.3093\n",
      "Steps: 2700 , Loss: 0.2626\n",
      "Steps: 2800 , Loss: 0.2856\n",
      "Steps: 2900 , Loss: 0.3044\n",
      "Steps: 3000 , Loss: 0.2813\n",
      "Steps: 3100 , Loss: 0.2557\n",
      "Steps: 3200 , Loss: 0.2571\n",
      "Steps: 3300 , Loss: 0.2810\n",
      "Steps: 3400 , Loss: 0.2999\n",
      "Steps: 3500 , Loss: 0.2839\n",
      "Steps: 3600 , Loss: 0.2644\n",
      "Steps: 3700 , Loss: 0.2557\n",
      "Steps: 3800 , Loss: 0.2524\n",
      "Steps: 3900 , Loss: 0.2887\n",
      "Steps: 4000 , Loss: 0.2926\n",
      "Steps: 4100 , Loss: 0.3076\n",
      "Steps: 4200 , Loss: 0.3128\n",
      "Steps: 4300 , Loss: 0.3191\n",
      "Steps: 4400 , Loss: 0.2464\n",
      "Steps: 4500 , Loss: 0.2726\n",
      "Steps: 4600 , Loss: 0.3649\n",
      "Steps: 4700 , Loss: 0.2387\n",
      "Steps: 4800 , Loss: 0.2544\n",
      "Steps: 4900 , Loss: 0.2810\n",
      "Steps: 5000 , Loss: 0.2544\n",
      "Steps: 5100 , Loss: 0.2821\n",
      "Steps: 5200 , Loss: 0.2732\n",
      "Steps: 5300 , Loss: 0.2689\n",
      "Epoch: 1 , Step: 5318 , Loss: 0.4571 , Time: 25936.9859\n",
      "Model Saved\n"
     ]
    },
    {
     "ename": "KeyboardInterrupt",
     "evalue": "",
     "output_type": "error",
     "traceback": [
      "\u001b[0;31m---------------------------------------------------------------------------\u001b[0m",
      "\u001b[0;31mKeyboardInterrupt\u001b[0m                         Traceback (most recent call last)",
      "\u001b[0;32m<ipython-input-10-004322b6a750>\u001b[0m in \u001b[0;36m<module>\u001b[0;34m()\u001b[0m\n\u001b[1;32m     19\u001b[0m \u001b[0;34m\u001b[0m\u001b[0m\n\u001b[1;32m     20\u001b[0m         \u001b[0mstart_time\u001b[0m \u001b[0;34m=\u001b[0m \u001b[0mtime\u001b[0m\u001b[0;34m.\u001b[0m\u001b[0mtime\u001b[0m\u001b[0;34m(\u001b[0m\u001b[0;34m)\u001b[0m\u001b[0;34m\u001b[0m\u001b[0m\n\u001b[0;32m---> 21\u001b[0;31m         \u001b[0mtrain_loss\u001b[0m\u001b[0;34m,\u001b[0m \u001b[0mtrain_pred\u001b[0m\u001b[0;34m,\u001b[0m \u001b[0mtrain_true\u001b[0m \u001b[0;34m=\u001b[0m \u001b[0mmodel\u001b[0m\u001b[0;34m(\u001b[0m\u001b[0mx_id_train\u001b[0m\u001b[0;34m,\u001b[0m \u001b[0my_train\u001b[0m\u001b[0;34m,\u001b[0m \u001b[0msense_mask_train\u001b[0m\u001b[0;34m,\u001b[0m \u001b[0mmask_train\u001b[0m\u001b[0;34m,\u001b[0m \u001b[0mtrain_cond\u001b[0m\u001b[0;34m=\u001b[0m\u001b[0;32mFalse\u001b[0m\u001b[0;34m)\u001b[0m\u001b[0;34m\u001b[0m\u001b[0m\n\u001b[0m\u001b[1;32m     22\u001b[0m         \u001b[0mf1_\u001b[0m\u001b[0;34m,\u001b[0m \u001b[0maccu_\u001b[0m \u001b[0;34m=\u001b[0m \u001b[0meval_score\u001b[0m\u001b[0;34m(\u001b[0m\u001b[0mtrain_true\u001b[0m\u001b[0;34m,\u001b[0m \u001b[0mtrain_pred\u001b[0m\u001b[0;34m)\u001b[0m\u001b[0;34m\u001b[0m\u001b[0m\n\u001b[1;32m     23\u001b[0m         \u001b[0mtime_taken\u001b[0m \u001b[0;34m=\u001b[0m \u001b[0mtime\u001b[0m\u001b[0;34m.\u001b[0m\u001b[0mtime\u001b[0m\u001b[0;34m(\u001b[0m\u001b[0;34m)\u001b[0m \u001b[0;34m-\u001b[0m \u001b[0mstart_time\u001b[0m\u001b[0;34m\u001b[0m\u001b[0m\n",
      "\u001b[0;32m<ipython-input-8-7cd8ac1f8321>\u001b[0m in \u001b[0;36mmodel\u001b[0;34m(xx, yy, mask, smask, train_cond, pretrain)\u001b[0m\n\u001b[1;32m     42\u001b[0m \u001b[0;34m\u001b[0m\u001b[0m\n\u001b[1;32m     43\u001b[0m         \u001b[0;32melse\u001b[0m\u001b[0;34m:\u001b[0m\u001b[0;34m\u001b[0m\u001b[0m\n\u001b[0;32m---> 44\u001b[0;31m             \u001b[0m_loss\u001b[0m\u001b[0;34m,\u001b[0m \u001b[0mpred\u001b[0m \u001b[0;34m=\u001b[0m \u001b[0msess\u001b[0m\u001b[0;34m.\u001b[0m\u001b[0mrun\u001b[0m\u001b[0;34m(\u001b[0m\u001b[0;34m[\u001b[0m\u001b[0mtotal_loss\u001b[0m\u001b[0;34m,\u001b[0m \u001b[0mpredictions\u001b[0m\u001b[0;34m]\u001b[0m\u001b[0;34m,\u001b[0m \u001b[0mfeed_dict\u001b[0m\u001b[0;34m)\u001b[0m\u001b[0;34m\u001b[0m\u001b[0m\n\u001b[0m\u001b[1;32m     45\u001b[0m             \u001b[0mpreds_sense\u001b[0m\u001b[0;34m.\u001b[0m\u001b[0mappend\u001b[0m\u001b[0;34m(\u001b[0m\u001b[0mpred\u001b[0m\u001b[0;34m[\u001b[0m\u001b[0msmask\u001b[0m\u001b[0;34m[\u001b[0m\u001b[0ms\u001b[0m\u001b[0;34m:\u001b[0m\u001b[0me\u001b[0m\u001b[0;34m]\u001b[0m\u001b[0;34m]\u001b[0m\u001b[0;34m)\u001b[0m\u001b[0;34m\u001b[0m\u001b[0m\n\u001b[1;32m     46\u001b[0m             \u001b[0mtrue_sense\u001b[0m\u001b[0;34m.\u001b[0m\u001b[0mappend\u001b[0m\u001b[0;34m(\u001b[0m\u001b[0myy\u001b[0m\u001b[0;34m[\u001b[0m\u001b[0ms\u001b[0m\u001b[0;34m:\u001b[0m\u001b[0me\u001b[0m\u001b[0;34m]\u001b[0m\u001b[0;34m[\u001b[0m\u001b[0msmask\u001b[0m\u001b[0;34m[\u001b[0m\u001b[0ms\u001b[0m\u001b[0;34m:\u001b[0m\u001b[0me\u001b[0m\u001b[0;34m]\u001b[0m\u001b[0;34m]\u001b[0m\u001b[0;34m)\u001b[0m\u001b[0;34m\u001b[0m\u001b[0m\n",
      "\u001b[0;32m/usr/local/lib/python3.5/dist-packages/tensorflow/python/client/session.py\u001b[0m in \u001b[0;36mrun\u001b[0;34m(self, fetches, feed_dict, options, run_metadata)\u001b[0m\n\u001b[1;32m    787\u001b[0m     \u001b[0;32mtry\u001b[0m\u001b[0;34m:\u001b[0m\u001b[0;34m\u001b[0m\u001b[0m\n\u001b[1;32m    788\u001b[0m       result = self._run(None, fetches, feed_dict, options_ptr,\n\u001b[0;32m--> 789\u001b[0;31m                          run_metadata_ptr)\n\u001b[0m\u001b[1;32m    790\u001b[0m       \u001b[0;32mif\u001b[0m \u001b[0mrun_metadata\u001b[0m\u001b[0;34m:\u001b[0m\u001b[0;34m\u001b[0m\u001b[0m\n\u001b[1;32m    791\u001b[0m         \u001b[0mproto_data\u001b[0m \u001b[0;34m=\u001b[0m \u001b[0mtf_session\u001b[0m\u001b[0;34m.\u001b[0m\u001b[0mTF_GetBuffer\u001b[0m\u001b[0;34m(\u001b[0m\u001b[0mrun_metadata_ptr\u001b[0m\u001b[0;34m)\u001b[0m\u001b[0;34m\u001b[0m\u001b[0m\n",
      "\u001b[0;32m/usr/local/lib/python3.5/dist-packages/tensorflow/python/client/session.py\u001b[0m in \u001b[0;36m_run\u001b[0;34m(self, handle, fetches, feed_dict, options, run_metadata)\u001b[0m\n\u001b[1;32m    966\u001b[0m             \u001b[0mfeed_handles\u001b[0m\u001b[0;34m[\u001b[0m\u001b[0msubfeed_name\u001b[0m\u001b[0;34m]\u001b[0m \u001b[0;34m=\u001b[0m \u001b[0msubfeed_val\u001b[0m\u001b[0;34m\u001b[0m\u001b[0m\n\u001b[1;32m    967\u001b[0m           \u001b[0;32melse\u001b[0m\u001b[0;34m:\u001b[0m\u001b[0;34m\u001b[0m\u001b[0m\n\u001b[0;32m--> 968\u001b[0;31m             \u001b[0mnp_val\u001b[0m \u001b[0;34m=\u001b[0m \u001b[0mnp\u001b[0m\u001b[0;34m.\u001b[0m\u001b[0masarray\u001b[0m\u001b[0;34m(\u001b[0m\u001b[0msubfeed_val\u001b[0m\u001b[0;34m,\u001b[0m \u001b[0mdtype\u001b[0m\u001b[0;34m=\u001b[0m\u001b[0msubfeed_dtype\u001b[0m\u001b[0;34m)\u001b[0m\u001b[0;34m\u001b[0m\u001b[0m\n\u001b[0m\u001b[1;32m    969\u001b[0m \u001b[0;34m\u001b[0m\u001b[0m\n\u001b[1;32m    970\u001b[0m           if (not is_tensor_handle_feed and\n",
      "\u001b[0;32m/usr/local/lib/python3.5/dist-packages/numpy/core/numeric.py\u001b[0m in \u001b[0;36masarray\u001b[0;34m(a, dtype, order)\u001b[0m\n\u001b[1;32m    529\u001b[0m \u001b[0;34m\u001b[0m\u001b[0m\n\u001b[1;32m    530\u001b[0m     \"\"\"\n\u001b[0;32m--> 531\u001b[0;31m     \u001b[0;32mreturn\u001b[0m \u001b[0marray\u001b[0m\u001b[0;34m(\u001b[0m\u001b[0ma\u001b[0m\u001b[0;34m,\u001b[0m \u001b[0mdtype\u001b[0m\u001b[0;34m,\u001b[0m \u001b[0mcopy\u001b[0m\u001b[0;34m=\u001b[0m\u001b[0;32mFalse\u001b[0m\u001b[0;34m,\u001b[0m \u001b[0morder\u001b[0m\u001b[0;34m=\u001b[0m\u001b[0morder\u001b[0m\u001b[0;34m)\u001b[0m\u001b[0;34m\u001b[0m\u001b[0m\n\u001b[0m\u001b[1;32m    532\u001b[0m \u001b[0;34m\u001b[0m\u001b[0m\n\u001b[1;32m    533\u001b[0m \u001b[0;34m\u001b[0m\u001b[0m\n",
      "\u001b[0;31mKeyboardInterrupt\u001b[0m: "
     ]
    }
   ],
   "source": [
    "num_epochs = 5\n",
    "log_period = 1\n",
    "log_num_batch = 10\n",
    "\n",
    "for i in range(num_epochs):\n",
    "    random = np.random.choice(len(y_train), size=(len(y_train)), replace=False)\n",
    "    x_id_train = x_id_train[random]\n",
    "    y_train = y_train[random]\n",
    "    mask_train = mask_train[random]    \n",
    "    sense_mask_train = sense_mask_train[random]\n",
    "    \n",
    "    start_time = time.time()\n",
    "    losses, step = model(x_id_train, y_train, sense_mask_train, mask_train)\n",
    "    time_taken = time.time() - start_time\n",
    "    print(\"Epoch: {}\".format(i+1),\", Step: {}\".format(step), \", Loss: {0:.4f}\".format(losses), \", Time: {0:.4f}\".format(time_taken))\n",
    "    \n",
    "    if((i+1)%log_period==0):\n",
    "        saver.save(sess, save_path=save_dir)                         \n",
    "        print(\"Model Saved\")\n",
    "        \n",
    "        rdm = np.random.choice(len(y_train), size=(log_num_batch*batch_size), replace=False)\n",
    "        x_id_train_rd = x_id_train[rdm]\n",
    "        y_train_rd = y_train[rdm]\n",
    "        mask_train_rd = mask_train[rdm]    \n",
    "        sense_mask_train_rd = sense_mask_train[rdm]\n",
    "        start_time = time.time()\n",
    "        train_loss, train_pred, train_true = model(x_id_train_rd, y_train_rd, sense_mask_train_rd, mask_train_rd, train_cond=False)        \n",
    "        f1_, accu_ = eval_score(train_true, train_pred)\n",
    "        time_taken = time.time() - start_time\n",
    "        print(\"Train: F1: {0:.4f}\".format(f1_), \", Accu: {0:.4f}\".format(accu_), \", Loss: {0:.4f}\".format(train_loss), \", Time: {0:.4f}\".format(time_taken))\n",
    "        \n",
    "        rdm = np.random.choice(len(y_val), size=(log_num_batch*batch_size), replace=False)\n",
    "        x_id_val_rd = x_id_val[rdm]\n",
    "        y_val_rd = y_val[rdm]\n",
    "        mask_val_rd = mask_val[rdm]    \n",
    "        sense_mask_val_rd = sense_mask_val[rdm]\n",
    "        start_time = time.time()\n",
    "        val_loss, val_pred, val_true = model(x_id_val_rd, y_val_rd, sense_mask_val_rd, mask_val_rd, train_cond=False)        \n",
    "        f1_, accu_ = eval_score(val_true, val_pred)\n",
    "        time_taken = time.time() - start_time\n",
    "        print(\"Train: F1: {0:.4f}\".format(f1_), \", Accu: {0:.4f}\".format(accu_), \", Loss: {0:.4f}\".format(val_loss), \", Time: {0:.4f}\".format(time_taken))"
   ]
  },
  {
   "cell_type": "code",
   "execution_count": 31,
   "metadata": {
    "scrolled": true
   },
   "outputs": [
    {
     "name": "stdout",
     "output_type": "stream",
     "text": [
      "Train: F1: 2.4577 , Accu: 96.6701 , Loss: 0.2513 , Time: 9.9284\n"
     ]
    },
    {
     "name": "stderr",
     "output_type": "stream",
     "text": [
      "/users/btech/aviraj/cs771/lib/python3.5/site-packages/sklearn/metrics/classification.py:1135: UndefinedMetricWarning: F-score is ill-defined and being set to 0.0 in labels with no predicted samples.\n",
      "  'precision', 'predicted', average, warn_for)\n"
     ]
    }
   ],
   "source": [
    "rdm = np.random.choice(len(y_val), size=(log_num_batch*batch_size), replace=False)\n",
    "x_id_val_rd = x_id_val[rdm]\n",
    "y_val_rd = y_val[rdm]\n",
    "mask_val_rd = mask_val[rdm]    \n",
    "sense_mask_val_rd = sense_mask_val[rdm]\n",
    "start_time = time.time()\n",
    "val_loss, val_pred, val_true = model(x_id_val_rd, y_val_rd, sense_mask_val_rd, mask_val_rd, train_cond=False)        \n",
    "f1_, accu_ = eval_score(val_true, val_pred)\n",
    "time_taken = time.time() - start_time\n",
    "print(\"Train: F1: {0:.4f}\".format(f1_), \", Accu: {0:.4f}\".format(accu_), \", Loss: {0:.4f}\".format(val_loss), \", Time: {0:.4f}\".format(time_taken))"
   ]
  },
  {
   "cell_type": "code",
   "execution_count": 22,
   "metadata": {
    "scrolled": false
   },
   "outputs": [
    {
     "data": {
      "text/plain": [
       "array([46, 46, 46, ..., 46, 46, 46])"
      ]
     },
     "execution_count": 22,
     "metadata": {},
     "output_type": "execute_result"
    }
   ],
   "source": [
    "val_true[0]"
   ]
  },
  {
   "cell_type": "code",
   "execution_count": null,
   "metadata": {
    "collapsed": true
   },
   "outputs": [],
   "source": []
  },
  {
   "cell_type": "code",
   "execution_count": 24,
   "metadata": {},
   "outputs": [
    {
     "data": {
      "text/plain": [
       "2"
      ]
     },
     "execution_count": 24,
     "metadata": {},
     "output_type": "execute_result"
    }
   ],
   "source": [
    "len(val_true)"
   ]
  },
  {
   "cell_type": "code",
   "execution_count": 23,
   "metadata": {},
   "outputs": [
    {
     "data": {
      "text/plain": [
       "array([46, 46, 46, ..., 46, 46, 46])"
      ]
     },
     "execution_count": 23,
     "metadata": {},
     "output_type": "execute_result"
    }
   ],
   "source": [
    "val_pred[0]"
   ]
  },
  {
   "cell_type": "code",
   "execution_count": 18,
   "metadata": {
    "collapsed": true
   },
   "outputs": [],
   "source": [
    "log_num_batch = 2"
   ]
  },
  {
   "cell_type": "code",
   "execution_count": null,
   "metadata": {
    "collapsed": true
   },
   "outputs": [],
   "source": []
  },
  {
   "cell_type": "code",
   "execution_count": null,
   "metadata": {
    "collapsed": true
   },
   "outputs": [],
   "source": [
    "saver.restore(sess, save_dir)"
   ]
  }
 ],
 "metadata": {
  "kernelspec": {
   "display_name": "cs771",
   "language": "python",
   "name": "cs771"
  },
  "language_info": {
   "codemirror_mode": {
    "name": "ipython",
    "version": 3
   },
   "file_extension": ".py",
   "mimetype": "text/x-python",
   "name": "python",
   "nbconvert_exporter": "python",
   "pygments_lexer": "ipython3",
   "version": "3.5.2"
  }
 },
 "nbformat": 4,
 "nbformat_minor": 2
}
