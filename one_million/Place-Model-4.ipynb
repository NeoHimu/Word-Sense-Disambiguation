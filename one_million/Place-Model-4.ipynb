{
 "cells": [
  {
   "cell_type": "code",
   "execution_count": 1,
   "metadata": {
    "collapsed": true
   },
   "outputs": [],
   "source": [
    "import tensorflow as tf\n",
    "tf.logging.set_verbosity(tf.logging.WARN)\n",
    "import pickle\n",
    "import numpy as np\n",
    "import os\n",
    "from sklearn.model_selection import train_test_split\n",
    "from sklearn.metrics import f1_score\n",
    "from sklearn.metrics import accuracy_score\n",
    "import os\n",
    "from tensorflow.python.client import device_lib\n",
    "from collections import Counter\n",
    "from math import inf"
   ]
  },
  {
   "cell_type": "code",
   "execution_count": 2,
   "metadata": {
    "collapsed": true
   },
   "outputs": [],
   "source": [
    "f = open('../Glove/word_embedding_glove', 'rb')\n",
    "word_embedding = pickle.load(f)\n",
    "f.close()\n",
    "word_embedding = word_embedding[: len(word_embedding)-1]\n",
    "\n",
    "f = open('../Glove/vocab_glove', 'rb')\n",
    "vocab = pickle.load(f)\n",
    "f.close()\n",
    "\n",
    "word2id = dict((w, i) for i,w in enumerate(vocab))\n",
    "id2word = dict((i, w) for i,w in enumerate(vocab))\n",
    "\n",
    "unknown_token = \"UNKNOWN_TOKEN\""
   ]
  },
  {
   "cell_type": "code",
   "execution_count": 3,
   "metadata": {
    "collapsed": true
   },
   "outputs": [],
   "source": [
    "f = open(\"../../dataset/sense/dict_sense-keys\", 'rb')\n",
    "dict_sense_keys = pickle.load(f)\n",
    "f.close()\n",
    "\n",
    "f = open(\"../../dataset/sense/dict_word-sense\", 'rb')\n",
    "dict_word_sense = pickle.load(f)\n",
    "f.close()"
   ]
  },
  {
   "cell_type": "code",
   "execution_count": 4,
   "metadata": {
    "collapsed": true
   },
   "outputs": [],
   "source": [
    "# Model Description\n",
    "sense_word = 'place'\n",
    "model_name = 'model-4'\n",
    "sense_word_dir = 'output/' + sense_word\n",
    "model_dir = sense_word_dir + '/' + model_name\n",
    "save_dir = os.path.join(model_dir, \"save/\")\n",
    "log_dir = os.path.join(model_dir, \"log\")\n",
    "\n",
    "if not os.path.exists(sense_word_dir):\n",
    "    os.mkdir(sense_word_dir)\n",
    "if not os.path.exists(model_dir):\n",
    "    os.mkdir(model_dir)\n",
    "if not os.path.exists(save_dir):\n",
    "    os.mkdir(save_dir)\n",
    "if not os.path.exists(log_dir):\n",
    "    os.mkdir(log_dir)"
   ]
  },
  {
   "cell_type": "code",
   "execution_count": 5,
   "metadata": {
    "scrolled": false
   },
   "outputs": [
    {
     "data": {
      "text/plain": [
       "([('1:15', 1149),\n",
       "  ('2:35', 623),\n",
       "  ('2:41', 490),\n",
       "  ('1:26', 488),\n",
       "  ('2:31', 479),\n",
       "  ('1:04', 282)],\n",
       " ['1:15', '1:26', '1:04', '2:35', '2:41', '2:31'])"
      ]
     },
     "execution_count": 5,
     "metadata": {},
     "output_type": "execute_result"
    }
   ],
   "source": [
    "f = open(\"../../dataset/checkwords/\"+ sense_word + \"_data\", 'rb')\n",
    "data = pickle.load(f)\n",
    "f.close()\n",
    "\n",
    "data_y = []\n",
    "for i in range(len(data)):\n",
    "    data_y.append(dict_sense_keys[data[i][0]][3])\n",
    "\n",
    "sense_count = Counter(data_y)\n",
    "sense_count = sense_count.most_common()[:6]\n",
    "vocab_sense = [k for k,v in sense_count]\n",
    "vocab_sense = sorted(vocab_sense, key=lambda x:int(x[0]))\n",
    "sense_count,vocab_sense"
   ]
  },
  {
   "cell_type": "code",
   "execution_count": 6,
   "metadata": {
    "collapsed": true
   },
   "outputs": [],
   "source": [
    "def make_mask_matrix(sense_word,vocab_sense):\n",
    "    mask_mat = []\n",
    "    sense_list = [int(string[0]) for string in vocab_sense]\n",
    "    sense_count = list(Counter(sense_list).values())\n",
    "    start=0\n",
    "    prev=0\n",
    "    for i in range(len(set(sense_list))):\n",
    "        temp_row=[0]*len(sense_list)\n",
    "        for j in range(len(sense_list)):\n",
    "            if j>=start and j<sense_count[i]+prev:\n",
    "                temp_row[j]= 0\n",
    "            else:\n",
    "                temp_row[j]= -inf\n",
    "        start+=sense_count[i]\n",
    "        prev+=sense_count[i]\n",
    "        mask_mat.append(temp_row)\n",
    "    return mask_mat"
   ]
  },
  {
   "cell_type": "code",
   "execution_count": 7,
   "metadata": {},
   "outputs": [
    {
     "data": {
      "text/plain": [
       "['1:15', '1:26', '1:04', '2:35', '2:41', '2:31']"
      ]
     },
     "execution_count": 7,
     "metadata": {},
     "output_type": "execute_result"
    }
   ],
   "source": [
    "vocab_sense"
   ]
  },
  {
   "cell_type": "code",
   "execution_count": 8,
   "metadata": {},
   "outputs": [
    {
     "data": {
      "text/plain": [
       "[[0, 0, 0, -inf, -inf, -inf], [-inf, -inf, -inf, 0, 0, 0]]"
      ]
     },
     "execution_count": 8,
     "metadata": {},
     "output_type": "execute_result"
    }
   ],
   "source": [
    "mask_mat = make_mask_matrix(sense_word,vocab_sense)\n",
    "mask_mat"
   ]
  },
  {
   "cell_type": "code",
   "execution_count": 9,
   "metadata": {},
   "outputs": [
    {
     "name": "stdout",
     "output_type": "stream",
     "text": [
      "3511 3569\n",
      "[1, 2]\n"
     ]
    }
   ],
   "source": [
    "data_x = []\n",
    "data_label = []\n",
    "data_pos = []\n",
    "for i in range(len(data)):\n",
    "    if dict_sense_keys[data[i][0]][3] in vocab_sense:\n",
    "        data_x.append(data[i][1])\n",
    "        data_label.append(dict_sense_keys[data[i][0]][3])\n",
    "        data_pos.append(dict_sense_keys[data[i][0]][1])\n",
    "\n",
    "\n",
    "print(len(data_label), len(data_y))\n",
    "\n",
    "# vocab_sense = dict_word_sense[sense_word]\n",
    "\n",
    "sense2id = dict((s, i) for i,s in enumerate(vocab_sense))\n",
    "id2sense = dict((i, s) for i,s in enumerate(vocab_sense))\n",
    "\n",
    "count_pos = Counter(data_pos)\n",
    "count_pos = count_pos.most_common()\n",
    "vocab_pos = [int(k) for k,v in count_pos]\n",
    "vocab_pos = sorted(vocab_pos, key=lambda x:int(x))\n",
    "\n",
    "pos2id = dict((str(s), i) for i,s in enumerate(vocab_pos))\n",
    "id2pos = dict((i, str(s)) for i,s in enumerate(vocab_pos))\n",
    "\n",
    "print(vocab_pos)"
   ]
  },
  {
   "cell_type": "code",
   "execution_count": 10,
   "metadata": {
    "collapsed": true
   },
   "outputs": [],
   "source": [
    "# Parameters\n",
    "mode = 'train'\n",
    "num_senses = len(vocab_sense)\n",
    "num_pos = len(vocab_pos)\n",
    "batch_size = 64\n",
    "vocab_size = len(vocab)\n",
    "unk_vocab_size = 1\n",
    "word_emb_size = len(word_embedding[0])\n",
    "max_sent_size = 200\n",
    "hidden_size = 100\n",
    "keep_prob = 0.5\n",
    "l2_lambda = 0.001\n",
    "init_lr = 0.005\n",
    "decay_steps = 500\n",
    "decay_rate = 0.96\n",
    "clip_norm = 1\n",
    "clipping = True"
   ]
  },
  {
   "cell_type": "code",
   "execution_count": 11,
   "metadata": {
    "collapsed": true,
    "scrolled": true
   },
   "outputs": [],
   "source": [
    "# MODEL\n",
    "def attention(input_x, input_mask, W_att):\n",
    "    h_masked = tf.boolean_mask(input_x, input_mask)\n",
    "    h_tanh = tf.tanh(h_masked)\n",
    "    u = tf.matmul(h_tanh, W_att)\n",
    "    a = tf.nn.softmax(u)\n",
    "    c = tf.reduce_sum(tf.multiply(h_tanh, a), 0)  \n",
    "    return c\n",
    "\n",
    "x = tf.placeholder('int32', [batch_size, max_sent_size], name=\"x\")\n",
    "y = tf.placeholder('int32', [batch_size], name=\"y\")\n",
    "y_pos = tf.placeholder('int32', [batch_size], name=\"y_pos\")\n",
    "x_mask  = tf.placeholder('bool', [batch_size, max_sent_size], name='x_mask') \n",
    "is_train = tf.placeholder('bool', [], name='is_train')\n",
    "word_emb_mat = tf.placeholder('float', [None, word_emb_size], name='emb_mat')\n",
    "input_keep_prob = tf.cond(is_train,lambda:keep_prob, lambda:tf.constant(1.0))\n",
    "x_len = tf.reduce_sum(tf.cast(x_mask, 'int32'), 1)\n",
    "\n",
    "mask_matrix = tf.constant(value=mask_mat, shape=list(np.array(mask_mat).shape)) # mask_matrix\n",
    "\n",
    "with tf.name_scope(\"word_embedding\"):\n",
    "    if mode == 'train':\n",
    "        unk_word_emb_mat = tf.get_variable(\"word_emb_mat\", dtype='float', shape=[unk_vocab_size, word_emb_size], initializer=tf.contrib.layers.xavier_initializer(uniform=True, seed=0, dtype=tf.float32))\n",
    "    else:\n",
    "        unk_word_emb_mat = tf.get_variable(\"word_emb_mat\", shape=[unk_vocab_size, word_emb_size], dtype='float')\n",
    "        \n",
    "    final_word_emb_mat = tf.concat([word_emb_mat, unk_word_emb_mat], 0)\n",
    "    Wx = tf.nn.embedding_lookup(final_word_emb_mat, x)  \n",
    "\n",
    "with tf.variable_scope(\"lstm1\"):\n",
    "    cell_fw1 = tf.contrib.rnn.BasicLSTMCell(hidden_size,state_is_tuple=True)\n",
    "    cell_bw1 = tf.contrib.rnn.BasicLSTMCell(hidden_size,state_is_tuple=True)\n",
    "\n",
    "    d_cell_fw1 = tf.contrib.rnn.DropoutWrapper(cell_fw1, input_keep_prob=input_keep_prob)\n",
    "    d_cell_bw1 = tf.contrib.rnn.DropoutWrapper(cell_bw1, input_keep_prob=input_keep_prob)\n",
    "    \n",
    "    (fw_h1, bw_h1), _ = tf.nn.bidirectional_dynamic_rnn(d_cell_fw1, d_cell_bw1, Wx, sequence_length=x_len, dtype='float', scope='lstm1')\n",
    "    h1 = tf.concat([fw_h1, bw_h1], 2)\n",
    "    \n",
    "with tf.variable_scope(\"lstm2\"):\n",
    "    cell_fw2 = tf.contrib.rnn.BasicLSTMCell(hidden_size,state_is_tuple=True)\n",
    "    cell_bw2 = tf.contrib.rnn.BasicLSTMCell(hidden_size,state_is_tuple=True)\n",
    "\n",
    "    d_cell_fw2 = tf.contrib.rnn.DropoutWrapper(cell_fw2, input_keep_prob=input_keep_prob)\n",
    "    d_cell_bw2 = tf.contrib.rnn.DropoutWrapper(cell_bw2, input_keep_prob=input_keep_prob)\n",
    "    \n",
    "    (fw_h2, bw_h2), _ = tf.nn.bidirectional_dynamic_rnn(d_cell_fw2, d_cell_bw2, h1, sequence_length=x_len, dtype='float', scope='lstm2')\n",
    "    h = tf.concat([fw_h2, bw_h2], 2)\n",
    "    \n",
    "with tf.variable_scope(\"attention_pos\"):\n",
    "    W_att1 = tf.Variable(tf.truncated_normal([2*hidden_size, 1], mean=0.0, stddev=0.1, seed=0), name=\"W_att1\")\n",
    "    c1 = tf.expand_dims(attention(h1[0], x_mask[0], W_att1), 0)\n",
    "    for i in range(1, batch_size):\n",
    "        c1 = tf.concat([c1, tf.expand_dims(attention(h1[i], x_mask[i], W_att1), 0)], 0)\n",
    "        \n",
    "with tf.variable_scope(\"softmax_layer_pos\"):\n",
    "    W1 = tf.Variable(tf.truncated_normal([2*hidden_size, num_pos], mean=0.0, stddev=0.1, seed=0), name=\"W1\")\n",
    "    b1 = tf.Variable(tf.zeros([num_pos]), name=\"b1\")\n",
    "    drop_c1 = tf.nn.dropout(c1, input_keep_prob)\n",
    "    logits_pos = tf.matmul(drop_c1, W1) + b1\n",
    "    predictions_pos = tf.argmax(logits_pos, 1)\n",
    "    final_masking = tf.nn.embedding_lookup(mask_matrix, predictions_pos)\n",
    "\n",
    "with tf.variable_scope(\"attention\"):\n",
    "    W_att = tf.Variable(tf.truncated_normal([2*hidden_size, 1], mean=0.0, stddev=0.1, seed=0), name=\"W_att\")\n",
    "    c = tf.expand_dims(attention(h[0], x_mask[0], W_att), 0)\n",
    "    for i in range(1, batch_size):\n",
    "        c = tf.concat([c, tf.expand_dims(attention(h[i], x_mask[i], W_att), 0)], 0)\n",
    "        \n",
    "with tf.variable_scope(\"softmax_layer\"):\n",
    "    W = tf.Variable(tf.truncated_normal([2*hidden_size, num_senses], mean=0.0, stddev=0.1, seed=0), name=\"W\")\n",
    "    b = tf.Variable(tf.zeros([num_senses]), name=\"b\")\n",
    "    drop_c = tf.nn.dropout(c, input_keep_prob)\n",
    "    logits = tf.matmul(drop_c, W) + b\n",
    "    masked_logits = logits + final_masking\n",
    "    predictions = tf.argmax(masked_logits, 1)\n",
    "    \n",
    "loss_pos = tf.reduce_mean(tf.nn.sparse_softmax_cross_entropy_with_logits(logits=logits_pos, labels=y_pos))\n",
    "loss = tf.reduce_mean(tf.nn.sparse_softmax_cross_entropy_with_logits(logits=masked_logits, labels=y))\n",
    "\n",
    "global_step = tf.Variable(0, trainable=False, name=\"global_step\")\n",
    "\n",
    "learning_rate = tf.train.exponential_decay(init_lr, global_step, decay_steps, decay_rate, staircase=True)\n",
    "\n",
    "tv_all = tf.trainable_variables()\n",
    "tv_regu =[]\n",
    "for t in tv_all:\n",
    "    if t.name.find('b:')==-1:\n",
    "        tv_regu.append(t)\n",
    "        \n",
    "# l2 Loss\n",
    "l2_loss = l2_lambda * tf.reduce_sum([ tf.nn.l2_loss(v) for v in tv_regu ])\n",
    "\n",
    "total_loss = loss + l2_loss + loss_pos\n",
    "\n",
    "#pos optimizer\n",
    "pos_optimizer = tf.train.AdamOptimizer(learning_rate).minimize(loss_pos, global_step)\n",
    "\n",
    "# Optimizer for loss\n",
    "optimizer = tf.train.AdamOptimizer(learning_rate)\n",
    "\n",
    "# Gradients and Variables for Loss\n",
    "grads_vars = optimizer.compute_gradients(total_loss)\n",
    "\n",
    "# Clipping of Gradients\n",
    "clipped_grads = grads_vars\n",
    "if(clipping == True):\n",
    "    clipped_grads = [(tf.clip_by_norm(grad, clip_norm), var) for grad, var in clipped_grads]\n",
    "\n",
    "# Training Optimizer for Total Loss\n",
    "train_op = optimizer.apply_gradients(clipped_grads, global_step=global_step)\n",
    "\n",
    "# Summaries\n",
    "var_summaries = []\n",
    "for v in tv_all:\n",
    "    var_summary = tf.summary.histogram(\"{}/var\".format(v.name), v)\n",
    "    var_summaries.append(var_summary)\n",
    "\n",
    "var_summaries_merged = tf.summary.merge(var_summaries)\n",
    "\n",
    "loss_summary = tf.summary.scalar(\"loss\", loss)\n",
    "loss_poss_summary = tf.summary.scalar('loss_pos',loss_pos)\n",
    "total_loss_summary = tf.summary.scalar(\"total_loss\", total_loss)\n",
    "summary = tf.summary.merge_all()"
   ]
  },
  {
   "cell_type": "code",
   "execution_count": 12,
   "metadata": {
    "collapsed": true
   },
   "outputs": [],
   "source": [
    "os.environ[\"CUDA_DEVICE_ORDER\"]=\"PCI_BUS_ID\"   # see issue #152\n",
    "os.environ[\"CUDA_VISIBLE_DEVICES\"]=\"0\"\n",
    "config = tf.ConfigProto()\n",
    "config.gpu_options.allow_growth = True\n",
    "sess = tf.Session(config=config)\n",
    "sess.run(tf.global_variables_initializer())                          # For initializing all the variables\n",
    "saver = tf.train.Saver()                                             # For Saving the model\n",
    "summary_writer = tf.summary.FileWriter(log_dir, sess.graph)          # For writing Summaries"
   ]
  },
  {
   "cell_type": "code",
   "execution_count": 13,
   "metadata": {
    "collapsed": true
   },
   "outputs": [],
   "source": [
    "index = []\n",
    "for i in range(len(data_x)):\n",
    "    index.append(i)"
   ]
  },
  {
   "cell_type": "code",
   "execution_count": 14,
   "metadata": {
    "scrolled": true
   },
   "outputs": [
    {
     "name": "stderr",
     "output_type": "stream",
     "text": [
      "/users/btech/aviraj/cs771/lib/python3.5/site-packages/sklearn/model_selection/_split.py:2026: FutureWarning: From version 0.21, test_size will always complement train_size unless both are specified.\n",
      "  FutureWarning)\n"
     ]
    }
   ],
   "source": [
    "index_train, index_val, label_train, label_val = train_test_split(index, data_label, train_size=0.8, shuffle=True, stratify=data_label, random_state=0)\n",
    "\n",
    "data_x = np.array(data_x)\n",
    "data_pos = np.array(data_pos)\n",
    "\n",
    "x_train = data_x[index_train]\n",
    "pos_train = data_pos[index_train]\n",
    "x_val = data_x[index_val]\n",
    "pos_val = data_pos[index_val]"
   ]
  },
  {
   "cell_type": "code",
   "execution_count": 15,
   "metadata": {
    "collapsed": true
   },
   "outputs": [],
   "source": [
    "def data_prepare(x, y, p):\n",
    "    num_examples = len(x)\n",
    "\n",
    "    xx = np.zeros([num_examples, max_sent_size], dtype=int)\n",
    "    xx_mask = np.zeros([num_examples, max_sent_size], dtype=bool)\n",
    "    yy = np.zeros([num_examples], dtype=int)\n",
    "    pp = np.zeros([num_examples], dtype=int)\n",
    "    \n",
    "    for j in range(num_examples):\n",
    "        for i in range(max_sent_size):\n",
    "            if(i>=len(x[j])):\n",
    "                break\n",
    "            w = x[j][i]\n",
    "            xx[j][i] = word2id[w] if w in word2id else word2id['UNKNOWN_TOKEN']\n",
    "            xx_mask[j][i] = True\n",
    "        yy[j] = sense2id[y[j]]\n",
    "        pp[j] = pos2id[p[j]]\n",
    "    return xx, xx_mask, yy, pp\n",
    "\n",
    "def eval_score(yy, pred, pp, pred_pos):\n",
    "    num_batches = int(len(yy)/batch_size)\n",
    "    f1 = f1_score(yy[:batch_size*num_batches], pred, average='macro')\n",
    "    accu = accuracy_score(yy[:batch_size*num_batches], pred)\n",
    "    \n",
    "    f1_pos = f1_score(pp[:batch_size*num_batches], pred_pos, average='macro')\n",
    "    accu_pos = accuracy_score(pp[:batch_size*num_batches], pred_pos)\n",
    "    return f1*100, accu*100, f1_pos*100, accu_pos*100\n",
    "\n",
    "def model(xx, yy, mask, pp, train_cond=True, pre_train=False):\n",
    "    num_batches = int(len(xx)/batch_size)\n",
    "    losses = 0\n",
    "    preds = []\n",
    "    pos_preds = []\n",
    "    for j in range(num_batches): \n",
    "        \n",
    "        s = j * batch_size\n",
    "        e = (j+1) * batch_size\n",
    "        \n",
    "        feed_dict = {x:xx[s:e], y:yy[s:e], y_pos:pp[s:e], x_mask:mask[s:e], is_train:train_cond, input_keep_prob:keep_prob, word_emb_mat:word_embedding}\n",
    "        \n",
    "        if(train_cond==True):\n",
    "            \n",
    "            if(pre_train==False):\n",
    "                _, _loss, step, _summary = sess.run([train_op, total_loss, global_step, summary], feed_dict)\n",
    "                \n",
    "            else:\n",
    "                _, _loss, step, _summary = sess.run([pos_optimizer, loss_pos, global_step, summary], feed_dict)\n",
    "            \n",
    "            summary_writer.add_summary(_summary, step)\n",
    "#             if step%5==0:\n",
    "#                 print(\"Steps:{}\".format(step), \", Loss: {}\".format(_loss))\n",
    "\n",
    "        else:\n",
    "            _loss, pred, pred_pos = sess.run([total_loss, predictions, predictions_pos], feed_dict)\n",
    "            preds.append(pred)\n",
    "            pos_preds.append(pred_pos)\n",
    "            \n",
    "        losses +=_loss\n",
    "        \n",
    "\n",
    "    if(train_cond==False):\n",
    "        y_pred = []\n",
    "        y_pred_pos = []\n",
    "        for i in range(num_batches):\n",
    "            for pred in preds[i]:\n",
    "                y_pred.append(pred)\n",
    "            for pred_pos in pos_preds[i]:\n",
    "                y_pred_pos.append(pred_pos)\n",
    "        return losses/num_batches, y_pred, y_pred_pos\n",
    "    \n",
    "    return losses/num_batches, step"
   ]
  },
  {
   "cell_type": "code",
   "execution_count": 16,
   "metadata": {
    "collapsed": true
   },
   "outputs": [],
   "source": [
    "x_id_train, mask_train, y_train, pos_id_train = data_prepare(x_train, label_train, pos_train)\n",
    "x_id_val, mask_val, y_val, pos_id_val = data_prepare(x_val, label_val, pos_val)"
   ]
  },
  {
   "cell_type": "code",
   "execution_count": 17,
   "metadata": {
    "collapsed": true
   },
   "outputs": [],
   "source": [
    "s=0\n",
    "e=batch_size\n",
    "feed_dict = {x:x_id_train[s:e], y:y_train[s:e], y_pos:pos_id_train[s:e], x_mask:mask_train[s:e], is_train:True, input_keep_prob:keep_prob, word_emb_mat:word_embedding}"
   ]
  },
  {
   "cell_type": "code",
   "execution_count": 33,
   "metadata": {},
   "outputs": [
    {
     "name": "stdout",
     "output_type": "stream",
     "text": [
      "inf inf 22.4868 0.629054\n"
     ]
    }
   ],
   "source": [
    "l1, l2, l3, l4, step = sess.run([total_loss, loss, loss_pos, l2_loss, global_step], feed_dict)\n",
    "print(l1, l2, l3, l4)"
   ]
  },
  {
   "cell_type": "code",
   "execution_count": 21,
   "metadata": {},
   "outputs": [
    {
     "name": "stdout",
     "output_type": "stream",
     "text": [
      "inf inf 41.8126 0.624159\n"
     ]
    }
   ],
   "source": [
    "_, l1, l2, l3, l4, step = sess.run([train_op, total_loss, loss, loss_pos, l2_loss, global_step], feed_dict)\n",
    "print(l1, l2, l3, l4)"
   ]
  },
  {
   "cell_type": "code",
   "execution_count": 28,
   "metadata": {
    "collapsed": true
   },
   "outputs": [],
   "source": [
    "mm, nn = sess.run([drop_c, W], feed_dict)"
   ]
  },
  {
   "cell_type": "code",
   "execution_count": 29,
   "metadata": {},
   "outputs": [
    {
     "data": {
      "text/plain": [
       "array([  0.        ,   0.        ,  -1.63469768,   1.3207494 ,\n",
       "        -6.64428473,   2.63830018,  -0.        ,   0.        ,\n",
       "         3.87045145,  -0.0596602 ,  -0.        ,   2.95345426,\n",
       "         0.        ,  -2.95638561,  -0.        ,  -0.        ,\n",
       "         7.25124693,   4.86078739,  -3.13983989,   0.        ,\n",
       "         0.        ,   1.13603568,  -0.        ,   0.        ,\n",
       "        -0.        ,   3.87681317,  -0.        ,   0.97332066,\n",
       "         4.72466421,   6.25111532,  -0.        ,  -0.        ,\n",
       "         5.17649364,   0.        ,  -1.60977674,  -0.        ,\n",
       "         0.        ,   0.        ,   5.55020952,  -0.        ,\n",
       "        -0.36521167,   0.        ,   0.8267011 ,  -1.83589387,\n",
       "        -7.13175058,  -0.        ,  -2.49863172,   2.23920155,\n",
       "         0.        ,  -6.30414915,   0.        ,   0.        ,\n",
       "         0.        ,   6.57114649,  -0.12823251,  -0.45435914,\n",
       "         2.01226735,  -0.        ,  -3.19811964,   0.        ,\n",
       "         2.94539523,  -0.        ,  -0.        ,  -1.65719998,\n",
       "        -0.98051077,   7.53654385,  -3.41957355,   1.2495029 ,\n",
       "         6.17051172,   0.        ,  -0.        ,   0.        ,\n",
       "        -1.49810576,  -8.77261353,  -2.86594486,  -6.45658064,\n",
       "         0.29791063,   0.        ,   0.        ,  -3.5674839 ,\n",
       "        -1.93664467,  -3.27731299,   0.        ,  -0.        ,\n",
       "        -3.30776882,  -1.07184649,   0.        ,   1.80990052,\n",
       "         7.60049915,  -0.        ,  -0.        ,  -1.19628859,\n",
       "         4.29084635,  -1.85620832,  -0.        ,  -1.18876886,\n",
       "         0.        ,  -0.        ,  -0.        ,   0.54654241,\n",
       "        -0.        ,   7.64773703,   0.676283  ,  -2.46989346,\n",
       "         0.        ,  -0.        ,  -6.99172592,  -0.        ,\n",
       "         0.        ,  -0.49998164,   4.37920713,  -6.33657742,\n",
       "        -0.        ,   0.        ,   4.29174471,  -4.27109575,\n",
       "        -0.77387315,  -0.        ,  -4.23770332,  -0.        ,\n",
       "        -0.50230289,   0.        ,   0.        ,   1.92544162,\n",
       "        -0.4036625 ,  -0.        ,   0.        ,   0.        ,\n",
       "        -2.44900823,   0.        ,   0.        ,   5.5391283 ,\n",
       "         1.9023993 ,   0.        ,   3.25768042,  -5.10624838,\n",
       "        -0.        ,   4.36413908,   0.        ,  -0.0795769 ,\n",
       "         4.54236174,  -0.81115794,  -2.14585662,   5.54544735,\n",
       "        -0.        ,   0.13998707,   0.        ,  -0.        ,\n",
       "         6.41816425,  -0.        ,   0.17957945,   0.        ,\n",
       "         3.54372025,   3.88551259,   0.        ,   0.        ,\n",
       "         8.08031178,   8.39954662,  -0.        ,  -1.97934151,\n",
       "        -0.90342361,  -2.59824276,   0.        ,   5.73212767,\n",
       "        10.75314617,   4.27356863,   0.        ,  -0.        ,\n",
       "         0.        ,   0.        ,   8.34120178,   2.52004433,\n",
       "         4.1793251 ,  -0.        ,  -0.        ,   6.51321793,\n",
       "        -0.234933  ,   0.32242122,  -0.        ,  -2.01161838,\n",
       "         3.49061012,  -1.21421492,  -3.98455095,  -5.87650156,\n",
       "        -0.        ,  -0.        ,  -0.        ,   4.21755791,\n",
       "        -0.        ,  -5.33292818,  -1.51532352,  -2.36470318,\n",
       "         0.        ,  -3.75455666,   3.63357806,   0.        ,\n",
       "        -0.32980773,  -0.93468016,   4.29462624,   4.06395149], dtype=float32)"
      ]
     },
     "execution_count": 29,
     "metadata": {},
     "output_type": "execute_result"
    }
   ],
   "source": [
    "mm[0]"
   ]
  },
  {
   "cell_type": "code",
   "execution_count": null,
   "metadata": {
    "collapsed": true
   },
   "outputs": [],
   "source": []
  },
  {
   "cell_type": "code",
   "execution_count": null,
   "metadata": {
    "collapsed": true
   },
   "outputs": [],
   "source": []
  },
  {
   "cell_type": "code",
   "execution_count": 17,
   "metadata": {
    "scrolled": true
   },
   "outputs": [
    {
     "name": "stdout",
     "output_type": "stream",
     "text": [
      "Epoch: 1 Step: 43 loss: 4.08321593667\n",
      "Epoch: 2 Step: 86 loss: 0.506376352421\n",
      "Epoch: 3 Step: 129 loss: inf\n",
      "Epoch: 4 Step: 172 loss: inf\n",
      "Epoch: 5 Step: 215 loss: inf\n",
      "Model Saved\n",
      "Train: F1 :  47.5748112364 Accu:  55.5959302326 POS F1 :  88.3350019684 POS Accu:  88.6264534884 Loss:  inf\n",
      "Val: F1 :  44.7709201078 Accu:  52.34375 POS F1 :  86.2431373739 POS Accu:  86.71875 Loss:  inf\n",
      "Epoch: 6 Step: 258 loss: inf\n",
      "Epoch: 7 Step: 301 loss: inf\n",
      "Epoch: 8 Step: 344 loss: inf\n",
      "Epoch: 9 Step: 387 loss: inf\n",
      "Epoch: 10 Step: 430 loss: inf\n",
      "Model Saved\n",
      "Train: F1 :  57.174709411 Accu:  61.4825581395 POS F1 :  91.8091697295 POS Accu:  91.9694767442 Loss:  inf\n",
      "Val: F1 :  56.2831798597 Accu:  60.3125 POS F1 :  91.2519415968 POS Accu:  91.40625 Loss:  inf\n",
      "Epoch: 11 Step: 473 loss: inf\n",
      "Epoch: 12 Step: 516 loss: inf\n",
      "Epoch: 13 Step: 559 loss: inf\n",
      "Epoch: 14 Step: 602 loss: inf\n",
      "Epoch: 15 Step: 645 loss: inf\n",
      "Model Saved\n",
      "Train: F1 :  57.1698425429 Accu:  61.3735465116 POS F1 :  92.4519809871 POS Accu:  92.550872093 Loss:  inf\n",
      "Val: F1 :  55.9434410636 Accu:  59.84375 POS F1 :  90.9629376398 POS Accu:  91.09375 Loss:  inf\n",
      "Epoch: 16 Step: 688 loss: inf\n",
      "Epoch: 17 Step: 731 loss: inf\n",
      "Epoch: 18 Step: 774 loss: inf\n",
      "Epoch: 19 Step: 817 loss: inf\n",
      "Epoch: 20 Step: 860 loss: inf\n",
      "Model Saved\n",
      "Train: F1 :  51.8600517373 Accu:  58.5029069767 POS F1 :  91.0963134644 POS Accu:  91.2063953488 Loss:  inf\n",
      "Val: F1 :  48.3456234331 Accu:  54.0625 POS F1 :  90.8008604368 POS Accu:  90.9375 Loss:  inf\n",
      "Epoch: 21 Step: 903 loss: inf\n",
      "Epoch: 22 Step: 946 loss: inf\n",
      "Epoch: 23 Step: 989 loss: inf\n",
      "Epoch: 24 Step: 1032 loss: inf\n",
      "Epoch: 25 Step: 1075 loss: inf\n",
      "Model Saved\n",
      "Train: F1 :  51.4935379122 Accu:  57.5944767442 POS F1 :  90.514405769 POS Accu:  90.5523255814 Loss:  inf\n",
      "Val: F1 :  49.846017025 Accu:  54.6875 POS F1 :  88.8649011588 POS Accu:  88.90625 Loss:  inf\n",
      "Epoch: 26 Step: 1118 loss: inf\n",
      "Epoch: 27 Step: 1161 loss: inf\n",
      "Epoch: 28 Step: 1204 loss: inf\n",
      "Epoch: 29 Step: 1247 loss: inf\n",
      "Epoch: 30 Step: 1290 loss: inf\n",
      "Model Saved\n",
      "Train: F1 :  53.5941930637 Accu:  61.0101744186 POS F1 :  93.5192024029 POS Accu:  93.6046511628 Loss:  inf\n",
      "Val: F1 :  56.0141485482 Accu:  62.03125 POS F1 :  91.4481693738 POS Accu:  91.5625 Loss:  inf\n",
      "Epoch: 31 Step: 1333 loss: inf\n",
      "Epoch: 32 Step: 1376 loss: inf\n",
      "Epoch: 33 Step: 1419 loss: inf\n",
      "Epoch: 34 Step: 1462 loss: inf\n",
      "Epoch: 35 Step: 1505 loss: inf\n",
      "Model Saved\n",
      "Train: F1 :  47.9494427809 Accu:  50.9084302326 POS F1 :  92.6587178792 POS Accu:  92.7325581395 Loss:  inf\n",
      "Val: F1 :  48.2767278785 Accu:  50.46875 POS F1 :  91.3051855182 POS Accu:  91.40625 Loss:  inf\n",
      "Epoch: 36 Step: 1548 loss: inf\n",
      "Epoch: 37 Step: 1591 loss: inf\n",
      "Epoch: 38 Step: 1634 loss: inf\n",
      "Epoch: 39 Step: 1677 loss: inf\n",
      "Epoch: 40 Step: 1720 loss: inf\n",
      "Model Saved\n",
      "Train: F1 :  46.6851885529 Accu:  57.5218023256 POS F1 :  94.9058693245 POS Accu:  94.9854651163 Loss:  inf\n",
      "Val: F1 :  47.5950409641 Accu:  56.875 POS F1 :  93.6507936508 POS Accu:  93.75 Loss:  inf\n",
      "Epoch: 41 Step: 1763 loss: inf\n",
      "Epoch: 42 Step: 1806 loss: inf\n",
      "Epoch: 43 Step: 1849 loss: inf\n",
      "Epoch: 44 Step: 1892 loss: inf\n",
      "Epoch: 45 Step: 1935 loss: inf\n",
      "Model Saved\n",
      "Train: F1 :  55.761304971 Accu:  62.2819767442 POS F1 :  94.1118837362 POS Accu:  94.2223837209 Loss:  inf\n",
      "Val: F1 :  54.546247848 Accu:  60.78125 POS F1 :  93.1426122362 POS Accu:  93.28125 Loss:  inf\n",
      "Epoch: 46 Step: 1978 loss: inf\n",
      "Epoch: 47 Step: 2021 loss: inf\n",
      "Epoch: 48 Step: 2064 loss: inf\n",
      "Epoch: 49 Step: 2107 loss: inf\n",
      "Epoch: 50 Step: 2150 loss: inf\n",
      "Model Saved\n",
      "Train: F1 :  61.2625677631 Accu:  65.4433139535 POS F1 :  95.1596165685 POS Accu:  95.2034883721 Loss:  inf\n",
      "Val: F1 :  58.0199327231 Accu:  62.65625 POS F1 :  94.1546884681 POS Accu:  94.21875 Loss:  inf\n",
      "Epoch: 51 Step: 2193 loss: inf\n",
      "Epoch: 52 Step: 2236 loss: inf\n",
      "Epoch: 53 Step: 2279 loss: inf\n",
      "Epoch: 54 Step: 2322 loss: inf\n",
      "Epoch: 55 Step: 2365 loss: inf\n",
      "Model Saved\n",
      "Train: F1 :  56.4421686813 Accu:  63.0450581395 POS F1 :  95.0674142875 POS Accu:  95.1308139535 Loss:  inf\n",
      "Val: F1 :  53.4482066274 Accu:  60.0 POS F1 :  92.3748250082 POS Accu:  92.5 Loss:  inf\n",
      "Epoch: 56 Step: 2408 loss: inf\n",
      "Epoch: 57 Step: 2451 loss: inf\n",
      "Epoch: 58 Step: 2494 loss: inf\n",
      "Epoch: 59 Step: 2537 loss: inf\n",
      "Epoch: 60 Step: 2580 loss: inf\n",
      "Model Saved\n",
      "Train: F1 :  54.1764143782 Accu:  62.3546511628 POS F1 :  95.3700357597 POS Accu:  95.4578488372 Loss:  inf\n",
      "Val: F1 :  50.1315442455 Accu:  58.75 POS F1 :  93.4674205024 POS Accu:  93.59375 Loss:  inf\n",
      "Epoch: 61 Step: 2623 loss: inf\n",
      "Epoch: 62 Step: 2666 loss: inf\n",
      "Epoch: 63 Step: 2709 loss: inf\n",
      "Epoch: 64 Step: 2752 loss: inf\n",
      "Epoch: 65 Step: 2795 loss: inf\n",
      "Model Saved\n",
      "Train: F1 :  59.250883722 Accu:  63.4447674419 POS F1 :  94.9255591927 POS Accu:  95.0218023256 Loss:  inf\n",
      "Val: F1 :  58.3550012294 Accu:  62.1875 POS F1 :  93.6404467586 POS Accu:  93.75 Loss:  inf\n",
      "Epoch: 66 Step: 2838 loss: inf\n",
      "Epoch: 67 Step: 2881 loss: inf\n",
      "Epoch: 68 Step: 2924 loss: inf\n",
      "Epoch: 69 Step: 2967 loss: inf\n",
      "Epoch: 70 Step: 3010 loss: inf\n",
      "Model Saved\n",
      "Train: F1 :  50.3845708392 Accu:  58.539244186 POS F1 :  94.1871245314 POS Accu:  94.2950581395 Loss:  inf\n",
      "Val: F1 :  51.3326737842 Accu:  57.8125 POS F1 :  91.2444562733 POS Accu:  91.40625 Loss:  inf\n",
      "Epoch: 71 Step: 3053 loss: inf\n",
      "Epoch: 72 Step: 3096 loss: inf\n",
      "Epoch: 73 Step: 3139 loss: inf\n",
      "Epoch: 74 Step: 3182 loss: inf\n",
      "Epoch: 75 Step: 3225 loss: inf\n",
      "Model Saved\n",
      "Train: F1 :  57.8014013599 Accu:  63.4084302326 POS F1 :  96.0256415862 POS Accu:  96.039244186 Loss:  inf\n",
      "Val: F1 :  55.0954607594 Accu:  59.53125 POS F1 :  92.792157554 POS Accu:  92.8125 Loss:  inf\n",
      "Epoch: 76 Step: 3268 loss: inf\n",
      "Epoch: 77 Step: 3311 loss: inf\n",
      "Epoch: 78 Step: 3354 loss: inf\n",
      "Epoch: 79 Step: 3397 loss: inf\n",
      "Epoch: 80 Step: 3440 loss: inf\n",
      "Model Saved\n",
      "Train: F1 :  59.2614678063 Accu:  63.699127907 POS F1 :  96.4556008301 POS Accu:  96.511627907 Loss:  inf\n",
      "Val: F1 :  57.0799555759 Accu:  61.71875 POS F1 :  96.1963627719 POS Accu:  96.25 Loss:  inf\n",
      "Epoch: 81 Step: 3483 loss: inf\n",
      "Epoch: 82 Step: 3526 loss: inf\n",
      "Epoch: 83 Step: 3569 loss: inf\n",
      "Epoch: 84 Step: 3612 loss: inf\n",
      "Epoch: 85 Step: 3655 loss: inf\n",
      "Model Saved\n",
      "Train: F1 :  58.58884325 Accu:  66.5697674419 POS F1 :  95.1872201872 POS Accu:  95.2034883721 Loss:  inf\n",
      "Val: F1 :  56.8640731351 Accu:  64.0625 POS F1 :  92.6450272022 POS Accu:  92.65625 Loss:  inf\n",
      "Epoch: 86 Step: 3698 loss: inf\n",
      "Epoch: 87 Step: 3741 loss: inf\n",
      "Epoch: 88 Step: 3784 loss: inf\n",
      "Epoch: 89 Step: 3827 loss: inf\n",
      "Epoch: 90 Step: 3870 loss: inf\n",
      "Model Saved\n",
      "Train: F1 :  60.0251996362 Accu:  63.6264534884 POS F1 :  97.5777322927 POS Accu:  97.601744186 Loss:  inf\n",
      "Val: F1 :  59.973728534 Accu:  63.59375 POS F1 :  96.5232507605 POS Accu:  96.5625 Loss:  inf\n",
      "Epoch: 91 Step: 3913 loss: inf\n",
      "Epoch: 92 Step: 3956 loss: inf\n",
      "Epoch: 93 Step: 3999 loss: inf\n",
      "Epoch: 94 Step: 4042 loss: inf\n",
      "Epoch: 95 Step: 4085 loss: inf\n",
      "Model Saved\n",
      "Train: F1 :  52.6335094776 Accu:  60.210755814 POS F1 :  96.8506468448 POS Accu:  96.875 Loss:  inf\n",
      "Val: F1 :  50.4804161954 Accu:  58.59375 POS F1 :  96.6906251616 POS Accu:  96.71875 Loss:  inf\n",
      "Epoch: 96 Step: 4128 loss: inf\n",
      "Epoch: 97 Step: 4171 loss: inf\n",
      "Epoch: 98 Step: 4214 loss: inf\n",
      "Epoch: 99 Step: 4257 loss: inf\n",
      "Epoch: 100 Step: 4300 loss: inf\n",
      "Model Saved\n",
      "Train: F1 :  60.1161279629 Accu:  64.2805232558 POS F1 :  97.7645367631 POS Accu:  97.7834302326 Loss:  inf\n",
      "Val: F1 :  57.8480237417 Accu:  61.5625 POS F1 :  95.2763344355 POS Accu:  95.3125 Loss:  inf\n"
     ]
    }
   ],
   "source": [
    "num_epochs = 100\n",
    "pre_train_period = 2\n",
    "log_period = 5\n",
    "\n",
    "for i in range(num_epochs):\n",
    "    random = np.random.choice(len(y_train), size=(len(y_train)), replace=False)\n",
    "    x_id_train = x_id_train[random]\n",
    "    y_train = y_train[random]\n",
    "    mask_train = mask_train[random]    \n",
    "    pos_id_train = pos_id_train[random]\n",
    "    \n",
    "    if(i<pre_train_period):\n",
    "        losses, step = model(x_id_train, y_train, mask_train, pos_id_train, pre_train=True)\n",
    "    else:\n",
    "        losses, step = model(x_id_train, y_train, mask_train, pos_id_train)\n",
    "    print(\"Epoch:\", i+1,\"Step:\", step, \"loss:\",losses)\n",
    "    \n",
    "    if((i+1)%log_period==0):\n",
    "        saver.save(sess, save_path=save_dir)                         \n",
    "        print(\"Model Saved\")\n",
    "        train_loss, train_pred, train_pred_pos = model(x_id_train, y_train, mask_train, pos_id_train, train_cond=False)        \n",
    "        f1_, accu_, f1_pos_, accu_pos_ = eval_score(y_train, train_pred, pos_id_train, train_pred_pos)\n",
    "        print(\"Train: F1 : \",  f1_, \"Accu: \", accu_, \"POS F1 : \",  f1_pos_, \"POS Accu: \", accu_pos_, \"Loss: \", train_loss)\n",
    "        \n",
    "        val_loss, val_pred, val_pred_pos = model(x_id_val, y_val, mask_val, pos_id_val, train_cond=False)        \n",
    "        f1_, accu_, f1_pos_, accu_pos_ = eval_score(y_val, val_pred, pos_id_val, val_pred_pos)\n",
    "        print(\"Val: F1 : \",  f1_, \"Accu: \", accu_, \"POS F1 : \",  f1_pos_, \"POS Accu: \", accu_pos_, \"Loss: \", val_loss)"
   ]
  },
  {
   "cell_type": "code",
   "execution_count": 23,
   "metadata": {
    "collapsed": true
   },
   "outputs": [],
   "source": []
  },
  {
   "cell_type": "code",
   "execution_count": null,
   "metadata": {
    "collapsed": true
   },
   "outputs": [],
   "source": []
  },
  {
   "cell_type": "code",
   "execution_count": null,
   "metadata": {
    "collapsed": true
   },
   "outputs": [],
   "source": [
    "saver.restore(sess, save_dir)"
   ]
  }
 ],
 "metadata": {
  "kernelspec": {
   "display_name": "cs771",
   "language": "python",
   "name": "cs771"
  },
  "language_info": {
   "codemirror_mode": {
    "name": "ipython",
    "version": 3
   },
   "file_extension": ".py",
   "mimetype": "text/x-python",
   "name": "python",
   "nbconvert_exporter": "python",
   "pygments_lexer": "ipython3",
   "version": "3.5.2"
  }
 },
 "nbformat": 4,
 "nbformat_minor": 2
}
