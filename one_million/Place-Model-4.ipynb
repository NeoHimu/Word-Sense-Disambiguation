{
 "cells": [
  {
   "cell_type": "code",
   "execution_count": 1,
   "metadata": {
    "collapsed": true
   },
   "outputs": [],
   "source": [
    "import tensorflow as tf\n",
    "tf.logging.set_verbosity(tf.logging.WARN)\n",
    "import pickle\n",
    "import numpy as np\n",
    "import os\n",
    "from sklearn.model_selection import train_test_split\n",
    "from sklearn.metrics import f1_score\n",
    "from sklearn.metrics import accuracy_score\n",
    "import os\n",
    "from tensorflow.python.client import device_lib\n",
    "from collections import Counter\n",
    "from math import inf"
   ]
  },
  {
   "cell_type": "code",
   "execution_count": 2,
   "metadata": {
    "collapsed": true
   },
   "outputs": [],
   "source": [
    "f = open('../Glove/word_embedding_glove', 'rb')\n",
    "word_embedding = pickle.load(f)\n",
    "f.close()\n",
    "word_embedding = word_embedding[: len(word_embedding)-1]\n",
    "\n",
    "f = open('../Glove/vocab_glove', 'rb')\n",
    "vocab = pickle.load(f)\n",
    "f.close()\n",
    "\n",
    "word2id = dict((w, i) for i,w in enumerate(vocab))\n",
    "id2word = dict((i, w) for i,w in enumerate(vocab))\n",
    "\n",
    "unknown_token = \"UNKNOWN_TOKEN\""
   ]
  },
  {
   "cell_type": "code",
   "execution_count": 3,
   "metadata": {
    "collapsed": true
   },
   "outputs": [],
   "source": [
    "f = open(\"../../dataset/sense/dict_sense-keys\", 'rb')\n",
    "dict_sense_keys = pickle.load(f)\n",
    "f.close()\n",
    "\n",
    "f = open(\"../../dataset/sense/dict_word-sense\", 'rb')\n",
    "dict_word_sense = pickle.load(f)\n",
    "f.close()"
   ]
  },
  {
   "cell_type": "code",
   "execution_count": 4,
   "metadata": {
    "collapsed": true
   },
   "outputs": [],
   "source": [
    "# Model Description\n",
    "sense_word = 'place'\n",
    "model_name = 'model-4'\n",
    "sense_word_dir = 'output/' + sense_word\n",
    "model_dir = sense_word_dir + '/' + model_name\n",
    "save_dir = os.path.join(model_dir, \"save/\")\n",
    "log_dir = os.path.join(model_dir, \"log\")\n",
    "\n",
    "if not os.path.exists(sense_word_dir):\n",
    "    os.mkdir(sense_word_dir)\n",
    "if not os.path.exists(model_dir):\n",
    "    os.mkdir(model_dir)\n",
    "if not os.path.exists(save_dir):\n",
    "    os.mkdir(save_dir)\n",
    "if not os.path.exists(log_dir):\n",
    "    os.mkdir(log_dir)"
   ]
  },
  {
   "cell_type": "code",
   "execution_count": 5,
   "metadata": {
    "scrolled": false
   },
   "outputs": [
    {
     "data": {
      "text/plain": [
       "([('1:15', 1149),\n",
       "  ('2:35', 623),\n",
       "  ('2:41', 490),\n",
       "  ('1:26', 488),\n",
       "  ('2:31', 479),\n",
       "  ('1:04', 282)],\n",
       " ['1:15', '1:26', '1:04', '2:35', '2:41', '2:31'])"
      ]
     },
     "execution_count": 5,
     "metadata": {},
     "output_type": "execute_result"
    }
   ],
   "source": [
    "f = open(\"../../dataset/checkwords/\"+ sense_word + \"_data\", 'rb')\n",
    "data = pickle.load(f)\n",
    "f.close()\n",
    "\n",
    "data_y = []\n",
    "for i in range(len(data)):\n",
    "    data_y.append(dict_sense_keys[data[i][0]][3])\n",
    "\n",
    "sense_count = Counter(data_y)\n",
    "sense_count = sense_count.most_common()[:6]\n",
    "vocab_sense = [k for k,v in sense_count]\n",
    "vocab_sense = sorted(vocab_sense, key=lambda x:int(x[0]))\n",
    "sense_count,vocab_sense"
   ]
  },
  {
   "cell_type": "code",
   "execution_count": 6,
   "metadata": {
    "collapsed": true
   },
   "outputs": [],
   "source": [
    "def make_mask_matrix(sense_word,vocab_sense):\n",
    "    mask_mat = []\n",
    "    sense_list = [int(string[0]) for string in vocab_sense]\n",
    "    sense_count = list(Counter(sense_list).values())\n",
    "    start=0\n",
    "    prev=0\n",
    "    for i in range(len(set(sense_list))):\n",
    "        temp_row=[0]*len(sense_list)\n",
    "        for j in range(len(sense_list)):\n",
    "            if j>=start and j<sense_count[i]+prev:\n",
    "                temp_row[j]= 0\n",
    "            else:\n",
    "                temp_row[j]= -inf\n",
    "        start+=sense_count[i]\n",
    "        prev+=sense_count[i]\n",
    "        mask_mat.append(temp_row)\n",
    "    return mask_mat"
   ]
  },
  {
   "cell_type": "code",
   "execution_count": 7,
   "metadata": {},
   "outputs": [
    {
     "data": {
      "text/plain": [
       "['1:15', '1:26', '1:04', '2:35', '2:41', '2:31']"
      ]
     },
     "execution_count": 7,
     "metadata": {},
     "output_type": "execute_result"
    }
   ],
   "source": [
    "vocab_sense"
   ]
  },
  {
   "cell_type": "code",
   "execution_count": 8,
   "metadata": {},
   "outputs": [
    {
     "data": {
      "text/plain": [
       "[[0, 0, 0, -inf, -inf, -inf], [-inf, -inf, -inf, 0, 0, 0]]"
      ]
     },
     "execution_count": 8,
     "metadata": {},
     "output_type": "execute_result"
    }
   ],
   "source": [
    "mask_mat = make_mask_matrix(sense_word,vocab_sense)\n",
    "mask_mat"
   ]
  },
  {
   "cell_type": "code",
   "execution_count": 9,
   "metadata": {},
   "outputs": [
    {
     "name": "stdout",
     "output_type": "stream",
     "text": [
      "3511 3569\n",
      "[1, 2]\n"
     ]
    }
   ],
   "source": [
    "data_x = []\n",
    "data_label = []\n",
    "data_pos = []\n",
    "for i in range(len(data)):\n",
    "    if dict_sense_keys[data[i][0]][3] in vocab_sense:\n",
    "        data_x.append(data[i][1])\n",
    "        data_label.append(dict_sense_keys[data[i][0]][3])\n",
    "        data_pos.append(dict_sense_keys[data[i][0]][1])\n",
    "\n",
    "\n",
    "print(len(data_label), len(data_y))\n",
    "\n",
    "# vocab_sense = dict_word_sense[sense_word]\n",
    "\n",
    "sense2id = dict((s, i) for i,s in enumerate(vocab_sense))\n",
    "id2sense = dict((i, s) for i,s in enumerate(vocab_sense))\n",
    "\n",
    "count_pos = Counter(data_pos)\n",
    "count_pos = count_pos.most_common()\n",
    "vocab_pos = [int(k) for k,v in count_pos]\n",
    "vocab_pos = sorted(vocab_pos, key=lambda x:int(x))\n",
    "\n",
    "pos2id = dict((str(s), i) for i,s in enumerate(vocab_pos))\n",
    "id2pos = dict((i, str(s)) for i,s in enumerate(vocab_pos))\n",
    "\n",
    "print(vocab_pos)"
   ]
  },
  {
   "cell_type": "code",
   "execution_count": 10,
   "metadata": {
    "collapsed": true
   },
   "outputs": [],
   "source": [
    "# Parameters\n",
    "mode = 'train'\n",
    "num_senses = len(vocab_sense)\n",
    "num_pos = len(vocab_pos)\n",
    "batch_size = 64\n",
    "vocab_size = len(vocab)\n",
    "unk_vocab_size = 1\n",
    "word_emb_size = len(word_embedding[0])\n",
    "max_sent_size = 200\n",
    "hidden_size = 100\n",
    "keep_prob = 0.5\n",
    "l2_lambda = 0.001\n",
    "init_lr = 0.005\n",
    "decay_steps = 500\n",
    "decay_rate = 0.96\n",
    "clip_norm = 1\n",
    "clipping = True\n",
    "lambda_loss = 5 "
   ]
  },
  {
   "cell_type": "code",
   "execution_count": 12,
   "metadata": {
    "scrolled": true
   },
   "outputs": [],
   "source": [
    "# MODEL\n",
    "def attention(input_x, input_mask, W_att):\n",
    "    h_masked = tf.boolean_mask(input_x, input_mask)\n",
    "    h_tanh = tf.tanh(h_masked)\n",
    "    u = tf.matmul(h_tanh, W_att)\n",
    "    a = tf.nn.softmax(u)\n",
    "    c = tf.reduce_sum(tf.multiply(h_tanh, a), 0)  \n",
    "    return c\n",
    "\n",
    "x = tf.placeholder('int32', [batch_size, max_sent_size], name=\"x\")\n",
    "y = tf.placeholder('int32', [batch_size], name=\"y\")\n",
    "y_pos = tf.placeholder('int32', [batch_size], name=\"y_pos\")\n",
    "x_mask  = tf.placeholder('bool', [batch_size, max_sent_size], name='x_mask') \n",
    "is_train = tf.placeholder('bool', [], name='is_train')\n",
    "word_emb_mat = tf.placeholder('float', [None, word_emb_size], name='emb_mat')\n",
    "input_keep_prob = tf.cond(is_train,lambda:keep_prob, lambda:tf.constant(1.0))\n",
    "x_len = tf.reduce_sum(tf.cast(x_mask, 'int32'), 1)\n",
    "\n",
    "mask_matrix = tf.constant(value=mask_mat, shape=list(np.array(mask_mat).shape)) # mask_matrix\n",
    "\n",
    "with tf.name_scope(\"word_embedding\"):\n",
    "    if mode == 'train':\n",
    "        unk_word_emb_mat = tf.get_variable(\"word_emb_mat\", dtype='float', shape=[unk_vocab_size, word_emb_size], initializer=tf.contrib.layers.xavier_initializer(uniform=True, seed=0, dtype=tf.float32))\n",
    "    else:\n",
    "        unk_word_emb_mat = tf.get_variable(\"word_emb_mat\", shape=[unk_vocab_size, word_emb_size], dtype='float')\n",
    "        \n",
    "    final_word_emb_mat = tf.concat([word_emb_mat, unk_word_emb_mat], 0)\n",
    "    Wx = tf.nn.embedding_lookup(final_word_emb_mat, x)  \n",
    "\n",
    "with tf.variable_scope(\"lstm1\"):\n",
    "    cell_fw1 = tf.contrib.rnn.BasicLSTMCell(hidden_size,state_is_tuple=True)\n",
    "    cell_bw1 = tf.contrib.rnn.BasicLSTMCell(hidden_size,state_is_tuple=True)\n",
    "\n",
    "    d_cell_fw1 = tf.contrib.rnn.DropoutWrapper(cell_fw1, input_keep_prob=input_keep_prob)\n",
    "    d_cell_bw1 = tf.contrib.rnn.DropoutWrapper(cell_bw1, input_keep_prob=input_keep_prob)\n",
    "    \n",
    "    (fw_h1, bw_h1), _ = tf.nn.bidirectional_dynamic_rnn(d_cell_fw1, d_cell_bw1, Wx, sequence_length=x_len, dtype='float', scope='lstm1')\n",
    "    h1 = tf.concat([fw_h1, bw_h1], 2)\n",
    "    \n",
    "with tf.variable_scope(\"lstm2\"):\n",
    "    cell_fw2 = tf.contrib.rnn.BasicLSTMCell(hidden_size,state_is_tuple=True)\n",
    "    cell_bw2 = tf.contrib.rnn.BasicLSTMCell(hidden_size,state_is_tuple=True)\n",
    "\n",
    "    d_cell_fw2 = tf.contrib.rnn.DropoutWrapper(cell_fw2, input_keep_prob=input_keep_prob)\n",
    "    d_cell_bw2 = tf.contrib.rnn.DropoutWrapper(cell_bw2, input_keep_prob=input_keep_prob)\n",
    "    \n",
    "    (fw_h2, bw_h2), _ = tf.nn.bidirectional_dynamic_rnn(d_cell_fw2, d_cell_bw2, h1, sequence_length=x_len, dtype='float', scope='lstm2')\n",
    "    h = tf.concat([fw_h2, bw_h2], 2)\n",
    "    \n",
    "with tf.variable_scope(\"attention_pos\"):\n",
    "    W_att1 = tf.Variable(tf.truncated_normal([2*hidden_size, 1], mean=0.0, stddev=0.1, seed=0), name=\"W_att1\")\n",
    "    c1 = tf.expand_dims(attention(h1[0], x_mask[0], W_att1), 0)\n",
    "    for i in range(1, batch_size):\n",
    "        c1 = tf.concat([c1, tf.expand_dims(attention(h1[i], x_mask[i], W_att1), 0)], 0)\n",
    "        \n",
    "with tf.variable_scope(\"softmax_layer_pos\"):\n",
    "    W1 = tf.Variable(tf.truncated_normal([2*hidden_size, num_pos], mean=0.0, stddev=0.1, seed=0), name=\"W1\")\n",
    "    b1 = tf.Variable(tf.zeros([num_pos]), name=\"b1\")\n",
    "    drop_c1 = tf.nn.dropout(c1, input_keep_prob)\n",
    "    logits_pos = tf.matmul(drop_c1, W1) + b1\n",
    "    predictions_pos = tf.argmax(logits_pos, 1)\n",
    "    final_masking = tf.nn.embedding_lookup(mask_matrix, predictions_pos)\n",
    "\n",
    "with tf.variable_scope(\"attention\"):\n",
    "    W_att = tf.Variable(tf.truncated_normal([2*hidden_size, 1], mean=0.0, stddev=0.1, seed=0), name=\"W_att\")\n",
    "    c = tf.expand_dims(attention(h[0], x_mask[0], W_att), 0)\n",
    "    for i in range(1, batch_size):\n",
    "        c = tf.concat([c, tf.expand_dims(attention(h[i], x_mask[i], W_att), 0)], 0)\n",
    "        \n",
    "with tf.variable_scope(\"softmax_layer\"):\n",
    "    W = tf.Variable(tf.truncated_normal([2*hidden_size, num_senses], mean=0.0, stddev=0.1, seed=0), name=\"W\")\n",
    "    b = tf.Variable(tf.zeros([num_senses]), name=\"b\")\n",
    "    drop_c = tf.nn.dropout(c, input_keep_prob)\n",
    "    logits = tf.matmul(drop_c, W) + b\n",
    "    masked_logits = logits + final_masking\n",
    "    soft_logits = tf.nn.softmax(masked_logits)\n",
    "    predictions = tf.argmax(soft_logits, 1)\n",
    "    \n",
    "loss_pos = tf.reduce_mean(tf.nn.sparse_softmax_cross_entropy_with_logits(logits=logits_pos, labels=y_pos))\n",
    "loss = lambda_loss*tf.reduce_mean(tf.nn.sparse_softmax_cross_entropy_with_logits(logits=soft_logits, labels=y))\n",
    "\n",
    "global_step = tf.Variable(0, trainable=False, name=\"global_step\")\n",
    "\n",
    "learning_rate = tf.train.exponential_decay(init_lr, global_step, decay_steps, decay_rate, staircase=True)\n",
    "\n",
    "tv_all = tf.trainable_variables()\n",
    "tv_regu =[]\n",
    "for t in tv_all:\n",
    "    if t.name.find('b:')==-1:\n",
    "        tv_regu.append(t)\n",
    "        \n",
    "# l2 Loss\n",
    "l2_loss = l2_lambda * tf.reduce_sum([ tf.nn.l2_loss(v) for v in tv_regu ])\n",
    "\n",
    "total_loss = loss + l2_loss + loss_pos\n",
    "\n",
    "#pos optimizer\n",
    "pos_optimizer = tf.train.AdamOptimizer(learning_rate).minimize(loss_pos, global_step)\n",
    "\n",
    "# Optimizer for loss\n",
    "optimizer = tf.train.AdamOptimizer(learning_rate)\n",
    "\n",
    "# Gradients and Variables for Loss\n",
    "grads_vars = optimizer.compute_gradients(total_loss)\n",
    "\n",
    "# Clipping of Gradients\n",
    "clipped_grads = grads_vars\n",
    "if(clipping == True):\n",
    "    clipped_grads = [(tf.clip_by_norm(grad, clip_norm), var) for grad, var in clipped_grads]\n",
    "\n",
    "# Training Optimizer for Total Loss\n",
    "train_op = optimizer.apply_gradients(clipped_grads, global_step=global_step)\n",
    "\n",
    "# Summaries\n",
    "var_summaries = []\n",
    "for v in tv_all:\n",
    "    var_summary = tf.summary.histogram(\"{}/var\".format(v.name), v)\n",
    "    var_summaries.append(var_summary)\n",
    "\n",
    "var_summaries_merged = tf.summary.merge(var_summaries)\n",
    "\n",
    "loss_summary = tf.summary.scalar(\"loss\", loss)\n",
    "loss_poss_summary = tf.summary.scalar('loss_pos',loss_pos)\n",
    "total_loss_summary = tf.summary.scalar(\"total_loss\", total_loss)\n",
    "summary = tf.summary.merge_all()"
   ]
  },
  {
   "cell_type": "code",
   "execution_count": 13,
   "metadata": {
    "collapsed": true
   },
   "outputs": [],
   "source": [
    "os.environ[\"CUDA_DEVICE_ORDER\"]=\"PCI_BUS_ID\"   # see issue #152\n",
    "os.environ[\"CUDA_VISIBLE_DEVICES\"]=\"0\"\n",
    "config = tf.ConfigProto()\n",
    "config.gpu_options.allow_growth = True\n",
    "sess = tf.Session(config=config)\n",
    "sess.run(tf.global_variables_initializer())                          # For initializing all the variables\n",
    "saver = tf.train.Saver()                                             # For Saving the model\n",
    "summary_writer = tf.summary.FileWriter(log_dir, sess.graph)          # For writing Summaries"
   ]
  },
  {
   "cell_type": "code",
   "execution_count": 14,
   "metadata": {
    "collapsed": true
   },
   "outputs": [],
   "source": [
    "index = []\n",
    "for i in range(len(data_x)):\n",
    "    index.append(i)"
   ]
  },
  {
   "cell_type": "code",
   "execution_count": 15,
   "metadata": {
    "scrolled": true
   },
   "outputs": [
    {
     "name": "stderr",
     "output_type": "stream",
     "text": [
      "/users/btech/aviraj/cs771/lib/python3.5/site-packages/sklearn/model_selection/_split.py:2026: FutureWarning: From version 0.21, test_size will always complement train_size unless both are specified.\n",
      "  FutureWarning)\n"
     ]
    }
   ],
   "source": [
    "index_train, index_val, label_train, label_val = train_test_split(index, data_label, train_size=0.8, shuffle=True, stratify=data_label, random_state=0)\n",
    "\n",
    "data_x = np.array(data_x)\n",
    "data_pos = np.array(data_pos)\n",
    "\n",
    "x_train = data_x[index_train]\n",
    "pos_train = data_pos[index_train]\n",
    "x_val = data_x[index_val]\n",
    "pos_val = data_pos[index_val]"
   ]
  },
  {
   "cell_type": "code",
   "execution_count": 16,
   "metadata": {
    "collapsed": true
   },
   "outputs": [],
   "source": [
    "def data_prepare(x, y, p):\n",
    "    num_examples = len(x)\n",
    "\n",
    "    xx = np.zeros([num_examples, max_sent_size], dtype=int)\n",
    "    xx_mask = np.zeros([num_examples, max_sent_size], dtype=bool)\n",
    "    yy = np.zeros([num_examples], dtype=int)\n",
    "    pp = np.zeros([num_examples], dtype=int)\n",
    "    \n",
    "    for j in range(num_examples):\n",
    "        for i in range(max_sent_size):\n",
    "            if(i>=len(x[j])):\n",
    "                break\n",
    "            w = x[j][i]\n",
    "            xx[j][i] = word2id[w] if w in word2id else word2id['UNKNOWN_TOKEN']\n",
    "            xx_mask[j][i] = True\n",
    "        yy[j] = sense2id[y[j]]\n",
    "        pp[j] = pos2id[p[j]]\n",
    "    return xx, xx_mask, yy, pp\n",
    "\n",
    "def eval_score(yy, pred, pp, pred_pos):\n",
    "    num_batches = int(len(yy)/batch_size)\n",
    "    f1 = f1_score(yy[:batch_size*num_batches], pred, average='macro')\n",
    "    accu = accuracy_score(yy[:batch_size*num_batches], pred)\n",
    "    \n",
    "    f1_pos = f1_score(pp[:batch_size*num_batches], pred_pos, average='macro')\n",
    "    accu_pos = accuracy_score(pp[:batch_size*num_batches], pred_pos)\n",
    "    return f1*100, accu*100, f1_pos*100, accu_pos*100\n",
    "\n",
    "def model(xx, yy, mask, pp, train_cond=True, pre_train=False):\n",
    "    num_batches = int(len(xx)/batch_size)\n",
    "    losses = 0\n",
    "    preds = []\n",
    "    pos_preds = []\n",
    "    for j in range(num_batches): \n",
    "        \n",
    "        s = j * batch_size\n",
    "        e = (j+1) * batch_size\n",
    "        \n",
    "        feed_dict = {x:xx[s:e], y:yy[s:e], y_pos:pp[s:e], x_mask:mask[s:e], is_train:train_cond, input_keep_prob:keep_prob, word_emb_mat:word_embedding}\n",
    "        \n",
    "        if(train_cond==True):\n",
    "            \n",
    "            if(pre_train==False):\n",
    "                _, _loss, step, _summary = sess.run([train_op, total_loss, global_step, summary], feed_dict)\n",
    "                \n",
    "            else:\n",
    "                _, _loss, step, _summary = sess.run([pos_optimizer, loss_pos, global_step, summary], feed_dict)\n",
    "            \n",
    "            summary_writer.add_summary(_summary, step)\n",
    "#             if step%5==0:\n",
    "#                 print(\"Steps:{}\".format(step), \", Loss: {}\".format(_loss))\n",
    "\n",
    "        else:\n",
    "            _loss, pred, pred_pos = sess.run([total_loss, predictions, predictions_pos], feed_dict)\n",
    "            preds.append(pred)\n",
    "            pos_preds.append(pred_pos)\n",
    "            \n",
    "        losses +=_loss\n",
    "        \n",
    "\n",
    "    if(train_cond==False):\n",
    "        y_pred = []\n",
    "        y_pred_pos = []\n",
    "        for i in range(num_batches):\n",
    "            for pred in preds[i]:\n",
    "                y_pred.append(pred)\n",
    "            for pred_pos in pos_preds[i]:\n",
    "                y_pred_pos.append(pred_pos)\n",
    "        return losses/num_batches, y_pred, y_pred_pos\n",
    "    \n",
    "    return losses/num_batches, step"
   ]
  },
  {
   "cell_type": "code",
   "execution_count": 17,
   "metadata": {
    "collapsed": true
   },
   "outputs": [],
   "source": [
    "x_id_train, mask_train, y_train, pos_id_train = data_prepare(x_train, label_train, pos_train)\n",
    "x_id_val, mask_val, y_val, pos_id_val = data_prepare(x_val, label_val, pos_val)"
   ]
  },
  {
   "cell_type": "code",
   "execution_count": 18,
   "metadata": {
    "collapsed": true
   },
   "outputs": [],
   "source": [
    "s=0\n",
    "e=batch_size\n",
    "feed_dict = {x:x_id_train[s:e], y:y_train[s:e], y_pos:pos_id_train[s:e], x_mask:mask_train[s:e], is_train:True, input_keep_prob:keep_prob, word_emb_mat:word_embedding}"
   ]
  },
  {
   "cell_type": "code",
   "execution_count": 19,
   "metadata": {},
   "outputs": [
    {
     "name": "stdout",
     "output_type": "stream",
     "text": [
      "15.8806 9.59751 5.66328 0.619855\n"
     ]
    }
   ],
   "source": [
    "l1, l2, l3, l4, step = sess.run([total_loss, loss, loss_pos, l2_loss, global_step], feed_dict)\n",
    "print(l1, l2, l3, l4)"
   ]
  },
  {
   "cell_type": "code",
   "execution_count": 20,
   "metadata": {},
   "outputs": [
    {
     "name": "stdout",
     "output_type": "stream",
     "text": [
      "14.638 9.57062 4.44749 0.619855\n"
     ]
    }
   ],
   "source": [
    "_, l1, l2, l3, l4, step = sess.run([train_op, total_loss, loss, loss_pos, l2_loss, global_step], feed_dict)\n",
    "print(l1, l2, l3, l4)"
   ]
  },
  {
   "cell_type": "code",
   "execution_count": null,
   "metadata": {
    "collapsed": true
   },
   "outputs": [],
   "source": []
  },
  {
   "cell_type": "code",
   "execution_count": null,
   "metadata": {
    "collapsed": true
   },
   "outputs": [],
   "source": []
  },
  {
   "cell_type": "code",
   "execution_count": null,
   "metadata": {
    "scrolled": true
   },
   "outputs": [
    {
     "name": "stdout",
     "output_type": "stream",
     "text": [
      "Epoch: 1 Step: 44 loss: 4.40261550421\n",
      "Epoch: 2 Step: 87 loss: 0.514135768247\n",
      "Epoch: 3 Step: 130 loss: 2.73633332585\n",
      "Epoch: 4 Step: 173 loss: 2.23702744828\n",
      "Epoch: 5 Step: 216 loss: 2.11131930906\n",
      "Model Saved\n"
     ]
    },
    {
     "name": "stderr",
     "output_type": "stream",
     "text": [
      "/users/btech/aviraj/cs771/lib/python3.5/site-packages/sklearn/metrics/classification.py:1135: UndefinedMetricWarning: F-score is ill-defined and being set to 0.0 in labels with no predicted samples.\n",
      "  'precision', 'predicted', average, warn_for)\n"
     ]
    },
    {
     "name": "stdout",
     "output_type": "stream",
     "text": [
      "Train: F1 :  23.3168885975 Accu:  47.0566860465 POS F1 :  92.0949827652 POS Accu:  92.1511627907 Loss:  2.04886097132\n",
      "Val: F1 :  24.1989813856 Accu:  46.25 POS F1 :  90.0933417527 POS Accu:  90.15625 Loss:  2.09273482561\n",
      "Epoch: 6 Step: 259 loss: 2.0467111399\n",
      "Epoch: 7 Step: 302 loss: 1.98831190065\n",
      "Epoch: 8 Step: 345 loss: 1.95471008988\n",
      "Epoch: 9 Step: 388 loss: 1.94017202355\n",
      "Epoch: 10 Step: 431 loss: 1.93677272908\n",
      "Model Saved\n",
      "Train: F1 :  21.2534162937 Accu:  47.1293604651 POS F1 :  93.655720327 POS Accu:  93.7136627907 Loss:  1.90640951312\n",
      "Val: F1 :  20.927943707 Accu:  46.25 POS F1 :  92.5797101449 POS Accu:  92.65625 Loss:  1.93961405754\n",
      "Epoch: 11 Step: 474 loss: 1.91776057454\n",
      "Epoch: 12 Step: 517 loss: 1.88978501808\n",
      "Epoch: 13 Step: 560 loss: 1.86404976734\n",
      "Epoch: 14 Step: 603 loss: 1.8598495001\n",
      "Epoch: 15 Step: 646 loss: 1.85840663245\n",
      "Model Saved\n",
      "Train: F1 :  20.5645570262 Accu:  47.8924418605 POS F1 :  94.8646342847 POS Accu:  94.949127907 Loss:  1.85182283091\n",
      "Val: F1 :  19.5807331965 Accu:  45.78125 POS F1 :  93.1547567227 POS Accu:  93.28125 Loss:  1.99213693142\n",
      "Epoch: 16 Step: 689 loss: 1.85953364261\n",
      "Epoch: 17 Step: 732 loss: 1.85295191754\n",
      "Epoch: 18 Step: 775 loss: 1.86913727051\n",
      "Epoch: 19 Step: 818 loss: 1.84244356876\n",
      "Epoch: 20 Step: 861 loss: 1.84262906951\n",
      "Model Saved\n",
      "Train: F1 :  20.6171171558 Accu:  48.0014534884 POS F1 :  95.2584322416 POS Accu:  95.3488372093 Loss:  1.84632523947\n",
      "Val: F1 :  19.4908859368 Accu:  45.625 POS F1 :  93.1547567227 POS Accu:  93.28125 Loss:  1.97275755405\n",
      "Epoch: 21 Step: 904 loss: 1.83073056021\n",
      "Epoch: 22 Step: 947 loss: 1.86033710491\n",
      "Epoch: 23 Step: 990 loss: 1.8081980611\n",
      "Epoch: 24 Step: 1033 loss: 1.824723155\n",
      "Epoch: 25 Step: 1076 loss: 1.80932591405\n",
      "Model Saved\n",
      "Train: F1 :  21.042207111 Accu:  48.6555232558 POS F1 :  96.5238956249 POS Accu:  96.5479651163 Loss:  1.77881456253\n",
      "Val: F1 :  20.3881670783 Accu:  47.03125 POS F1 :  94.6465123603 POS Accu:  94.6875 Loss:  1.88401310444\n",
      "Epoch: 26 Step: 1119 loss: 1.82850316791\n"
     ]
    }
   ],
   "source": [
    "num_epochs = 100\n",
    "pre_train_period = 2\n",
    "log_period = 5\n",
    "\n",
    "for i in range(num_epochs):\n",
    "    random = np.random.choice(len(y_train), size=(len(y_train)), replace=False)\n",
    "    x_id_train = x_id_train[random]\n",
    "    y_train = y_train[random]\n",
    "    mask_train = mask_train[random]    \n",
    "    pos_id_train = pos_id_train[random]\n",
    "    \n",
    "    if(i<pre_train_period):\n",
    "        losses, step = model(x_id_train, y_train, mask_train, pos_id_train, pre_train=True)\n",
    "    else:\n",
    "        losses, step = model(x_id_train, y_train, mask_train, pos_id_train)\n",
    "    print(\"Epoch:\", i+1,\"Step:\", step, \"loss:\",losses)\n",
    "    \n",
    "    if((i+1)%log_period==0):\n",
    "        saver.save(sess, save_path=save_dir)                         \n",
    "        print(\"Model Saved\")\n",
    "        train_loss, train_pred, train_pred_pos = model(x_id_train, y_train, mask_train, pos_id_train, train_cond=False)        \n",
    "        f1_, accu_, f1_pos_, accu_pos_ = eval_score(y_train, train_pred, pos_id_train, train_pred_pos)\n",
    "        print(\"Train: F1 : \",  f1_, \"Accu: \", accu_, \"POS F1 : \",  f1_pos_, \"POS Accu: \", accu_pos_, \"Loss: \", train_loss)\n",
    "        \n",
    "        val_loss, val_pred, val_pred_pos = model(x_id_val, y_val, mask_val, pos_id_val, train_cond=False)        \n",
    "        f1_, accu_, f1_pos_, accu_pos_ = eval_score(y_val, val_pred, pos_id_val, val_pred_pos)\n",
    "        print(\"Val: F1 : \",  f1_, \"Accu: \", accu_, \"POS F1 : \",  f1_pos_, \"POS Accu: \", accu_pos_, \"Loss: \", val_loss)"
   ]
  },
  {
   "cell_type": "code",
   "execution_count": null,
   "metadata": {
    "collapsed": true
   },
   "outputs": [],
   "source": []
  },
  {
   "cell_type": "code",
   "execution_count": null,
   "metadata": {
    "collapsed": true
   },
   "outputs": [],
   "source": [
    "saver.restore(sess, save_dir)"
   ]
  }
 ],
 "metadata": {
  "kernelspec": {
   "display_name": "cs771",
   "language": "python",
   "name": "cs771"
  },
  "language_info": {
   "codemirror_mode": {
    "name": "ipython",
    "version": 3
   },
   "file_extension": ".py",
   "mimetype": "text/x-python",
   "name": "python",
   "nbconvert_exporter": "python",
   "pygments_lexer": "ipython3",
   "version": "3.5.2"
  }
 },
 "nbformat": 4,
 "nbformat_minor": 2
}
