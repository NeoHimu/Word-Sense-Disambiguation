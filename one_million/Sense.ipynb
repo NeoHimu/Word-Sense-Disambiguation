{
 "cells": [
  {
   "cell_type": "code",
   "execution_count": 1,
   "metadata": {
    "collapsed": true
   },
   "outputs": [],
   "source": [
    "import pickle\n",
    "from collections import Counter"
   ]
  },
  {
   "cell_type": "code",
   "execution_count": 2,
   "metadata": {
    "collapsed": true
   },
   "outputs": [],
   "source": [
    "with open('../../dataset/semcor+omsti.gold.key.txt') as f:\n",
    "    sense_key = f.readlines()\n",
    "sense_key = [x.strip() for x in sense_key] "
   ]
  },
  {
   "cell_type": "code",
   "execution_count": null,
   "metadata": {
    "collapsed": true
   },
   "outputs": [],
   "source": []
  },
  {
   "cell_type": "code",
   "execution_count": null,
   "metadata": {
    "collapsed": true
   },
   "outputs": [],
   "source": [
    "with open(\"../../dataset/sense/om-keys\",\"wb\") as f:\n",
    "    pickle.dump(sense_key, f)"
   ]
  },
  {
   "cell_type": "code",
   "execution_count": null,
   "metadata": {
    "collapsed": true
   },
   "outputs": [],
   "source": []
  },
  {
   "cell_type": "code",
   "execution_count": 3,
   "metadata": {
    "collapsed": true
   },
   "outputs": [],
   "source": [
    "dict_sense_keys = dict((sense_key[i][:14], []) if i<226036 else (sense_key[i][:23], []) for i in range(len(sense_key)))\n",
    "\n",
    "for i in range(226036):\n",
    "    index = sense_key[i].find(\"%\")\n",
    "    dict_sense_keys[sense_key[i][:14]].append(sense_key[i][15:])\n",
    "    dict_sense_keys[sense_key[i][:14]].append(sense_key[i][index+1])\n",
    "    dict_sense_keys[sense_key[i][:14]].append(sense_key[i][index+3:index+5])\n",
    "    dict_sense_keys[sense_key[i][:14]].append(sense_key[i][index+1:index+5])\n",
    "\n",
    "for i in range(226036, len(sense_key)):\n",
    "    index = sense_key[i].find(\"%\")\n",
    "    dict_sense_keys[sense_key[i][:23]].append(sense_key[i][15:])\n",
    "    dict_sense_keys[sense_key[i][:23]].append(sense_key[i][index+1])\n",
    "    dict_sense_keys[sense_key[i][:23]].append(sense_key[i][index+3:index+5])\n",
    "    dict_sense_keys[sense_key[i][:23]].append(sense_key[i][index+1:index+5])"
   ]
  },
  {
   "cell_type": "code",
   "execution_count": null,
   "metadata": {
    "collapsed": true
   },
   "outputs": [],
   "source": [
    "with open(\"../../dataset/sense/dict_sense-keys\",\"wb\") as f:\n",
    "    pickle.dump(dict_sense_keys, f)"
   ]
  },
  {
   "cell_type": "code",
   "execution_count": null,
   "metadata": {
    "collapsed": true
   },
   "outputs": [],
   "source": []
  },
  {
   "cell_type": "code",
   "execution_count": 3,
   "metadata": {
    "collapsed": true
   },
   "outputs": [],
   "source": [
    "total_words = []\n",
    "for i in range(226036):\n",
    "    index = sense_key[i].find(\"%\")\n",
    "    total_words.append(sense_key[i][15:index])\n",
    "\n",
    "for i in range(226036, len(sense_key)):\n",
    "    index = sense_key[i].find(\"%\")\n",
    "    total_words.append(sense_key[i][24:index])\n",
    "\n",
    "total_words = Counter(total_words)\n",
    "word_count = total_words.most_common()\n",
    "vocab_words = [k for k,v in word_count]"
   ]
  },
  {
   "cell_type": "code",
   "execution_count": 7,
   "metadata": {
    "scrolled": true
   },
   "outputs": [
    {
     "data": {
      "text/plain": [
       "20400"
      ]
     },
     "execution_count": 7,
     "metadata": {},
     "output_type": "execute_result"
    }
   ],
   "source": [
    "with open(\"../../dataset/sense/vocab_sense-words\",\"wb\") as f:\n",
    "    pickle.dump(vocab_words, f)\n",
    "    \n",
    "len(vocab_words)"
   ]
  },
  {
   "cell_type": "code",
   "execution_count": 4,
   "metadata": {
    "scrolled": true
   },
   "outputs": [
    {
     "data": {
      "text/plain": [
       "[('change', 3074),\n",
       " ('lead', 2987),\n",
       " ('design', 2938),\n",
       " ('open', 2922),\n",
       " ('study', 2920),\n",
       " ('set', 2909),\n",
       " ('call', 2906),\n",
       " ('point', 2855),\n",
       " ('bring', 2836),\n",
       " ('extend', 2832)]"
      ]
     },
     "execution_count": 4,
     "metadata": {},
     "output_type": "execute_result"
    }
   ],
   "source": [
    "word_count[20:30]"
   ]
  },
  {
   "cell_type": "code",
   "execution_count": null,
   "metadata": {
    "collapsed": true
   },
   "outputs": [],
   "source": []
  },
  {
   "cell_type": "code",
   "execution_count": 9,
   "metadata": {},
   "outputs": [
    {
     "data": {
      "text/plain": [
       "34322"
      ]
     },
     "execution_count": 9,
     "metadata": {},
     "output_type": "execute_result"
    }
   ],
   "source": [
    "total_word_senses = []\n",
    "\n",
    "for i in range(226036):\n",
    "    total_word_senses.append(sense_key[i][15:])\n",
    "\n",
    "for i in range(226036, len(sense_key)):\n",
    "    total_word_senses.append(sense_key[i][24:])\n",
    "\n",
    "total_word_senses = Counter(total_word_senses)\n",
    "word_senses_count = total_word_senses.most_common()\n",
    "vocab_word_senses = [k for k,v in word_senses_count]\n",
    "\n",
    "with open(\"../../dataset/sense/vocab_word-senses\",\"wb\") as f:\n",
    "    pickle.dump(vocab_word_senses, f)\n",
    "    \n",
    "len(vocab_word_senses)"
   ]
  },
  {
   "cell_type": "code",
   "execution_count": 10,
   "metadata": {},
   "outputs": [
    {
     "data": {
      "text/plain": [
       "[('be%2:42:03::', 10582),\n",
       " ('person%1:03:00::', 7195),\n",
       " ('line%1:04:01::', 4968),\n",
       " ('see%2:31:00::', 4554),\n",
       " ('be%2:42:06::', 3423),\n",
       " ('keep%2:41:03::', 2283),\n",
       " ('little%3:00:03::', 2042),\n",
       " ('group%1:03:00::', 1826),\n",
       " ('say%2:32:00::', 1819),\n",
       " ('not%4:02:00::', 1703)]"
      ]
     },
     "execution_count": 10,
     "metadata": {},
     "output_type": "execute_result"
    }
   ],
   "source": [
    "word_senses_count[:10]"
   ]
  },
  {
   "cell_type": "code",
   "execution_count": null,
   "metadata": {
    "collapsed": true
   },
   "outputs": [],
   "source": []
  },
  {
   "cell_type": "code",
   "execution_count": 11,
   "metadata": {
    "collapsed": true
   },
   "outputs": [],
   "source": [
    "dict_word_sense_keys = dict((w, []) for w in vocab_words)\n",
    "\n",
    "for v in vocab_word_senses:\n",
    "    dict_word_sense_keys[v[:v.find(\"%\")]].append(v)\n",
    "\n",
    "with open(\"../../dataset/sense/dict_word-sense\",\"wb\") as f:\n",
    "    pickle.dump(dict_word_sense_keys, f)"
   ]
  },
  {
   "cell_type": "code",
   "execution_count": 12,
   "metadata": {
    "scrolled": true
   },
   "outputs": [
    {
     "data": {
      "text/plain": [
       "['open%2:35:00::',\n",
       " 'open%5:00:00:public:00',\n",
       " 'open%2:41:01::',\n",
       " 'open%2:30:00::',\n",
       " 'open%5:00:00:unrestricted:00',\n",
       " 'open%2:30:01::',\n",
       " 'open%2:35:06::',\n",
       " 'open%2:41:00::',\n",
       " 'open%3:00:01::',\n",
       " 'open%3:00:02::',\n",
       " 'open%5:00:00:unprotected:00',\n",
       " 'open%2:35:08::',\n",
       " 'open%2:33:00::',\n",
       " 'open%5:00:00:available:00',\n",
       " 'open%2:42:00::',\n",
       " 'open%5:00:00:coarse:00',\n",
       " 'open%5:00:00:unenclosed:00',\n",
       " 'open%5:00:00:vulnerable:00',\n",
       " 'open%3:00:04::',\n",
       " 'open%1:15:02::',\n",
       " 'open%5:00:00:unconstricted:00',\n",
       " 'open%3:00:08::',\n",
       " 'open%5:00:00:unsealed:01',\n",
       " 'open%5:00:00:unsettled:02',\n",
       " 'open%1:15:01::']"
      ]
     },
     "execution_count": 12,
     "metadata": {},
     "output_type": "execute_result"
    }
   ],
   "source": [
    "dict_word_sense_keys['open']"
   ]
  },
  {
   "cell_type": "code",
   "execution_count": null,
   "metadata": {
    "collapsed": true
   },
   "outputs": [],
   "source": []
  },
  {
   "cell_type": "code",
   "execution_count": 14,
   "metadata": {},
   "outputs": [
    {
     "data": {
      "text/plain": [
       "2468"
      ]
     },
     "execution_count": 14,
     "metadata": {},
     "output_type": "execute_result"
    }
   ],
   "source": [
    "total_sense = []\n",
    "senses = []\n",
    "for i in range(len(sense_key)):\n",
    "    index = sense_key[i].find(\"%\")\n",
    "    total_sense.append(sense_key[i][index+1:])\n",
    "\n",
    "total_sense = Counter(total_sense)\n",
    "sense_count = total_sense.most_common()\n",
    "\n",
    "vocab_sense = [k for k,v in sense_count]\n",
    "\n",
    "with open(\"../../dataset/sense/vocab_sense\",\"wb\") as f:\n",
    "    pickle.dump(vocab_sense, f)\n",
    "    \n",
    "len(vocab_sense)"
   ]
  },
  {
   "cell_type": "code",
   "execution_count": 15,
   "metadata": {},
   "outputs": [
    {
     "data": {
      "text/plain": [
       "[('3:00:00::', 63192),\n",
       " ('1:04:00::', 47387),\n",
       " ('1:09:00::', 38571),\n",
       " ('1:14:00::', 36967),\n",
       " ('1:10:00::', 36875),\n",
       " ('2:32:00::', 30631),\n",
       " ('1:06:00::', 28551),\n",
       " ('1:07:00::', 28472),\n",
       " ('1:18:00::', 26336),\n",
       " ('1:26:00::', 24600)]"
      ]
     },
     "execution_count": 15,
     "metadata": {},
     "output_type": "execute_result"
    }
   ],
   "source": [
    "sense_count[:10]"
   ]
  },
  {
   "cell_type": "code",
   "execution_count": null,
   "metadata": {
    "collapsed": true
   },
   "outputs": [],
   "source": []
  }
 ],
 "metadata": {
  "kernelspec": {
   "display_name": "cs771",
   "language": "python",
   "name": "cs771"
  },
  "language_info": {
   "codemirror_mode": {
    "name": "ipython",
    "version": 3
   },
   "file_extension": ".py",
   "mimetype": "text/x-python",
   "name": "python",
   "nbconvert_exporter": "python",
   "pygments_lexer": "ipython3",
   "version": "3.5.2"
  }
 },
 "nbformat": 4,
 "nbformat_minor": 2
}
