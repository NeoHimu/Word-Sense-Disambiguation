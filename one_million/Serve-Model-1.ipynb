{
 "cells": [
  {
   "cell_type": "code",
   "execution_count": null,
   "metadata": {
    "collapsed": true
   },
   "outputs": [],
   "source": [
    "import tensorflow as tf\n",
    "tf.logging.set_verbosity(tf.logging.WARN)\n",
    "import pickle\n",
    "import numpy as np\n",
    "import os\n",
    "from sklearn.model_selection import train_test_split\n",
    "from sklearn.metrics import f1_score\n",
    "from sklearn.metrics import accuracy_score\n",
    "import os\n",
    "from tensorflow.python.client import device_lib\n",
    "from collections import Counter"
   ]
  },
  {
   "cell_type": "code",
   "execution_count": null,
   "metadata": {
    "collapsed": true
   },
   "outputs": [],
   "source": [
    "f = open('../Glove/word_embedding_glove', 'rb')\n",
    "word_embedding = pickle.load(f)\n",
    "f.close()\n",
    "word_embedding = word_embedding[: len(word_embedding)-1]\n",
    "\n",
    "f = open('../Glove/vocab_glove', 'rb')\n",
    "vocab = pickle.load(f)\n",
    "f.close()\n",
    "\n",
    "word2id = dict((w, i) for i,w in enumerate(vocab))\n",
    "id2word = dict((i, w) for i,w in enumerate(vocab))\n",
    "\n",
    "unknown_token = \"UNKNOWN_TOKEN\""
   ]
  },
  {
   "cell_type": "code",
   "execution_count": null,
   "metadata": {
    "collapsed": true
   },
   "outputs": [],
   "source": [
    "f = open(\"../../dataset/sense/dict_sense-keys\", 'rb')\n",
    "dict_sense_keys = pickle.load(f)\n",
    "f.close()\n",
    "\n",
    "f = open(\"../../dataset/sense/dict_word-sense\", 'rb')\n",
    "dict_word_sense = pickle.load(f)\n",
    "f.close()"
   ]
  },
  {
   "cell_type": "code",
   "execution_count": 4,
   "metadata": {
    "collapsed": true
   },
   "outputs": [],
   "source": [
    "# Model Description\n",
    "sense_word = 'serve'\n",
    "model_name = 'model-1'\n",
    "sense_word_dir = 'output/' + sense_word\n",
    "model_dir = sense_word_dir + '/' + model_name\n",
    "save_dir = os.path.join(model_dir, \"save/\")\n",
    "log_dir = os.path.join(model_dir, \"log\")\n",
    "\n",
    "if not os.path.exists(sense_word_dir):\n",
    "    os.mkdir(sense_word_dir)\n",
    "if not os.path.exists(model_dir):\n",
    "    os.mkdir(model_dir)\n",
    "if not os.path.exists(save_dir):\n",
    "    os.mkdir(save_dir)\n",
    "if not os.path.exists(log_dir):\n",
    "    os.mkdir(log_dir)"
   ]
  },
  {
   "cell_type": "code",
   "execution_count": 5,
   "metadata": {
    "scrolled": false
   },
   "outputs": [
    {
     "data": {
      "text/plain": [
       "[('42', 1941), ('41', 839), ('33', 529), ('35', 112), ('34', 41)]"
      ]
     },
     "execution_count": 5,
     "metadata": {},
     "output_type": "execute_result"
    }
   ],
   "source": [
    "f = open(\"../../dataset/checkwords/\"+ sense_word + \"_data\", 'rb')\n",
    "data = pickle.load(f)\n",
    "f.close()\n",
    "\n",
    "data_y = []\n",
    "for i in range(len(data)):\n",
    "    data_y.append(dict_sense_keys[data[i][0]][2])\n",
    "\n",
    "sense_count = Counter(data_y)\n",
    "sense_count = sense_count.most_common()\n",
    "vocab_sense = [k for k,v in sense_count[:4]]\n",
    "sense_count"
   ]
  },
  {
   "cell_type": "code",
   "execution_count": 6,
   "metadata": {},
   "outputs": [
    {
     "data": {
      "text/plain": [
       "['42', '41', '33', '35']"
      ]
     },
     "execution_count": 6,
     "metadata": {},
     "output_type": "execute_result"
    }
   ],
   "source": [
    "vocab_sense"
   ]
  },
  {
   "cell_type": "code",
   "execution_count": 7,
   "metadata": {},
   "outputs": [
    {
     "name": "stdout",
     "output_type": "stream",
     "text": [
      "3421 3462\n"
     ]
    }
   ],
   "source": [
    "data_x = []\n",
    "data_label = []\n",
    "for i in range(len(data)):\n",
    "    if dict_sense_keys[data[i][0]][2] in vocab_sense:\n",
    "        data_x.append(data[i][1])\n",
    "        data_label.append(dict_sense_keys[data[i][0]][2])\n",
    "\n",
    "print(len(data_label), len(data_y))\n",
    "\n",
    "# vocab_sense = dict_word_sense[sense_word]\n",
    "\n",
    "sense2id = dict((s, i) for i,s in enumerate(vocab_sense))\n",
    "id2sense = dict((i, s) for i,s in enumerate(vocab))"
   ]
  },
  {
   "cell_type": "code",
   "execution_count": 8,
   "metadata": {},
   "outputs": [],
   "source": [
    "# Parameters\n",
    "mode = 'train'\n",
    "num_senses = len(vocab_sense)\n",
    "batch_size = 64\n",
    "vocab_size = len(vocab)\n",
    "unk_vocab_size = 1\n",
    "word_emb_size = len(word_embedding[0])\n",
    "max_sent_size = 200\n",
    "hidden_size = 100\n",
    "keep_prob = 0.5\n",
    "l2_lambda = 0.001\n",
    "init_lr = 0.001\n",
    "decay_steps = 500\n",
    "decay_rate = 0.96\n",
    "clip_norm = 1\n",
    "clipping = True"
   ]
  },
  {
   "cell_type": "code",
   "execution_count": 9,
   "metadata": {
    "collapsed": true,
    "scrolled": true
   },
   "outputs": [],
   "source": [
    "# MODEL\n",
    "x = tf.placeholder('int32', [batch_size, max_sent_size], name=\"x\")\n",
    "y = tf.placeholder('int32', [batch_size], name=\"y\")\n",
    "x_mask  = tf.placeholder('bool', [batch_size, max_sent_size], name='x_mask') \n",
    "is_train = tf.placeholder('bool', [], name='is_train')\n",
    "word_emb_mat = tf.placeholder('float', [None, word_emb_size], name='emb_mat')\n",
    "input_keep_prob = tf.cond(is_train,lambda:keep_prob, lambda:tf.constant(1.0))\n",
    "x_len = tf.reduce_sum(tf.cast(x_mask, 'int32'), 1)\n",
    "\n",
    "with tf.name_scope(\"word_embedding\"):\n",
    "    if mode == 'train':\n",
    "        unk_word_emb_mat = tf.get_variable(\"word_emb_mat\", dtype='float', shape=[unk_vocab_size, word_emb_size], initializer=tf.contrib.layers.xavier_initializer(uniform=True, seed=0, dtype=tf.float32))\n",
    "    else:\n",
    "        unk_word_emb_mat = tf.get_variable(\"word_emb_mat\", shape=[unk_vocab_size, word_emb_size], dtype='float')\n",
    "        \n",
    "    final_word_emb_mat = tf.concat([word_emb_mat, unk_word_emb_mat], 0)\n",
    "    Wx = tf.nn.embedding_lookup(final_word_emb_mat, x)  \n",
    "\n",
    "with tf.variable_scope(\"lstm1\"):\n",
    "    cell_fw1 = tf.contrib.rnn.BasicLSTMCell(hidden_size,state_is_tuple=True)\n",
    "    cell_bw1 = tf.contrib.rnn.BasicLSTMCell(hidden_size,state_is_tuple=True)\n",
    "\n",
    "    d_cell_fw1 = tf.contrib.rnn.DropoutWrapper(cell_fw1, input_keep_prob=input_keep_prob)\n",
    "    d_cell_bw1 = tf.contrib.rnn.DropoutWrapper(cell_bw1, input_keep_prob=input_keep_prob)\n",
    "    \n",
    "    (fw_h1, bw_h1), _ = tf.nn.bidirectional_dynamic_rnn(d_cell_fw1, d_cell_bw1, Wx, sequence_length=x_len, dtype='float', scope='lstm1')\n",
    "    h1 = tf.concat([fw_h1, bw_h1], 2)\n",
    "    \n",
    "with tf.variable_scope(\"lstm2\"):\n",
    "    cell_fw2 = tf.contrib.rnn.BasicLSTMCell(hidden_size,state_is_tuple=True)\n",
    "    cell_bw2 = tf.contrib.rnn.BasicLSTMCell(hidden_size,state_is_tuple=True)\n",
    "\n",
    "    d_cell_fw2 = tf.contrib.rnn.DropoutWrapper(cell_fw2, input_keep_prob=input_keep_prob)\n",
    "    d_cell_bw2 = tf.contrib.rnn.DropoutWrapper(cell_bw2, input_keep_prob=input_keep_prob)\n",
    "    \n",
    "    (fw_h2, bw_h2), _ = tf.nn.bidirectional_dynamic_rnn(d_cell_fw2, d_cell_bw2, h1, sequence_length=x_len, dtype='float', scope='lstm2')\n",
    "    h = tf.concat([fw_h2, bw_h2], 2)\n",
    "\n",
    "def attention(input_x, input_mask, W_att):\n",
    "    h_masked = tf.boolean_mask(input_x, input_mask)\n",
    "    h_tanh = tf.tanh(h_masked)\n",
    "    u = tf.matmul(h_tanh, W_att)\n",
    "    a = tf.nn.softmax(u)\n",
    "    c = tf.reduce_sum(tf.multiply(h_tanh, a), 0)  \n",
    "    return c\n",
    "\n",
    "with tf.variable_scope(\"attention\"):\n",
    "    W_att = tf.Variable(tf.truncated_normal([2*hidden_size, 1], mean=0.0, stddev=0.1, seed=0), name=\"W_att\")\n",
    "    c = tf.expand_dims(attention(h[0], x_mask[0], W_att), 0)\n",
    "    for i in range(1, batch_size):\n",
    "        c = tf.concat([c, tf.expand_dims(attention(h[i], x_mask[i], W_att), 0)], 0)\n",
    "        \n",
    "with tf.variable_scope(\"softmax_layer\"):\n",
    "    W = tf.Variable(tf.truncated_normal([2*hidden_size, num_senses], mean=0.0, stddev=0.1, seed=0), name=\"W\")\n",
    "    b = tf.Variable(tf.zeros([num_senses]), name=\"b\")\n",
    "    drop_c = tf.nn.dropout(c, input_keep_prob)\n",
    "    logits = tf.matmul(drop_c, W) + b\n",
    "    predictions = tf.argmax(logits, 1)\n",
    "    \n",
    "loss = tf.reduce_mean(tf.nn.sparse_softmax_cross_entropy_with_logits(logits=logits, labels=y))\n",
    "\n",
    "global_step = tf.Variable(0, trainable=False, name=\"global_step\")\n",
    "\n",
    "learning_rate = tf.train.exponential_decay(init_lr, global_step, decay_steps, decay_rate, staircase=True)\n",
    "\n",
    "tv_all = tf.trainable_variables()\n",
    "tv_regu =[]\n",
    "for t in tv_all:\n",
    "    if t.name.find('b:')==-1:\n",
    "        tv_regu.append(t)\n",
    "        \n",
    "# l2 Loss\n",
    "l2_loss = l2_lambda * tf.reduce_sum([ tf.nn.l2_loss(v) for v in tv_regu ])\n",
    "\n",
    "total_loss = loss + l2_loss\n",
    "\n",
    "# Optimizer for loss\n",
    "optimizer = tf.train.AdamOptimizer(learning_rate)\n",
    "\n",
    "# Gradients and Variables for Loss\n",
    "grads_vars = optimizer.compute_gradients(total_loss)\n",
    "\n",
    "# Clipping of Gradients\n",
    "clipped_grads = grads_vars\n",
    "if(clipping == True):\n",
    "    clipped_grads = [(tf.clip_by_norm(grad, clip_norm), var) for grad, var in clipped_grads]\n",
    "\n",
    "# Training Optimizer for Total Loss\n",
    "train_op = optimizer.apply_gradients(clipped_grads, global_step=global_step)\n",
    "\n",
    "# Summaries\n",
    "var_summaries = []\n",
    "for v in tv_all:\n",
    "    var_summary = tf.summary.histogram(\"{}/var\".format(v.name), v)\n",
    "    var_summaries.append(var_summary)\n",
    "\n",
    "var_summaries_merged = tf.summary.merge(var_summaries)\n",
    "\n",
    "loss_summary = tf.summary.scalar(\"loss\", loss)\n",
    "total_loss_summary = tf.summary.scalar(\"total_loss\", total_loss)\n",
    "summary = tf.summary.merge_all()"
   ]
  },
  {
   "cell_type": "code",
   "execution_count": 10,
   "metadata": {
    "collapsed": true
   },
   "outputs": [],
   "source": [
    "os.environ[\"CUDA_DEVICE_ORDER\"]=\"PCI_BUS_ID\"   # see issue #152\n",
    "os.environ[\"CUDA_VISIBLE_DEVICES\"]=\"0\"\n",
    "config = tf.ConfigProto()\n",
    "config.gpu_options.allow_growth = True\n",
    "sess = tf.Session(config=config)\n",
    "sess.run(tf.global_variables_initializer())                          # For initializing all the variables\n",
    "saver = tf.train.Saver()                                             # For Saving the model\n",
    "summary_writer = tf.summary.FileWriter(log_dir, sess.graph)          # For writing Summaries"
   ]
  },
  {
   "cell_type": "code",
   "execution_count": 11,
   "metadata": {
    "collapsed": true
   },
   "outputs": [],
   "source": [
    "index = []\n",
    "for i in range(len(data_x)):\n",
    "    index.append(i)"
   ]
  },
  {
   "cell_type": "code",
   "execution_count": 12,
   "metadata": {
    "scrolled": true
   },
   "outputs": [
    {
     "name": "stderr",
     "output_type": "stream",
     "text": [
      "/users/btech/aviraj/cs771/lib/python3.5/site-packages/sklearn/model_selection/_split.py:2026: FutureWarning: From version 0.21, test_size will always complement train_size unless both are specified.\n",
      "  FutureWarning)\n"
     ]
    }
   ],
   "source": [
    "index_train, index_val, label_train, label_val = train_test_split(index, data_label, train_size=0.8, shuffle=True, stratify=data_label, random_state=0)\n",
    "\n",
    "data_x = np.array(data_x)\n",
    "\n",
    "x_train = data_x[index_train]\n",
    "x_val = data_x[index_val]"
   ]
  },
  {
   "cell_type": "code",
   "execution_count": 13,
   "metadata": {
    "collapsed": true
   },
   "outputs": [],
   "source": [
    "def data_prepare(x, y):\n",
    "    num_examples = len(x)\n",
    "\n",
    "    xx = np.zeros([num_examples, max_sent_size], dtype=int)\n",
    "    xx_mask = np.zeros([num_examples, max_sent_size], dtype=bool)\n",
    "    yy = np.zeros([num_examples], dtype=int)\n",
    "\n",
    "    for j in range(num_examples):\n",
    "        for i in range(max_sent_size):\n",
    "            if(i>=len(x[j])):\n",
    "                break\n",
    "            w = x[j][i]\n",
    "            xx[j][i] = word2id[w] if w in word2id else word2id['UNKNOWN_TOKEN']\n",
    "            xx_mask[j][i] = True\n",
    "        yy[j] = sense2id[y[j]]\n",
    "    return xx, xx_mask, yy\n",
    "\n",
    "def eval_score(yy, pred):\n",
    "    num_batches = int(len(yy)/batch_size)\n",
    "    f1 = f1_score(yy[:batch_size*num_batches], pred, average='macro')\n",
    "    accu = accuracy_score(yy[:batch_size*num_batches], pred)\n",
    "    return f1*100, accu*100\n",
    "\n",
    "def model(xx, yy, mask, train_cond=True):\n",
    "    num_batches = int(len(xx)/batch_size)\n",
    "    losses = 0\n",
    "    preds = []\n",
    "    for j in range(num_batches): \n",
    "        \n",
    "        s = j * batch_size\n",
    "        e = (j+1) * batch_size\n",
    "        \n",
    "        feed_dict = {x:xx[s:e], y:yy[s:e], x_mask:mask[s:e], is_train:train_cond, input_keep_prob:keep_prob, word_emb_mat:word_embedding}\n",
    "        \n",
    "        \n",
    "        if(train_cond==True):\n",
    "            _, _loss, step, _summary = sess.run([train_op, total_loss, global_step, summary], feed_dict)\n",
    "            summary_writer.add_summary(_summary, step)  \n",
    "#             print(\"Steps:{}\".format(step), \", Loss: {}\".format(_loss))\n",
    "\n",
    "        else:\n",
    "            _loss, pred = sess.run([total_loss, predictions], feed_dict)\n",
    "            preds.append(pred)\n",
    "            \n",
    "        losses +=_loss\n",
    "\n",
    "    if(train_cond==False):\n",
    "        y_pred = []\n",
    "        for i in range(num_batches):\n",
    "            for pred in preds[i]:\n",
    "                y_pred.append(pred)\n",
    "        return losses/num_batches, y_pred\n",
    "    \n",
    "    return losses/num_batches, step"
   ]
  },
  {
   "cell_type": "code",
   "execution_count": 14,
   "metadata": {
    "collapsed": true
   },
   "outputs": [],
   "source": [
    "x_id_train, mask_train, y_train = data_prepare(x_train, label_train)\n",
    "x_id_val, mask_val, y_val = data_prepare(x_val, label_val)"
   ]
  },
  {
   "cell_type": "code",
   "execution_count": 15,
   "metadata": {
    "scrolled": true
   },
   "outputs": [
    {
     "name": "stdout",
     "output_type": "stream",
     "text": [
      "Epoch: 1 Step: 42 loss: 3.57627843107\n",
      "Epoch: 2 Step: 84 loss: 1.91793904702\n",
      "Epoch: 3 Step: 126 loss: 1.60317358233\n",
      "Epoch: 4 Step: 168 loss: 1.40223442373\n",
      "Epoch: 5 Step: 210 loss: 1.29286333209\n",
      "Model Saved\n",
      "Train: F1 Score:  65.8532933052 Accuracy:  70.1264880952 Loss:  1.19062558384\n",
      "Val: F1 Score:  61.0749833002 Accuracy:  66.71875 Loss:  1.30079270601\n",
      "Epoch: 6 Step: 252 loss: 1.20722080129\n",
      "Epoch: 7 Step: 294 loss: 1.11103897719\n",
      "Epoch: 8 Step: 336 loss: 1.04382305486\n",
      "Epoch: 9 Step: 378 loss: 0.986597894203\n",
      "Epoch: 10 Step: 420 loss: 0.957928502843\n",
      "Model Saved\n",
      "Train: F1 Score:  71.0210490324 Accuracy:  74.7023809524 Loss:  0.910581825745\n",
      "Val: F1 Score:  65.4696356401 Accuracy:  70.3125 Loss:  1.01534462571\n",
      "Epoch: 11 Step: 462 loss: 0.906148741643\n",
      "Epoch: 12 Step: 504 loss: 0.893847088019\n",
      "Epoch: 13 Step: 546 loss: 0.849320275443\n",
      "Epoch: 14 Step: 588 loss: 0.852207369748\n",
      "Epoch: 15 Step: 630 loss: 0.818051089843\n",
      "Model Saved\n",
      "Train: F1 Score:  74.4982537015 Accuracy:  76.7113095238 Loss:  0.820228673163\n",
      "Val: F1 Score:  70.4269333014 Accuracy:  73.125 Loss:  0.949175810814\n",
      "Epoch: 16 Step: 672 loss: 0.814034899076\n",
      "Epoch: 17 Step: 714 loss: 0.787820014216\n",
      "Epoch: 18 Step: 756 loss: 0.760271156118\n",
      "Epoch: 19 Step: 798 loss: 0.79078369907\n",
      "Epoch: 20 Step: 840 loss: 0.750957395349\n",
      "Model Saved\n",
      "Train: F1 Score:  75.9754840669 Accuracy:  79.2410714286 Loss:  0.721805193595\n",
      "Val: F1 Score:  64.1527921815 Accuracy:  73.125 Loss:  0.913325339556\n",
      "Epoch: 21 Step: 882 loss: 0.732452955984\n",
      "Epoch: 22 Step: 924 loss: 0.743735919396\n",
      "Epoch: 23 Step: 966 loss: 0.706531781526\n",
      "Epoch: 24 Step: 1008 loss: 0.693202552341\n",
      "Epoch: 25 Step: 1050 loss: 0.685972223679\n",
      "Model Saved\n",
      "Train: F1 Score:  76.8868762807 Accuracy:  79.650297619 Loss:  0.671080250116\n",
      "Val: F1 Score:  66.2223161888 Accuracy:  73.75 Loss:  0.871223008633\n",
      "Epoch: 26 Step: 1092 loss: 0.690827823821\n",
      "Epoch: 27 Step: 1134 loss: 0.681652762351\n",
      "Epoch: 28 Step: 1176 loss: 0.663676171076\n",
      "Epoch: 29 Step: 1218 loss: 0.64550749177\n",
      "Epoch: 30 Step: 1260 loss: 0.645611398277\n",
      "Model Saved\n",
      "Train: F1 Score:  78.9136416174 Accuracy:  81.7336309524 Loss:  0.65443823593\n",
      "Val: F1 Score:  68.1471462113 Accuracy:  73.90625 Loss:  0.869875001907\n",
      "Epoch: 31 Step: 1302 loss: 0.675152894287\n",
      "Epoch: 32 Step: 1344 loss: 0.637384601292\n",
      "Epoch: 33 Step: 1386 loss: 0.635863788781\n",
      "Epoch: 34 Step: 1428 loss: 0.607517412021\n",
      "Epoch: 35 Step: 1470 loss: 0.605119212752\n",
      "Model Saved\n",
      "Train: F1 Score:  81.8620277583 Accuracy:  83.9285714286 Loss:  0.588532100831\n",
      "Val: F1 Score:  69.1309976001 Accuracy:  74.6875 Loss:  0.861662650108\n",
      "Epoch: 36 Step: 1512 loss: 0.607532664424\n",
      "Epoch: 37 Step: 1554 loss: 0.606393118699\n",
      "Epoch: 38 Step: 1596 loss: 0.626528931516\n",
      "Epoch: 39 Step: 1638 loss: 0.588493553655\n",
      "Epoch: 40 Step: 1680 loss: 0.59704552378\n",
      "Model Saved\n",
      "Train: F1 Score:  77.7529390691 Accuracy:  82.03125 Loss:  0.628855153209\n",
      "Val: F1 Score:  63.5930407744 Accuracy:  72.65625 Loss:  0.895823943615\n",
      "Epoch: 41 Step: 1722 loss: 0.601467781124\n",
      "Epoch: 42 Step: 1764 loss: 0.5656615297\n",
      "Epoch: 43 Step: 1806 loss: 0.580159793297\n",
      "Epoch: 44 Step: 1848 loss: 0.599422576882\n",
      "Epoch: 45 Step: 1890 loss: 0.580048898856\n",
      "Model Saved\n",
      "Train: F1 Score:  78.9287860201 Accuracy:  84.0401785714 Loss:  0.591136928825\n",
      "Val: F1 Score:  70.4798422071 Accuracy:  76.71875 Loss:  0.800061416626\n",
      "Epoch: 46 Step: 1932 loss: 0.591331298153\n",
      "Epoch: 47 Step: 1974 loss: 0.548064834305\n",
      "Epoch: 48 Step: 2016 loss: 0.553741947526\n",
      "Epoch: 49 Step: 2058 loss: 0.567697741446\n",
      "Epoch: 50 Step: 2100 loss: 0.531376918157\n",
      "Model Saved\n",
      "Train: F1 Score:  83.2982162936 Accuracy:  85.15625 Loss:  0.537884333304\n",
      "Val: F1 Score:  73.7014547256 Accuracy:  79.375 Loss:  0.755289179087\n",
      "Epoch: 51 Step: 2142 loss: 0.579509684018\n",
      "Epoch: 52 Step: 2184 loss: 0.538225405983\n",
      "Epoch: 53 Step: 2226 loss: 0.547990271023\n",
      "Epoch: 54 Step: 2268 loss: 0.546667600671\n",
      "Epoch: 55 Step: 2310 loss: 0.518377558816\n",
      "Model Saved\n",
      "Train: F1 Score:  86.2003320347 Accuracy:  86.8675595238 Loss:  0.497577553704\n",
      "Val: F1 Score:  75.2597963847 Accuracy:  79.375 Loss:  0.764478364587\n",
      "Epoch: 56 Step: 2352 loss: 0.528410922204\n",
      "Epoch: 57 Step: 2394 loss: 0.52968139095\n",
      "Epoch: 58 Step: 2436 loss: 0.529660897596\n",
      "Epoch: 59 Step: 2478 loss: 0.527447958078\n",
      "Epoch: 60 Step: 2520 loss: 0.534242497314\n",
      "Model Saved\n",
      "Train: F1 Score:  84.7700698621 Accuracy:  86.5699404762 Loss:  0.505490390318\n",
      "Val: F1 Score:  72.5176566499 Accuracy:  78.28125 Loss:  0.749538755417\n"
     ]
    }
   ],
   "source": [
    "num_epochs = 60\n",
    "log_period = 5\n",
    "\n",
    "for i in range(num_epochs):\n",
    "    random = np.random.choice(len(y_train), size=(len(y_train)), replace=False)\n",
    "    x_id_train = x_id_train[random]\n",
    "    y_train = y_train[random]\n",
    "    mask_train = mask_train[random]    \n",
    "    \n",
    "    losses, step = model(x_id_train, y_train, mask_train)\n",
    "    print(\"Epoch:\", i+1,\"Step:\", step, \"loss:\",losses)\n",
    "    \n",
    "    if((i+1)%log_period==0):\n",
    "        saver.save(sess, save_path=save_dir)                         \n",
    "        print(\"Model Saved\")\n",
    "        train_loss, train_pred = model(x_id_train, y_train, mask_train, train_cond=False)\n",
    "        f1_, accu_ = eval_score(y_train, train_pred)\n",
    "        print(\"Train: F1 Score: \",  f1_, \"Accuracy: \", accu_, \"Loss: \", train_loss)\n",
    "        val_loss, val_pred = model(x_id_val, y_val, mask_val, train_cond=False)\n",
    "        f1_, accu_ = eval_score(y_val, val_pred)\n",
    "        print(\"Val: F1 Score: \",  f1_, \"Accuracy: \", accu_, \"Loss: \", val_loss)\n",
    "        \n",
    "# test_loss, test_pred, test_pred_pos, test_true_pos = model(x_id_test, y_test, mask_test, pos_id_test, train_cond=False)        \n",
    "# f1_, accu_, f1_pos_, accu_pos_ = etest_score(y_test, test_pred, test_pred_pos, test_true_pos)\n",
    "# print(\"test: F1 Score: \",  f1_, \"Accuracy: \", accu_, \"POS F1 Score: \",  f1_pos_, \"POS Accuracy: \", accu_pos_, \"Loss: \", test_loss)"
   ]
  },
  {
   "cell_type": "code",
   "execution_count": 16,
   "metadata": {
    "scrolled": true
   },
   "outputs": [
    {
     "name": "stdout",
     "output_type": "stream",
     "text": [
      "Epoch: 1 Step: 2562 loss: 0.512128077802\n",
      "Epoch: 2 Step: 2604 loss: 0.512507774291\n",
      "Epoch: 3 Step: 2646 loss: 0.481068760866\n",
      "Epoch: 4 Step: 2688 loss: 0.524110056815\n",
      "Epoch: 5 Step: 2730 loss: 0.529074470912\n",
      "Model Saved\n",
      "Train: F1 Score:  84.4771139519 Accuracy:  85.5282738095 Loss:  0.498912518223\n",
      "Val: F1 Score:  72.3817951723 Accuracy:  77.34375 Loss:  0.773726063967\n",
      "Epoch: 6 Step: 2772 loss: 0.502976712017\n",
      "Epoch: 7 Step: 2814 loss: 0.49396802414\n",
      "Epoch: 8 Step: 2856 loss: 0.507139713991\n",
      "Epoch: 9 Step: 2898 loss: 0.490962078174\n",
      "Epoch: 10 Step: 2940 loss: 0.48741366253\n",
      "Model Saved\n",
      "Train: F1 Score:  85.6859547605 Accuracy:  86.71875 Loss:  0.486774878842\n",
      "Val: F1 Score:  72.6689918834 Accuracy:  79.0625 Loss:  0.842727130651\n",
      "Epoch: 11 Step: 2982 loss: 0.485533379373\n",
      "Epoch: 12 Step: 3024 loss: 0.48161255249\n",
      "Epoch: 13 Step: 3066 loss: 0.471833693839\n",
      "Epoch: 14 Step: 3108 loss: 0.475883159609\n",
      "Epoch: 15 Step: 3150 loss: 0.474232568627\n",
      "Model Saved\n",
      "Train: F1 Score:  84.3406442529 Accuracy:  86.9419642857 Loss:  0.50222745183\n",
      "Val: F1 Score:  74.2877153073 Accuracy:  80.15625 Loss:  0.780381858349\n",
      "Epoch: 16 Step: 3192 loss: 0.485261090455\n",
      "Epoch: 17 Step: 3234 loss: 0.467170579093\n",
      "Epoch: 18 Step: 3276 loss: 0.464397226771\n",
      "Epoch: 19 Step: 3318 loss: 0.45271613981\n",
      "Epoch: 20 Step: 3360 loss: 0.436826148913\n",
      "Model Saved\n",
      "Train: F1 Score:  87.1173604437 Accuracy:  88.5044642857 Loss:  0.434676329295\n",
      "Val: F1 Score:  77.7989714036 Accuracy:  80.46875 Loss:  0.744392198324\n"
     ]
    }
   ],
   "source": [
    "num_epochs = 20\n",
    "log_period = 5\n",
    "\n",
    "for i in range(num_epochs):\n",
    "    random = np.random.choice(len(y_train), size=(len(y_train)), replace=False)\n",
    "    x_id_train = x_id_train[random]\n",
    "    y_train = y_train[random]\n",
    "    mask_train = mask_train[random]    \n",
    "    \n",
    "    losses, step = model(x_id_train, y_train, mask_train)\n",
    "    print(\"Epoch:\", i+1,\"Step:\", step, \"loss:\",losses)\n",
    "    \n",
    "    if((i+1)%log_period==0):\n",
    "        saver.save(sess, save_path=save_dir)                         \n",
    "        print(\"Model Saved\")\n",
    "        train_loss, train_pred = model(x_id_train, y_train, mask_train, train_cond=False)\n",
    "        f1_, accu_ = eval_score(y_train, train_pred)\n",
    "        print(\"Train: F1 Score: \",  f1_, \"Accuracy: \", accu_, \"Loss: \", train_loss)\n",
    "        val_loss, val_pred = model(x_id_val, y_val, mask_val, train_cond=False)\n",
    "        f1_, accu_ = eval_score(y_val, val_pred)\n",
    "        print(\"Val: F1 Score: \",  f1_, \"Accuracy: \", accu_, \"Loss: \", val_loss)\n",
    "        \n",
    "# test_loss, test_pred, test_pred_pos, test_true_pos = model(x_id_test, y_test, mask_test, pos_id_test, train_cond=False)        \n",
    "# f1_, accu_, f1_pos_, accu_pos_ = etest_score(y_test, test_pred, test_pred_pos, test_true_pos)\n",
    "# print(\"test: F1 Score: \",  f1_, \"Accuracy: \", accu_, \"POS F1 Score: \",  f1_pos_, \"POS Accuracy: \", accu_pos_, \"Loss: \", test_loss)"
   ]
  },
  {
   "cell_type": "code",
   "execution_count": 17,
   "metadata": {
    "scrolled": true
   },
   "outputs": [
    {
     "name": "stdout",
     "output_type": "stream",
     "text": [
      "Epoch: 1 Step: 3402 loss: 0.449164277031\n",
      "Epoch: 2 Step: 3444 loss: 0.452613869593\n",
      "Epoch: 3 Step: 3486 loss: 0.438174467711\n",
      "Epoch: 4 Step: 3528 loss: 0.444287857129\n",
      "Epoch: 5 Step: 3570 loss: 0.452726902706\n",
      "Model Saved\n",
      "Train: F1 Score:  86.976758433 Accuracy:  88.3556547619 Loss:  0.457932586471\n",
      "Val: F1 Score:  74.9042715109 Accuracy:  78.75 Loss:  0.783267182112\n",
      "Epoch: 6 Step: 3612 loss: 0.438258701137\n",
      "Epoch: 7 Step: 3654 loss: 0.48427207626\n",
      "Epoch: 8 Step: 3696 loss: 0.424500138987\n",
      "Epoch: 9 Step: 3738 loss: 0.4460637612\n",
      "Epoch: 10 Step: 3780 loss: 0.457227885368\n",
      "Model Saved\n",
      "Train: F1 Score:  87.0784961786 Accuracy:  87.3883928571 Loss:  0.45800319314\n",
      "Val: F1 Score:  77.8141557507 Accuracy:  80.78125 Loss:  0.85006082654\n",
      "Epoch: 11 Step: 3822 loss: 0.445415953795\n",
      "Epoch: 12 Step: 3864 loss: 0.438605238994\n",
      "Epoch: 13 Step: 3906 loss: 0.445618766404\n",
      "Epoch: 14 Step: 3948 loss: 0.44974654842\n",
      "Epoch: 15 Step: 3990 loss: 0.429235272464\n",
      "Model Saved\n",
      "Train: F1 Score:  86.0764499138 Accuracy:  87.0163690476 Loss:  0.499183209169\n",
      "Val: F1 Score:  70.8160730045 Accuracy:  76.875 Loss:  1.05159870386\n",
      "Epoch: 16 Step: 4032 loss: 0.459946645158\n",
      "Epoch: 17 Step: 4074 loss: 0.455366277979\n",
      "Epoch: 18 Step: 4116 loss: 0.42929457128\n",
      "Epoch: 19 Step: 4158 loss: 0.424883685651\n",
      "Epoch: 20 Step: 4200 loss: 0.429004110041\n",
      "Model Saved\n",
      "Train: F1 Score:  87.4558011799 Accuracy:  88.5788690476 Loss:  0.432497487182\n",
      "Val: F1 Score:  71.9271959655 Accuracy:  78.125 Loss:  0.905177938938\n",
      "Epoch: 21 Step: 4242 loss: 0.417258980019\n",
      "Epoch: 22 Step: 4284 loss: 0.430516820933\n",
      "Epoch: 23 Step: 4326 loss: 0.432218178397\n",
      "Epoch: 24 Step: 4368 loss: 0.405874894488\n",
      "Epoch: 25 Step: 4410 loss: 0.4091948434\n",
      "Model Saved\n",
      "Train: F1 Score:  86.8163622513 Accuracy:  85.4910714286 Loss:  0.504321676635\n",
      "Val: F1 Score:  76.9280244906 Accuracy:  77.96875 Loss:  0.774923706055\n",
      "Epoch: 26 Step: 4452 loss: 0.429865655445\n",
      "Epoch: 27 Step: 4494 loss: 0.405947487979\n",
      "Epoch: 28 Step: 4536 loss: 0.410149147823\n",
      "Epoch: 29 Step: 4578 loss: 0.396510241997\n",
      "Epoch: 30 Step: 4620 loss: 0.431064266534\n",
      "Model Saved\n",
      "Train: F1 Score:  90.8115423707 Accuracy:  91.0342261905 Loss:  0.40283747727\n",
      "Val: F1 Score:  77.1899347311 Accuracy:  79.6875 Loss:  0.83993614912\n"
     ]
    }
   ],
   "source": [
    "num_epochs = 30\n",
    "log_period = 5\n",
    "\n",
    "for i in range(num_epochs):\n",
    "    random = np.random.choice(len(y_train), size=(len(y_train)), replace=False)\n",
    "    x_id_train = x_id_train[random]\n",
    "    y_train = y_train[random]\n",
    "    mask_train = mask_train[random]    \n",
    "    \n",
    "    losses, step = model(x_id_train, y_train, mask_train)\n",
    "    print(\"Epoch:\", i+1,\"Step:\", step, \"loss:\",losses)\n",
    "    \n",
    "    if((i+1)%log_period==0):\n",
    "        saver.save(sess, save_path=save_dir)                         \n",
    "        print(\"Model Saved\")\n",
    "        train_loss, train_pred = model(x_id_train, y_train, mask_train, train_cond=False)\n",
    "        f1_, accu_ = eval_score(y_train, train_pred)\n",
    "        print(\"Train: F1 Score: \",  f1_, \"Accuracy: \", accu_, \"Loss: \", train_loss)\n",
    "        val_loss, val_pred = model(x_id_val, y_val, mask_val, train_cond=False)\n",
    "        f1_, accu_ = eval_score(y_val, val_pred)\n",
    "        print(\"Val: F1 Score: \",  f1_, \"Accuracy: \", accu_, \"Loss: \", val_loss)\n",
    "        \n",
    "# test_loss, test_pred, test_pred_pos, test_true_pos = model(x_id_test, y_test, mask_test, pos_id_test, train_cond=False)        \n",
    "# f1_, accu_, f1_pos_, accu_pos_ = etest_score(y_test, test_pred, test_pred_pos, test_true_pos)\n",
    "# print(\"test: F1 Score: \",  f1_, \"Accuracy: \", accu_, \"POS F1 Score: \",  f1_pos_, \"POS Accuracy: \", accu_pos_, \"Loss: \", test_loss)"
   ]
  },
  {
   "cell_type": "code",
   "execution_count": null,
   "metadata": {
    "collapsed": true
   },
   "outputs": [],
   "source": [
    "saver.restore(sess, save_dir)"
   ]
  }
 ],
 "metadata": {
  "kernelspec": {
   "display_name": "cs771",
   "language": "python",
   "name": "cs771"
  },
  "language_info": {
   "codemirror_mode": {
    "name": "ipython",
    "version": 3
   },
   "file_extension": ".py",
   "mimetype": "text/x-python",
   "name": "python",
   "nbconvert_exporter": "python",
   "pygments_lexer": "ipython3",
   "version": "3.5.2"
  }
 },
 "nbformat": 4,
 "nbformat_minor": 2
}
