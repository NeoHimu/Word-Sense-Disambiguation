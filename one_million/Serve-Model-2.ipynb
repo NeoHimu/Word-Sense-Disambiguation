{
 "cells": [
  {
   "cell_type": "code",
   "execution_count": 1,
   "metadata": {
    "collapsed": true
   },
   "outputs": [],
   "source": [
    "import tensorflow as tf\n",
    "tf.logging.set_verbosity(tf.logging.WARN)\n",
    "import pickle\n",
    "import numpy as np\n",
    "import os\n",
    "from sklearn.model_selection import train_test_split\n",
    "from sklearn.metrics import f1_score\n",
    "from sklearn.metrics import accuracy_score\n",
    "import os\n",
    "from tensorflow.python.client import device_lib\n",
    "from collections import Counter"
   ]
  },
  {
   "cell_type": "code",
   "execution_count": 2,
   "metadata": {
    "collapsed": true
   },
   "outputs": [],
   "source": [
    "f = open('../Glove/word_embedding_glove', 'rb')\n",
    "word_embedding = pickle.load(f)\n",
    "f.close()\n",
    "word_embedding = word_embedding[: len(word_embedding)-1]\n",
    "\n",
    "f = open('../Glove/vocab_glove', 'rb')\n",
    "vocab = pickle.load(f)\n",
    "f.close()\n",
    "\n",
    "word2id = dict((w, i) for i,w in enumerate(vocab))\n",
    "id2word = dict((i, w) for i,w in enumerate(vocab))\n",
    "\n",
    "unknown_token = \"UNKNOWN_TOKEN\""
   ]
  },
  {
   "cell_type": "code",
   "execution_count": 3,
   "metadata": {
    "collapsed": true
   },
   "outputs": [],
   "source": [
    "f = open(\"../../dataset/sense/dict_sense-keys\", 'rb')\n",
    "dict_sense_keys = pickle.load(f)\n",
    "f.close()\n",
    "\n",
    "f = open(\"../../dataset/sense/dict_word-sense\", 'rb')\n",
    "dict_word_sense = pickle.load(f)\n",
    "f.close()"
   ]
  },
  {
   "cell_type": "code",
   "execution_count": 4,
   "metadata": {
    "collapsed": true
   },
   "outputs": [],
   "source": [
    "# Model Description\n",
    "sense_word = 'serve'\n",
    "model_name = 'model-2'\n",
    "sense_word_dir = 'output/' + sense_word\n",
    "model_dir = sense_word_dir + '/' + model_name\n",
    "save_dir = os.path.join(model_dir, \"save/\")\n",
    "log_dir = os.path.join(model_dir, \"log\")\n",
    "\n",
    "if not os.path.exists(sense_word_dir):\n",
    "    os.mkdir(sense_word_dir)\n",
    "if not os.path.exists(model_dir):\n",
    "    os.mkdir(model_dir)\n",
    "if not os.path.exists(save_dir):\n",
    "    os.mkdir(save_dir)\n",
    "if not os.path.exists(log_dir):\n",
    "    os.mkdir(log_dir)"
   ]
  },
  {
   "cell_type": "code",
   "execution_count": 5,
   "metadata": {
    "scrolled": false
   },
   "outputs": [
    {
     "data": {
      "text/plain": [
       "[('42', 1941), ('41', 839), ('33', 529), ('35', 112), ('34', 41)]"
      ]
     },
     "execution_count": 5,
     "metadata": {},
     "output_type": "execute_result"
    }
   ],
   "source": [
    "f = open(\"../../dataset/checkwords/\"+ sense_word + \"_data\", 'rb')\n",
    "data = pickle.load(f)\n",
    "f.close()\n",
    "\n",
    "pos_tags = []\n",
    "for i in range(len(data)):\n",
    "    for p in data[i][2]:\n",
    "        pos_tags.append(p)\n",
    "        \n",
    "pos_count = Counter(pos_tags)\n",
    "pos_count = pos_count.most_common()\n",
    "vocab_pos = [k for k,v in pos_count]\n",
    "\n",
    "data_y = []\n",
    "for i in range(len(data)):\n",
    "    data_y.append(dict_sense_keys[data[i][0]][2])\n",
    "\n",
    "sense_count = Counter(data_y)\n",
    "sense_count = sense_count.most_common()\n",
    "vocab_sense = [k for k,v in sense_count[:4]]\n",
    "sense_count"
   ]
  },
  {
   "cell_type": "code",
   "execution_count": 6,
   "metadata": {},
   "outputs": [
    {
     "data": {
      "text/plain": [
       "['42', '41', '33', '35']"
      ]
     },
     "execution_count": 6,
     "metadata": {},
     "output_type": "execute_result"
    }
   ],
   "source": [
    "vocab_sense"
   ]
  },
  {
   "cell_type": "code",
   "execution_count": 7,
   "metadata": {},
   "outputs": [
    {
     "name": "stdout",
     "output_type": "stream",
     "text": [
      "3421 3462\n"
     ]
    },
    {
     "data": {
      "text/plain": [
       "12"
      ]
     },
     "execution_count": 7,
     "metadata": {},
     "output_type": "execute_result"
    }
   ],
   "source": [
    "data_x = []\n",
    "data_label = []\n",
    "data_pos = []\n",
    "for i in range(len(data)):\n",
    "    if dict_sense_keys[data[i][0]][2] in vocab_sense:\n",
    "        data_x.append(data[i][1])\n",
    "        data_pos.append(data[i][2])\n",
    "        data_label.append(dict_sense_keys[data[i][0]][2])\n",
    "\n",
    "print(len(data_label), len(data_y))\n",
    "\n",
    "pos2id = dict((s, i) for i,s in enumerate(vocab_pos))\n",
    "id2pos = dict((i, s) for i,s in enumerate(vocab_pos))\n",
    "\n",
    "# vocab_sense = dict_word_sense[sense_word]\n",
    "\n",
    "sense2id = dict((s, i) for i,s in enumerate(vocab_sense))\n",
    "id2sense = dict((i, s) for i,s in enumerate(vocab))\n",
    "\n",
    "len(vocab_pos)"
   ]
  },
  {
   "cell_type": "code",
   "execution_count": 8,
   "metadata": {
    "collapsed": true
   },
   "outputs": [],
   "source": [
    "# Parameters\n",
    "mode = 'train'\n",
    "num_senses = len(vocab_sense)\n",
    "num_pos = len(vocab_pos)\n",
    "batch_size = 64\n",
    "vocab_size = len(vocab)\n",
    "unk_vocab_size = 1\n",
    "word_emb_size = len(word_embedding[0])\n",
    "max_sent_size = 200\n",
    "hidden_size = 100\n",
    "keep_prob = 0.5\n",
    "l2_lambda = 0.001\n",
    "init_lr = 0.001\n",
    "decay_steps = 500\n",
    "decay_rate = 0.96\n",
    "clip_norm = 1\n",
    "clipping = True\n",
    "pos_lambda = 5"
   ]
  },
  {
   "cell_type": "code",
   "execution_count": 9,
   "metadata": {
    "collapsed": true,
    "scrolled": true
   },
   "outputs": [],
   "source": [
    "# MODEL\n",
    "x = tf.placeholder('int32', [batch_size, max_sent_size], name=\"x\")\n",
    "y = tf.placeholder('int32', [batch_size], name=\"y\")\n",
    "y_pos = tf.placeholder('int32', [batch_size, None], name=\"y_pos\")\n",
    "x_mask  = tf.placeholder('bool', [batch_size, max_sent_size], name='x_mask') \n",
    "is_train = tf.placeholder('bool', [], name='is_train')\n",
    "word_emb_mat = tf.placeholder('float', [None, word_emb_size], name='emb_mat')\n",
    "input_keep_prob = tf.cond(is_train,lambda:keep_prob, lambda:tf.constant(1.0))\n",
    "x_len = tf.reduce_sum(tf.cast(x_mask, 'int32'), 1)\n",
    "\n",
    "with tf.name_scope(\"word_embedding\"):\n",
    "    if mode == 'train':\n",
    "        unk_word_emb_mat = tf.get_variable(\"word_emb_mat\", dtype='float', shape=[unk_vocab_size, word_emb_size], initializer=tf.contrib.layers.xavier_initializer(uniform=True, seed=0, dtype=tf.float32))\n",
    "    else:\n",
    "        unk_word_emb_mat = tf.get_variable(\"word_emb_mat\", shape=[unk_vocab_size, word_emb_size], dtype='float')\n",
    "        \n",
    "    final_word_emb_mat = tf.concat([word_emb_mat, unk_word_emb_mat], 0)\n",
    "    Wx = tf.nn.embedding_lookup(final_word_emb_mat, x)  \n",
    "\n",
    "with tf.variable_scope(\"lstm1\"):\n",
    "    cell_fw1 = tf.contrib.rnn.BasicLSTMCell(hidden_size,state_is_tuple=True)\n",
    "    cell_bw1 = tf.contrib.rnn.BasicLSTMCell(hidden_size,state_is_tuple=True)\n",
    "\n",
    "    d_cell_fw1 = tf.contrib.rnn.DropoutWrapper(cell_fw1, input_keep_prob=input_keep_prob)\n",
    "    d_cell_bw1 = tf.contrib.rnn.DropoutWrapper(cell_bw1, input_keep_prob=input_keep_prob)\n",
    "    \n",
    "    (fw_h1, bw_h1), _ = tf.nn.bidirectional_dynamic_rnn(d_cell_fw1, d_cell_bw1, Wx, sequence_length=x_len, dtype='float', scope='lstm1')\n",
    "    h1 = tf.concat([fw_h1, bw_h1], 2)\n",
    "    \n",
    "with tf.variable_scope(\"lstm2\"):\n",
    "    cell_fw2 = tf.contrib.rnn.BasicLSTMCell(hidden_size,state_is_tuple=True)\n",
    "    cell_bw2 = tf.contrib.rnn.BasicLSTMCell(hidden_size,state_is_tuple=True)\n",
    "\n",
    "    d_cell_fw2 = tf.contrib.rnn.DropoutWrapper(cell_fw2, input_keep_prob=input_keep_prob)\n",
    "    d_cell_bw2 = tf.contrib.rnn.DropoutWrapper(cell_bw2, input_keep_prob=input_keep_prob)\n",
    "    \n",
    "    (fw_h2, bw_h2), _ = tf.nn.bidirectional_dynamic_rnn(d_cell_fw2, d_cell_bw2, h1, sequence_length=x_len, dtype='float', scope='lstm2')\n",
    "    h = tf.concat([fw_h2, bw_h2], 2)\n",
    "\n",
    "def attention(input_x, input_mask, W_att):\n",
    "    h_masked = tf.boolean_mask(input_x, input_mask)\n",
    "    h_tanh = tf.tanh(h_masked)\n",
    "    u = tf.matmul(h_tanh, W_att)\n",
    "    a = tf.nn.softmax(u)\n",
    "    c = tf.reduce_sum(tf.multiply(h_tanh, a), 0)  \n",
    "    return c\n",
    "\n",
    "with tf.variable_scope(\"attention\"):\n",
    "    W_att = tf.Variable(tf.truncated_normal([2*hidden_size, 1], mean=0.0, stddev=0.1, seed=0), name=\"W_att\")\n",
    "    c = tf.expand_dims(attention(h[0], x_mask[0], W_att), 0)\n",
    "    for i in range(1, batch_size):\n",
    "        c = tf.concat([c, tf.expand_dims(attention(h[i], x_mask[i], W_att), 0)], 0)\n",
    "        \n",
    "with tf.variable_scope(\"softmax_layer\"):\n",
    "    W = tf.Variable(tf.truncated_normal([2*hidden_size, num_senses], mean=0.0, stddev=0.1, seed=0), name=\"W\")\n",
    "    b = tf.Variable(tf.zeros([num_senses]), name=\"b\")\n",
    "    drop_c = tf.nn.dropout(c, input_keep_prob)\n",
    "    logits = tf.matmul(drop_c, W) + b\n",
    "    predictions = tf.argmax(logits, 1)\n",
    "    \n",
    "flat_h1 = tf.reshape(h1, [-1, 2*hidden_size])\n",
    "\n",
    "with tf.variable_scope(\"softmax_layer_pos\"):\n",
    "    W = tf.Variable(tf.truncated_normal([2*hidden_size, num_pos], mean=0.0, stddev=0.1, seed=0), name=\"W\")\n",
    "    b = tf.Variable(tf.zeros([num_pos]), name=\"b\")\n",
    "    drop_flat_h1 = tf.nn.dropout(flat_h1, input_keep_prob)\n",
    "    flat_logits_pos = tf.matmul(drop_flat_h1, W) + b\n",
    "    logits_pos = tf.reshape(flat_logits_pos, [batch_size, max_sent_size, num_pos])\n",
    "    predictions_pos = tf.arg_max(logits_pos, 2)\n",
    "    \n",
    "\n",
    "float_x_mask = tf.cast(x_mask, 'float')\n",
    "\n",
    "loss = tf.reduce_mean(tf.nn.sparse_softmax_cross_entropy_with_logits(logits=logits, labels=y))\n",
    "loss_pos = pos_lambda*tf.contrib.seq2seq.sequence_loss(logits_pos, y_pos, float_x_mask, name=\"loss_pos\")\n",
    "\n",
    "global_step = tf.Variable(0, trainable=False, name=\"global_step\")\n",
    "\n",
    "learning_rate = tf.train.exponential_decay(init_lr, global_step, decay_steps, decay_rate, staircase=True)\n",
    "\n",
    "tv_all = tf.trainable_variables()\n",
    "tv_regu =[]\n",
    "for t in tv_all:\n",
    "    if t.name.find('b:')==-1:\n",
    "        tv_regu.append(t)\n",
    "        \n",
    "# l2 Loss\n",
    "l2_loss = l2_lambda * tf.reduce_sum([ tf.nn.l2_loss(v) for v in tv_regu ])\n",
    "\n",
    "total_loss = loss + l2_loss + loss_pos\n",
    "\n",
    "# Optimizer for loss\n",
    "optimizer = tf.train.AdamOptimizer(learning_rate)\n",
    "optimizer_pos = tf.train.AdamOptimizer(learning_rate).minimize(loss_pos, global_step)\n",
    "\n",
    "# Gradients and Variables for Loss\n",
    "grads_vars = optimizer.compute_gradients(total_loss)\n",
    "\n",
    "# Clipping of Gradients\n",
    "clipped_grads = grads_vars\n",
    "if(clipping == True):\n",
    "    clipped_grads = [(tf.clip_by_norm(grad, clip_norm), var) for grad, var in clipped_grads]\n",
    "\n",
    "# Training Optimizer for Total Loss\n",
    "train_op = optimizer.apply_gradients(clipped_grads, global_step=global_step)\n",
    "\n",
    "# Summaries\n",
    "var_summaries = []\n",
    "for v in tv_all:\n",
    "    var_summary = tf.summary.histogram(\"{}/var\".format(v.name), v)\n",
    "    var_summaries.append(var_summary)\n",
    "\n",
    "var_summaries_merged = tf.summary.merge(var_summaries)\n",
    "\n",
    "loss_summary = tf.summary.scalar(\"loss\", loss)\n",
    "loss_pos_summary = tf.summary.scalar(\"loss_pos\", loss_pos)\n",
    "total_loss_summary = tf.summary.scalar(\"total_loss\", total_loss)\n",
    "summary = tf.summary.merge_all()"
   ]
  },
  {
   "cell_type": "code",
   "execution_count": 10,
   "metadata": {
    "collapsed": true
   },
   "outputs": [],
   "source": [
    "os.environ[\"CUDA_DEVICE_ORDER\"]=\"PCI_BUS_ID\"   # see issue #152\n",
    "os.environ[\"CUDA_VISIBLE_DEVICES\"]=\"2\"\n",
    "config = tf.ConfigProto()\n",
    "config.gpu_options.allow_growth = True\n",
    "sess = tf.Session(config=config)\n",
    "sess.run(tf.global_variables_initializer())                          # For initializing all the variables\n",
    "saver = tf.train.Saver()                                             # For Saving the model\n",
    "summary_writer = tf.summary.FileWriter(log_dir, sess.graph)          # For writing Summaries"
   ]
  },
  {
   "cell_type": "code",
   "execution_count": 11,
   "metadata": {
    "collapsed": true
   },
   "outputs": [],
   "source": [
    "index = []\n",
    "for i in range(len(data_x)):\n",
    "    index.append(i)"
   ]
  },
  {
   "cell_type": "code",
   "execution_count": 12,
   "metadata": {
    "scrolled": true
   },
   "outputs": [
    {
     "name": "stderr",
     "output_type": "stream",
     "text": [
      "/users/btech/aviraj/cs771/lib/python3.5/site-packages/sklearn/model_selection/_split.py:2026: FutureWarning: From version 0.21, test_size will always complement train_size unless both are specified.\n",
      "  FutureWarning)\n"
     ]
    }
   ],
   "source": [
    "index_train, index_val, label_train, label_val = train_test_split(index, data_label, train_size=0.8, shuffle=True, stratify=data_label, random_state=0)\n",
    "\n",
    "data_x = np.array(data_x)\n",
    "data_pos = np.array(data_pos)\n",
    "\n",
    "x_train = data_x[index_train]\n",
    "pos_train = data_pos[index_train]\n",
    "x_val = data_x[index_val]\n",
    "pos_val = data_pos[index_val]"
   ]
  },
  {
   "cell_type": "code",
   "execution_count": 13,
   "metadata": {
    "collapsed": true
   },
   "outputs": [],
   "source": [
    "def data_prepare(x, y, p):\n",
    "    num_examples = len(x)\n",
    "\n",
    "    xx = np.zeros([num_examples, max_sent_size], dtype=int)\n",
    "    xx_mask = np.zeros([num_examples, max_sent_size], dtype=bool)\n",
    "    yy = np.zeros([num_examples], dtype=int)\n",
    "    pp = np.zeros([num_examples, max_sent_size], dtype=int)\n",
    "\n",
    "    for j in range(num_examples):\n",
    "        for i in range(max_sent_size):\n",
    "            if(i>=len(x[j])):\n",
    "                break\n",
    "            w = x[j][i]\n",
    "            xx[j][i] = word2id[w] if w in word2id else word2id['UNKNOWN_TOKEN']\n",
    "            xx_mask[j][i] = True\n",
    "            pp[j][i] = pos2id[p[j][i]]\n",
    "        yy[j] = sense2id[y[j]]\n",
    "        \n",
    "    return xx, xx_mask, yy, pp\n",
    "\n",
    "def model(xx, yy, mask, pp, train_cond=True, pretrain=False):\n",
    "    num_batches = int(len(xx)/batch_size)\n",
    "    losses = 0\n",
    "    preds = []\n",
    "    preds_pos = []\n",
    "    true_pos = []\n",
    "    for j in range(num_batches): \n",
    "        \n",
    "        s = j * batch_size\n",
    "        e = (j+1) * batch_size\n",
    "        \n",
    "        feed_dict = {x:xx[s:e], y:yy[s:e], y_pos:pp[s:e], x_mask:mask[s:e], is_train:train_cond, input_keep_prob:keep_prob, word_emb_mat:word_embedding}\n",
    "        \n",
    "        \n",
    "        if(train_cond==True):\n",
    "            if(pretrain==False):\n",
    "                _, _loss, step, _summary = sess.run([train_op, total_loss, global_step, summary], feed_dict)\n",
    "            else:\n",
    "                 _, _loss, step, _summary = sess.run([optimizer_pos, loss_pos, global_step, summary], feed_dict)\n",
    "            \n",
    "            summary_writer.add_summary(_summary, step)  \n",
    "#             print(\"Steps:{}\".format(step), \", Loss: {}\".format(_loss))\n",
    "\n",
    "        else:\n",
    "            _loss, pred, pred_pos = sess.run([total_loss, predictions, predictions_pos], feed_dict)\n",
    "            preds.append(pred)\n",
    "            for k in range(batch_size):\n",
    "                preds_pos.append(pred_pos[k][:sum(mask[s+k])])\n",
    "                true_pos.append(pp[s+k][:sum(mask[s+k])])\n",
    "\n",
    "        losses +=_loss\n",
    "\n",
    "    if(train_cond==False):\n",
    "        y_pred = []\n",
    "        pos_true = []\n",
    "        pos_pred = []\n",
    "        for i in range(num_batches):\n",
    "            for pred in preds[i]:\n",
    "                y_pred.append(pred)\n",
    "                \n",
    "        for i in range(len(preds_pos)):\n",
    "            for j in range(len(preds_pos[i])):\n",
    "                pos_pred.append(preds_pos[i][j])\n",
    "                pos_true.append(true_pos[i][j])\n",
    "\n",
    "        return losses/num_batches, y_pred, pos_pred, pos_true\n",
    "    \n",
    "    return losses/num_batches, step\n",
    "\n",
    "def eval_score(yy, pred, pos_true, pos_pred):\n",
    "    num_batches = int(len(yy)/batch_size)\n",
    "    f1 = f1_score(yy[:batch_size*num_batches], pred, average='macro')\n",
    "    f1_pos = f1_score(pos_true, pos_pred, average='macro')\n",
    "    accu = accuracy_score(yy[:batch_size*num_batches], pred)\n",
    "    accu_pos = accuracy_score(pos_true, pos_pred)\n",
    "    return f1*100, accu*100, f1_pos*100, accu_pos*100"
   ]
  },
  {
   "cell_type": "code",
   "execution_count": 14,
   "metadata": {
    "collapsed": true
   },
   "outputs": [],
   "source": [
    "x_id_train, mask_train, y_train, pos_id_train = data_prepare(x_train, label_train, pos_train)\n",
    "x_id_val, mask_val, y_val, pos_id_val = data_prepare(x_val, label_val,pos_val)"
   ]
  },
  {
   "cell_type": "code",
   "execution_count": 15,
   "metadata": {
    "scrolled": true
   },
   "outputs": [
    {
     "name": "stdout",
     "output_type": "stream",
     "text": [
      "Epoch: 1 Step: 42 loss: 9.31336933091\n",
      "Epoch: 2 Step: 84 loss: 5.30531060696\n",
      "Epoch: 3 Step: 126 loss: 3.44058858213\n",
      "Epoch: 4 Step: 168 loss: 2.83640367077\n",
      "Epoch: 5 Step: 210 loss: 2.53717986743\n",
      "Model Saved\n"
     ]
    },
    {
     "name": "stderr",
     "output_type": "stream",
     "text": [
      "/users/btech/aviraj/cs771/lib/python3.5/site-packages/sklearn/metrics/classification.py:1137: UndefinedMetricWarning: F-score is ill-defined and being set to 0.0 in labels with no true samples.\n",
      "  'recall', 'true', average, warn_for)\n"
     ]
    },
    {
     "name": "stdout",
     "output_type": "stream",
     "text": [
      "Train: F1 :  15.6478051796 Accu:  18.0803571429 POS F1 :  71.7427562037 POS Accu:  84.1601143674 Loss:  17.3937166532\n",
      "Val: F1 :  14.6171526673 Accu:  17.5 POS F1 :  72.1780836869 POS Accu:  84.3310898571 Loss:  17.900844574\n",
      "Epoch: 6 Step: 252 loss: 7.27371010326\n",
      "Epoch: 7 Step: 294 loss: 4.83497578757\n",
      "Epoch: 8 Step: 336 loss: 4.256252584\n",
      "Epoch: 9 Step: 378 loss: 3.95731375331\n",
      "Epoch: 10 Step: 420 loss: 3.74108877636\n",
      "Model Saved\n",
      "Train: F1 :  57.7179012032 Accu:  67.7827380952 POS F1 :  74.0982947104 POS Accu:  85.6332649067 Loss:  3.65056003843\n",
      "Val: F1 :  60.421899929 Accu:  65.625 POS F1 :  74.3189586043 POS Accu:  85.8818435864 Loss:  3.66189038754\n",
      "Epoch: 11 Step: 462 loss: 3.58465426309\n",
      "Epoch: 12 Step: 504 loss: 3.43943652653\n",
      "Epoch: 13 Step: 546 loss: 3.35573849224\n",
      "Epoch: 14 Step: 588 loss: 3.2578960203\n",
      "Epoch: 15 Step: 630 loss: 3.17318413939\n",
      "Model Saved\n",
      "Train: F1 :  67.3886904676 Accu:  73.9955357143 POS F1 :  76.9189240326 POS Accu:  87.5376894012 Loss:  3.09338993118\n",
      "Val: F1 :  60.3108921584 Accu:  70.3125 POS F1 :  76.5637549821 POS Accu:  87.208249695 Loss:  3.21890244484\n",
      "Epoch: 16 Step: 672 loss: 3.08799808934\n",
      "Epoch: 17 Step: 714 loss: 3.00886431194\n",
      "Epoch: 18 Step: 756 loss: 2.9706622646\n",
      "Epoch: 19 Step: 798 loss: 2.90977826573\n",
      "Epoch: 20 Step: 840 loss: 2.87640316146\n",
      "Model Saved\n",
      "Train: F1 :  67.1894616945 Accu:  78.7574404762 POS F1 :  78.2770676945 POS Accu:  88.5124495386 Loss:  2.81096666767\n",
      "Val: F1 :  69.3024777415 Accu:  76.25 POS F1 :  77.9435022563 POS Accu:  88.475616956 Loss:  2.89048941135\n",
      "Epoch: 21 Step: 882 loss: 2.83877960841\n",
      "Epoch: 22 Step: 924 loss: 2.76407468319\n",
      "Epoch: 23 Step: 966 loss: 2.72927025954\n",
      "Epoch: 24 Step: 1008 loss: 2.73246640818\n",
      "Epoch: 25 Step: 1050 loss: 2.6648316724\n",
      "Model Saved\n",
      "Train: F1 :  79.6636527867 Accu:  82.2172619048 POS F1 :  79.2926549977 POS Accu:  89.1789766238 Loss:  2.62617605641\n",
      "Val: F1 :  74.1858768258 Accu:  78.90625 POS F1 :  79.0508875477 POS Accu:  89.1525957413 Loss:  2.73534214497\n",
      "Epoch: 26 Step: 1092 loss: 2.66604930446\n",
      "Epoch: 27 Step: 1134 loss: 2.62346923919\n",
      "Epoch: 28 Step: 1176 loss: 2.61573297069\n",
      "Epoch: 29 Step: 1218 loss: 2.5965729668\n",
      "Epoch: 30 Step: 1260 loss: 2.55568231287\n",
      "Model Saved\n",
      "Train: F1 :  79.6703650899 Accu:  82.03125 POS F1 :  79.8569326425 POS Accu:  89.7127137037 Loss:  2.57128353914\n",
      "Val: F1 :  74.562843475 Accu:  78.28125 POS F1 :  79.6413904376 POS Accu:  89.766599756 Loss:  2.67989957333\n",
      "Epoch: 31 Step: 1302 loss: 2.53888173898\n",
      "Epoch: 32 Step: 1344 loss: 2.52754966986\n",
      "Epoch: 33 Step: 1386 loss: 2.51176482155\n",
      "Epoch: 34 Step: 1428 loss: 2.4905792418\n",
      "Epoch: 35 Step: 1470 loss: 2.45896326928\n",
      "Model Saved\n",
      "Train: F1 :  81.0562288316 Accu:  83.7797619048 POS F1 :  80.3962658368 POS Accu:  90.0740895932 Loss:  2.45500862598\n",
      "Val: F1 :  72.9142729588 Accu:  78.75 POS F1 :  80.3083702993 POS Accu:  89.7547919865 Loss:  2.63369004726\n",
      "Epoch: 36 Step: 1512 loss: 2.46530479477\n",
      "Epoch: 37 Step: 1554 loss: 2.41017619201\n",
      "Epoch: 38 Step: 1596 loss: 2.41868625368\n",
      "Epoch: 39 Step: 1638 loss: 2.38408920311\n",
      "Epoch: 40 Step: 1680 loss: 2.38800757272\n",
      "Model Saved\n",
      "Train: F1 :  83.1732649767 Accu:  85.0446428571 POS F1 :  81.0176501591 POS Accu:  90.4598588128 Loss:  2.37565767197\n",
      "Val: F1 :  74.6297579151 Accu:  78.75 POS F1 :  80.8137603994 POS Accu:  90.2389105365 Loss:  2.53156044483\n",
      "Epoch: 41 Step: 1722 loss: 2.37103564399\n",
      "Epoch: 42 Step: 1764 loss: 2.35304379463\n",
      "Epoch: 43 Step: 1806 loss: 2.33933746247\n",
      "Epoch: 44 Step: 1848 loss: 2.36610608441\n",
      "Epoch: 45 Step: 1890 loss: 2.31009933494\n",
      "Model Saved\n",
      "Train: F1 :  83.875652101 Accu:  85.5282738095 POS F1 :  81.3197271069 POS Accu:  90.596701935 Loss:  2.31307677428\n",
      "Val: F1 :  76.4159691438 Accu:  80.625 POS F1 :  81.14858468 POS Accu:  90.5065533121 Loss:  2.48314297199\n",
      "Epoch: 46 Step: 1932 loss: 2.31931853862\n",
      "Epoch: 47 Step: 1974 loss: 2.3160885686\n",
      "Epoch: 48 Step: 2016 loss: 2.30808272248\n",
      "Epoch: 49 Step: 2058 loss: 2.28816312268\n",
      "Epoch: 50 Step: 2100 loss: 2.29523168575\n",
      "Model Saved\n",
      "Train: F1 :  81.5787539053 Accu:  85.6770833333 POS F1 :  81.8792054284 POS Accu:  90.9671576338 Loss:  2.27636109647\n",
      "Val: F1 :  73.8283339565 Accu:  80.0 POS F1 :  81.4574656659 POS Accu:  90.734836856 Loss:  2.41356520653\n"
     ]
    }
   ],
   "source": [
    "num_epochs = 50\n",
    "pre_train_period = 5\n",
    "log_period = 5\n",
    "\n",
    "for i in range(num_epochs):\n",
    "    random = np.random.choice(len(y_train), size=(len(y_train)), replace=False)\n",
    "    x_id_train = x_id_train[random]\n",
    "    y_train = y_train[random]\n",
    "    mask_train = mask_train[random]    \n",
    "    pos_id_train = pos_id_train[random]\n",
    "    \n",
    "    if(i<pre_train_period):\n",
    "        losses, step = model(x_id_train, y_train, mask_train, pos_id_train, pretrain=True)\n",
    "    else:\n",
    "        losses, step = model(x_id_train, y_train, mask_train, pos_id_train)\n",
    "    print(\"Epoch:\", i+1,\"Step:\", step, \"loss:\",losses)\n",
    "    \n",
    "    if((i+1)%log_period==0):\n",
    "        saver.save(sess, save_path=save_dir)                         \n",
    "        print(\"Model Saved\")\n",
    "        train_loss, train_pred, train_pred_pos, train_true_pos = model(x_id_train, y_train, mask_train, pos_id_train, train_cond=False)        \n",
    "        f1_, accu_, f1_pos_, accu_pos_ = eval_score(y_train, train_pred, train_pred_pos, train_true_pos)\n",
    "        print(\"Train: F1 : \",  f1_, \"Accu: \", accu_, \"POS F1 : \",  f1_pos_, \"POS Accu: \", accu_pos_, \"Loss: \", train_loss)\n",
    "        \n",
    "        val_loss, val_pred, val_pred_pos, val_true_pos = model(x_id_val, y_val, mask_val, pos_id_val, train_cond=False)        \n",
    "        f1_, accu_, f1_pos_, accu_pos_ = eval_score(y_val, val_pred, val_pred_pos, val_true_pos)\n",
    "        print(\"Val: F1 : \",  f1_, \"Accu: \", accu_, \"POS F1 : \",  f1_pos_, \"POS Accu: \", accu_pos_, \"Loss: \", val_loss)\n",
    "        \n",
    "# test_loss, test_pred, test_pred_pos, test_true_pos = model(x_id_test, y_test, mask_test, pos_id_test, train_cond=False)        \n",
    "# f1_, accu_, f1_pos_, accu_pos_ = etest_score(y_test, test_pred, test_pred_pos, test_true_pos)\n",
    "# print(\"test: F1 Score: \",  f1_, \"Accuracy: \", accu_, \"POS F1 Score: \",  f1_pos_, \"POS Accuracy: \", accu_pos_, \"Loss: \", test_loss)"
   ]
  },
  {
   "cell_type": "code",
   "execution_count": 16,
   "metadata": {
    "scrolled": true
   },
   "outputs": [
    {
     "name": "stdout",
     "output_type": "stream",
     "text": [
      "Epoch: 1 Step: 2142 loss: 2.28164586567\n",
      "Epoch: 2 Step: 2184 loss: 2.2957459007\n",
      "Epoch: 3 Step: 2226 loss: 2.28760957718\n",
      "Epoch: 4 Step: 2268 loss: 2.25413514887\n",
      "Epoch: 5 Step: 2310 loss: 2.24935806081\n",
      "Model Saved\n",
      "Train: F1 :  83.45224324 Accu:  86.0119047619 POS F1 :  81.9425114845 POS Accu:  90.964836274 "
     ]
    },
    {
     "name": "stderr",
     "output_type": "stream",
     "text": [
      "/users/btech/aviraj/cs771/lib/python3.5/site-packages/sklearn/metrics/classification.py:1137: UndefinedMetricWarning: F-score is ill-defined and being set to 0.0 in labels with no true samples.\n",
      "  'recall', 'true', average, warn_for)\n"
     ]
    },
    {
     "name": "stdout",
     "output_type": "stream",
     "text": [
      "Loss:  2.25528499626\n",
      "Val: F1 :  77.1392091223 Accu:  80.78125 POS F1 :  81.6569369921 POS Accu:  91.0300310938 Loss:  2.3823738575\n",
      "Epoch: 6 Step: 2352 loss: 2.27369869891\n",
      "Epoch: 7 Step: 2394 loss: 2.24116000107\n",
      "Epoch: 8 Step: 2436 loss: 2.2324350902\n",
      "Epoch: 9 Step: 2478 loss: 2.2419799992\n",
      "Epoch: 10 Step: 2520 loss: 2.21748888776\n",
      "Model Saved\n",
      "Train: F1 :  84.9832449347 Accu:  86.7931547619 POS F1 :  82.3339430398 POS Accu:  91.2684489531 Loss:  2.19876952398\n",
      "Val: F1 :  76.4230797714 Accu:  79.6875 POS F1 :  81.3901855425 POS Accu:  90.872594167 Loss:  2.44819898605\n",
      "Epoch: 11 Step: 2562 loss: 2.24808471827\n",
      "Epoch: 12 Step: 2604 loss: 2.23183507011\n",
      "Epoch: 13 Step: 2646 loss: 2.22700503327\n",
      "Epoch: 14 Step: 2688 loss: 2.21135772694\n",
      "Epoch: 15 Step: 2730 loss: 2.1986188179\n",
      "Model Saved\n",
      "Train: F1 :  78.864749721 Accu:  85.5282738095 POS F1 :  82.1879529118 POS Accu:  91.225010958 Loss:  2.23280804214\n",
      "Val: F1 :  68.4603714517 Accu:  78.125 POS F1 :  81.9686934012 POS Accu:  91.1795961743 Loss:  2.48545818329\n",
      "Epoch: 16 Step: 2772 loss: 2.17035443442\n",
      "Epoch: 17 Step: 2814 loss: 2.17008894398\n",
      "Epoch: 18 Step: 2856 loss: 2.18285649163\n",
      "Epoch: 19 Step: 2898 loss: 2.17755007176\n",
      "Epoch: 20 Step: 2940 loss: 2.17197028228\n",
      "Model Saved\n",
      "Train: F1 :  86.7287416184 Accu:  88.8392857143 POS F1 :  82.4766810512 POS Accu:  91.4773485932 Loss:  2.14400678589\n",
      "Val: F1 :  77.6743250659 Accu:  81.25 POS F1 :  82.037863585 POS Accu:  91.3606486401 Loss:  2.35028522015\n"
     ]
    }
   ],
   "source": [
    "num_epochs = 20\n",
    "pre_train_period = 0\n",
    "log_period = 5\n",
    "\n",
    "for i in range(num_epochs):\n",
    "    random = np.random.choice(len(y_train), size=(len(y_train)), replace=False)\n",
    "    x_id_train = x_id_train[random]\n",
    "    y_train = y_train[random]\n",
    "    mask_train = mask_train[random]    \n",
    "    pos_id_train = pos_id_train[random]\n",
    "    \n",
    "    if(i<pre_train_period):\n",
    "        losses, step = model(x_id_train, y_train, mask_train, pos_id_train, pretrain=True)\n",
    "    else:\n",
    "        losses, step = model(x_id_train, y_train, mask_train, pos_id_train)\n",
    "    print(\"Epoch:\", i+1,\"Step:\", step, \"loss:\",losses)\n",
    "    \n",
    "    if((i+1)%log_period==0):\n",
    "        saver.save(sess, save_path=save_dir)                         \n",
    "        print(\"Model Saved\")\n",
    "        train_loss, train_pred, train_pred_pos, train_true_pos = model(x_id_train, y_train, mask_train, pos_id_train, train_cond=False)        \n",
    "        f1_, accu_, f1_pos_, accu_pos_ = eval_score(y_train, train_pred, train_pred_pos, train_true_pos)\n",
    "        print(\"Train: F1 : \",  f1_, \"Accu: \", accu_, \"POS F1 : \",  f1_pos_, \"POS Accu: \", accu_pos_, \"Loss: \", train_loss)\n",
    "        \n",
    "        val_loss, val_pred, val_pred_pos, val_true_pos = model(x_id_val, y_val, mask_val, pos_id_val, train_cond=False)        \n",
    "        f1_, accu_, f1_pos_, accu_pos_ = eval_score(y_val, val_pred, val_pred_pos, val_true_pos)\n",
    "        print(\"Val: F1 : \",  f1_, \"Accu: \", accu_, \"POS F1 : \",  f1_pos_, \"POS Accu: \", accu_pos_, \"Loss: \", val_loss)\n",
    "        \n",
    "# test_loss, test_pred, test_pred_pos, test_true_pos = model(x_id_test, y_test, mask_test, pos_id_test, train_cond=False)        \n",
    "# f1_, accu_, f1_pos_, accu_pos_ = etest_score(y_test, test_pred, test_pred_pos, test_true_pos)\n",
    "# print(\"test: F1 Score: \",  f1_, \"Accuracy: \", accu_, \"POS F1 Score: \",  f1_pos_, \"POS Accuracy: \", accu_pos_, \"Loss: \", test_loss)"
   ]
  },
  {
   "cell_type": "code",
   "execution_count": 17,
   "metadata": {
    "scrolled": true
   },
   "outputs": [
    {
     "name": "stdout",
     "output_type": "stream",
     "text": [
      "Epoch: 1 Step: 2982 loss: 2.16727028007\n",
      "Epoch: 2 Step: 3024 loss: 2.18738729046\n",
      "Epoch: 3 Step: 3066 loss: 2.1810479448\n",
      "Epoch: 4 Step: 3108 loss: 2.16286561035\n",
      "Epoch: 5 Step: 3150 loss: 2.15951089348\n",
      "Model Saved\n",
      "Train: F1 :  86.8686940608 Accu:  87.2395833333 POS F1 :  82.4703609061 POS Accu:  91.5096314908 Loss:  "
     ]
    },
    {
     "name": "stderr",
     "output_type": "stream",
     "text": [
      "/users/btech/aviraj/cs771/lib/python3.5/site-packages/sklearn/metrics/classification.py:1137: UndefinedMetricWarning: F-score is ill-defined and being set to 0.0 in labels with no true samples.\n",
      "  'recall', 'true', average, warn_for)\n"
     ]
    },
    {
     "name": "stdout",
     "output_type": "stream",
     "text": [
      "2.15080445721\n",
      "Val: F1 :  79.4428240403 Accu:  81.5625 POS F1 :  81.9551844645 POS Accu:  91.1795961743 Loss:  2.40226993561\n",
      "Epoch: 6 Step: 3192 loss: 2.1825550823\n",
      "Epoch: 7 Step: 3234 loss: 2.16351045597\n",
      "Epoch: 8 Step: 3276 loss: 2.14653412501\n",
      "Epoch: 9 Step: 3318 loss: 2.16455148799\n",
      "Epoch: 10 Step: 3360 loss: 2.1237262459\n",
      "Model Saved\n",
      "Train: F1 :  86.971736632 Accu:  88.4300595238 POS F1 :  82.6214870385 POS Accu:  91.5608840979 Loss:  2.13453790404\n",
      "Val: F1 :  76.4630670066 Accu:  79.53125 POS F1 :  82.2273179108 POS Accu:  91.3449049475 Loss:  2.42097132206\n",
      "Epoch: 11 Step: 3402 loss: 2.15286092247\n",
      "Epoch: 12 Step: 3444 loss: 2.1350574465\n",
      "Epoch: 13 Step: 3486 loss: 2.1039711237\n",
      "Epoch: 14 Step: 3528 loss: 2.11714722429\n",
      "Epoch: 15 Step: 3570 loss: 2.11624985933\n",
      "Model Saved\n",
      "Train: F1 :  86.8541265611 Accu:  88.4300595238 POS F1 :  82.7539498534 POS Accu:  91.5433927398 Loss:  2.10216296003\n",
      "Val: F1 :  74.8459165865 Accu:  80.3125 POS F1 :  82.8009782557 POS Accu:  91.3449049475 Loss:  2.44666173458\n",
      "Epoch: 16 Step: 3612 loss: 2.12863868191\n",
      "Epoch: 17 Step: 3654 loss: 2.11023203248\n",
      "Epoch: 18 Step: 3696 loss: 2.10619184233\n",
      "Epoch: 19 Step: 3738 loss: 2.10683207569\n",
      "Epoch: 20 Step: 3780 loss: 2.09857724678\n",
      "Model Saved\n",
      "Train: F1 :  86.7597890907 Accu:  87.5744047619 POS F1 :  83.0425347816 POS Accu:  91.6825511799 Loss:  2.11977171046\n",
      "Val: F1 :  73.8732451279 Accu:  78.125 POS F1 :  82.1130238414 POS Accu:  91.2346990987 Loss:  2.44876198769\n",
      "Epoch: 21 Step: 3822 loss: 2.08046595256\n",
      "Epoch: 22 Step: 3864 loss: 2.1049583753\n",
      "Epoch: 23 Step: 3906 loss: 2.1039103298\n",
      "Epoch: 24 Step: 3948 loss: 2.09709254333\n",
      "Epoch: 25 Step: 3990 loss: 2.09691715808\n",
      "Model Saved\n",
      "Train: F1 :  86.2183836523 Accu:  89.099702381 POS F1 :  83.3889845205 POS Accu:  91.8603097016 Loss:  2.07169666744\n",
      "Val: F1 :  76.198076325 Accu:  81.25 POS F1 :  83.0145505532 POS Accu:  91.4826622584 Loss:  2.33237481117\n",
      "Epoch: 26 Step: 4032 loss: 2.08688405298\n",
      "Epoch: 27 Step: 4074 loss: 2.08486937057\n",
      "Epoch: 28 Step: 4116 loss: 2.10365803185\n",
      "Epoch: 29 Step: 4158 loss: 2.06993701628\n",
      "Epoch: 30 Step: 4200 loss: 2.07424149627\n",
      "Model Saved\n",
      "Train: F1 :  88.16188375 Accu:  88.0208333333 POS F1 :  83.84199635 POS Accu:  91.7984406089 Loss:  2.09236636048\n",
      "Val: F1 :  80.2907056591 Accu:  81.5625 POS F1 :  82.448471749 POS Accu:  91.5298933365 Loss:  2.40109040737\n"
     ]
    }
   ],
   "source": [
    "num_epochs = 30\n",
    "pre_train_period = 0\n",
    "log_period = 5\n",
    "\n",
    "for i in range(num_epochs):\n",
    "    random = np.random.choice(len(y_train), size=(len(y_train)), replace=False)\n",
    "    x_id_train = x_id_train[random]\n",
    "    y_train = y_train[random]\n",
    "    mask_train = mask_train[random]    \n",
    "    pos_id_train = pos_id_train[random]\n",
    "    \n",
    "    if(i<pre_train_period):\n",
    "        losses, step = model(x_id_train, y_train, mask_train, pos_id_train, pretrain=True)\n",
    "    else:\n",
    "        losses, step = model(x_id_train, y_train, mask_train, pos_id_train)\n",
    "    print(\"Epoch:\", i+1,\"Step:\", step, \"loss:\",losses)\n",
    "    \n",
    "    if((i+1)%log_period==0):\n",
    "        saver.save(sess, save_path=save_dir)                         \n",
    "        print(\"Model Saved\")\n",
    "        train_loss, train_pred, train_pred_pos, train_true_pos = model(x_id_train, y_train, mask_train, pos_id_train, train_cond=False)        \n",
    "        f1_, accu_, f1_pos_, accu_pos_ = eval_score(y_train, train_pred, train_pred_pos, train_true_pos)\n",
    "        print(\"Train: F1 : \",  f1_, \"Accu: \", accu_, \"POS F1 : \",  f1_pos_, \"POS Accu: \", accu_pos_, \"Loss: \", train_loss)\n",
    "        \n",
    "        val_loss, val_pred, val_pred_pos, val_true_pos = model(x_id_val, y_val, mask_val, pos_id_val, train_cond=False)        \n",
    "        f1_, accu_, f1_pos_, accu_pos_ = eval_score(y_val, val_pred, val_pred_pos, val_true_pos)\n",
    "        print(\"Val: F1 : \",  f1_, \"Accu: \", accu_, \"POS F1 : \",  f1_pos_, \"POS Accu: \", accu_pos_, \"Loss: \", val_loss)\n",
    "        \n",
    "# test_loss, test_pred, test_pred_pos, test_true_pos = model(x_id_test, y_test, mask_test, pos_id_test, train_cond=False)        \n",
    "# f1_, accu_, f1_pos_, accu_pos_ = etest_score(y_test, test_pred, test_pred_pos, test_true_pos)\n",
    "# print(\"test: F1 Score: \",  f1_, \"Accuracy: \", accu_, \"POS F1 Score: \",  f1_pos_, \"POS Accuracy: \", accu_pos_, \"Loss: \", test_loss)"
   ]
  },
  {
   "cell_type": "code",
   "execution_count": null,
   "metadata": {
    "collapsed": true
   },
   "outputs": [],
   "source": [
    "saver.restore(sess, save_dir)"
   ]
  }
 ],
 "metadata": {
  "kernelspec": {
   "display_name": "cs771",
   "language": "python",
   "name": "cs771"
  },
  "language_info": {
   "codemirror_mode": {
    "name": "ipython",
    "version": 3
   },
   "file_extension": ".py",
   "mimetype": "text/x-python",
   "name": "python",
   "nbconvert_exporter": "python",
   "pygments_lexer": "ipython3",
   "version": "3.5.2"
  }
 },
 "nbformat": 4,
 "nbformat_minor": 2
}
