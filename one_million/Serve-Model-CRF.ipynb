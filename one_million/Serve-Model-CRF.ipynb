{
 "cells": [
  {
   "cell_type": "code",
   "execution_count": 1,
   "metadata": {
    "collapsed": true
   },
   "outputs": [],
   "source": [
    "import tensorflow as tf\n",
    "tf.logging.set_verbosity(tf.logging.WARN)\n",
    "import pickle\n",
    "import numpy as np\n",
    "import os\n",
    "from sklearn.model_selection import train_test_split\n",
    "from sklearn.metrics import f1_score\n",
    "from sklearn.metrics import accuracy_score\n",
    "import os\n",
    "from tensorflow.python.client import device_lib\n",
    "from collections import Counter"
   ]
  },
  {
   "cell_type": "code",
   "execution_count": 2,
   "metadata": {
    "collapsed": true
   },
   "outputs": [],
   "source": [
    "f = open('../Glove/word_embedding_glove', 'rb')\n",
    "word_embedding = pickle.load(f)\n",
    "f.close()\n",
    "word_embedding = word_embedding[: len(word_embedding)-1]\n",
    "\n",
    "f = open('../Glove/vocab_glove', 'rb')\n",
    "vocab = pickle.load(f)\n",
    "f.close()\n",
    "\n",
    "word2id = dict((w, i) for i,w in enumerate(vocab))\n",
    "id2word = dict((i, w) for i,w in enumerate(vocab))\n",
    "\n",
    "unknown_token = \"UNKNOWN_TOKEN\""
   ]
  },
  {
   "cell_type": "code",
   "execution_count": 3,
   "metadata": {
    "collapsed": true
   },
   "outputs": [],
   "source": [
    "f = open(\"../../dataset/sense/dict_sense-keys\", 'rb')\n",
    "dict_sense_keys = pickle.load(f)\n",
    "f.close()\n",
    "\n",
    "f = open(\"../../dataset/sense/dict_word-sense\", 'rb')\n",
    "dict_word_sense = pickle.load(f)\n",
    "f.close()"
   ]
  },
  {
   "cell_type": "code",
   "execution_count": 4,
   "metadata": {
    "collapsed": true
   },
   "outputs": [],
   "source": [
    "# Model Description\n",
    "sense_word = 'serve'\n",
    "model_name = 'crf-model-1'\n",
    "sense_word_dir = 'output/' + sense_word\n",
    "model_dir = sense_word_dir + '/' + model_name\n",
    "save_dir = os.path.join(model_dir, \"save/\")\n",
    "log_dir = os.path.join(model_dir, \"log\")\n",
    "\n",
    "if not os.path.exists(sense_word_dir):\n",
    "    os.mkdir(sense_word_dir)\n",
    "if not os.path.exists(model_dir):\n",
    "    os.mkdir(model_dir)\n",
    "if not os.path.exists(save_dir):\n",
    "    os.mkdir(save_dir)\n",
    "if not os.path.exists(log_dir):\n",
    "    os.mkdir(log_dir)"
   ]
  },
  {
   "cell_type": "code",
   "execution_count": 5,
   "metadata": {
    "scrolled": false
   },
   "outputs": [
    {
     "data": {
      "text/plain": [
       "[('42', 1941), ('41', 839), ('33', 529), ('35', 112), ('34', 41)]"
      ]
     },
     "execution_count": 5,
     "metadata": {},
     "output_type": "execute_result"
    }
   ],
   "source": [
    "f = open(\"../../dataset/checkwords/\"+ sense_word + \"_data\", 'rb')\n",
    "data = pickle.load(f)\n",
    "f.close()\n",
    "\n",
    "pos_tags = []\n",
    "for i in range(len(data)):\n",
    "    for p in data[i][2]:\n",
    "        pos_tags.append(p)\n",
    "        \n",
    "pos_count = Counter(pos_tags)\n",
    "pos_count = pos_count.most_common()\n",
    "vocab_pos = [k for k,v in pos_count]\n",
    "\n",
    "data_y = []\n",
    "for i in range(len(data)):\n",
    "    data_y.append(dict_sense_keys[data[i][0]][2])\n",
    "\n",
    "sense_count = Counter(data_y)\n",
    "sense_count = sense_count.most_common()\n",
    "vocab_sense = [k for k,v in sense_count[:4]]\n",
    "sense_count"
   ]
  },
  {
   "cell_type": "code",
   "execution_count": 6,
   "metadata": {},
   "outputs": [
    {
     "data": {
      "text/plain": [
       "['42', '41', '33', '35']"
      ]
     },
     "execution_count": 6,
     "metadata": {},
     "output_type": "execute_result"
    }
   ],
   "source": [
    "vocab_sense"
   ]
  },
  {
   "cell_type": "code",
   "execution_count": 7,
   "metadata": {},
   "outputs": [
    {
     "name": "stdout",
     "output_type": "stream",
     "text": [
      "3421 3462\n"
     ]
    }
   ],
   "source": [
    "data_x = []\n",
    "data_label = []\n",
    "data_pos = []\n",
    "for i in range(len(data)):\n",
    "    if dict_sense_keys[data[i][0]][2] in vocab_sense:\n",
    "        data_x.append(data[i][1])\n",
    "        data_pos.append(data[i][2])\n",
    "        data_label.append(dict_sense_keys[data[i][0]][2])\n",
    "\n",
    "print(len(data_label), len(data_y))\n",
    "\n",
    "pos2id = dict((s, i) for i,s in enumerate(vocab_pos))\n",
    "id2pos = dict((i, s) for i,s in enumerate(vocab_pos))\n",
    "\n",
    "# vocab_sense = dict_word_sense[sense_word]\n",
    "\n",
    "sense2id = dict((s, i) for i,s in enumerate(vocab_sense))\n",
    "id2sense = dict((i, s) for i,s in enumerate(vocab))"
   ]
  },
  {
   "cell_type": "code",
   "execution_count": 8,
   "metadata": {
    "collapsed": true
   },
   "outputs": [],
   "source": [
    "# Parameters\n",
    "mode = 'train'\n",
    "num_senses = len(vocab_sense)\n",
    "num_pos = len(vocab_pos)\n",
    "batch_size = 64\n",
    "vocab_size = len(vocab)\n",
    "unk_vocab_size = 1\n",
    "word_emb_size = len(word_embedding[0])\n",
    "max_sent_size = 200\n",
    "hidden_size = 100\n",
    "keep_prob = 0.5\n",
    "l2_lambda = 0.001\n",
    "init_lr = 0.001\n",
    "decay_steps = 500\n",
    "decay_rate = 0.96\n",
    "clip_norm = 1\n",
    "clipping = True\n",
    "crf_lambda = 0.1"
   ]
  },
  {
   "cell_type": "code",
   "execution_count": 9,
   "metadata": {
    "collapsed": true,
    "scrolled": true
   },
   "outputs": [],
   "source": [
    "# MODEL\n",
    "x = tf.placeholder('int32', [batch_size, max_sent_size], name=\"x\")\n",
    "y = tf.placeholder('int32', [batch_size], name=\"y\")\n",
    "y_pos = tf.placeholder('int32', [batch_size, None], name=\"y_pos\")\n",
    "x_mask  = tf.placeholder('bool', [batch_size, max_sent_size], name='x_mask') \n",
    "is_train = tf.placeholder('bool', [], name='is_train')\n",
    "word_emb_mat = tf.placeholder('float', [None, word_emb_size], name='emb_mat')\n",
    "input_keep_prob = tf.cond(is_train,lambda:keep_prob, lambda:tf.constant(1.0))\n",
    "x_len = tf.reduce_sum(tf.cast(x_mask, 'int32'), 1)\n",
    "\n",
    "with tf.name_scope(\"word_embedding\"):\n",
    "    if mode == 'train':\n",
    "        unk_word_emb_mat = tf.get_variable(\"word_emb_mat\", dtype='float', shape=[unk_vocab_size, word_emb_size], initializer=tf.contrib.layers.xavier_initializer(uniform=True, seed=0, dtype=tf.float32))\n",
    "    else:\n",
    "        unk_word_emb_mat = tf.get_variable(\"word_emb_mat\", shape=[unk_vocab_size, word_emb_size], dtype='float')\n",
    "        \n",
    "    final_word_emb_mat = tf.concat([word_emb_mat, unk_word_emb_mat], 0)\n",
    "    Wx = tf.nn.embedding_lookup(final_word_emb_mat, x)  \n",
    "\n",
    "with tf.variable_scope(\"lstm1\"):\n",
    "    cell_fw1 = tf.contrib.rnn.BasicLSTMCell(hidden_size,state_is_tuple=True)\n",
    "    cell_bw1 = tf.contrib.rnn.BasicLSTMCell(hidden_size,state_is_tuple=True)\n",
    "\n",
    "    d_cell_fw1 = tf.contrib.rnn.DropoutWrapper(cell_fw1, input_keep_prob=input_keep_prob)\n",
    "    d_cell_bw1 = tf.contrib.rnn.DropoutWrapper(cell_bw1, input_keep_prob=input_keep_prob)\n",
    "    \n",
    "    (fw_h1, bw_h1), _ = tf.nn.bidirectional_dynamic_rnn(d_cell_fw1, d_cell_bw1, Wx, sequence_length=x_len, dtype='float', scope='lstm1')\n",
    "    h1 = tf.concat([fw_h1, bw_h1], 2)\n",
    "    \n",
    "with tf.variable_scope(\"lstm2\"):\n",
    "    cell_fw2 = tf.contrib.rnn.BasicLSTMCell(hidden_size,state_is_tuple=True)\n",
    "    cell_bw2 = tf.contrib.rnn.BasicLSTMCell(hidden_size,state_is_tuple=True)\n",
    "\n",
    "    d_cell_fw2 = tf.contrib.rnn.DropoutWrapper(cell_fw2, input_keep_prob=input_keep_prob)\n",
    "    d_cell_bw2 = tf.contrib.rnn.DropoutWrapper(cell_bw2, input_keep_prob=input_keep_prob)\n",
    "    \n",
    "    (fw_h2, bw_h2), _ = tf.nn.bidirectional_dynamic_rnn(d_cell_fw2, d_cell_bw2, h1, sequence_length=x_len, dtype='float', scope='lstm2')\n",
    "    h = tf.concat([fw_h2, bw_h2], 2)\n",
    "\n",
    "def attention(input_x, input_mask, W_att):\n",
    "    h_masked = tf.boolean_mask(input_x, input_mask)\n",
    "    h_tanh = tf.tanh(h_masked)\n",
    "    u = tf.matmul(h_tanh, W_att)\n",
    "    a = tf.nn.softmax(u)\n",
    "    c = tf.reduce_sum(tf.multiply(h_tanh, a), 0)  \n",
    "    return c\n",
    "\n",
    "with tf.variable_scope(\"attention\"):\n",
    "    W_att = tf.Variable(tf.truncated_normal([2*hidden_size, 1], mean=0.0, stddev=0.1, seed=0), name=\"W_att\")\n",
    "    c = tf.expand_dims(attention(h[0], x_mask[0], W_att), 0)\n",
    "    for i in range(1, batch_size):\n",
    "        c = tf.concat([c, tf.expand_dims(attention(h[i], x_mask[i], W_att), 0)], 0)\n",
    "        \n",
    "with tf.variable_scope(\"softmax_layer\"):\n",
    "    W = tf.Variable(tf.truncated_normal([2*hidden_size, num_senses], mean=0.0, stddev=0.1, seed=0), name=\"W\")\n",
    "    b = tf.Variable(tf.zeros([num_senses]), name=\"b\")\n",
    "    drop_c = tf.nn.dropout(c, input_keep_prob)\n",
    "    logits = tf.matmul(drop_c, W) + b\n",
    "    predictions = tf.argmax(logits, 1)\n",
    "    \n",
    "flat_h1 = tf.reshape(h1, [-1, 2*hidden_size])\n",
    "\n",
    "with tf.variable_scope(\"crf_layer_pos\"):\n",
    "    W = tf.Variable(tf.truncated_normal([2*hidden_size, num_pos], mean=0.0, stddev=0.1, seed=0), name=\"W\")\n",
    "    b = tf.Variable(tf.zeros([num_pos]), name=\"b\")\n",
    "    drop_flat_h1 = tf.nn.dropout(flat_h1, input_keep_prob)\n",
    "    flat_logits_pos = tf.matmul(drop_flat_h1, W) + b\n",
    "    logits_pos = tf.reshape(flat_logits_pos, [batch_size, max_sent_size, num_pos])\n",
    "    \n",
    "    log_likelihood, trans_params = tf.contrib.crf.crf_log_likelihood(logits_pos, y_pos, x_len)\n",
    "    trans_params = trans_params\n",
    "    crf_loss = crf_lambda*tf.reduce_mean(-log_likelihood)\n",
    "    \n",
    "    \n",
    "float_x_mask = tf.cast(x_mask, 'float')\n",
    "\n",
    "loss = tf.reduce_mean(tf.nn.sparse_softmax_cross_entropy_with_logits(logits=logits, labels=y))\n",
    "\n",
    "global_step = tf.Variable(0, trainable=False, name=\"global_step\")\n",
    "\n",
    "learning_rate = tf.train.exponential_decay(init_lr, global_step, decay_steps, decay_rate, staircase=True)\n",
    "\n",
    "tv_all = tf.trainable_variables()\n",
    "tv_regu =[]\n",
    "for t in tv_all:\n",
    "    if t.name.find('b:')==-1:\n",
    "        tv_regu.append(t)\n",
    "        \n",
    "# l2 Loss\n",
    "l2_loss = l2_lambda * tf.reduce_sum([ tf.nn.l2_loss(v) for v in tv_regu ])\n",
    "\n",
    "total_loss = loss + l2_loss + crf_loss\n",
    "\n",
    "# Optimizer for loss\n",
    "optimizer = tf.train.AdamOptimizer(learning_rate)\n",
    "optimizer_pos = tf.train.AdamOptimizer(learning_rate).minimize(crf_loss, global_step)\n",
    "\n",
    "# Gradients and Variables for Loss\n",
    "grads_vars = optimizer.compute_gradients(total_loss)\n",
    "\n",
    "# Clipping of Gradients\n",
    "clipped_grads = grads_vars\n",
    "if(clipping == True):\n",
    "    clipped_grads = [(tf.clip_by_norm(grad, clip_norm), var) for grad, var in clipped_grads]\n",
    "\n",
    "# Training Optimizer for Total Loss\n",
    "train_op = optimizer.apply_gradients(clipped_grads, global_step=global_step)\n",
    "\n",
    "# Summaries\n",
    "var_summaries = []\n",
    "for v in tv_all:\n",
    "    var_summary = tf.summary.histogram(\"{}/var\".format(v.name), v)\n",
    "    var_summaries.append(var_summary)\n",
    "\n",
    "var_summaries_merged = tf.summary.merge(var_summaries)\n",
    "\n",
    "loss_summary = tf.summary.scalar(\"loss\", loss)\n",
    "loss_pos_summary = tf.summary.scalar(\"loss_pos\", crf_loss)\n",
    "total_loss_summary = tf.summary.scalar(\"total_loss\", total_loss)\n",
    "summary = tf.summary.merge_all()"
   ]
  },
  {
   "cell_type": "code",
   "execution_count": 10,
   "metadata": {
    "collapsed": true
   },
   "outputs": [],
   "source": [
    "os.environ[\"CUDA_DEVICE_ORDER\"]=\"PCI_BUS_ID\"   # see issue #152\n",
    "os.environ[\"CUDA_VISIBLE_DEVICES\"]=\"3\"\n",
    "config = tf.ConfigProto()\n",
    "config.gpu_options.allow_growth = True\n",
    "sess = tf.Session(config=config)\n",
    "sess.run(tf.global_variables_initializer())                          # For initializing all the variables\n",
    "saver = tf.train.Saver()                                             # For Saving the model\n",
    "summary_writer = tf.summary.FileWriter(log_dir, sess.graph)          # For writing Summaries"
   ]
  },
  {
   "cell_type": "code",
   "execution_count": 11,
   "metadata": {
    "collapsed": true
   },
   "outputs": [],
   "source": [
    "index = []\n",
    "for i in range(len(data_x)):\n",
    "    index.append(i)"
   ]
  },
  {
   "cell_type": "code",
   "execution_count": 12,
   "metadata": {
    "scrolled": true
   },
   "outputs": [
    {
     "name": "stderr",
     "output_type": "stream",
     "text": [
      "/users/btech/aviraj/cs771/lib/python3.5/site-packages/sklearn/model_selection/_split.py:2026: FutureWarning: From version 0.21, test_size will always complement train_size unless both are specified.\n",
      "  FutureWarning)\n"
     ]
    }
   ],
   "source": [
    "index_train, index_val, label_train, label_val = train_test_split(index, data_label, train_size=0.8, shuffle=True, stratify=data_label, random_state=0)\n",
    "\n",
    "data_x = np.array(data_x)\n",
    "data_pos = np.array(data_pos)\n",
    "\n",
    "x_train = data_x[index_train]\n",
    "pos_train = data_pos[index_train]\n",
    "x_val = data_x[index_val]\n",
    "pos_val = data_pos[index_val]"
   ]
  },
  {
   "cell_type": "code",
   "execution_count": 13,
   "metadata": {
    "collapsed": true
   },
   "outputs": [],
   "source": [
    "def data_prepare(x, y, p):\n",
    "    num_examples = len(x)\n",
    "\n",
    "    xx = np.zeros([num_examples, max_sent_size], dtype=int)\n",
    "    xx_mask = np.zeros([num_examples, max_sent_size], dtype=bool)\n",
    "    yy = np.zeros([num_examples], dtype=int)\n",
    "    pp = np.zeros([num_examples, max_sent_size], dtype=int)\n",
    "\n",
    "    for j in range(num_examples):\n",
    "        for i in range(max_sent_size):\n",
    "            if(i>=len(x[j])):\n",
    "                break\n",
    "            w = x[j][i]\n",
    "            xx[j][i] = word2id[w] if w in word2id else word2id['UNKNOWN_TOKEN']\n",
    "            xx_mask[j][i] = True\n",
    "            pp[j][i] = pos2id[p[j][i]]\n",
    "        yy[j] = sense2id[y[j]]\n",
    "        \n",
    "    return xx, xx_mask, yy, pp\n",
    "\n",
    "def model(xx, yy, mask, pp, train_cond=True, pretrain=False):\n",
    "    num_batches = int(len(xx)/batch_size)\n",
    "    losses = 0\n",
    "    preds = []\n",
    "    preds_pos = []\n",
    "    true_pos = []\n",
    "    for j in range(num_batches): \n",
    "        \n",
    "        s = j * batch_size\n",
    "        e = (j+1) * batch_size\n",
    "        \n",
    "        feed_dict = {x:xx[s:e], y:yy[s:e], y_pos:pp[s:e], x_mask:mask[s:e], is_train:train_cond, input_keep_prob:keep_prob, word_emb_mat:word_embedding}\n",
    "        \n",
    "        if(train_cond==True):\n",
    "            if(pretrain==False):\n",
    "                _, _loss, step, _summary = sess.run([train_op, total_loss, global_step, summary], feed_dict)\n",
    "            else:\n",
    "                 _, _loss, step, _summary = sess.run([optimizer_pos, crf_loss, global_step, summary], feed_dict)\n",
    "            \n",
    "            summary_writer.add_summary(_summary, step)\n",
    "#             print(\"Steps:{}\".format(step), \", Loss: {}\".format(_loss))\n",
    "\n",
    "        else:\n",
    "            _loss, pred, crf_logits, trans_params_ = sess.run([total_loss, predictions, logits_pos, trans_params], feed_dict)\n",
    "            preds.append(pred)\n",
    "            for k in range(batch_size):\n",
    "                logit_ = crf_logits[k][:sum(mask[s+k])] # keep only the valid steps\n",
    "                viterbi_seq, viterbi_score = tf.contrib.crf.viterbi_decode(logit_, trans_params_)\n",
    "                preds_pos += [viterbi_seq]    \n",
    "            \n",
    "            for k in range(batch_size):\n",
    "                true_pos.append(pp[s+k][:sum(mask[s+k])])\n",
    "\n",
    "        losses +=_loss\n",
    "\n",
    "    if(train_cond==False):\n",
    "        y_pred = []\n",
    "        pos_true = []\n",
    "        pos_pred = []\n",
    "        for i in range(num_batches):\n",
    "            for pred in preds[i]:\n",
    "                y_pred.append(pred)\n",
    "                \n",
    "        for i in range(len(preds_pos)):\n",
    "            for j in range(len(preds_pos[i])):\n",
    "                pos_pred.append(preds_pos[i][j])\n",
    "                pos_true.append(true_pos[i][j])\n",
    "\n",
    "        return losses/num_batches, y_pred, pos_pred, pos_true\n",
    "    \n",
    "    return losses/num_batches, step\n",
    "\n",
    "def eval_score(yy, pred, pos_true, pos_pred):\n",
    "    num_batches = int(len(yy)/batch_size)\n",
    "    f1 = f1_score(yy[:batch_size*num_batches], pred, average='macro')\n",
    "    f1_pos = f1_score(pos_true, pos_pred, average='macro')\n",
    "    accu = accuracy_score(yy[:batch_size*num_batches], pred)\n",
    "    accu_pos = accuracy_score(pos_true, pos_pred)\n",
    "    return f1*100, accu*100, f1_pos*100, accu_pos*100"
   ]
  },
  {
   "cell_type": "code",
   "execution_count": 14,
   "metadata": {
    "collapsed": true
   },
   "outputs": [],
   "source": [
    "x_id_train, mask_train, y_train, pos_id_train = data_prepare(x_train, label_train, pos_train)\n",
    "x_id_val, mask_val, y_val, pos_id_val = data_prepare(x_val, label_val,pos_val)"
   ]
  },
  {
   "cell_type": "code",
   "execution_count": 15,
   "metadata": {
    "scrolled": true
   },
   "outputs": [
    {
     "name": "stdout",
     "output_type": "stream",
     "text": [
      "Epoch: 1 Step: 42 loss: 7.12552016122\n",
      "Epoch: 2 Step: 84 loss: 3.91516532784\n",
      "Epoch: 3 Step: 126 loss: 2.59847729547\n",
      "Epoch: 4 Step: 168 loss: 2.15831823008\n",
      "Epoch: 5 Step: 210 loss: 1.93603750354\n",
      "Model Saved\n"
     ]
    },
    {
     "name": "stderr",
     "output_type": "stream",
     "text": [
      "/users/btech/aviraj/cs771/lib/python3.5/site-packages/sklearn/metrics/classification.py:1137: UndefinedMetricWarning: F-score is ill-defined and being set to 0.0 in labels with no true samples.\n",
      "  'recall', 'true', average, warn_for)\n"
     ]
    },
    {
     "name": "stdout",
     "output_type": "stream",
     "text": [
      "Train: F1 :  19.9012277633 Accu:  52.306547619 POS F1 :  71.9206173049 POS Accu:  84.2989140789 Loss:  12.0074878193\n",
      "Val: F1 :  21.9117647059 Accu:  54.375 POS F1 :  72.2007708256 POS Accu:  84.3350257803 Loss:  11.984883213\n",
      "Epoch: 6 Step: 252 loss: 7.09808202585\n",
      "Epoch: 7 Step: 294 loss: 4.07813043821\n",
      "Epoch: 8 Step: 336 loss: 3.65410464718\n",
      "Epoch: 9 Step: 378 loss: 3.44641739982\n",
      "Epoch: 10 Step: 420 loss: 3.19770872025\n",
      "Model Saved\n",
      "Train: F1 :  58.4697884018 Accu:  68.0803571429 POS F1 :  74.4042258454 POS Accu:  86.0506505001 Loss:  3.07551802908\n",
      "Val: F1 :  59.206950457 Accu:  67.34375 POS F1 :  74.210575765 POS Accu:  85.9487542803 Loss:  3.14380457401\n",
      "Epoch: 11 Step: 462 loss: 3.05468215829\n",
      "Epoch: 12 Step: 504 loss: 2.9348968381\n",
      "Epoch: 13 Step: 546 loss: 2.81344183286\n",
      "Epoch: 14 Step: 588 loss: 2.71302230585\n",
      "Epoch: 15 Step: 630 loss: 2.64519084068\n",
      "Model Saved\n",
      "Train: F1 :  71.1639811475 Accu:  76.2648809524 POS F1 :  76.9392683621 POS Accu:  87.5940711311 Loss:  2.58952651705\n",
      "Val: F1 :  65.2243966807 Accu:  71.875 POS F1 :  76.5442394485 POS Accu:  87.4207895462 Loss:  2.70659239292\n",
      "Epoch: 16 Step: 672 loss: 2.57973090808\n",
      "Epoch: 17 Step: 714 loss: 2.54342490151\n",
      "Epoch: 18 Step: 756 loss: 2.47425067992\n",
      "Epoch: 19 Step: 798 loss: 2.43982047694\n",
      "Epoch: 20 Step: 840 loss: 2.38062606539\n",
      "Model Saved\n",
      "Train: F1 :  75.4566719853 Accu:  80.2455357143 POS F1 :  78.0240265843 POS Accu:  88.2878421363 Loss:  2.32230903989\n",
      "Val: F1 :  70.8493666694 Accu:  76.09375 POS F1 :  78.2275413471 POS Accu:  88.3890266462 Loss:  2.47748656273\n",
      "Epoch: 21 Step: 882 loss: 2.34875640415\n",
      "Epoch: 22 Step: 924 loss: 2.32217807997\n",
      "Epoch: 23 Step: 966 loss: 2.26545782316\n",
      "Epoch: 24 Step: 1008 loss: 2.23208630369\n",
      "Epoch: 25 Step: 1050 loss: 2.24444219612\n",
      "Model Saved\n",
      "Train: F1 :  79.8816683351 Accu:  82.4032738095 POS F1 :  79.1378733752 POS Accu:  89.2356821076 Loss:  2.17800914957\n",
      "Val: F1 :  76.0891816546 Accu:  79.0625 POS F1 :  78.9220839245 POS Accu:  89.2549297438 Loss:  2.29217222929\n",
      "Epoch: 26 Step: 1092 loss: 2.19449388129\n",
      "Epoch: 27 Step: 1134 loss: 2.22355358657\n",
      "Epoch: 28 Step: 1176 loss: 2.14990349043\n",
      "Epoch: 29 Step: 1218 loss: 2.13015671571\n",
      "Epoch: 30 Step: 1260 loss: 2.13653445528\n",
      "Model Saved\n",
      "Train: F1 :  80.1262855093 Accu:  83.4821428571 POS F1 :  79.5603977039 POS Accu:  89.3502510026 Loss:  2.0932517222\n",
      "Val: F1 :  69.6368504575 Accu:  76.71875 POS F1 :  79.1925676306 POS Accu:  89.3769433621 Loss:  2.26668177843\n",
      "Epoch: 31 Step: 1302 loss: 2.11011912709\n",
      "Epoch: 32 Step: 1344 loss: 2.09222231592\n",
      "Epoch: 33 Step: 1386 loss: 2.07098577988\n",
      "Epoch: 34 Step: 1428 loss: 2.07504056465\n",
      "Epoch: 35 Step: 1470 loss: 2.05446201847\n",
      "Model Saved\n",
      "Train: F1 :  79.2406023751 Accu:  82.4404761905 POS F1 :  80.2678414359 POS Accu:  89.953673316 Loss:  2.06382166772\n",
      "Val: F1 :  74.4875081788 Accu:  78.125 POS F1 :  80.1819755059 POS Accu:  89.7941512182 Loss:  2.2295558691\n",
      "Epoch: 36 Step: 1512 loss: 2.06107353029\n",
      "Epoch: 37 Step: 1554 loss: 2.03225756259\n",
      "Epoch: 38 Step: 1596 loss: 2.00486775239\n",
      "Epoch: 39 Step: 1638 loss: 2.00285806826\n",
      "Epoch: 40 Step: 1680 loss: 1.97653283676\n",
      "Model Saved\n",
      "Train: F1 :  83.7244866873 Accu:  85.8630952381 POS F1 :  80.5351173505 POS Accu:  90.1772673902 Loss:  1.96021880706\n",
      "Val: F1 :  71.473829668 Accu:  78.125 POS F1 :  80.4701969357 POS Accu:  89.998819223 Loss:  2.15338506699\n",
      "Epoch: 41 Step: 1722 loss: 1.98685823168\n",
      "Epoch: 42 Step: 1764 loss: 2.01616683744\n",
      "Epoch: 43 Step: 1806 loss: 1.97521267335\n",
      "Epoch: 44 Step: 1848 loss: 1.96450866688\n",
      "Epoch: 45 Step: 1890 loss: 1.95251205422\n",
      "Model Saved\n",
      "Train: F1 :  81.9827764662 Accu:  84.7842261905 POS F1 :  81.6504962926 POS Accu:  90.5899719061 Loss:  1.93045960438\n",
      "Val: F1 :  68.689780004 Accu:  76.40625 POS F1 :  81.8001858313 POS Accu:  90.4632581572 Loss:  2.20416586399\n",
      "Epoch: 46 Step: 1932 loss: 1.94302559467\n",
      "Epoch: 47 Step: 1974 loss: 1.92187129884\n",
      "Epoch: 48 Step: 2016 loss: 1.93425052507\n",
      "Epoch: 49 Step: 2058 loss: 1.92008636963\n",
      "Epoch: 50 Step: 2100 loss: 1.92103468236\n",
      "Model Saved\n",
      "Train: F1 :  83.654417905 Accu:  85.8258928571 POS F1 :  81.1250859201 POS Accu:  90.5968296409 Loss:  1.94304406075\n",
      "Val: F1 :  74.5833556525 Accu:  78.125 POS F1 :  81.2157827972 POS Accu:  90.6325028535 Loss:  2.24460244179\n"
     ]
    }
   ],
   "source": [
    "num_epochs = 50\n",
    "pre_train_period = 5\n",
    "log_period = 5\n",
    "\n",
    "for i in range(num_epochs):\n",
    "    random = np.random.choice(len(y_train), size=(len(y_train)), replace=False)\n",
    "    x_id_train = x_id_train[random]\n",
    "    y_train = y_train[random]\n",
    "    mask_train = mask_train[random]    \n",
    "    pos_id_train = pos_id_train[random]\n",
    "    \n",
    "    if(i<pre_train_period):\n",
    "        losses, step = model(x_id_train, y_train, mask_train, pos_id_train, pretrain=True)\n",
    "    else:\n",
    "        losses, step = model(x_id_train, y_train, mask_train, pos_id_train)\n",
    "    print(\"Epoch:\", i+1,\"Step:\", step, \"loss:\",losses)\n",
    "    \n",
    "    if((i+1)%log_period==0):\n",
    "        saver.save(sess, save_path=save_dir)                         \n",
    "        print(\"Model Saved\")\n",
    "        train_loss, train_pred, train_pred_pos, train_true_pos = model(x_id_train, y_train, mask_train, pos_id_train, train_cond=False)        \n",
    "        f1_, accu_, f1_pos_, accu_pos_ = eval_score(y_train, train_pred, train_pred_pos, train_true_pos)\n",
    "        print(\"Train: F1 : \",  f1_, \"Accu: \", accu_, \"POS F1 : \",  f1_pos_, \"POS Accu: \", accu_pos_, \"Loss: \", train_loss)\n",
    "        \n",
    "        val_loss, val_pred, val_pred_pos, val_true_pos = model(x_id_val, y_val, mask_val, pos_id_val, train_cond=False)        \n",
    "        f1_, accu_, f1_pos_, accu_pos_ = eval_score(y_val, val_pred, val_pred_pos, val_true_pos)\n",
    "        print(\"Val: F1 : \",  f1_, \"Accu: \", accu_, \"POS F1 : \",  f1_pos_, \"POS Accu: \", accu_pos_, \"Loss: \", val_loss)\n",
    "        \n",
    "# test_loss, test_pred, test_pred_pos, test_true_pos = model(x_id_test, y_test, mask_test, pos_id_test, train_cond=False)        \n",
    "# f1_, accu_, f1_pos_, accu_pos_ = etest_score(y_test, test_pred, test_pred_pos, test_true_pos)\n",
    "# print(\"test: F1 Score: \",  f1_, \"Accuracy: \", accu_, \"POS F1 Score: \",  f1_pos_, \"POS Accuracy: \", accu_pos_, \"Loss: \", test_loss)"
   ]
  },
  {
   "cell_type": "code",
   "execution_count": 16,
   "metadata": {
    "scrolled": true
   },
   "outputs": [
    {
     "name": "stdout",
     "output_type": "stream",
     "text": [
      "Epoch: 1 Step: 2142 loss: 1.92731274593\n",
      "Epoch: 2 Step: 2184 loss: 1.91792249396\n",
      "Epoch: 3 Step: 2226 loss: 1.89017246167\n",
      "Epoch: 4 Step: 2268 loss: 1.90776802528\n",
      "Epoch: 5 Step: 2310 loss: 1.88512574775\n",
      "Model Saved\n",
      "Train: F1 :  84.3564271445 Accu:  87.7232142857 POS F1 :  81.8209557128 POS Accu:  90.8006895435 Loss:  1.86304205656\n",
      "Val: F1 :  75.6711332767 Accu:  80.3125 POS F1 :  81.5805706187 POS Accu:  90.4199630023 Loss:  2.16185767651\n",
      "Epoch: 6 Step: 2352 loss: 1.88726412115\n",
      "Epoch: 7 Step: 2394 loss: 1.88389675958\n",
      "Epoch: 8 Step: 2436 loss: 1.85736831029\n",
      "Epoch: 9 Step: 2478 loss: 1.87994423367\n",
      "Epoch: 10 Step: 2520 loss: 1.85782488187\n",
      "Model Saved\n"
     ]
    },
    {
     "name": "stderr",
     "output_type": "stream",
     "text": [
      "/users/btech/aviraj/cs771/lib/python3.5/site-packages/sklearn/metrics/classification.py:1137: UndefinedMetricWarning: F-score is ill-defined and being set to 0.0 in labels with no true samples.\n",
      "  'recall', 'true', average, warn_for)\n"
     ]
    },
    {
     "name": "stdout",
     "output_type": "stream",
     "text": [
      "Train: F1 :  85.8679515459 Accu:  85.5282738095 POS F1 :  81.6352735969 POS Accu:  90.8564505666 Loss:  1.87945801304\n",
      "Val: F1 :  76.300878643 Accu:  78.75 POS F1 :  81.5058066624 POS Accu:  90.7702601645 Loss:  2.1042216301\n",
      "Epoch: 11 Step: 2562 loss: 1.8615508335\n",
      "Epoch: 12 Step: 2604 loss: 1.85887244486\n",
      "Epoch: 13 Step: 2646 loss: 1.86270350785\n",
      "Epoch: 14 Step: 2688 loss: 1.83779222341\n",
      "Epoch: 15 Step: 2730 loss: 1.83375094334\n",
      "Model Saved\n",
      "Train: F1 :  87.4879839666 Accu:  88.5416666667 POS F1 :  81.8323036916 POS Accu:  91.0270249615 Loss:  1.80241837388\n",
      "Val: F1 :  77.6180530182 Accu:  80.625 POS F1 :  81.0916137021 POS Accu:  90.5852717755 Loss:  2.11121295691\n",
      "Epoch: 16 Step: 2772 loss: 1.82317176035\n",
      "Epoch: 17 Step: 2814 loss: 1.84510623841\n",
      "Epoch: 18 Step: 2856 loss: 1.81969874813\n",
      "Epoch: 19 Step: 2898 loss: 1.80396257128\n",
      "Epoch: 20 Step: 2940 loss: 1.84782017129\n",
      "Model Saved\n",
      "Train: F1 :  86.7915598084 Accu:  88.6904761905 POS F1 :  82.3080436659 POS Accu:  90.9819104199 Loss:  1.80192821083\n",
      "Val: F1 :  74.6058768528 Accu:  80.15625 POS F1 :  82.1935606797 POS Accu:  90.919825245 Loss:  2.04236422777\n",
      "Epoch: 21 Step: 2982 loss: 1.80782348769\n",
      "Epoch: 22 Step: 3024 loss: 1.82012972945\n",
      "Epoch: 23 Step: 3066 loss: 1.81339334306\n",
      "Epoch: 24 Step: 3108 loss: 1.7860197652\n",
      "Epoch: 25 Step: 3150 loss: 1.81345258724\n",
      "Model Saved\n",
      "Train: F1 :  89.6234792567 Accu:  89.880952381 POS F1 :  82.9124674413 POS Accu:  91.2016901891 Loss:  1.75637388229\n",
      "Val: F1 :  76.6217019805 Accu:  78.90625 POS F1 :  82.4788863372 POS Accu:  91.1402369426 Loss:  2.02322001457\n",
      "Epoch: 26 Step: 3192 loss: 1.79763666505\n",
      "Epoch: 27 Step: 3234 loss: 1.80914958318\n",
      "Epoch: 28 Step: 3276 loss: 1.78437636296\n",
      "Epoch: 29 Step: 3318 loss: 1.79744197641\n",
      "Epoch: 30 Step: 3360 loss: 1.79922252326\n",
      "Model Saved\n",
      "Train: F1 :  85.5280209425 Accu:  86.9419642857 POS F1 :  82.4310661995 POS Accu:  91.2046781398 Loss:  1.82752771888\n",
      "Val: F1 :  72.469527425 Accu:  79.84375 POS F1 :  81.6002858702 POS Accu:  91.0103514779 Loss:  2.07591247559\n"
     ]
    }
   ],
   "source": [
    "num_epochs = 30\n",
    "pre_train_period = 0\n",
    "log_period = 5\n",
    "\n",
    "for i in range(num_epochs):\n",
    "    random = np.random.choice(len(y_train), size=(len(y_train)), replace=False)\n",
    "    x_id_train = x_id_train[random]\n",
    "    y_train = y_train[random]\n",
    "    mask_train = mask_train[random]    \n",
    "    pos_id_train = pos_id_train[random]\n",
    "    \n",
    "    if(i<pre_train_period):\n",
    "        losses, step = model(x_id_train, y_train, mask_train, pos_id_train, pretrain=True)\n",
    "    else:\n",
    "        losses, step = model(x_id_train, y_train, mask_train, pos_id_train)\n",
    "    print(\"Epoch:\", i+1,\"Step:\", step, \"loss:\",losses)\n",
    "    \n",
    "    if((i+1)%log_period==0):\n",
    "        saver.save(sess, save_path=save_dir)                         \n",
    "        print(\"Model Saved\")\n",
    "        train_loss, train_pred, train_pred_pos, train_true_pos = model(x_id_train, y_train, mask_train, pos_id_train, train_cond=False)        \n",
    "        f1_, accu_, f1_pos_, accu_pos_ = eval_score(y_train, train_pred, train_pred_pos, train_true_pos)\n",
    "        print(\"Train: F1 : \",  f1_, \"Accu: \", accu_, \"POS F1 : \",  f1_pos_, \"POS Accu: \", accu_pos_, \"Loss: \", train_loss)\n",
    "        \n",
    "        val_loss, val_pred, val_pred_pos, val_true_pos = model(x_id_val, y_val, mask_val, pos_id_val, train_cond=False)        \n",
    "        f1_, accu_, f1_pos_, accu_pos_ = eval_score(y_val, val_pred, val_pred_pos, val_true_pos)\n",
    "        print(\"Val: F1 : \",  f1_, \"Accu: \", accu_, \"POS F1 : \",  f1_pos_, \"POS Accu: \", accu_pos_, \"Loss: \", val_loss)\n",
    "        \n",
    "# test_loss, test_pred, test_pred_pos, test_true_pos = model(x_id_test, y_test, mask_test, pos_id_test, train_cond=False)        \n",
    "# f1_, accu_, f1_pos_, accu_pos_ = etest_score(y_test, test_pred, test_pred_pos, test_true_pos)\n",
    "# print(\"test: F1 Score: \",  f1_, \"Accuracy: \", accu_, \"POS F1 Score: \",  f1_pos_, \"POS Accuracy: \", accu_pos_, \"Loss: \", test_loss)"
   ]
  },
  {
   "cell_type": "code",
   "execution_count": null,
   "metadata": {
    "scrolled": true
   },
   "outputs": [
    {
     "name": "stdout",
     "output_type": "stream",
     "text": [
      "Epoch: 1 Step: 3402 loss: 1.78730075984\n",
      "Epoch: 2 Step: 3444 loss: 1.78353316443\n",
      "Epoch: 3 Step: 3486 loss: 1.76122631913\n",
      "Epoch: 4 Step: 3528 loss: 1.78395662137\n",
      "Epoch: 5 Step: 3570 loss: 1.75565402281\n",
      "Model Saved\n"
     ]
    },
    {
     "name": "stderr",
     "output_type": "stream",
     "text": [
      "/users/btech/aviraj/cs771/lib/python3.5/site-packages/sklearn/metrics/classification.py:1137: UndefinedMetricWarning: F-score is ill-defined and being set to 0.0 in labels with no true samples.\n",
      "  'recall', 'true', average, warn_for)\n"
     ]
    },
    {
     "name": "stdout",
     "output_type": "stream",
     "text": [
      "Train: F1 :  84.9857227654 Accu:  88.4672619048 POS F1 :  81.9511010692 POS Accu:  91.2478766247 Loss:  1.77566620566\n",
      "Val: F1 :  73.0264757259 Accu:  79.84375 POS F1 :  81.9449935368 POS Accu:  91.081198095 Loss:  2.15427212715\n",
      "Epoch: 6 Step: 3612 loss: 1.75470350186\n",
      "Epoch: 7 Step: 3654 loss: 1.7519160424\n",
      "Epoch: 8 Step: 3696 loss: 1.75383572635\n",
      "Epoch: 9 Step: 3738 loss: 1.77169964995\n",
      "Epoch: 10 Step: 3780 loss: 1.77737818445\n",
      "Model Saved\n",
      "Train: F1 :  88.9081888748 Accu:  90.4389880952 POS F1 :  82.8678273556 POS Accu:  91.5626160747 Loss:  1.71252083778\n",
      "Val: F1 :  74.8458783799 Accu:  80.46875 POS F1 :  81.9106928099 POS Accu:  91.356712717 Loss:  2.04051338434\n",
      "Epoch: 11 Step: 3822 loss: 1.76637976794\n",
      "Epoch: 12 Step: 3864 loss: 1.75389171498\n",
      "Epoch: 13 Step: 3906 loss: 1.73099145719\n",
      "Epoch: 14 Step: 3948 loss: 1.73591728154\n",
      "Epoch: 15 Step: 3990 loss: 1.73249445927\n",
      "Model Saved\n",
      "Train: F1 :  87.137927511 Accu:  88.1696428571 POS F1 :  82.6778885699 POS Accu:  91.3757053247 Loss:  1.7467660762\n",
      "Val: F1 :  75.7593893259 Accu:  80.46875 POS F1 :  82.7806841581 POS Accu:  91.218955406 Loss:  2.09709804058\n",
      "Epoch: 16 Step: 4032 loss: 1.72691209259\n",
      "Epoch: 17 Step: 4074 loss: 1.73864685638\n",
      "Epoch: 18 Step: 4116 loss: 1.77106302977\n",
      "Epoch: 19 Step: 4158 loss: 1.73417110386\n",
      "Epoch: 20 Step: 4200 loss: 1.71461246695\n",
      "Model Saved\n",
      "Train: F1 :  89.2675260777 Accu:  90.587797619 POS F1 :  82.3722829479 POS Accu:  91.461129448 Loss:  1.70391916093\n",
      "Val: F1 :  77.3388800482 Accu:  80.15625 POS F1 :  82.0631110928 POS Accu:  91.1914039438 Loss:  2.07066221237\n"
     ]
    }
   ],
   "source": [
    "num_epochs = 30\n",
    "pre_train_period = 0\n",
    "log_period = 5\n",
    "\n",
    "for i in range(num_epochs):\n",
    "    random = np.random.choice(len(y_train), size=(len(y_train)), replace=False)\n",
    "    x_id_train = x_id_train[random]\n",
    "    y_train = y_train[random]\n",
    "    mask_train = mask_train[random]    \n",
    "    pos_id_train = pos_id_train[random]\n",
    "    \n",
    "    if(i<pre_train_period):\n",
    "        losses, step = model(x_id_train, y_train, mask_train, pos_id_train, pretrain=True)\n",
    "    else:\n",
    "        losses, step = model(x_id_train, y_train, mask_train, pos_id_train)\n",
    "    print(\"Epoch:\", i+1,\"Step:\", step, \"loss:\",losses)\n",
    "    \n",
    "    if((i+1)%log_period==0):\n",
    "        saver.save(sess, save_path=save_dir)                         \n",
    "        print(\"Model Saved\")\n",
    "        train_loss, train_pred, train_pred_pos, train_true_pos = model(x_id_train, y_train, mask_train, pos_id_train, train_cond=False)        \n",
    "        f1_, accu_, f1_pos_, accu_pos_ = eval_score(y_train, train_pred, train_pred_pos, train_true_pos)\n",
    "        print(\"Train: F1 : \",  f1_, \"Accu: \", accu_, \"POS F1 : \",  f1_pos_, \"POS Accu: \", accu_pos_, \"Loss: \", train_loss)\n",
    "        \n",
    "        val_loss, val_pred, val_pred_pos, val_true_pos = model(x_id_val, y_val, mask_val, pos_id_val, train_cond=False)        \n",
    "        f1_, accu_, f1_pos_, accu_pos_ = eval_score(y_val, val_pred, val_pred_pos, val_true_pos)\n",
    "        print(\"Val: F1 : \",  f1_, \"Accu: \", accu_, \"POS F1 : \",  f1_pos_, \"POS Accu: \", accu_pos_, \"Loss: \", val_loss)\n",
    "        \n",
    "# test_loss, test_pred, test_pred_pos, test_true_pos = model(x_id_test, y_test, mask_test, pos_id_test, train_cond=False)        \n",
    "# f1_, accu_, f1_pos_, accu_pos_ = etest_score(y_test, test_pred, test_pred_pos, test_true_pos)\n",
    "# print(\"test: F1 Score: \",  f1_, \"Accuracy: \", accu_, \"POS F1 Score: \",  f1_pos_, \"POS Accuracy: \", accu_pos_, \"Loss: \", test_loss)"
   ]
  },
  {
   "cell_type": "code",
   "execution_count": null,
   "metadata": {
    "collapsed": true
   },
   "outputs": [],
   "source": []
  },
  {
   "cell_type": "code",
   "execution_count": null,
   "metadata": {
    "collapsed": true
   },
   "outputs": [],
   "source": [
    "saver.restore(sess, save_dir)"
   ]
  }
 ],
 "metadata": {
  "kernelspec": {
   "display_name": "cs771",
   "language": "python",
   "name": "cs771"
  },
  "language_info": {
   "codemirror_mode": {
    "name": "ipython",
    "version": 3
   },
   "file_extension": ".py",
   "mimetype": "text/x-python",
   "name": "python",
   "nbconvert_exporter": "python",
   "pygments_lexer": "ipython3",
   "version": "3.5.2"
  }
 },
 "nbformat": 4,
 "nbformat_minor": 2
}
