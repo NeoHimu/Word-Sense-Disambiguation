{
 "cells": [
  {
   "cell_type": "code",
   "execution_count": 1,
   "metadata": {
    "collapsed": true
   },
   "outputs": [],
   "source": [
    "import tensorflow as tf\n",
    "tf.logging.set_verbosity(tf.logging.WARN)\n",
    "import pickle\n",
    "import numpy as np\n",
    "import os\n",
    "from sklearn.model_selection import train_test_split\n",
    "from sklearn.metrics import f1_score\n",
    "from sklearn.metrics import accuracy_score\n",
    "import os\n",
    "from tensorflow.python.client import device_lib\n",
    "from collections import Counter\n",
    "import time"
   ]
  },
  {
   "cell_type": "code",
   "execution_count": 2,
   "metadata": {
    "collapsed": true
   },
   "outputs": [],
   "source": [
    "f = open('../../Glove/word_embedding_glove', 'rb')\n",
    "word_embedding = pickle.load(f)\n",
    "f.close()\n",
    "word_embedding = word_embedding[: len(word_embedding)-1]\n",
    "\n",
    "f = open('../../Glove/vocab_glove', 'rb')\n",
    "vocab = pickle.load(f)\n",
    "f.close()\n",
    "\n",
    "word2id = dict((w, i) for i,w in enumerate(vocab))\n",
    "id2word = dict((i, w) for i,w in enumerate(vocab))\n",
    "\n",
    "unknown_token = \"UNKNOWN_TOKEN\""
   ]
  },
  {
   "cell_type": "code",
   "execution_count": 3,
   "metadata": {
    "collapsed": true
   },
   "outputs": [],
   "source": [
    "f = open(\"../../../dataset/sense/dict_sense-keys\", 'rb')\n",
    "dict_sense_keys = pickle.load(f)\n",
    "f.close()\n",
    "\n",
    "f = open(\"../../../dataset/sense/dict_word-sense\", 'rb')\n",
    "dict_word_sense = pickle.load(f)\n",
    "f.close()"
   ]
  },
  {
   "cell_type": "code",
   "execution_count": 4,
   "metadata": {
    "collapsed": true
   },
   "outputs": [],
   "source": [
    "# Model Description\n",
    "sense_word = 'force'\n",
    "model_name = 'temp'\n",
    "sense_word_dir = '../output/' + sense_word\n",
    "model_dir = sense_word_dir + '/' + model_name\n",
    "save_dir = os.path.join(model_dir, \"save/\")\n",
    "log_dir = os.path.join(model_dir, \"log\")\n",
    "\n",
    "if not os.path.exists(sense_word_dir):\n",
    "    os.mkdir(sense_word_dir)\n",
    "if not os.path.exists(model_dir):\n",
    "    os.mkdir(model_dir)\n",
    "if not os.path.exists(save_dir):\n",
    "    os.mkdir(save_dir)\n",
    "if not os.path.exists(log_dir):\n",
    "    os.mkdir(log_dir)"
   ]
  },
  {
   "cell_type": "code",
   "execution_count": 5,
   "metadata": {
    "scrolled": false
   },
   "outputs": [
    {
     "data": {
      "text/plain": [
       "[('14', 1150),\n",
       " ('07', 969),\n",
       " ('41', 543),\n",
       " ('04', 495),\n",
       " ('18', 492),\n",
       " ('36', 31),\n",
       " ('19', 20),\n",
       " ('38', 10),\n",
       " ('32', 7),\n",
       " ('35', 6)]"
      ]
     },
     "execution_count": 5,
     "metadata": {},
     "output_type": "execute_result"
    }
   ],
   "source": [
    "f = open(\"../../../dataset/checkwords/\"+ sense_word + \"_data\", 'rb')\n",
    "data = pickle.load(f)\n",
    "f.close()\n",
    "\n",
    "data_y = []\n",
    "for i in range(len(data)):\n",
    "    data_y.append(dict_sense_keys[data[i][0]][2])\n",
    "\n",
    "sense_count = Counter(data_y)\n",
    "sense_count = sense_count.most_common()\n",
    "vocab_sense = [k for k,v in sense_count[:5]]\n",
    "sense_count"
   ]
  },
  {
   "cell_type": "code",
   "execution_count": 6,
   "metadata": {},
   "outputs": [
    {
     "data": {
      "text/plain": [
       "['14', '07', '41', '04', '18']"
      ]
     },
     "execution_count": 6,
     "metadata": {},
     "output_type": "execute_result"
    }
   ],
   "source": [
    "vocab_sense"
   ]
  },
  {
   "cell_type": "code",
   "execution_count": 7,
   "metadata": {},
   "outputs": [
    {
     "name": "stdout",
     "output_type": "stream",
     "text": [
      "3649 3723\n"
     ]
    }
   ],
   "source": [
    "data_x = []\n",
    "data_label = []\n",
    "for i in range(len(data)):\n",
    "    if dict_sense_keys[data[i][0]][2] in vocab_sense:\n",
    "        data_x.append(data[i][1])\n",
    "        data_label.append(dict_sense_keys[data[i][0]][2])\n",
    "\n",
    "print(len(data_label), len(data_y))\n",
    "\n",
    "# vocab_sense = dict_word_sense[sense_word]\n",
    "\n",
    "sense2id = dict((s, i) for i,s in enumerate(vocab_sense))\n",
    "id2sense = dict((i, s) for i,s in enumerate(vocab))"
   ]
  },
  {
   "cell_type": "code",
   "execution_count": 8,
   "metadata": {
    "collapsed": true
   },
   "outputs": [],
   "source": [
    "# Parameters\n",
    "mode = 'train'\n",
    "num_senses = len(vocab_sense)\n",
    "batch_size = 64\n",
    "vocab_size = len(vocab)\n",
    "unk_vocab_size = 1\n",
    "word_emb_size = len(word_embedding[0])\n",
    "max_sent_size = 200\n",
    "hidden_size = 100\n",
    "keep_prob = 0.5\n",
    "l2_lambda = 0.001\n",
    "init_lr = 0.005\n",
    "decay_steps = 500\n",
    "decay_rate = 0.96\n",
    "clip_norm = 1\n",
    "clipping = True"
   ]
  },
  {
   "cell_type": "code",
   "execution_count": 9,
   "metadata": {
    "collapsed": true,
    "scrolled": true
   },
   "outputs": [],
   "source": [
    "# MODEL\n",
    "x = tf.placeholder('int32', [batch_size, max_sent_size], name=\"x\")\n",
    "y = tf.placeholder('int32', [batch_size], name=\"y\")\n",
    "x_mask  = tf.placeholder('bool', [batch_size, max_sent_size], name='x_mask') \n",
    "is_train = tf.placeholder('bool', [], name='is_train')\n",
    "word_emb_mat = tf.placeholder('float', [None, word_emb_size], name='emb_mat')\n",
    "input_keep_prob = tf.cond(is_train,lambda:keep_prob, lambda:tf.constant(1.0))\n",
    "x_len = tf.reduce_sum(tf.cast(x_mask, 'int32'), 1)\n",
    "\n",
    "with tf.name_scope(\"word_embedding\"):\n",
    "    if mode == 'train':\n",
    "        unk_word_emb_mat = tf.get_variable(\"word_emb_mat\", dtype='float', shape=[unk_vocab_size, word_emb_size], initializer=tf.contrib.layers.xavier_initializer(uniform=True, seed=0, dtype=tf.float32))\n",
    "    else:\n",
    "        unk_word_emb_mat = tf.get_variable(\"word_emb_mat\", shape=[unk_vocab_size, word_emb_size], dtype='float')\n",
    "        \n",
    "    final_word_emb_mat = tf.concat([word_emb_mat, unk_word_emb_mat], 0)\n",
    "    Wx = tf.nn.embedding_lookup(final_word_emb_mat, x)  \n",
    "\n",
    "with tf.variable_scope(\"lstm1\"):\n",
    "    cell_fw1 = tf.contrib.rnn.BasicLSTMCell(hidden_size,state_is_tuple=True)\n",
    "    cell_bw1 = tf.contrib.rnn.BasicLSTMCell(hidden_size,state_is_tuple=True)\n",
    "\n",
    "    d_cell_fw1 = tf.contrib.rnn.DropoutWrapper(cell_fw1, input_keep_prob=input_keep_prob)\n",
    "    d_cell_bw1 = tf.contrib.rnn.DropoutWrapper(cell_bw1, input_keep_prob=input_keep_prob)\n",
    "    \n",
    "    (fw_h1, bw_h1), _ = tf.nn.bidirectional_dynamic_rnn(d_cell_fw1, d_cell_bw1, Wx, sequence_length=x_len, dtype='float', scope='lstm1')\n",
    "    h1 = tf.concat([fw_h1, bw_h1], 2)\n",
    "    \n",
    "with tf.variable_scope(\"lstm2\"):\n",
    "    cell_fw2 = tf.contrib.rnn.BasicLSTMCell(hidden_size,state_is_tuple=True)\n",
    "    cell_bw2 = tf.contrib.rnn.BasicLSTMCell(hidden_size,state_is_tuple=True)\n",
    "\n",
    "    d_cell_fw2 = tf.contrib.rnn.DropoutWrapper(cell_fw2, input_keep_prob=input_keep_prob)\n",
    "    d_cell_bw2 = tf.contrib.rnn.DropoutWrapper(cell_bw2, input_keep_prob=input_keep_prob)\n",
    "    \n",
    "    (fw_h2, bw_h2), _ = tf.nn.bidirectional_dynamic_rnn(d_cell_fw2, d_cell_bw2, h1, sequence_length=x_len, dtype='float', scope='lstm2')\n",
    "    h = tf.concat([fw_h2, bw_h2], 2)\n",
    "\n",
    "def attention(input_x, input_mask, W_att):\n",
    "    h_masked = tf.boolean_mask(input_x, input_mask)\n",
    "    h_tanh = tf.tanh(h_masked)\n",
    "    u = tf.matmul(h_tanh, W_att)\n",
    "    a = tf.nn.softmax(u)\n",
    "    c = tf.reduce_sum(tf.multiply(h_tanh, a), 0)  \n",
    "    return c\n",
    "\n",
    "with tf.variable_scope(\"attention\"):\n",
    "    W_att = tf.Variable(tf.truncated_normal([2*hidden_size, 1], mean=0.0, stddev=0.1, seed=0), name=\"W_att\")\n",
    "    c = tf.expand_dims(attention(h[0], x_mask[0], W_att), 0)\n",
    "    for i in range(1, batch_size):\n",
    "        c = tf.concat([c, tf.expand_dims(attention(h[i], x_mask[i], W_att), 0)], 0)\n",
    "        \n",
    "with tf.variable_scope(\"softmax_layer\"):\n",
    "    W = tf.Variable(tf.truncated_normal([2*hidden_size, num_senses], mean=0.0, stddev=0.1, seed=0), name=\"W\")\n",
    "    b = tf.Variable(tf.zeros([num_senses]), name=\"b\")\n",
    "    drop_c = tf.nn.dropout(c, input_keep_prob)\n",
    "    logits = tf.matmul(drop_c, W) + b\n",
    "    predictions = tf.argmax(logits, 1)\n",
    "    \n",
    "loss = tf.reduce_mean(tf.nn.sparse_softmax_cross_entropy_with_logits(logits=logits, labels=y))\n",
    "\n",
    "global_step = tf.Variable(0, trainable=False, name=\"global_step\")\n",
    "\n",
    "learning_rate = tf.train.exponential_decay(init_lr, global_step, decay_steps, decay_rate, staircase=True)\n",
    "\n",
    "tv_all = tf.trainable_variables()\n",
    "tv_regu =[]\n",
    "for t in tv_all:\n",
    "    if t.name.find('b:')==-1:\n",
    "        tv_regu.append(t)\n",
    "        \n",
    "# l2 Loss\n",
    "l2_loss = l2_lambda * tf.reduce_sum([ tf.nn.l2_loss(v) for v in tv_regu ])\n",
    "\n",
    "total_loss = loss + l2_loss\n",
    "\n",
    "# Optimizer for loss\n",
    "optimizer = tf.train.AdamOptimizer(learning_rate)\n",
    "\n",
    "# Gradients and Variables for Loss\n",
    "grads_vars = optimizer.compute_gradients(total_loss)\n",
    "\n",
    "# Clipping of Gradients\n",
    "clipped_grads = grads_vars\n",
    "if(clipping == True):\n",
    "    clipped_grads = [(tf.clip_by_norm(grad, clip_norm), var) for grad, var in clipped_grads]\n",
    "\n",
    "# Training Optimizer for Total Loss\n",
    "train_op = optimizer.apply_gradients(clipped_grads, global_step=global_step)\n",
    "\n",
    "# Summaries\n",
    "var_summaries = []\n",
    "for v in tv_all:\n",
    "    var_summary = tf.summary.histogram(\"{}/var\".format(v.name), v)\n",
    "    var_summaries.append(var_summary)\n",
    "\n",
    "var_summaries_merged = tf.summary.merge(var_summaries)\n",
    "\n",
    "loss_summary = tf.summary.scalar(\"loss\", loss)\n",
    "total_loss_summary = tf.summary.scalar(\"total_loss\", total_loss)\n",
    "summary = tf.summary.merge_all()"
   ]
  },
  {
   "cell_type": "code",
   "execution_count": 10,
   "metadata": {
    "collapsed": true
   },
   "outputs": [],
   "source": [
    "os.environ[\"CUDA_DEVICE_ORDER\"]=\"PCI_BUS_ID\"   # see issue #152\n",
    "os.environ[\"CUDA_VISIBLE_DEVICES\"]=\"2\"\n",
    "config = tf.ConfigProto()\n",
    "config.gpu_options.allow_growth = True\n",
    "sess = tf.Session(config=config)\n",
    "sess.run(tf.global_variables_initializer())                          # For initializing all the variables\n",
    "saver = tf.train.Saver()                                             # For Saving the model\n",
    "summary_writer = tf.summary.FileWriter(log_dir, sess.graph)          # For writing Summaries"
   ]
  },
  {
   "cell_type": "code",
   "execution_count": 11,
   "metadata": {
    "collapsed": true
   },
   "outputs": [],
   "source": [
    "index = []\n",
    "for i in range(len(data_x)):\n",
    "    index.append(i)"
   ]
  },
  {
   "cell_type": "code",
   "execution_count": 12,
   "metadata": {
    "scrolled": true
   },
   "outputs": [
    {
     "name": "stderr",
     "output_type": "stream",
     "text": [
      "/users/btech/aviraj/cs771/lib/python3.5/site-packages/sklearn/model_selection/_split.py:2026: FutureWarning: From version 0.21, test_size will always complement train_size unless both are specified.\n",
      "  FutureWarning)\n"
     ]
    }
   ],
   "source": [
    "index_train, index_val, label_train, label_val = train_test_split(index, data_label, train_size=0.8, shuffle=True, stratify=data_label, random_state=0)\n",
    "\n",
    "data_x = np.array(data_x)\n",
    "\n",
    "x_train = data_x[index_train]\n",
    "x_val = data_x[index_val]"
   ]
  },
  {
   "cell_type": "code",
   "execution_count": 13,
   "metadata": {
    "collapsed": true
   },
   "outputs": [],
   "source": [
    "def data_prepare(x, y):\n",
    "    num_examples = len(x)\n",
    "\n",
    "    xx = np.zeros([num_examples, max_sent_size], dtype=int)\n",
    "    xx_mask = np.zeros([num_examples, max_sent_size], dtype=bool)\n",
    "    yy = np.zeros([num_examples], dtype=int)\n",
    "\n",
    "    for j in range(num_examples):\n",
    "        for i in range(max_sent_size):\n",
    "            if(i>=len(x[j])):\n",
    "                break\n",
    "            w = x[j][i]\n",
    "            xx[j][i] = word2id[w] if w in word2id else word2id['UNKNOWN_TOKEN']\n",
    "            xx_mask[j][i] = True\n",
    "        yy[j] = sense2id[y[j]]\n",
    "    return xx, xx_mask, yy\n",
    "\n",
    "def eval_score(yy, pred):\n",
    "    num_batches = int(len(yy)/batch_size)\n",
    "    f1 = f1_score(yy[:batch_size*num_batches], pred, average='macro')\n",
    "    accu = accuracy_score(yy[:batch_size*num_batches], pred)\n",
    "    return f1*100, accu*100\n",
    "\n",
    "def model(xx, yy, mask, train_cond=True):\n",
    "    num_batches = int(len(xx)/batch_size)\n",
    "    losses = 0\n",
    "    preds = []\n",
    "    for j in range(num_batches): \n",
    "        \n",
    "        s = j * batch_size\n",
    "        e = (j+1) * batch_size\n",
    "        \n",
    "        feed_dict = {x:xx[s:e], y:yy[s:e], x_mask:mask[s:e], is_train:train_cond, input_keep_prob:keep_prob, word_emb_mat:word_embedding}\n",
    "        \n",
    "        \n",
    "        if(train_cond==True):\n",
    "            _, _loss, step, _summary = sess.run([train_op, total_loss, global_step, summary], feed_dict)\n",
    "            summary_writer.add_summary(_summary, step)  \n",
    "#             print(\"Steps:{}\".format(step), \", Loss: {}\".format(_loss))\n",
    "\n",
    "        else:\n",
    "            _loss, pred = sess.run([total_loss, predictions], feed_dict)\n",
    "            preds.append(pred)\n",
    "            \n",
    "        losses +=_loss\n",
    "\n",
    "    if(train_cond==False):\n",
    "        y_pred = []\n",
    "        for i in range(num_batches):\n",
    "            for pred in preds[i]:\n",
    "                y_pred.append(pred)\n",
    "        return losses/num_batches, y_pred\n",
    "    \n",
    "    return losses/num_batches, step"
   ]
  },
  {
   "cell_type": "code",
   "execution_count": 14,
   "metadata": {
    "collapsed": true
   },
   "outputs": [],
   "source": [
    "x_id_train, mask_train, y_train = data_prepare(x_train, label_train)\n",
    "x_id_val, mask_val, y_val = data_prepare(x_val, label_val)"
   ]
  },
  {
   "cell_type": "code",
   "execution_count": 15,
   "metadata": {
    "scrolled": true
   },
   "outputs": [
    {
     "name": "stdout",
     "output_type": "stream",
     "text": [
      "Epoch: 1 Step: 45 loss:4.9222 , Time: 219.5667\n",
      "Epoch: 2 Step: 90 loss:1.4568 , Time: 218.1414\n",
      "Epoch: 3 Step: 135 loss:1.1154 , Time: 217.0310\n",
      "Epoch: 4 Step: 180 loss:0.9779 , Time: 215.2223\n",
      "Epoch: 5 Step: 225 loss:0.9080 , Time: 214.8584\n",
      "Model Saved\n",
      "Train: F1 Score:84.2316 Accuracy:85.0000 Loss:0.8102 , Time: 196.4321\n",
      "Val: F1 Score:82.3309 Accuracy:83.3807 Loss:0.8961 , Time: 47.2460\n",
      "Epoch: 6 Step: 270 loss:0.8042 , Time: 216.8647\n",
      "Epoch: 7 Step: 315 loss:0.7698 , Time: 215.9281\n",
      "Epoch: 8 Step: 360 loss:0.7467 , Time: 213.7460\n",
      "Epoch: 9 Step: 405 loss:0.7082 , Time: 214.8428\n",
      "Epoch: 10 Step: 450 loss:0.6283 , Time: 216.5117\n",
      "Model Saved\n",
      "Train: F1 Score:88.2207 Accuracy:89.0278 Loss:0.6401 , Time: 199.1791\n",
      "Val: F1 Score:86.9734 Accuracy:87.7841 Loss:0.7263 , Time: 48.3867\n"
     ]
    }
   ],
   "source": [
    "num_epochs = 10\n",
    "log_period = 5\n",
    "\n",
    "for i in range(num_epochs):\n",
    "    random = np.random.choice(len(y_train), size=(len(y_train)), replace=False)\n",
    "    x_id_train = x_id_train[random]\n",
    "    y_train = y_train[random]\n",
    "    mask_train = mask_train[random]    \n",
    "    \n",
    "    start_time = time.time()\n",
    "    train_loss, step = model(x_id_train, y_train, mask_train)\n",
    "    time_taken = time.time() - start_time\n",
    "    print(\"Epoch:\", i+1,\"Step:\", step, \"loss:{0:.4f}\".format(train_loss), \", Time: {0:.4f}\".format(time_taken))\n",
    "    \n",
    "    if((i+1)%log_period==0):\n",
    "        saver.save(sess, save_path=save_dir)                         \n",
    "        print(\"Model Saved\")\n",
    "        start_time = time.time()\n",
    "        train_loss, train_pred = model(x_id_train, y_train, mask_train, train_cond=False)\n",
    "        f1_, accu_ = eval_score(y_train, train_pred)\n",
    "        time_taken = time.time() - start_time\n",
    "        print(\"Train: F1 Score:{0:.4f}\".format(f1_), \"Accuracy:{0:.4f}\".format(accu_), \"Loss:{0:.4f}\".format(train_loss), \", Time: {0:.4f}\".format(time_taken))\n",
    "        \n",
    "        start_time = time.time()\n",
    "        val_loss, val_pred = model(x_id_val, y_val, mask_val, train_cond=False)\n",
    "        f1_, accu_ = eval_score(y_val, val_pred)\n",
    "        time_taken = time.time() - start_time\n",
    "        print(\"Val: F1 Score:{0:.4f}\".format(f1_), \"Accuracy:{0:.4f}\".format(accu_), \"Loss:{0:.4f}\".format(val_loss), \", Time: {0:.4f}\".format(time_taken))\n",
    "        "
   ]
  },
  {
   "cell_type": "code",
   "execution_count": 16,
   "metadata": {},
   "outputs": [
    {
     "name": "stdout",
     "output_type": "stream",
     "text": [
      "Epoch: 1 Step: 495 loss:0.6656 , Time: 216.7060\n",
      "Epoch: 2 Step: 540 loss:0.6320 , Time: 216.8280\n",
      "Epoch: 3 Step: 585 loss:0.5957 , Time: 217.3081\n",
      "Epoch: 4 Step: 630 loss:0.5857 , Time: 217.7193\n",
      "Epoch: 5 Step: 675 loss:0.6037 , Time: 218.7537\n",
      "Model Saved\n",
      "Train: F1 Score:89.5606 Accuracy:89.9306 Loss:0.6210 , Time: 197.9693\n",
      "Val: F1 Score:83.8840 Accuracy:84.3750 Loss:0.7836 , Time: 48.3011\n",
      "Epoch: 6 Step: 720 loss:0.5878 , Time: 217.4852\n",
      "Epoch: 7 Step: 765 loss:0.5936 , Time: 217.1189\n",
      "Epoch: 8 Step: 810 loss:0.5929 , Time: 217.2267\n",
      "Epoch: 9 Step: 855 loss:0.5589 , Time: 215.3176\n",
      "Epoch: 10 Step: 900 loss:0.5804 , Time: 216.8787\n",
      "Model Saved\n",
      "Train: F1 Score:90.5961 Accuracy:91.2500 Loss:0.5540 , Time: 196.2416\n",
      "Val: F1 Score:86.4609 Accuracy:87.5000 Loss:0.7055 , Time: 48.9390\n",
      "Epoch: 11 Step: 945 loss:0.5563 , Time: 216.6914\n",
      "Epoch: 12 Step: 990 loss:0.5417 , Time: 216.0490\n",
      "Epoch: 13 Step: 1035 loss:0.5631 , Time: 217.1771\n",
      "Epoch: 14 Step: 1080 loss:0.5408 , Time: 216.3111\n",
      "Epoch: 15 Step: 1125 loss:0.5191 , Time: 216.5044\n",
      "Model Saved\n",
      "Train: F1 Score:91.4446 Accuracy:92.0139 Loss:0.5402 , Time: 197.0455\n",
      "Val: F1 Score:86.8581 Accuracy:87.9261 Loss:0.6999 , Time: 48.5157\n",
      "Epoch: 16 Step: 1170 loss:0.5456 , Time: 214.5328\n",
      "Epoch: 17 Step: 1215 loss:0.5347 , Time: 215.1513\n",
      "Epoch: 18 Step: 1260 loss:0.5519 , Time: 214.1789\n",
      "Epoch: 19 Step: 1305 loss:0.5095 , Time: 216.1306\n",
      "Epoch: 20 Step: 1350 loss:0.5639 , Time: 215.9314\n",
      "Model Saved\n",
      "Train: F1 Score:90.2373 Accuracy:91.2847 Loss:0.5346 , Time: 195.5205\n",
      "Val: F1 Score:85.6450 Accuracy:87.5000 Loss:0.6712 , Time: 48.2212\n",
      "Epoch: 21 Step: 1395 loss:0.5201 , Time: 216.1269\n",
      "Epoch: 22 Step: 1440 loss:0.5145 , Time: 216.3534\n",
      "Epoch: 23 Step: 1485 loss:0.5072 , Time: 214.0190\n",
      "Epoch: 24 Step: 1530 loss:0.5023 , Time: 214.5382\n",
      "Epoch: 25 Step: 1575 loss:0.4968 , Time: 217.0713\n",
      "Model Saved\n",
      "Train: F1 Score:91.9169 Accuracy:92.2917 Loss:0.5129 , Time: 197.9230\n",
      "Val: F1 Score:87.6534 Accuracy:88.7784 Loss:0.6941 , Time: 47.3947\n",
      "Epoch: 26 Step: 1620 loss:0.5320 , Time: 214.6377\n",
      "Epoch: 27 Step: 1665 loss:0.5130 , Time: 216.6842\n",
      "Epoch: 28 Step: 1710 loss:0.4962 , Time: 214.7016\n",
      "Epoch: 29 Step: 1755 loss:0.4894 , Time: 215.0207\n",
      "Epoch: 30 Step: 1800 loss:0.5248 , Time: 214.5832\n",
      "Model Saved\n",
      "Train: F1 Score:91.2651 Accuracy:91.9097 Loss:0.5014 , Time: 196.3514\n",
      "Val: F1 Score:87.7663 Accuracy:88.6364 Loss:0.6058 , Time: 47.2683\n",
      "Epoch: 31 Step: 1845 loss:0.5231 , Time: 212.5329\n",
      "Epoch: 32 Step: 1890 loss:0.4988 , Time: 212.9351\n",
      "Epoch: 33 Step: 1935 loss:0.5081 , Time: 213.0437\n",
      "Epoch: 34 Step: 1980 loss:0.5177 , Time: 213.9061\n",
      "Epoch: 35 Step: 2025 loss:0.4884 , Time: 213.8342\n",
      "Model Saved\n",
      "Train: F1 Score:92.3622 Accuracy:92.8819 Loss:0.4735 , Time: 193.7775\n",
      "Val: F1 Score:88.0863 Accuracy:89.3466 Loss:0.7405 , Time: 47.3794\n",
      "Epoch: 36 Step: 2070 loss:0.5110 , Time: 214.2576\n",
      "Epoch: 37 Step: 2115 loss:0.5066 , Time: 212.1566\n",
      "Epoch: 38 Step: 2160 loss:0.4978 , Time: 212.7080\n",
      "Epoch: 39 Step: 2205 loss:0.5070 , Time: 211.8771\n",
      "Epoch: 40 Step: 2250 loss:0.4799 , Time: 211.5845\n",
      "Model Saved\n",
      "Train: F1 Score:93.3920 Accuracy:93.6111 Loss:0.4580 , Time: 193.5933\n",
      "Val: F1 Score:88.6087 Accuracy:89.4886 Loss:0.6770 , Time: 47.0692\n",
      "Epoch: 41 Step: 2295 loss:0.4851 , Time: 212.5485\n",
      "Epoch: 42 Step: 2340 loss:0.4961 , Time: 212.5320\n",
      "Epoch: 43 Step: 2385 loss:0.4914 , Time: 211.9260\n",
      "Epoch: 44 Step: 2430 loss:0.5164 , Time: 211.5269\n",
      "Epoch: 45 Step: 2475 loss:0.4877 , Time: 212.7872\n",
      "Model Saved\n",
      "Train: F1 Score:92.6643 Accuracy:93.0208 Loss:0.4674 , Time: 193.0621\n",
      "Val: F1 Score:87.3724 Accuracy:88.2102 Loss:0.6248 , Time: 47.2775\n",
      "Epoch: 46 Step: 2520 loss:0.5048 , Time: 211.1208\n",
      "Epoch: 47 Step: 2565 loss:0.4646 , Time: 213.1862\n",
      "Epoch: 48 Step: 2610 loss:0.4688 , Time: 213.3498\n",
      "Epoch: 49 Step: 2655 loss:0.4798 , Time: 211.7012\n",
      "Epoch: 50 Step: 2700 loss:0.4810 , Time: 212.3263\n",
      "Model Saved\n",
      "Train: F1 Score:94.4268 Accuracy:94.7569 Loss:0.4435 , Time: 194.0851\n",
      "Val: F1 Score:88.7350 Accuracy:89.7727 Loss:0.6384 , Time: 47.5848\n"
     ]
    }
   ],
   "source": [
    "num_epochs = 50\n",
    "log_period = 5\n",
    "\n",
    "for i in range(num_epochs):\n",
    "    random = np.random.choice(len(y_train), size=(len(y_train)), replace=False)\n",
    "    x_id_train = x_id_train[random]\n",
    "    y_train = y_train[random]\n",
    "    mask_train = mask_train[random]    \n",
    "    \n",
    "    start_time = time.time()\n",
    "    train_loss, step = model(x_id_train, y_train, mask_train)\n",
    "    time_taken = time.time() - start_time\n",
    "    print(\"Epoch:\", i+1,\"Step:\", step, \"loss:{0:.4f}\".format(train_loss), \", Time: {0:.4f}\".format(time_taken))\n",
    "    \n",
    "    if((i+1)%log_period==0):\n",
    "        saver.save(sess, save_path=save_dir)                         \n",
    "        print(\"Model Saved\")\n",
    "        start_time = time.time()\n",
    "        train_loss, train_pred = model(x_id_train, y_train, mask_train, train_cond=False)\n",
    "        f1_, accu_ = eval_score(y_train, train_pred)\n",
    "        time_taken = time.time() - start_time\n",
    "        print(\"Train: F1 Score:{0:.4f}\".format(f1_), \"Accuracy:{0:.4f}\".format(accu_), \"Loss:{0:.4f}\".format(train_loss), \", Time: {0:.4f}\".format(time_taken))\n",
    "        \n",
    "        start_time = time.time()\n",
    "        val_loss, val_pred = model(x_id_val, y_val, mask_val, train_cond=False)\n",
    "        f1_, accu_ = eval_score(y_val, val_pred)\n",
    "        time_taken = time.time() - start_time\n",
    "        print(\"Val: F1 Score:{0:.4f}\".format(f1_), \"Accuracy:{0:.4f}\".format(accu_), \"Loss:{0:.4f}\".format(val_loss), \", Time: {0:.4f}\".format(time_taken))\n",
    "        "
   ]
  },
  {
   "cell_type": "code",
   "execution_count": null,
   "metadata": {
    "collapsed": true
   },
   "outputs": [],
   "source": []
  },
  {
   "cell_type": "code",
   "execution_count": null,
   "metadata": {
    "collapsed": true
   },
   "outputs": [],
   "source": [
    "saver.restore(sess, save_dir)"
   ]
  }
 ],
 "metadata": {
  "kernelspec": {
   "display_name": "cs771",
   "language": "python",
   "name": "cs771"
  },
  "language_info": {
   "codemirror_mode": {
    "name": "ipython",
    "version": 3
   },
   "file_extension": ".py",
   "mimetype": "text/x-python",
   "name": "python",
   "nbconvert_exporter": "python",
   "pygments_lexer": "ipython3",
   "version": "3.5.2"
  }
 },
 "nbformat": 4,
 "nbformat_minor": 2
}
