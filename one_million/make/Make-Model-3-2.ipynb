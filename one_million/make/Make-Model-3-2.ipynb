{
 "cells": [
  {
   "cell_type": "code",
   "execution_count": 1,
   "metadata": {
    "collapsed": true
   },
   "outputs": [],
   "source": [
    "import tensorflow as tf\n",
    "tf.logging.set_verbosity(tf.logging.WARN)\n",
    "import pickle\n",
    "import numpy as np\n",
    "import os\n",
    "from sklearn.model_selection import train_test_split\n",
    "from sklearn.metrics import f1_score\n",
    "from sklearn.metrics import accuracy_score\n",
    "import os\n",
    "from tensorflow.python.client import device_lib\n",
    "from collections import Counter"
   ]
  },
  {
   "cell_type": "code",
   "execution_count": 2,
   "metadata": {
    "collapsed": true
   },
   "outputs": [],
   "source": [
    "f = open('../../Glove/word_embedding_glove', 'rb')\n",
    "word_embedding = pickle.load(f)\n",
    "f.close()\n",
    "word_embedding = word_embedding[: len(word_embedding)-1]\n",
    "\n",
    "f = open('../../Glove/vocab_glove', 'rb')\n",
    "vocab = pickle.load(f)\n",
    "f.close()\n",
    "\n",
    "word2id = dict((w, i) for i,w in enumerate(vocab))\n",
    "id2word = dict((i, w) for i,w in enumerate(vocab))\n",
    "\n",
    "unknown_token = \"UNKNOWN_TOKEN\""
   ]
  },
  {
   "cell_type": "code",
   "execution_count": 3,
   "metadata": {
    "collapsed": true
   },
   "outputs": [],
   "source": [
    "f = open(\"../../../dataset/sense/dict_sense-keys\", 'rb')\n",
    "dict_sense_keys = pickle.load(f)\n",
    "f.close()\n",
    "\n",
    "f = open(\"../../../dataset/sense/dict_word-sense\", 'rb')\n",
    "dict_word_sense = pickle.load(f)\n",
    "f.close()"
   ]
  },
  {
   "cell_type": "code",
   "execution_count": 7,
   "metadata": {
    "collapsed": true
   },
   "outputs": [],
   "source": [
    "# Model Description\n",
    "sense_word = 'make'\n",
    "model_name = 'model-3-2'\n",
    "sense_word_dir = '../output/' + sense_word\n",
    "model_dir = sense_word_dir + '/' + model_name\n",
    "save_dir = os.path.join(model_dir, \"save/\")\n",
    "log_dir = os.path.join(model_dir, \"log\")\n",
    "\n",
    "if not os.path.exists(sense_word_dir):\n",
    "    os.mkdir(sense_word_dir)\n",
    "if not os.path.exists(model_dir):\n",
    "    os.mkdir(model_dir)\n",
    "if not os.path.exists(save_dir):\n",
    "    os.mkdir(save_dir)\n",
    "if not os.path.exists(log_dir):\n",
    "    os.mkdir(log_dir)"
   ]
  },
  {
   "cell_type": "code",
   "execution_count": 8,
   "metadata": {
    "scrolled": false
   },
   "outputs": [
    {
     "data": {
      "text/plain": [
       "[('36', 2006),\n",
       " ('30', 1025),\n",
       " ('42', 968),\n",
       " ('41', 962),\n",
       " ('31', 617),\n",
       " ('32', 543),\n",
       " ('38', 445),\n",
       " ('40', 20),\n",
       " ('29', 6),\n",
       " ('09', 1)]"
      ]
     },
     "execution_count": 8,
     "metadata": {},
     "output_type": "execute_result"
    }
   ],
   "source": [
    "f = open(\"../../../dataset/checkwords/\"+ sense_word + \"_data\", 'rb')\n",
    "data = pickle.load(f)\n",
    "f.close()\n",
    "\n",
    "pos_tags = []\n",
    "for i in range(len(data)):\n",
    "    for p in data[i][2]:\n",
    "        pos_tags.append(p)\n",
    "        \n",
    "pos_count = Counter(pos_tags)\n",
    "pos_count = pos_count.most_common()\n",
    "vocab_pos = [k for k,v in pos_count]\n",
    "\n",
    "data_y = []\n",
    "for i in range(len(data)):\n",
    "    data_y.append(dict_sense_keys[data[i][0]][2])\n",
    "\n",
    "sense_count = Counter(data_y)\n",
    "sense_count = sense_count.most_common()\n",
    "vocab_sense = [k for k,v in sense_count[:7]]\n",
    "sense_count"
   ]
  },
  {
   "cell_type": "code",
   "execution_count": 9,
   "metadata": {},
   "outputs": [
    {
     "data": {
      "text/plain": [
       "['36', '30', '42', '41', '31', '32', '38']"
      ]
     },
     "execution_count": 9,
     "metadata": {},
     "output_type": "execute_result"
    }
   ],
   "source": [
    "vocab_sense"
   ]
  },
  {
   "cell_type": "code",
   "execution_count": 10,
   "metadata": {},
   "outputs": [
    {
     "name": "stdout",
     "output_type": "stream",
     "text": [
      "6566 6593\n"
     ]
    }
   ],
   "source": [
    "data_x = []\n",
    "data_label = []\n",
    "data_pos = []\n",
    "for i in range(len(data)):\n",
    "    if dict_sense_keys[data[i][0]][2] in vocab_sense:\n",
    "        data_x.append(data[i][1])\n",
    "        data_pos.append(data[i][2])\n",
    "        data_label.append(dict_sense_keys[data[i][0]][2])\n",
    "\n",
    "print(len(data_label), len(data_y))\n",
    "\n",
    "pos2id = dict((s, i) for i,s in enumerate(vocab_pos))\n",
    "id2pos = dict((i, s) for i,s in enumerate(vocab_pos))\n",
    "\n",
    "# vocab_sense = dict_word_sense[sense_word]\n",
    "\n",
    "sense2id = dict((s, i) for i,s in enumerate(vocab_sense))\n",
    "id2sense = dict((i, s) for i,s in enumerate(vocab_sense))"
   ]
  },
  {
   "cell_type": "code",
   "execution_count": 11,
   "metadata": {
    "collapsed": true
   },
   "outputs": [],
   "source": [
    "# Parameters\n",
    "mode = 'train'\n",
    "num_senses = len(vocab_sense)\n",
    "num_pos = len(vocab_pos)\n",
    "batch_size = 64\n",
    "vocab_size = len(vocab)\n",
    "unk_vocab_size = 1\n",
    "word_emb_size = len(word_embedding[0])\n",
    "max_sent_size = 200\n",
    "hidden_size = 100\n",
    "keep_prob = 0.5\n",
    "l2_lambda = 0.001\n",
    "init_lr = 0.01\n",
    "decay_steps = 500\n",
    "decay_rate = 0.96\n",
    "clip_norm = 1\n",
    "clipping = True\n",
    "crf_lambda = 0.5"
   ]
  },
  {
   "cell_type": "code",
   "execution_count": 12,
   "metadata": {
    "collapsed": true,
    "scrolled": true
   },
   "outputs": [],
   "source": [
    "# MODEL\n",
    "x = tf.placeholder('int32', [batch_size, max_sent_size], name=\"x\")\n",
    "y = tf.placeholder('int32', [batch_size], name=\"y\")\n",
    "y_pos = tf.placeholder('int32', [batch_size, None], name=\"y_pos\")\n",
    "x_mask  = tf.placeholder('bool', [batch_size, max_sent_size], name='x_mask') \n",
    "is_train = tf.placeholder('bool', [], name='is_train')\n",
    "word_emb_mat = tf.placeholder('float', [None, word_emb_size], name='emb_mat')\n",
    "input_keep_prob = tf.cond(is_train,lambda:keep_prob, lambda:tf.constant(1.0))\n",
    "x_len = tf.reduce_sum(tf.cast(x_mask, 'int32'), 1)\n",
    "\n",
    "with tf.name_scope(\"word_embedding\"):\n",
    "    if mode == 'train':\n",
    "        unk_word_emb_mat = tf.get_variable(\"word_emb_mat\", dtype='float', shape=[unk_vocab_size, word_emb_size], initializer=tf.contrib.layers.xavier_initializer(uniform=True, seed=0, dtype=tf.float32))\n",
    "    else:\n",
    "        unk_word_emb_mat = tf.get_variable(\"word_emb_mat\", shape=[unk_vocab_size, word_emb_size], dtype='float')\n",
    "        \n",
    "    final_word_emb_mat = tf.concat([word_emb_mat, unk_word_emb_mat], 0)\n",
    "    Wx = tf.nn.embedding_lookup(final_word_emb_mat, x)  \n",
    "\n",
    "with tf.variable_scope(\"lstm1\"):\n",
    "    cell_fw1 = tf.contrib.rnn.BasicLSTMCell(hidden_size,state_is_tuple=True)\n",
    "    cell_bw1 = tf.contrib.rnn.BasicLSTMCell(hidden_size,state_is_tuple=True)\n",
    "\n",
    "    d_cell_fw1 = tf.contrib.rnn.DropoutWrapper(cell_fw1, input_keep_prob=input_keep_prob)\n",
    "    d_cell_bw1 = tf.contrib.rnn.DropoutWrapper(cell_bw1, input_keep_prob=input_keep_prob)\n",
    "    \n",
    "    (fw_h1, bw_h1), _ = tf.nn.bidirectional_dynamic_rnn(d_cell_fw1, d_cell_bw1, Wx, sequence_length=x_len, dtype='float', scope='lstm1')\n",
    "    h1 = tf.concat([fw_h1, bw_h1], 2)\n",
    "    \n",
    "with tf.variable_scope(\"lstm2\"):\n",
    "    cell_fw2 = tf.contrib.rnn.BasicLSTMCell(hidden_size,state_is_tuple=True)\n",
    "    cell_bw2 = tf.contrib.rnn.BasicLSTMCell(hidden_size,state_is_tuple=True)\n",
    "\n",
    "    d_cell_fw2 = tf.contrib.rnn.DropoutWrapper(cell_fw2, input_keep_prob=input_keep_prob)\n",
    "    d_cell_bw2 = tf.contrib.rnn.DropoutWrapper(cell_bw2, input_keep_prob=input_keep_prob)\n",
    "    \n",
    "    (fw_h2, bw_h2), _ = tf.nn.bidirectional_dynamic_rnn(d_cell_fw2, d_cell_bw2, h1, sequence_length=x_len, dtype='float', scope='lstm2')\n",
    "    h2 = tf.concat([fw_h2, bw_h2], 2)\n",
    "\n",
    "with tf.variable_scope(\"lstm2\"):\n",
    "    cell_fw3 = tf.contrib.rnn.BasicLSTMCell(hidden_size,state_is_tuple=True)\n",
    "    cell_bw3 = tf.contrib.rnn.BasicLSTMCell(hidden_size,state_is_tuple=True)\n",
    "\n",
    "    d_cell_fw3 = tf.contrib.rnn.DropoutWrapper(cell_fw3, input_keep_prob=input_keep_prob)\n",
    "    d_cell_bw3 = tf.contrib.rnn.DropoutWrapper(cell_bw3, input_keep_prob=input_keep_prob)\n",
    "    \n",
    "    (fw_h3, bw_h3), _ = tf.nn.bidirectional_dynamic_rnn(d_cell_fw3, d_cell_bw3, h2, sequence_length=x_len, dtype='float', scope='lstm3')\n",
    "    h = tf.concat([fw_h3, bw_h3], 2)\n",
    "    \n",
    "def attention(input_x, input_mask, W_att):\n",
    "    h_masked = tf.boolean_mask(input_x, input_mask)\n",
    "    h_tanh = tf.tanh(h_masked)\n",
    "    u = tf.matmul(h_tanh, W_att)\n",
    "    a = tf.nn.softmax(u)\n",
    "    c = tf.reduce_sum(tf.multiply(h_tanh, a), 0)  \n",
    "    return c\n",
    "\n",
    "with tf.variable_scope(\"attention\"):\n",
    "    W_att = tf.Variable(tf.truncated_normal([2*hidden_size, 1], mean=0.0, stddev=0.1, seed=0), name=\"W_att\")\n",
    "    c = tf.expand_dims(attention(h[0], x_mask[0], W_att), 0)\n",
    "    for i in range(1, batch_size):\n",
    "        c = tf.concat([c, tf.expand_dims(attention(h[i], x_mask[i], W_att), 0)], 0)\n",
    "        \n",
    "with tf.variable_scope(\"softmax_layer\"):\n",
    "    W = tf.Variable(tf.truncated_normal([2*hidden_size, num_senses], mean=0.0, stddev=0.1, seed=0), name=\"W\")\n",
    "    b = tf.Variable(tf.zeros([num_senses]), name=\"b\")\n",
    "    drop_c = tf.nn.dropout(c, input_keep_prob)\n",
    "    logits = tf.matmul(drop_c, W) + b\n",
    "    predictions = tf.argmax(logits, 1)\n",
    "    \n",
    "flat_h1 = tf.reshape(h1, [-1, 2*hidden_size])\n",
    "\n",
    "with tf.variable_scope(\"crf_layer_pos\"):\n",
    "    W = tf.Variable(tf.truncated_normal([2*hidden_size, num_pos], mean=0.0, stddev=0.1, seed=0), name=\"W\")\n",
    "    b = tf.Variable(tf.zeros([num_pos]), name=\"b\")\n",
    "    drop_flat_h1 = tf.nn.dropout(flat_h1, input_keep_prob)\n",
    "    flat_logits_pos = tf.matmul(drop_flat_h1, W) + b\n",
    "    logits_pos = tf.reshape(flat_logits_pos, [batch_size, max_sent_size, num_pos])\n",
    "    \n",
    "    log_likelihood, trans_params = tf.contrib.crf.crf_log_likelihood(logits_pos, y_pos, x_len)\n",
    "    trans_params = trans_params\n",
    "    crf_loss = crf_lambda*tf.reduce_mean(-log_likelihood)\n",
    "    \n",
    "    \n",
    "float_x_mask = tf.cast(x_mask, 'float')\n",
    "\n",
    "loss = tf.reduce_mean(tf.nn.sparse_softmax_cross_entropy_with_logits(logits=logits, labels=y))\n",
    "\n",
    "global_step = tf.Variable(0, trainable=False, name=\"global_step\")\n",
    "\n",
    "learning_rate = tf.train.exponential_decay(init_lr, global_step, decay_steps, decay_rate, staircase=True)\n",
    "\n",
    "tv_all = tf.trainable_variables()\n",
    "tv_regu =[]\n",
    "for t in tv_all:\n",
    "    if t.name.find('b:')==-1:\n",
    "        tv_regu.append(t)\n",
    "        \n",
    "# l2 Loss\n",
    "l2_loss = l2_lambda * tf.reduce_sum([ tf.nn.l2_loss(v) for v in tv_regu ])\n",
    "\n",
    "total_loss = loss + l2_loss + crf_loss\n",
    "\n",
    "# Optimizer for loss\n",
    "optimizer = tf.train.AdamOptimizer(learning_rate)\n",
    "optimizer_pos = tf.train.AdamOptimizer(learning_rate).minimize(crf_loss, global_step)\n",
    "\n",
    "# Gradients and Variables for Loss\n",
    "grads_vars = optimizer.compute_gradients(total_loss)\n",
    "\n",
    "# Clipping of Gradients\n",
    "clipped_grads = grads_vars\n",
    "if(clipping == True):\n",
    "    clipped_grads = [(tf.clip_by_norm(grad, clip_norm), var) for grad, var in clipped_grads]\n",
    "\n",
    "# Training Optimizer for Total Loss\n",
    "train_op = optimizer.apply_gradients(clipped_grads, global_step=global_step)\n",
    "\n",
    "# Summaries\n",
    "var_summaries = []\n",
    "for v in tv_all:\n",
    "    var_summary = tf.summary.histogram(\"{}/var\".format(v.name), v)\n",
    "    var_summaries.append(var_summary)\n",
    "\n",
    "var_summaries_merged = tf.summary.merge(var_summaries)\n",
    "\n",
    "loss_summary = tf.summary.scalar(\"loss\", loss)\n",
    "loss_pos_summary = tf.summary.scalar(\"loss_pos\", crf_loss)\n",
    "total_loss_summary = tf.summary.scalar(\"total_loss\", total_loss)\n",
    "summary = tf.summary.merge_all()"
   ]
  },
  {
   "cell_type": "code",
   "execution_count": 13,
   "metadata": {
    "collapsed": true
   },
   "outputs": [],
   "source": [
    "os.environ[\"CUDA_DEVICE_ORDER\"]=\"PCI_BUS_ID\"   # see issue #152\n",
    "os.environ[\"CUDA_VISIBLE_DEVICES\"]=\"0\"\n",
    "config = tf.ConfigProto()\n",
    "config.gpu_options.allow_growth = True\n",
    "sess = tf.Session(config=config)\n",
    "sess.run(tf.global_variables_initializer())                          # For initializing all the variables\n",
    "saver = tf.train.Saver()                                             # For Saving the model\n",
    "summary_writer = tf.summary.FileWriter(log_dir, sess.graph)          # For writing Summaries"
   ]
  },
  {
   "cell_type": "code",
   "execution_count": 14,
   "metadata": {
    "collapsed": true
   },
   "outputs": [],
   "source": [
    "index = []\n",
    "for i in range(len(data_x)):\n",
    "    index.append(i)"
   ]
  },
  {
   "cell_type": "code",
   "execution_count": 15,
   "metadata": {
    "scrolled": true
   },
   "outputs": [
    {
     "name": "stderr",
     "output_type": "stream",
     "text": [
      "/users/btech/aviraj/cs771/lib/python3.5/site-packages/sklearn/model_selection/_split.py:2026: FutureWarning: From version 0.21, test_size will always complement train_size unless both are specified.\n",
      "  FutureWarning)\n"
     ]
    }
   ],
   "source": [
    "index_train, index_val, label_train, label_val = train_test_split(index, data_label, train_size=0.8, shuffle=True, stratify=data_label, random_state=0)\n",
    "\n",
    "data_x = np.array(data_x)\n",
    "data_pos = np.array(data_pos)\n",
    "\n",
    "x_train = data_x[index_train]\n",
    "pos_train = data_pos[index_train]\n",
    "x_val = data_x[index_val]\n",
    "pos_val = data_pos[index_val]"
   ]
  },
  {
   "cell_type": "code",
   "execution_count": 16,
   "metadata": {
    "collapsed": true
   },
   "outputs": [],
   "source": [
    "def data_prepare(x, y, p):\n",
    "    num_examples = len(x)\n",
    "\n",
    "    xx = np.zeros([num_examples, max_sent_size], dtype=int)\n",
    "    xx_mask = np.zeros([num_examples, max_sent_size], dtype=bool)\n",
    "    yy = np.zeros([num_examples], dtype=int)\n",
    "    pp = np.zeros([num_examples, max_sent_size], dtype=int)\n",
    "\n",
    "    for j in range(num_examples):\n",
    "        for i in range(max_sent_size):\n",
    "            if(i>=len(x[j])):\n",
    "                break\n",
    "            w = x[j][i]\n",
    "            xx[j][i] = word2id[w] if w in word2id else word2id['UNKNOWN_TOKEN']\n",
    "            xx_mask[j][i] = True\n",
    "            pp[j][i] = pos2id[p[j][i]]\n",
    "        yy[j] = sense2id[y[j]]\n",
    "        \n",
    "    return xx, xx_mask, yy, pp\n",
    "\n",
    "def model(xx, yy, mask, pp, train_cond=True, pretrain=False):\n",
    "    num_batches = int(len(xx)/batch_size)\n",
    "    losses = 0\n",
    "    preds = []\n",
    "    preds_pos = []\n",
    "    true_pos = []\n",
    "    for j in range(num_batches): \n",
    "        \n",
    "        s = j * batch_size\n",
    "        e = (j+1) * batch_size\n",
    "        \n",
    "        feed_dict = {x:xx[s:e], y:yy[s:e], y_pos:pp[s:e], x_mask:mask[s:e], is_train:train_cond, input_keep_prob:keep_prob, word_emb_mat:word_embedding}\n",
    "        \n",
    "        if(train_cond==True):\n",
    "            if(pretrain==False):\n",
    "                _, _loss, step, _summary = sess.run([train_op, total_loss, global_step, summary], feed_dict)\n",
    "            else:\n",
    "                 _, _loss, step, _summary = sess.run([optimizer_pos, crf_loss, global_step, summary], feed_dict)\n",
    "            \n",
    "            summary_writer.add_summary(_summary, step)\n",
    "#             print(\"Steps:{}\".format(step), \", Loss: {}\".format(_loss))\n",
    "\n",
    "        else:\n",
    "            _loss, pred, crf_logits, trans_params_ = sess.run([total_loss, predictions, logits_pos, trans_params], feed_dict)\n",
    "            preds.append(pred)\n",
    "            for k in range(batch_size):\n",
    "                logit_ = crf_logits[k][:sum(mask[s+k])] # keep only the valid steps\n",
    "                viterbi_seq, viterbi_score = tf.contrib.crf.viterbi_decode(logit_, trans_params_)\n",
    "                preds_pos += [viterbi_seq]    \n",
    "            \n",
    "            for k in range(batch_size):\n",
    "                true_pos.append(pp[s+k][:sum(mask[s+k])])\n",
    "\n",
    "        losses +=_loss\n",
    "\n",
    "    if(train_cond==False):\n",
    "        y_pred = []\n",
    "        pos_true = []\n",
    "        pos_pred = []\n",
    "        for i in range(num_batches):\n",
    "            for pred in preds[i]:\n",
    "                y_pred.append(pred)\n",
    "                \n",
    "        for i in range(len(preds_pos)):\n",
    "            for j in range(len(preds_pos[i])):\n",
    "                pos_pred.append(preds_pos[i][j])\n",
    "                pos_true.append(true_pos[i][j])\n",
    "\n",
    "        return losses/num_batches, y_pred, pos_pred, pos_true\n",
    "    \n",
    "    return losses/num_batches, step\n",
    "\n",
    "def eval_score(yy, pred, pos_true, pos_pred):\n",
    "    num_batches = int(len(yy)/batch_size)\n",
    "    f1 = f1_score(yy[:batch_size*num_batches], pred, average='macro')\n",
    "    f1_pos = f1_score(pos_true, pos_pred, average='macro')\n",
    "    accu = accuracy_score(yy[:batch_size*num_batches], pred)\n",
    "    accu_pos = accuracy_score(pos_true, pos_pred)\n",
    "    return f1*100, accu*100, f1_pos*100, accu_pos*100"
   ]
  },
  {
   "cell_type": "code",
   "execution_count": 17,
   "metadata": {
    "collapsed": true
   },
   "outputs": [],
   "source": [
    "x_id_train, mask_train, y_train, pos_id_train = data_prepare(x_train, label_train, pos_train)\n",
    "x_id_val, mask_val, y_val, pos_id_val = data_prepare(x_val, label_val,pos_val)"
   ]
  },
  {
   "cell_type": "code",
   "execution_count": null,
   "metadata": {
    "scrolled": true
   },
   "outputs": [
    {
     "name": "stdout",
     "output_type": "stream",
     "text": [
      "Epoch: 1 Step: 82 loss: 14.0386335152\n",
      "Epoch: 2 Step: 164 loss: 6.34447890956\n",
      "Epoch: 3 Step: 246 loss: 5.19089427227\n",
      "Epoch: 4 Step: 328 loss: 4.68122517481\n",
      "Epoch: 5 Step: 410 loss: 4.33941262234\n",
      "Model Saved\n",
      "Train: F1 :  9.67752932957 Accu:  11.9855182927 POS F1 :  88.3286460699 POS Accu:  92.1122481778 Loss:  15.3133144379\n",
      "Val: F1 :  10.9881957871 Accu:  13.28125 POS F1 :  86.4651366469 POS Accu:  91.5901262916 Loss:  14.9713766575\n",
      "Epoch: 6 Step: 492 loss: 15.8240957376\n",
      "Epoch: 7 Step: 574 loss: 8.56561522368\n",
      "Epoch: 8 Step: 656 loss: 8.06156277075\n",
      "Epoch: 9 Step: 738 loss: 7.87270143555\n",
      "Epoch: 10 Step: 820 loss: 7.78489376859\n",
      "Model Saved\n"
     ]
    },
    {
     "name": "stderr",
     "output_type": "stream",
     "text": [
      "/users/btech/aviraj/cs771/lib/python3.5/site-packages/sklearn/metrics/classification.py:1135: UndefinedMetricWarning: F-score is ill-defined and being set to 0.0 in labels with no predicted samples.\n",
      "  'precision', 'predicted', average, warn_for)\n"
     ]
    },
    {
     "name": "stdout",
     "output_type": "stream",
     "text": [
      "Train: F1 :  12.4312167739 Accu:  30.8879573171 POS F1 :  88.5948276712 POS Accu:  92.0766160386 Loss:  7.64708702157\n",
      "Val: F1 :  13.3910810756 Accu:  31.484375 POS F1 :  86.9280469789 POS Accu:  91.9058553387 Loss:  7.63861198425\n",
      "Epoch: 11 Step: 902 loss: 7.66799862792\n",
      "Epoch: 12 Step: 984 loss: 7.61758142564\n",
      "Epoch: 13 Step: 1066 loss: 7.59945411217\n",
      "Epoch: 14 Step: 1148 loss: 7.54363342611\n",
      "Epoch: 15 Step: 1230 loss: 7.49487159892\n",
      "Model Saved\n",
      "Train: F1 :  27.1643396112 Accu:  37.0236280488 POS F1 :  88.3603353115 POS Accu:  92.4447601174 Loss:  7.37230630037\n",
      "Val: F1 :  26.510850316 Accu:  36.09375 POS F1 :  87.0411058736 POS Accu:  92.1266448821 Loss:  7.42264709473\n",
      "Epoch: 16 Step: 1312 loss: 7.41265987768\n",
      "Epoch: 17 Step: 1394 loss: 7.47869495066\n",
      "Epoch: 18 Step: 1476 loss: 7.41276963746\n",
      "Epoch: 19 Step: 1558 loss: 7.36097574816\n",
      "Epoch: 20 Step: 1640 loss: 7.31734973047\n",
      "Model Saved\n",
      "Train: F1 :  31.5873346149 Accu:  42.7400914634 POS F1 :  88.8934661266 POS Accu:  92.5129752627 Loss:  7.23008114536\n",
      "Val: F1 :  29.0315974874 Accu:  40.15625 POS F1 :  88.171846841 POS Accu:  92.2436633401 Loss:  7.27739539146\n",
      "Epoch: 21 Step: 1722 loss: 7.26312951344\n",
      "Epoch: 22 Step: 1804 loss: 7.33746954871\n",
      "Epoch: 23 Step: 1886 loss: 7.27222233284\n",
      "Epoch: 24 Step: 1968 loss: 7.26197582919\n",
      "Epoch: 25 Step: 2050 loss: 7.25278727601\n",
      "Model Saved\n",
      "Train: F1 :  27.9483405821 Accu:  38.1288109756 POS F1 :  88.8381887103 POS Accu:  92.7772363455 Loss:  7.2182997029\n",
      "Val: F1 :  26.9001312339 Accu:  38.203125 POS F1 :  89.1401131235 POS Accu:  92.415879184 Loss:  7.28229894638\n",
      "Epoch: 26 Step: 2132 loss: 7.26032847893\n",
      "Epoch: 27 Step: 2214 loss: 7.18166372253\n",
      "Epoch: 28 Step: 2296 loss: 7.19737161078\n",
      "Epoch: 29 Step: 2378 loss: 7.16155010898\n",
      "Epoch: 30 Step: 2460 loss: 7.18496765741\n",
      "Model Saved\n",
      "Train: F1 :  31.6982334322 Accu:  43.368902439 POS F1 :  89.2618136513 POS Accu:  92.926935524 Loss:  7.04638915527\n",
      "Val: F1 :  31.3930665762 Accu:  42.734375 POS F1 :  88.0813450776 POS Accu:  92.54835291 Loss:  7.16704490185\n",
      "Epoch: 31 Step: 2542 loss: 7.11798719662\n",
      "Epoch: 32 Step: 2624 loss: 7.12448009049\n",
      "Epoch: 33 Step: 2706 loss: 7.11140426194\n",
      "Epoch: 34 Step: 2788 loss: 7.11555853123\n",
      "Epoch: 35 Step: 2870 loss: 7.07452881045\n",
      "Model Saved\n",
      "Train: F1 :  35.4893388047 Accu:  44.512195122 POS F1 :  89.1741949137 POS Accu:  92.8542175358 Loss:  6.98369611182\n",
      "Val: F1 :  33.6902783388 Accu:  42.890625 POS F1 :  89.3885242749 POS Accu:  92.5284818511 Loss:  7.11902143955\n",
      "Epoch: 36 Step: 2952 loss: 7.08462707008\n",
      "Epoch: 37 Step: 3034 loss: 7.08003868708\n",
      "Epoch: 38 Step: 3116 loss: 7.00226036514\n",
      "Epoch: 39 Step: 3198 loss: 7.00160269621\n",
      "Epoch: 40 Step: 3280 loss: 7.00888066176\n",
      "Model Saved\n",
      "Train: F1 :  36.240171266 Accu:  45.693597561 POS F1 :  89.7025621251 POS Accu:  92.8827320189 Loss:  6.98476129625\n",
      "Val: F1 :  34.0685236306 Accu:  42.734375 POS F1 :  88.7583771531 POS Accu:  92.6499161 Loss:  7.07697165012\n",
      "Epoch: 41 Step: 3362 loss: 7.01382427099\n",
      "Epoch: 42 Step: 3444 loss: 7.04299855232\n",
      "Epoch: 43 Step: 3526 loss: 6.99078183639\n",
      "Epoch: 44 Step: 3608 loss: 6.99865688347\n",
      "Epoch: 45 Step: 3690 loss: 6.9383089019\n",
      "Model Saved\n",
      "Train: F1 :  35.9850716553 Accu:  45.2362804878 POS F1 :  89.4437108863 POS Accu:  92.9330270806 Loss:  6.95785571889\n",
      "Val: F1 :  34.5422866722 Accu:  45.234375 POS F1 :  88.4481258516 POS Accu:  92.7029055904 Loss:  6.98919224739\n",
      "Epoch: 46 Step: 3772 loss: 6.98304323452\n",
      "Epoch: 47 Step: 3854 loss: 6.94324059021\n",
      "Epoch: 48 Step: 3936 loss: 6.94527410298\n",
      "Epoch: 49 Step: 4018 loss: 6.91311839732\n",
      "Epoch: 50 Step: 4100 loss: 6.92128771107\n",
      "Model Saved\n",
      "Train: F1 :  40.4648010318 Accu:  47.5228658537 POS F1 :  89.2035119578 POS Accu:  93.0464674956 Loss:  6.78613550489\n",
      "Val: F1 :  38.9475878447 Accu:  44.453125 POS F1 :  88.4844161539 POS Accu:  92.9060319703 Loss:  6.84730086327\n",
      "Epoch: 51 Step: 4182 loss: 6.89933734405\n",
      "Epoch: 52 Step: 4264 loss: 6.87234420311\n",
      "Epoch: 53 Step: 4346 loss: 6.9066971744\n",
      "Epoch: 54 Step: 4428 loss: 6.91110442906\n",
      "Epoch: 55 Step: 4510 loss: 6.89204962079\n",
      "Model Saved\n",
      "Train: F1 :  38.4644295437 Accu:  46.8368902439 POS F1 :  89.793420028 POS Accu:  93.0946875032 Loss:  6.75175945352\n",
      "Val: F1 :  35.9756669498 Accu:  44.609375 POS F1 :  88.3932872805 POS Accu:  92.8618740616 Loss:  6.87871425152\n",
      "Epoch: 56 Step: 4592 loss: 6.82898305684\n",
      "Epoch: 57 Step: 4674 loss: 6.81557827461\n",
      "Epoch: 58 Step: 4756 loss: 6.79642059745\n",
      "Epoch: 59 Step: 4838 loss: 6.81963696131\n",
      "Epoch: 60 Step: 4920 loss: 6.8315811855\n",
      "Model Saved\n",
      "Train: F1 :  40.7561999937 Accu:  44.3978658537 POS F1 :  89.8434166562 POS Accu:  93.1882878165 Loss:  6.78981227991\n",
      "Val: F1 :  38.6654683461 Accu:  42.421875 POS F1 :  88.2653166287 POS Accu:  92.9148635521 Loss:  6.92984104156\n"
     ]
    }
   ],
   "source": [
    "num_epochs = 100\n",
    "pre_train_period = 5\n",
    "log_period = 5\n",
    "\n",
    "for i in range(num_epochs):\n",
    "    random = np.random.choice(len(y_train), size=(len(y_train)), replace=False)\n",
    "    x_id_train = x_id_train[random]\n",
    "    y_train = y_train[random]\n",
    "    mask_train = mask_train[random]    \n",
    "    pos_id_train = pos_id_train[random]\n",
    "    \n",
    "    if(i<pre_train_period):\n",
    "        losses, step = model(x_id_train, y_train, mask_train, pos_id_train, pretrain=True)\n",
    "    else:\n",
    "        losses, step = model(x_id_train, y_train, mask_train, pos_id_train)\n",
    "    print(\"Epoch:\", i+1,\"Step:\", step, \"loss:\",losses)\n",
    "    \n",
    "    if((i+1)%log_period==0):\n",
    "        saver.save(sess, save_path=save_dir)                         \n",
    "        print(\"Model Saved\")\n",
    "        train_loss, train_pred, train_pred_pos, train_true_pos = model(x_id_train, y_train, mask_train, pos_id_train, train_cond=False)        \n",
    "        f1_, accu_, f1_pos_, accu_pos_ = eval_score(y_train, train_pred, train_pred_pos, train_true_pos)\n",
    "        print(\"Train: F1 : \",  f1_, \"Accu: \", accu_, \"POS F1 : \",  f1_pos_, \"POS Accu: \", accu_pos_, \"Loss: \", train_loss)\n",
    "        \n",
    "        val_loss, val_pred, val_pred_pos, val_true_pos = model(x_id_val, y_val, mask_val, pos_id_val, train_cond=False)        \n",
    "        f1_, accu_, f1_pos_, accu_pos_ = eval_score(y_val, val_pred, val_pred_pos, val_true_pos)\n",
    "        print(\"Val: F1 : \",  f1_, \"Accu: \", accu_, \"POS F1 : \",  f1_pos_, \"POS Accu: \", accu_pos_, \"Loss: \", val_loss)\n",
    "        \n",
    "# test_loss, test_pred, test_pred_pos, test_true_pos = model(x_id_test, y_test, mask_test, pos_id_test, train_cond=False)        \n",
    "# f1_, accu_, f1_pos_, accu_pos_ = etest_score(y_test, test_pred, test_pred_pos, test_true_pos)\n",
    "# print(\"test: F1 Score: \",  f1_, \"Accuracy: \", accu_, \"POS F1 Score: \",  f1_pos_, \"POS Accuracy: \", accu_pos_, \"Loss: \", test_loss)"
   ]
  },
  {
   "cell_type": "code",
   "execution_count": null,
   "metadata": {
    "collapsed": true
   },
   "outputs": [],
   "source": []
  },
  {
   "cell_type": "code",
   "execution_count": null,
   "metadata": {
    "collapsed": true
   },
   "outputs": [],
   "source": [
    "saver.restore(sess, save_dir)"
   ]
  }
 ],
 "metadata": {
  "kernelspec": {
   "display_name": "cs771",
   "language": "python",
   "name": "cs771"
  },
  "language_info": {
   "codemirror_mode": {
    "name": "ipython",
    "version": 3
   },
   "file_extension": ".py",
   "mimetype": "text/x-python",
   "name": "python",
   "nbconvert_exporter": "python",
   "pygments_lexer": "ipython3",
   "version": "3.5.2"
  }
 },
 "nbformat": 4,
 "nbformat_minor": 2
}
