{
 "cells": [
  {
   "cell_type": "code",
   "execution_count": 1,
   "metadata": {
    "collapsed": true
   },
   "outputs": [],
   "source": [
    "import xml.etree.ElementTree as ET\n",
    "import numpy as np\n",
    "tree = ET.parse('semcor+omsti.data.xml')\n",
    "root = tree.getroot()"
   ]
  },
  {
   "cell_type": "code",
   "execution_count": 2,
   "metadata": {
    "collapsed": true
   },
   "outputs": [],
   "source": [
    "cor1 = root[0]\n",
    "cor2 = root[1]\n",
    "#sent = cor2.findall('text')"
   ]
  },
  {
   "cell_type": "code",
   "execution_count": 3,
   "metadata": {},
   "outputs": [],
   "source": [
    "def isalphabet(word):\n",
    "    list_ = list(word)\n",
    "    if len(list_) > 1:\n",
    "        return True\n",
    "    else:\n",
    "        if word.isalpha():\n",
    "            return True\n",
    "        return False"
   ]
  },
  {
   "cell_type": "code",
   "execution_count": 50,
   "metadata": {},
   "outputs": [
    {
     "name": "stdout",
     "output_type": "stream",
     "text": [
      "37176\n"
     ]
    }
   ],
   "source": [
    "train1 = []\n",
    "#soup=soup.find_all('corpus')[1]\n",
    "count=0\n",
    "for sentences in cor1.findall('text'):\n",
    "    for sentence in sentences:\n",
    "        temp_sent = []\n",
    "        temp_sent.append(sentence.get('id'))\n",
    "\n",
    "        temp_words = []\n",
    "        i_cnt=1\n",
    "        ind=[]\n",
    "        for word in sentence:\n",
    "            string = word.text.lower()        \n",
    "            if (isalphabet(string)):\n",
    "                temp_words.append(string)\n",
    "                ind.append(i_cnt)\n",
    "            i_cnt+=1\n",
    "\n",
    "        temp_sent.append(temp_words)\n",
    "        list_ = sentence.iter()\n",
    "        id_list = []\n",
    "        lemma_list = []\n",
    "        pos_list = []\n",
    "        for i in list_:\n",
    "            id_list.append(i.get('id'))\n",
    "            lemma_list.append(i.get('lemma'))\n",
    "            pos_list.append(i.get('pos'))\n",
    "\n",
    "        id_list, lemma_list , pos_list = np.array(id_list),np.array(lemma_list),np.array(pos_list)\n",
    "        temp_sent.extend([list(id_list[ind]), list(lemma_list[ind]), list(pos_list[ind])])\n",
    "        train1.append(temp_sent)\n",
    "        count+=1\n",
    "        \n",
    "print(count)"
   ]
  },
  {
   "cell_type": "code",
   "execution_count": 51,
   "metadata": {},
   "outputs": [],
   "source": [
    "train1=train1[:len(train1)-2]"
   ]
  },
  {
   "cell_type": "code",
   "execution_count": 19,
   "metadata": {},
   "outputs": [
    {
     "name": "stdout",
     "output_type": "stream",
     "text": [
      "813798\n"
     ]
    }
   ],
   "source": [
    "train2 = []\n",
    "#soup=soup.find_all('corpus')[1]\n",
    "count=0\n",
    "for sentences in cor2.findall('text'):\n",
    "    for sentence in sentences:\n",
    "        temp_sent = []\n",
    "        temp_sent.append(sentence.get('id'))\n",
    "\n",
    "        temp_words = []\n",
    "        i_cnt=1\n",
    "        ind=[]\n",
    "        for word in sentence:\n",
    "            string = word.text.lower()        \n",
    "            if (isalphabet(string)):\n",
    "                temp_words.append(string)\n",
    "                ind.append(i_cnt)\n",
    "            i_cnt+=1\n",
    "\n",
    "        temp_sent.append(temp_words)\n",
    "        list_ = sentence.iter()\n",
    "        id_list = []\n",
    "        lemma_list = []\n",
    "        pos_list = []\n",
    "        for i in list_:\n",
    "            id_list.append(i.get('id'))\n",
    "            lemma_list.append(i.get('lemma'))\n",
    "            pos_list.append(i.get('pos'))\n",
    "\n",
    "        id_list, lemma_list , pos_list = np.array(id_list),np.array(lemma_list),np.array(pos_list)\n",
    "        temp_sent.extend([list(id_list[ind]), list(lemma_list[ind]), list(pos_list[ind])])\n",
    "        train2.append(temp_sent)\n",
    "        count+=1\n",
    "        \n",
    "print(count)"
   ]
  },
  {
   "cell_type": "code",
   "execution_count": 54,
   "metadata": {},
   "outputs": [
    {
     "data": {
      "text/plain": [
       "850972"
      ]
     },
     "execution_count": 54,
     "metadata": {},
     "output_type": "execute_result"
    }
   ],
   "source": [
    "len(train1)+len(train2)"
   ]
  },
  {
   "cell_type": "code",
   "execution_count": 55,
   "metadata": {},
   "outputs": [],
   "source": [
    "train=train1+train2"
   ]
  },
  {
   "cell_type": "code",
   "execution_count": 56,
   "metadata": {},
   "outputs": [
    {
     "data": {
      "text/plain": [
       "850972"
      ]
     },
     "execution_count": 56,
     "metadata": {},
     "output_type": "execute_result"
    }
   ],
   "source": [
    "len(train)"
   ]
  },
  {
   "cell_type": "code",
   "execution_count": 57,
   "metadata": {
    "collapsed": true
   },
   "outputs": [],
   "source": [
    "import pickle\n",
    "with open('preprocess_train','wb') as f:\n",
    "    pickle.dump(train,f)"
   ]
  }
 ],
 "metadata": {
  "kernelspec": {
   "display_name": "cs771",
   "language": "python",
   "name": "cs771"
  },
  "language_info": {
   "codemirror_mode": {
    "name": "ipython",
    "version": 3
   },
   "file_extension": ".py",
   "mimetype": "text/x-python",
   "name": "python",
   "nbconvert_exporter": "python",
   "pygments_lexer": "ipython3",
   "version": "3.5.2"
  }
 },
 "nbformat": 4,
 "nbformat_minor": 2
}
