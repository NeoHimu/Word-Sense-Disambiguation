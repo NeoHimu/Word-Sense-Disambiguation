{
 "cells": [
  {
   "cell_type": "code",
   "execution_count": 1,
   "metadata": {
    "collapsed": true
   },
   "outputs": [],
   "source": [
    "import pickle\n",
    "from nltk.corpus import wordnet as wn"
   ]
  },
  {
   "cell_type": "code",
   "execution_count": 4,
   "metadata": {},
   "outputs": [],
   "source": [
    "with open('/data/aviraj/dataset/raw_preprocess_train','rb') as f:\n",
    "    global_data=pickle.load(f)"
   ]
  },
  {
   "cell_type": "code",
   "execution_count": 5,
   "metadata": {},
   "outputs": [],
   "source": [
    "with open('/data/aviraj/dataset/semcor+omsti.gold.key.txt','r') as f:\n",
    "    data_key=f.readlines()"
   ]
  },
  {
   "cell_type": "code",
   "execution_count": 22,
   "metadata": {
    "collapsed": true
   },
   "outputs": [],
   "source": [
    "def make_word_data(checkword):\n",
    "    data_line=[]\n",
    "    for string in data_key:\n",
    "        temp_string=string.strip('\\n').split()[1]\n",
    "        string=string.split()\n",
    "        string=string[1].split('%')[0]\n",
    "        if(string==checkword):\n",
    "            data_line.append(temp_string)\n",
    "    dataset_line=[]\n",
    "    for list_, sense in zip(global_data,data_line):\n",
    "        if checkword in list_[1]:\n",
    "            dataset_line.append([list_[1],list_[4], sense])\n",
    "    \n",
    "    with open('/data/aviraj/dataset/checkwords/'+checkword + '_data', 'wb') as f:\n",
    "        pickle.dump(dataset_line, f)\n",
    "    print('Verifying............')\n",
    "    with open('/data/aviraj/dataset/checkwords/'+checkword + '_data', 'rb') as f:\n",
    "        data_ = pickle.load(f)\n",
    "    if len(data_) == len(dataset_line):\n",
    "        print('VERIFIED')\n",
    "    \n",
    "    return data_"
   ]
  },
  {
   "cell_type": "code",
   "execution_count": 23,
   "metadata": {},
   "outputs": [
    {
     "name": "stdout",
     "output_type": "stream",
     "text": [
      "Verifying............\n",
      "VERIFIED\n"
     ]
    }
   ],
   "source": [
    "train_go=make_word_data('go')"
   ]
  }
 ],
 "metadata": {
  "kernelspec": {
   "display_name": "cs771",
   "language": "python",
   "name": "cs771"
  },
  "language_info": {
   "codemirror_mode": {
    "name": "ipython",
    "version": 3
   },
   "file_extension": ".py",
   "mimetype": "text/x-python",
   "name": "python",
   "nbconvert_exporter": "python",
   "pygments_lexer": "ipython3",
   "version": "3.5.2"
  }
 },
 "nbformat": 4,
 "nbformat_minor": 2
}
