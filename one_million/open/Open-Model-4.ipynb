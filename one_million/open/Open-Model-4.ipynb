{
 "cells": [
  {
   "cell_type": "code",
   "execution_count": 1,
   "metadata": {
    "collapsed": true
   },
   "outputs": [],
   "source": [
    "import tensorflow as tf\n",
    "tf.logging.set_verbosity(tf.logging.WARN)\n",
    "import pickle\n",
    "import numpy as np\n",
    "import os\n",
    "from sklearn.model_selection import train_test_split\n",
    "from sklearn.metrics import f1_score\n",
    "from sklearn.metrics import accuracy_score\n",
    "import os\n",
    "from tensorflow.python.client import device_lib\n",
    "from collections import Counter\n",
    "from math import inf"
   ]
  },
  {
   "cell_type": "code",
   "execution_count": 2,
   "metadata": {
    "collapsed": true
   },
   "outputs": [],
   "source": [
    "f = open('../../Glove/word_embedding_glove', 'rb')\n",
    "word_embedding = pickle.load(f)\n",
    "f.close()\n",
    "word_embedding = word_embedding[: len(word_embedding)-1]\n",
    "\n",
    "f = open('../../Glove/vocab_glove', 'rb')\n",
    "vocab = pickle.load(f)\n",
    "f.close()\n",
    "\n",
    "word2id = dict((w, i) for i,w in enumerate(vocab))\n",
    "id2word = dict((i, w) for i,w in enumerate(vocab))\n",
    "\n",
    "unknown_token = \"UNKNOWN_TOKEN\""
   ]
  },
  {
   "cell_type": "code",
   "execution_count": 3,
   "metadata": {
    "collapsed": true
   },
   "outputs": [],
   "source": [
    "f = open(\"../../../dataset/sense/dict_sense-keys\", 'rb')\n",
    "dict_sense_keys = pickle.load(f)\n",
    "f.close()\n",
    "\n",
    "f = open(\"../../../dataset/sense/dict_word-sense\", 'rb')\n",
    "dict_word_sense = pickle.load(f)\n",
    "f.close()"
   ]
  },
  {
   "cell_type": "code",
   "execution_count": 4,
   "metadata": {
    "collapsed": true
   },
   "outputs": [],
   "source": [
    "# Model Description\n",
    "sense_word = 'open'\n",
    "model_name = 'model-4'\n",
    "sense_word_dir = '../output/' + sense_word\n",
    "model_dir = sense_word_dir + '/' + model_name\n",
    "save_dir = os.path.join(model_dir, \"save/\")\n",
    "log_dir = os.path.join(model_dir, \"log\")\n",
    "\n",
    "if not os.path.exists(sense_word_dir):\n",
    "    os.mkdir(sense_word_dir)\n",
    "if not os.path.exists(model_dir):\n",
    "    os.mkdir(model_dir)\n",
    "if not os.path.exists(save_dir):\n",
    "    os.mkdir(save_dir)\n",
    "if not os.path.exists(log_dir):\n",
    "    os.mkdir(log_dir)"
   ]
  },
  {
   "cell_type": "code",
   "execution_count": 5,
   "metadata": {
    "scrolled": false
   },
   "outputs": [
    {
     "data": {
      "text/plain": [
       "([('5:00', 990), ('2:35', 662), ('2:30', 632), ('2:41', 565), ('3:00', 64)],\n",
       " ['2:35', '2:30', '2:41', '3:00', '5:00'])"
      ]
     },
     "execution_count": 5,
     "metadata": {},
     "output_type": "execute_result"
    }
   ],
   "source": [
    "f = open(\"../../../dataset/checkwords/\"+ sense_word + \"_data\", 'rb')\n",
    "data = pickle.load(f)\n",
    "f.close()\n",
    "\n",
    "data_y = []\n",
    "for i in range(len(data)):\n",
    "    data_y.append(dict_sense_keys[data[i][0]][3])\n",
    "\n",
    "sense_count = Counter(data_y)\n",
    "sense_count = sense_count.most_common()[:5]\n",
    "vocab_sense = [k for k,v in sense_count]\n",
    "vocab_sense = sorted(vocab_sense, key=lambda x:int(x[0]))\n",
    "sense_count,vocab_sense"
   ]
  },
  {
   "cell_type": "code",
   "execution_count": 6,
   "metadata": {
    "collapsed": true
   },
   "outputs": [],
   "source": [
    "def make_mask_matrix(sense_word,vocab_sense):\n",
    "    mask_mat = []\n",
    "    sense_list = [int(string[0]) for string in vocab_sense]\n",
    "    sense_count = list(Counter(sense_list).values())\n",
    "    start=0\n",
    "    prev=0\n",
    "    for i in range(len(set(sense_list))):\n",
    "        temp_row=[0]*len(sense_list)\n",
    "        for j in range(len(sense_list)):\n",
    "            if j>=start and j<sense_count[i]+prev:\n",
    "                temp_row[j]= 0\n",
    "            else:\n",
    "                temp_row[j]= -10\n",
    "        start+=sense_count[i]\n",
    "        prev+=sense_count[i]\n",
    "        mask_mat.append(temp_row)\n",
    "    return mask_mat"
   ]
  },
  {
   "cell_type": "code",
   "execution_count": 7,
   "metadata": {},
   "outputs": [
    {
     "data": {
      "text/plain": [
       "['2:35', '2:30', '2:41', '3:00', '5:00']"
      ]
     },
     "execution_count": 7,
     "metadata": {},
     "output_type": "execute_result"
    }
   ],
   "source": [
    "vocab_sense"
   ]
  },
  {
   "cell_type": "code",
   "execution_count": 8,
   "metadata": {},
   "outputs": [
    {
     "data": {
      "text/plain": [
       "[[0, 0, 0, -10, -10], [-10, -10, -10, 0, -10], [-10, -10, -10, -10, 0]]"
      ]
     },
     "execution_count": 8,
     "metadata": {},
     "output_type": "execute_result"
    }
   ],
   "source": [
    "mask_mat = make_mask_matrix(sense_word,vocab_sense)\n",
    "mask_mat"
   ]
  },
  {
   "cell_type": "code",
   "execution_count": 9,
   "metadata": {},
   "outputs": [
    {
     "name": "stdout",
     "output_type": "stream",
     "text": [
      "2913 2922\n",
      "[2, 3, 5]\n"
     ]
    }
   ],
   "source": [
    "data_x = []\n",
    "data_label = []\n",
    "data_pos = []\n",
    "for i in range(len(data)):\n",
    "    if dict_sense_keys[data[i][0]][3] in vocab_sense:\n",
    "        data_x.append(data[i][1])\n",
    "        data_label.append(dict_sense_keys[data[i][0]][3])\n",
    "        data_pos.append(dict_sense_keys[data[i][0]][1])\n",
    "\n",
    "\n",
    "print(len(data_label), len(data_y))\n",
    "\n",
    "# vocab_sense = dict_word_sense[sense_word]\n",
    "\n",
    "sense2id = dict((s, i) for i,s in enumerate(vocab_sense))\n",
    "id2sense = dict((i, s) for i,s in enumerate(vocab_sense))\n",
    "\n",
    "count_pos = Counter(data_pos)\n",
    "count_pos = count_pos.most_common()\n",
    "vocab_pos = [int(k) for k,v in count_pos]\n",
    "vocab_pos = sorted(vocab_pos, key=lambda x:int(x))\n",
    "\n",
    "pos2id = dict((str(s), i) for i,s in enumerate(vocab_pos))\n",
    "id2pos = dict((i, str(s)) for i,s in enumerate(vocab_pos))\n",
    "\n",
    "print(vocab_pos)"
   ]
  },
  {
   "cell_type": "code",
   "execution_count": 10,
   "metadata": {
    "collapsed": true
   },
   "outputs": [],
   "source": [
    "# Parameters\n",
    "mode = 'train'\n",
    "num_senses = len(vocab_sense)\n",
    "num_pos = len(vocab_pos)\n",
    "batch_size = 64\n",
    "vocab_size = len(vocab)\n",
    "unk_vocab_size = 1\n",
    "word_emb_size = len(word_embedding[0])\n",
    "max_sent_size = 200\n",
    "hidden_size = 100\n",
    "keep_prob = 0.5\n",
    "l2_lambda = 0.001\n",
    "init_lr = 0.005\n",
    "decay_steps = 500\n",
    "decay_rate = 0.96\n",
    "clip_norm = 1\n",
    "clipping = True\n",
    "lambda_loss_pos = 5"
   ]
  },
  {
   "cell_type": "code",
   "execution_count": 11,
   "metadata": {
    "collapsed": true,
    "scrolled": true
   },
   "outputs": [],
   "source": [
    "# MODEL\n",
    "def attention(input_x, input_mask, W_att):\n",
    "    h_masked = tf.boolean_mask(input_x, input_mask)\n",
    "    h_tanh = tf.tanh(h_masked)\n",
    "    u = tf.matmul(h_tanh, W_att)\n",
    "    a = tf.nn.softmax(u)\n",
    "    c = tf.reduce_sum(tf.multiply(h_tanh, a), 0)  \n",
    "    return c\n",
    "\n",
    "x = tf.placeholder('int32', [batch_size, max_sent_size], name=\"x\")\n",
    "y = tf.placeholder('int32', [batch_size], name=\"y\")\n",
    "y_pos = tf.placeholder('int32', [batch_size], name=\"y_pos\")\n",
    "x_mask  = tf.placeholder('bool', [batch_size, max_sent_size], name='x_mask') \n",
    "is_train = tf.placeholder('bool', [], name='is_train')\n",
    "word_emb_mat = tf.placeholder('float', [None, word_emb_size], name='emb_mat')\n",
    "input_keep_prob = tf.cond(is_train,lambda:keep_prob, lambda:tf.constant(1.0))\n",
    "x_len = tf.reduce_sum(tf.cast(x_mask, 'int32'), 1)\n",
    "\n",
    "mask_matrix = tf.constant(value=mask_mat, shape=list(np.array(mask_mat).shape), dtype='float32') # mask_matrix\n",
    "\n",
    "with tf.name_scope(\"word_embedding\"):\n",
    "    if mode == 'train':\n",
    "        unk_word_emb_mat = tf.get_variable(\"word_emb_mat\", dtype='float', shape=[unk_vocab_size, word_emb_size], initializer=tf.contrib.layers.xavier_initializer(uniform=True, seed=0, dtype=tf.float32))\n",
    "    else:\n",
    "        unk_word_emb_mat = tf.get_variable(\"word_emb_mat\", shape=[unk_vocab_size, word_emb_size], dtype='float')\n",
    "        \n",
    "    final_word_emb_mat = tf.concat([word_emb_mat, unk_word_emb_mat], 0)\n",
    "    Wx = tf.nn.embedding_lookup(final_word_emb_mat, x)  \n",
    "\n",
    "with tf.variable_scope(\"lstm1\"):\n",
    "    cell_fw1 = tf.contrib.rnn.BasicLSTMCell(hidden_size,state_is_tuple=True)\n",
    "    cell_bw1 = tf.contrib.rnn.BasicLSTMCell(hidden_size,state_is_tuple=True)\n",
    "\n",
    "    d_cell_fw1 = tf.contrib.rnn.DropoutWrapper(cell_fw1, input_keep_prob=input_keep_prob)\n",
    "    d_cell_bw1 = tf.contrib.rnn.DropoutWrapper(cell_bw1, input_keep_prob=input_keep_prob)\n",
    "    \n",
    "    (fw_h1, bw_h1), _ = tf.nn.bidirectional_dynamic_rnn(d_cell_fw1, d_cell_bw1, Wx, sequence_length=x_len, dtype='float', scope='lstm1')\n",
    "    h1 = tf.concat([fw_h1, bw_h1], 2)\n",
    "    \n",
    "with tf.variable_scope(\"lstm2\"):\n",
    "    cell_fw2 = tf.contrib.rnn.BasicLSTMCell(hidden_size,state_is_tuple=True)\n",
    "    cell_bw2 = tf.contrib.rnn.BasicLSTMCell(hidden_size,state_is_tuple=True)\n",
    "\n",
    "    d_cell_fw2 = tf.contrib.rnn.DropoutWrapper(cell_fw2, input_keep_prob=input_keep_prob)\n",
    "    d_cell_bw2 = tf.contrib.rnn.DropoutWrapper(cell_bw2, input_keep_prob=input_keep_prob)\n",
    "    \n",
    "    (fw_h2, bw_h2), _ = tf.nn.bidirectional_dynamic_rnn(d_cell_fw2, d_cell_bw2, h1, sequence_length=x_len, dtype='float', scope='lstm2')\n",
    "    h = tf.concat([fw_h2, bw_h2], 2)\n",
    "    \n",
    "with tf.variable_scope(\"attention_pos\"):\n",
    "    W_att1 = tf.Variable(tf.truncated_normal([2*hidden_size, 1], mean=0.0, stddev=0.1, seed=0), name=\"W_att1\")\n",
    "    c1 = tf.expand_dims(attention(h1[0], x_mask[0], W_att1), 0)\n",
    "    for i in range(1, batch_size):\n",
    "        c1 = tf.concat([c1, tf.expand_dims(attention(h1[i], x_mask[i], W_att1), 0)], 0)\n",
    "        \n",
    "with tf.variable_scope(\"softmax_layer_pos\"):\n",
    "    W1 = tf.Variable(tf.truncated_normal([2*hidden_size, num_pos], mean=0.0, stddev=0.1, seed=0), name=\"W1\")\n",
    "    b1 = tf.Variable(tf.zeros([num_pos]), name=\"b1\")\n",
    "    drop_c1 = tf.nn.dropout(c1, input_keep_prob)\n",
    "    logits_pos = tf.matmul(drop_c1, W1) + b1\n",
    "    predictions_pos = tf.argmax(logits_pos, 1)\n",
    "    final_masking = tf.nn.embedding_lookup(mask_matrix, predictions_pos)\n",
    "\n",
    "with tf.variable_scope(\"attention\"):\n",
    "    W_att = tf.Variable(tf.truncated_normal([2*hidden_size, 1], mean=0.0, stddev=0.1, seed=0), name=\"W_att\")\n",
    "    c = tf.expand_dims(attention(h[0], x_mask[0], W_att), 0)\n",
    "    for i in range(1, batch_size):\n",
    "        c = tf.concat([c, tf.expand_dims(attention(h[i], x_mask[i], W_att), 0)], 0)\n",
    "        \n",
    "with tf.variable_scope(\"softmax_layer\"):\n",
    "    W = tf.Variable(tf.truncated_normal([2*hidden_size, num_senses], mean=0.0, stddev=0.1, seed=0), name=\"W\")\n",
    "    b = tf.Variable(tf.zeros([num_senses]), name=\"b\")\n",
    "    drop_c = tf.nn.dropout(c, input_keep_prob)\n",
    "    logits = tf.matmul(drop_c, W) + b\n",
    "    masked_logits = logits + final_masking\n",
    "    predictions = tf.argmax(masked_logits, 1)\n",
    "    \n",
    "loss_pos = lambda_loss_pos * tf.reduce_mean(tf.nn.sparse_softmax_cross_entropy_with_logits(logits=logits_pos, labels=y_pos))\n",
    "loss = tf.reduce_mean(tf.nn.sparse_softmax_cross_entropy_with_logits(logits=masked_logits, labels=y))\n",
    "\n",
    "global_step = tf.Variable(0, trainable=False, name=\"global_step\")\n",
    "\n",
    "learning_rate = tf.train.exponential_decay(init_lr, global_step, decay_steps, decay_rate, staircase=True)\n",
    "\n",
    "tv_all = tf.trainable_variables()\n",
    "tv_regu =[]\n",
    "for t in tv_all:\n",
    "    if t.name.find('b:')==-1:\n",
    "        tv_regu.append(t)\n",
    "        \n",
    "# l2 Loss\n",
    "l2_loss = l2_lambda * tf.reduce_sum([ tf.nn.l2_loss(v) for v in tv_regu ])\n",
    "\n",
    "total_loss = loss + l2_loss + loss_pos\n",
    "\n",
    "#pos optimizer\n",
    "pos_optimizer = tf.train.AdamOptimizer(learning_rate).minimize(loss_pos, global_step)\n",
    "\n",
    "# Optimizer for loss\n",
    "optimizer = tf.train.AdamOptimizer(learning_rate)\n",
    "\n",
    "# Gradients and Variables for Loss\n",
    "grads_vars = optimizer.compute_gradients(total_loss)\n",
    "\n",
    "# Clipping of Gradients\n",
    "clipped_grads = grads_vars\n",
    "if(clipping == True):\n",
    "    clipped_grads = [(tf.clip_by_norm(grad, clip_norm), var) for grad, var in clipped_grads]\n",
    "\n",
    "# Training Optimizer for Total Loss\n",
    "train_op = optimizer.apply_gradients(clipped_grads, global_step=global_step)\n",
    "\n",
    "# Summaries\n",
    "var_summaries = []\n",
    "for v in tv_all:\n",
    "    var_summary = tf.summary.histogram(\"{}/var\".format(v.name), v)\n",
    "    var_summaries.append(var_summary)\n",
    "\n",
    "var_summaries_merged = tf.summary.merge(var_summaries)\n",
    "\n",
    "loss_summary = tf.summary.scalar(\"loss\", loss)\n",
    "loss_poss_summary = tf.summary.scalar('loss_pos',loss_pos)\n",
    "total_loss_summary = tf.summary.scalar(\"total_loss\", total_loss)\n",
    "summary = tf.summary.merge_all()"
   ]
  },
  {
   "cell_type": "code",
   "execution_count": 12,
   "metadata": {
    "collapsed": true
   },
   "outputs": [],
   "source": [
    "os.environ[\"CUDA_DEVICE_ORDER\"]=\"PCI_BUS_ID\"   # see issue #152\n",
    "os.environ[\"CUDA_VISIBLE_DEVICES\"]=\"0\"\n",
    "config = tf.ConfigProto()\n",
    "config.gpu_options.allow_growth = True\n",
    "sess = tf.Session(config=config)\n",
    "sess.run(tf.global_variables_initializer())                          # For initializing all the variables\n",
    "saver = tf.train.Saver()                                             # For Saving the model\n",
    "summary_writer = tf.summary.FileWriter(log_dir, sess.graph)          # For writing Summaries"
   ]
  },
  {
   "cell_type": "code",
   "execution_count": 13,
   "metadata": {
    "collapsed": true
   },
   "outputs": [],
   "source": [
    "index = []\n",
    "for i in range(len(data_x)):\n",
    "    index.append(i)"
   ]
  },
  {
   "cell_type": "code",
   "execution_count": 14,
   "metadata": {
    "scrolled": true
   },
   "outputs": [
    {
     "name": "stderr",
     "output_type": "stream",
     "text": [
      "/users/btech/aviraj/cs771/lib/python3.5/site-packages/sklearn/model_selection/_split.py:2026: FutureWarning: From version 0.21, test_size will always complement train_size unless both are specified.\n",
      "  FutureWarning)\n"
     ]
    }
   ],
   "source": [
    "index_train, index_val, label_train, label_val = train_test_split(index, data_label, train_size=0.8, shuffle=True, stratify=data_label, random_state=0)\n",
    "\n",
    "data_x = np.array(data_x)\n",
    "data_pos = np.array(data_pos)\n",
    "\n",
    "x_train = data_x[index_train]\n",
    "pos_train = data_pos[index_train]\n",
    "x_val = data_x[index_val]\n",
    "pos_val = data_pos[index_val]"
   ]
  },
  {
   "cell_type": "code",
   "execution_count": 15,
   "metadata": {
    "collapsed": true
   },
   "outputs": [],
   "source": [
    "def data_prepare(x, y, p):\n",
    "    num_examples = len(x)\n",
    "\n",
    "    xx = np.zeros([num_examples, max_sent_size], dtype=int)\n",
    "    xx_mask = np.zeros([num_examples, max_sent_size], dtype=bool)\n",
    "    yy = np.zeros([num_examples], dtype=int)\n",
    "    pp = np.zeros([num_examples], dtype=int)\n",
    "    \n",
    "    for j in range(num_examples):\n",
    "        for i in range(max_sent_size):\n",
    "            if(i>=len(x[j])):\n",
    "                break\n",
    "            w = x[j][i]\n",
    "            xx[j][i] = word2id[w] if w in word2id else word2id['UNKNOWN_TOKEN']\n",
    "            xx_mask[j][i] = True\n",
    "        yy[j] = sense2id[y[j]]\n",
    "        pp[j] = pos2id[p[j]]\n",
    "    return xx, xx_mask, yy, pp\n",
    "\n",
    "def eval_score(yy, pred, pp, pred_pos):\n",
    "    num_batches = int(len(yy)/batch_size)\n",
    "    f1 = f1_score(yy[:batch_size*num_batches], pred, average='macro')\n",
    "    accu = accuracy_score(yy[:batch_size*num_batches], pred)\n",
    "    \n",
    "    f1_pos = f1_score(pp[:batch_size*num_batches], pred_pos, average='macro')\n",
    "    accu_pos = accuracy_score(pp[:batch_size*num_batches], pred_pos)\n",
    "    return f1*100, accu*100, f1_pos*100, accu_pos*100\n",
    "\n",
    "def model(xx, yy, mask, pp, train_cond=True, pre_train=False):\n",
    "    num_batches = int(len(xx)/batch_size)\n",
    "    losses = 0\n",
    "    preds = []\n",
    "    pos_preds = []\n",
    "    for j in range(num_batches): \n",
    "        \n",
    "        s = j * batch_size\n",
    "        e = (j+1) * batch_size\n",
    "        \n",
    "        feed_dict = {x:xx[s:e], y:yy[s:e], y_pos:pp[s:e], x_mask:mask[s:e], is_train:train_cond, input_keep_prob:keep_prob, word_emb_mat:word_embedding}\n",
    "        \n",
    "        if(train_cond==True):\n",
    "            \n",
    "            if(pre_train==False):\n",
    "                _, _loss, step, _summary = sess.run([train_op, total_loss, global_step, summary], feed_dict)\n",
    "                \n",
    "            else:\n",
    "                _, _loss, step, _summary = sess.run([pos_optimizer, loss_pos, global_step, summary], feed_dict)\n",
    "            \n",
    "            summary_writer.add_summary(_summary, step)\n",
    "#             if step%5==0:\n",
    "#                 print(\"Steps:{}\".format(step), \", Loss: {}\".format(_loss))\n",
    "\n",
    "        else:\n",
    "            _loss, pred, pred_pos = sess.run([total_loss, predictions, predictions_pos], feed_dict)\n",
    "            preds.append(pred)\n",
    "            pos_preds.append(pred_pos)\n",
    "            \n",
    "        losses +=_loss\n",
    "        \n",
    "\n",
    "    if(train_cond==False):\n",
    "        y_pred = []\n",
    "        y_pred_pos = []\n",
    "        for i in range(num_batches):\n",
    "            for pred in preds[i]:\n",
    "                y_pred.append(pred)\n",
    "            for pred_pos in pos_preds[i]:\n",
    "                y_pred_pos.append(pred_pos)\n",
    "        return losses/num_batches, y_pred, y_pred_pos\n",
    "    \n",
    "    return losses/num_batches, step"
   ]
  },
  {
   "cell_type": "code",
   "execution_count": 16,
   "metadata": {
    "collapsed": true
   },
   "outputs": [],
   "source": [
    "x_id_train, mask_train, y_train, pos_id_train = data_prepare(x_train, label_train, pos_train)\n",
    "x_id_val, mask_val, y_val, pos_id_val = data_prepare(x_val, label_val, pos_val)"
   ]
  },
  {
   "cell_type": "code",
   "execution_count": 17,
   "metadata": {
    "scrolled": true
   },
   "outputs": [
    {
     "name": "stdout",
     "output_type": "stream",
     "text": [
      "Epoch: 1 Step: 36 loss: 21.8969282309\n",
      "Epoch: 2 Step: 72 loss: 9.80446726746\n",
      "Epoch: 3 Step: 108 loss: 5.09259557724\n",
      "Epoch: 4 Step: 144 loss: 4.21007762353\n",
      "Epoch: 5 Step: 180 loss: 3.94382602639\n",
      "Model Saved\n",
      "Train: F1 :  69.6004349936 Accu:  73.6111111111 POS F1 :  78.4464114833 POS Accu:  89.7135416667 Loss:  3.29270711872\n",
      "Val: F1 :  64.3952227729 Accu:  72.2222222222 POS F1 :  70.3872250839 POS Accu:  87.5 Loss:  3.79521531529\n",
      "Epoch: 6 Step: 216 loss: 3.09698627724\n",
      "Epoch: 7 Step: 252 loss: 3.05618672238\n",
      "Epoch: 8 Step: 288 loss: 2.55131233401\n",
      "Epoch: 9 Step: 324 loss: 2.33202405771\n",
      "Epoch: 10 Step: 360 loss: 2.40377136403\n",
      "Model Saved\n",
      "Train: F1 :  78.5545474152 Accu:  82.3784722222 POS F1 :  88.1695154342 POS Accu:  96.6145833333 Loss:  1.92333390978\n",
      "Val: F1 :  71.714776859 Accu:  77.4305555556 POS F1 :  82.0153061224 POS Accu:  94.2708333333 Loss:  3.092994531\n",
      "Epoch: 11 Step: 396 loss: 2.20402385791\n",
      "Epoch: 12 Step: 432 loss: 2.02549107207\n",
      "Epoch: 13 Step: 468 loss: 2.04604772396\n",
      "Epoch: 14 Step: 504 loss: 1.95408332679\n",
      "Epoch: 15 Step: 540 loss: 1.82812712424\n",
      "Model Saved\n",
      "Train: F1 :  75.158698729 Accu:  81.0329861111 POS F1 :  86.6578807997 POS Accu:  96.875 Loss:  1.8554794242\n",
      "Val: F1 :  68.4873340948 Accu:  75.3472222222 POS F1 :  80.770894081 POS Accu:  94.6180555556 Loss:  3.07566685147\n",
      "Epoch: 16 Step: 576 loss: 1.94995750984\n",
      "Epoch: 17 Step: 612 loss: 1.7059407019\n",
      "Epoch: 18 Step: 648 loss: 1.83535742429\n",
      "Epoch: 19 Step: 684 loss: 1.72319158415\n",
      "Epoch: 20 Step: 720 loss: 1.80404807462\n",
      "Model Saved\n",
      "Train: F1 :  79.2479830011 Accu:  83.0729166667 POS F1 :  88.588861424 POS Accu:  97.65625 Loss:  1.51439932651\n",
      "Val: F1 :  72.6321350084 Accu:  78.8194444444 POS F1 :  81.8041616648 POS Accu:  95.3125 Loss:  2.28024183379\n"
     ]
    }
   ],
   "source": [
    "num_epochs = 20\n",
    "pre_train_period = 1\n",
    "log_period = 5\n",
    "\n",
    "for i in range(num_epochs):\n",
    "    random = np.random.choice(len(y_train), size=(len(y_train)), replace=False)\n",
    "    x_id_train = x_id_train[random]\n",
    "    y_train = y_train[random]\n",
    "    mask_train = mask_train[random]    \n",
    "    pos_id_train = pos_id_train[random]\n",
    "    \n",
    "    if(i<pre_train_period):\n",
    "        losses, step = model(x_id_train, y_train, mask_train, pos_id_train, pre_train=True)\n",
    "    else:\n",
    "        losses, step = model(x_id_train, y_train, mask_train, pos_id_train)\n",
    "    print(\"Epoch:\", i+1,\"Step:\", step, \"loss:\",losses)\n",
    "    \n",
    "    if((i+1)%log_period==0):\n",
    "        saver.save(sess, save_path=save_dir)                         \n",
    "        print(\"Model Saved\")\n",
    "        train_loss, train_pred, train_pred_pos = model(x_id_train, y_train, mask_train, pos_id_train, train_cond=False)        \n",
    "        f1_, accu_, f1_pos_, accu_pos_ = eval_score(y_train, train_pred, pos_id_train, train_pred_pos)\n",
    "        print(\"Train: F1 : \",  f1_, \"Accu: \", accu_, \"POS F1 : \",  f1_pos_, \"POS Accu: \", accu_pos_, \"Loss: \", train_loss)\n",
    "        \n",
    "        val_loss, val_pred, val_pred_pos = model(x_id_val, y_val, mask_val, pos_id_val, train_cond=False)        \n",
    "        f1_, accu_, f1_pos_, accu_pos_ = eval_score(y_val, val_pred, pos_id_val, val_pred_pos)\n",
    "        print(\"Val: F1 : \",  f1_, \"Accu: \", accu_, \"POS F1 : \",  f1_pos_, \"POS Accu: \", accu_pos_, \"Loss: \", val_loss)"
   ]
  },
  {
   "cell_type": "code",
   "execution_count": 18,
   "metadata": {
    "scrolled": true
   },
   "outputs": [
    {
     "name": "stdout",
     "output_type": "stream",
     "text": [
      "Epoch: 1 Step: 756 loss: 1.63047157394\n",
      "Epoch: 2 Step: 792 loss: 1.82176745269\n",
      "Epoch: 3 Step: 828 loss: 1.78814751241\n",
      "Epoch: 4 Step: 864 loss: 1.70890692539\n",
      "Epoch: 5 Step: 900 loss: 1.51069986986\n",
      "Model Saved\n",
      "Train: F1 :  78.3717553621 Accu:  82.5954861111 POS F1 :  90.0428910143 POS Accu:  98.046875 Loss:  1.51625163853\n",
      "Val: F1 :  71.3191007137 Accu:  78.2986111111 POS F1 :  82.4775802014 POS Accu:  95.4861111111 Loss:  2.59215192\n",
      "Epoch: 6 Step: 936 loss: 1.66473294795\n",
      "Epoch: 7 Step: 972 loss: 1.66106306348\n",
      "Epoch: 8 Step: 1008 loss: 1.54364405738\n",
      "Epoch: 9 Step: 1044 loss: 1.43126892216\n",
      "Epoch: 10 Step: 1080 loss: 1.81673226754\n",
      "Model Saved\n",
      "Train: F1 :  80.8607853856 Accu:  84.2881944444 POS F1 :  89.708557541 POS Accu:  97.5694444444 Loss:  1.55799801813\n",
      "Val: F1 :  71.8077448855 Accu:  77.9513888889 POS F1 :  82.6057127396 POS Accu:  95.8333333333 Loss:  2.61528544956\n",
      "Epoch: 11 Step: 1116 loss: 1.52786907057\n",
      "Epoch: 12 Step: 1152 loss: 1.56849200858\n",
      "Epoch: 13 Step: 1188 loss: 1.46115235984\n",
      "Epoch: 14 Step: 1224 loss: 1.5368652261\n",
      "Epoch: 15 Step: 1260 loss: 1.61042116748\n",
      "Model Saved\n",
      "Train: F1 :  82.5946282329 Accu:  85.4166666667 POS F1 :  91.2463318709 POS Accu:  98.1336805556 Loss:  1.38327096072\n",
      "Val: F1 :  69.2984382612 Accu:  77.2569444444 POS F1 :  78.0865626273 POS Accu:  94.7916666667 Loss:  2.67767694261\n",
      "Epoch: 16 Step: 1296 loss: 1.56489165955\n",
      "Epoch: 17 Step: 1332 loss: 1.40816767183\n",
      "Epoch: 18 Step: 1368 loss: 1.42552177277\n",
      "Epoch: 19 Step: 1404 loss: 1.43839668731\n",
      "Epoch: 20 Step: 1440 loss: 1.59182662765\n",
      "Model Saved\n",
      "Train: F1 :  84.2332182591 Accu:  87.4565972222 POS F1 :  90.9691879672 POS Accu:  97.9600694444 Loss:  1.49519247976\n",
      "Val: F1 :  72.2836611797 Accu:  79.1666666667 POS F1 :  78.8748066389 POS Accu:  94.0972222222 Loss:  3.20076257653\n"
     ]
    }
   ],
   "source": [
    "num_epochs = 20\n",
    "pre_train_period = 0\n",
    "log_period = 5\n",
    "\n",
    "for i in range(num_epochs):\n",
    "    random = np.random.choice(len(y_train), size=(len(y_train)), replace=False)\n",
    "    x_id_train = x_id_train[random]\n",
    "    y_train = y_train[random]\n",
    "    mask_train = mask_train[random]    \n",
    "    pos_id_train = pos_id_train[random]\n",
    "    \n",
    "    if(i<pre_train_period):\n",
    "        losses, step = model(x_id_train, y_train, mask_train, pos_id_train, pre_train=True)\n",
    "    else:\n",
    "        losses, step = model(x_id_train, y_train, mask_train, pos_id_train)\n",
    "    print(\"Epoch:\", i+1,\"Step:\", step, \"loss:\",losses)\n",
    "    \n",
    "    if((i+1)%log_period==0):\n",
    "        saver.save(sess, save_path=save_dir)                         \n",
    "        print(\"Model Saved\")\n",
    "        train_loss, train_pred, train_pred_pos = model(x_id_train, y_train, mask_train, pos_id_train, train_cond=False)        \n",
    "        f1_, accu_, f1_pos_, accu_pos_ = eval_score(y_train, train_pred, pos_id_train, train_pred_pos)\n",
    "        print(\"Train: F1 : \",  f1_, \"Accu: \", accu_, \"POS F1 : \",  f1_pos_, \"POS Accu: \", accu_pos_, \"Loss: \", train_loss)\n",
    "        \n",
    "        val_loss, val_pred, val_pred_pos = model(x_id_val, y_val, mask_val, pos_id_val, train_cond=False)        \n",
    "        f1_, accu_, f1_pos_, accu_pos_ = eval_score(y_val, val_pred, pos_id_val, val_pred_pos)\n",
    "        print(\"Val: F1 : \",  f1_, \"Accu: \", accu_, \"POS F1 : \",  f1_pos_, \"POS Accu: \", accu_pos_, \"Loss: \", val_loss)"
   ]
  },
  {
   "cell_type": "code",
   "execution_count": 19,
   "metadata": {},
   "outputs": [
    {
     "name": "stdout",
     "output_type": "stream",
     "text": [
      "Epoch: 1 Step: 1476 loss: 1.43702010148\n",
      "Epoch: 2 Step: 1512 loss: 1.54745191005\n",
      "Epoch: 3 Step: 1548 loss: 1.36256227891\n",
      "Epoch: 4 Step: 1584 loss: 1.40791427261\n",
      "Epoch: 5 Step: 1620 loss: 1.40624564886\n",
      "Model Saved\n",
      "Train: F1 :  84.4690811015 Accu:  87.109375 POS F1 :  92.2912904826 POS Accu:  98.3940972222 Loss:  1.30723123584\n",
      "Val: F1 :  75.4374473244 Accu:  82.1180555556 POS F1 :  82.3044312485 POS Accu:  95.8333333333 Loss:  2.2801221874\n",
      "Epoch: 6 Step: 1656 loss: 1.37537008027\n",
      "Epoch: 7 Step: 1692 loss: 1.34326302674\n",
      "Epoch: 8 Step: 1728 loss: 1.47245303955\n",
      "Epoch: 9 Step: 1764 loss: 1.49635111954\n",
      "Epoch: 10 Step: 1800 loss: 1.47039725549\n",
      "Model Saved\n",
      "Train: F1 :  84.7264582031 Accu:  87.2395833333 POS F1 :  92.7341580323 POS Accu:  98.5677083333 Loss:  1.30897858242\n",
      "Val: F1 :  74.6608991648 Accu:  81.25 POS F1 :  82.6764009736 POS Accu:  95.8333333333 Loss:  2.77616389592\n",
      "Epoch: 11 Step: 1836 loss: 1.2609636618\n",
      "Epoch: 12 Step: 1872 loss: 1.64901690682\n",
      "Epoch: 13 Step: 1908 loss: 1.50647849838\n",
      "Epoch: 14 Step: 1944 loss: 1.43439364102\n",
      "Epoch: 15 Step: 1980 loss: 1.3425039798\n",
      "Model Saved\n",
      "Train: F1 :  84.4310965676 Accu:  87.5434027778 POS F1 :  91.5622394463 POS Accu:  98.2204861111 Loss:  1.36223284403\n",
      "Val: F1 :  74.1735897947 Accu:  80.5555555556 POS F1 :  81.6674414136 POS Accu:  95.1388888889 Loss:  2.78460473484\n",
      "Epoch: 16 Step: 2016 loss: 1.55863481263\n",
      "Epoch: 17 Step: 2052 loss: 1.39331632853\n",
      "Epoch: 18 Step: 2088 loss: 1.49196801583\n",
      "Epoch: 19 Step: 2124 loss: 1.19809203678\n",
      "Epoch: 20 Step: 2160 loss: 1.36199280951\n",
      "Model Saved\n",
      "Train: F1 :  82.7322210462 Accu:  84.6354166667 POS F1 :  92.9260971492 POS Accu:  98.6545138889 Loss:  1.31997574038\n",
      "Val: F1 :  72.7463849336 Accu:  78.125 POS F1 :  82.8135329206 POS Accu:  95.6597222222 Loss:  2.39778896173\n"
     ]
    }
   ],
   "source": [
    "num_epochs = 20\n",
    "pre_train_period = 0\n",
    "log_period = 5\n",
    "\n",
    "for i in range(num_epochs):\n",
    "    random = np.random.choice(len(y_train), size=(len(y_train)), replace=False)\n",
    "    x_id_train = x_id_train[random]\n",
    "    y_train = y_train[random]\n",
    "    mask_train = mask_train[random]    \n",
    "    pos_id_train = pos_id_train[random]\n",
    "    \n",
    "    if(i<pre_train_period):\n",
    "        losses, step = model(x_id_train, y_train, mask_train, pos_id_train, pre_train=True)\n",
    "    else:\n",
    "        losses, step = model(x_id_train, y_train, mask_train, pos_id_train)\n",
    "    print(\"Epoch:\", i+1,\"Step:\", step, \"loss:\",losses)\n",
    "    \n",
    "    if((i+1)%log_period==0):\n",
    "        saver.save(sess, save_path=save_dir)                         \n",
    "        print(\"Model Saved\")\n",
    "        train_loss, train_pred, train_pred_pos = model(x_id_train, y_train, mask_train, pos_id_train, train_cond=False)        \n",
    "        f1_, accu_, f1_pos_, accu_pos_ = eval_score(y_train, train_pred, pos_id_train, train_pred_pos)\n",
    "        print(\"Train: F1 : \",  f1_, \"Accu: \", accu_, \"POS F1 : \",  f1_pos_, \"POS Accu: \", accu_pos_, \"Loss: \", train_loss)\n",
    "        \n",
    "        val_loss, val_pred, val_pred_pos = model(x_id_val, y_val, mask_val, pos_id_val, train_cond=False)        \n",
    "        f1_, accu_, f1_pos_, accu_pos_ = eval_score(y_val, val_pred, pos_id_val, val_pred_pos)\n",
    "        print(\"Val: F1 : \",  f1_, \"Accu: \", accu_, \"POS F1 : \",  f1_pos_, \"POS Accu: \", accu_pos_, \"Loss: \", val_loss)"
   ]
  },
  {
   "cell_type": "code",
   "execution_count": 20,
   "metadata": {},
   "outputs": [
    {
     "name": "stdout",
     "output_type": "stream",
     "text": [
      "Epoch: 1 Step: 2196 loss: 1.21775085562\n",
      "Epoch: 2 Step: 2232 loss: 1.41121093432\n",
      "Epoch: 3 Step: 2268 loss: 1.3769743128\n",
      "Epoch: 4 Step: 2304 loss: 1.43151060575\n",
      "Epoch: 5 Step: 2340 loss: 1.26490189301\n",
      "Model Saved\n",
      "Train: F1 :  85.6885197458 Accu:  87.890625 POS F1 :  93.1725243792 POS Accu:  98.7847222222 Loss:  1.169742619\n",
      "Val: F1 :  71.5544445697 Accu:  78.9930555556 POS F1 :  79.490798598 POS Accu:  95.8333333333 Loss:  2.47847436534\n"
     ]
    }
   ],
   "source": [
    "num_epochs = 5\n",
    "pre_train_period = 0\n",
    "log_period = 5\n",
    "\n",
    "for i in range(num_epochs):\n",
    "    random = np.random.choice(len(y_train), size=(len(y_train)), replace=False)\n",
    "    x_id_train = x_id_train[random]\n",
    "    y_train = y_train[random]\n",
    "    mask_train = mask_train[random]    \n",
    "    pos_id_train = pos_id_train[random]\n",
    "    \n",
    "    if(i<pre_train_period):\n",
    "        losses, step = model(x_id_train, y_train, mask_train, pos_id_train, pre_train=True)\n",
    "    else:\n",
    "        losses, step = model(x_id_train, y_train, mask_train, pos_id_train)\n",
    "    print(\"Epoch:\", i+1,\"Step:\", step, \"loss:\",losses)\n",
    "    \n",
    "    if((i+1)%log_period==0):\n",
    "        saver.save(sess, save_path=save_dir)                         \n",
    "        print(\"Model Saved\")\n",
    "        train_loss, train_pred, train_pred_pos = model(x_id_train, y_train, mask_train, pos_id_train, train_cond=False)        \n",
    "        f1_, accu_, f1_pos_, accu_pos_ = eval_score(y_train, train_pred, pos_id_train, train_pred_pos)\n",
    "        print(\"Train: F1 : \",  f1_, \"Accu: \", accu_, \"POS F1 : \",  f1_pos_, \"POS Accu: \", accu_pos_, \"Loss: \", train_loss)\n",
    "        \n",
    "        val_loss, val_pred, val_pred_pos = model(x_id_val, y_val, mask_val, pos_id_val, train_cond=False)        \n",
    "        f1_, accu_, f1_pos_, accu_pos_ = eval_score(y_val, val_pred, pos_id_val, val_pred_pos)\n",
    "        print(\"Val: F1 : \",  f1_, \"Accu: \", accu_, \"POS F1 : \",  f1_pos_, \"POS Accu: \", accu_pos_, \"Loss: \", val_loss)"
   ]
  },
  {
   "cell_type": "code",
   "execution_count": 21,
   "metadata": {},
   "outputs": [
    {
     "name": "stdout",
     "output_type": "stream",
     "text": [
      "Epoch: 1 Step: 2376 loss: 1.2839647664\n",
      "Epoch: 2 Step: 2412 loss: 1.29688884318\n",
      "Epoch: 3 Step: 2448 loss: 1.28448282844\n",
      "Epoch: 4 Step: 2484 loss: 1.52144949138\n",
      "Epoch: 5 Step: 2520 loss: 1.35029383666\n",
      "Model Saved\n",
      "Train: F1 :  86.541914463 Accu:  87.7604166667 POS F1 :  95.3276863965 POS Accu:  99.0017361111 Loss:  1.11430486374\n",
      "Val: F1 :  76.3968352313 Accu:  80.5555555556 POS F1 :  85.9495869442 POS Accu:  96.1805555556 Loss:  2.54171991348\n"
     ]
    }
   ],
   "source": [
    "num_epochs = 5\n",
    "pre_train_period = 0\n",
    "log_period = 5\n",
    "\n",
    "for i in range(num_epochs):\n",
    "    random = np.random.choice(len(y_train), size=(len(y_train)), replace=False)\n",
    "    x_id_train = x_id_train[random]\n",
    "    y_train = y_train[random]\n",
    "    mask_train = mask_train[random]    \n",
    "    pos_id_train = pos_id_train[random]\n",
    "    \n",
    "    if(i<pre_train_period):\n",
    "        losses, step = model(x_id_train, y_train, mask_train, pos_id_train, pre_train=True)\n",
    "    else:\n",
    "        losses, step = model(x_id_train, y_train, mask_train, pos_id_train)\n",
    "    print(\"Epoch:\", i+1,\"Step:\", step, \"loss:\",losses)\n",
    "    \n",
    "    if((i+1)%log_period==0):\n",
    "        saver.save(sess, save_path=save_dir)                         \n",
    "        print(\"Model Saved\")\n",
    "        train_loss, train_pred, train_pred_pos = model(x_id_train, y_train, mask_train, pos_id_train, train_cond=False)        \n",
    "        f1_, accu_, f1_pos_, accu_pos_ = eval_score(y_train, train_pred, pos_id_train, train_pred_pos)\n",
    "        print(\"Train: F1 : \",  f1_, \"Accu: \", accu_, \"POS F1 : \",  f1_pos_, \"POS Accu: \", accu_pos_, \"Loss: \", train_loss)\n",
    "        \n",
    "        val_loss, val_pred, val_pred_pos = model(x_id_val, y_val, mask_val, pos_id_val, train_cond=False)        \n",
    "        f1_, accu_, f1_pos_, accu_pos_ = eval_score(y_val, val_pred, pos_id_val, val_pred_pos)\n",
    "        print(\"Val: F1 : \",  f1_, \"Accu: \", accu_, \"POS F1 : \",  f1_pos_, \"POS Accu: \", accu_pos_, \"Loss: \", val_loss)"
   ]
  },
  {
   "cell_type": "code",
   "execution_count": null,
   "metadata": {
    "collapsed": true
   },
   "outputs": [],
   "source": [
    "saver.restore(sess, save_dir)"
   ]
  }
 ],
 "metadata": {
  "kernelspec": {
   "display_name": "cs771",
   "language": "python",
   "name": "cs771"
  },
  "language_info": {
   "codemirror_mode": {
    "name": "ipython",
    "version": 3
   },
   "file_extension": ".py",
   "mimetype": "text/x-python",
   "name": "python",
   "nbconvert_exporter": "python",
   "pygments_lexer": "ipython3",
   "version": "3.5.2"
  }
 },
 "nbformat": 4,
 "nbformat_minor": 2
}
