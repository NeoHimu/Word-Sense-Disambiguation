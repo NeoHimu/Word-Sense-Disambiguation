{
 "cells": [
  {
   "cell_type": "code",
   "execution_count": 1,
   "metadata": {
    "collapsed": true
   },
   "outputs": [],
   "source": [
    "import tensorflow as tf\n",
    "tf.logging.set_verbosity(tf.logging.WARN)\n",
    "import pickle\n",
    "import numpy as np\n",
    "import os\n",
    "from sklearn.model_selection import train_test_split\n",
    "from sklearn.metrics import f1_score\n",
    "from sklearn.metrics import accuracy_score\n",
    "import os\n",
    "from tensorflow.python.client import device_lib\n",
    "from collections import Counter\n",
    "from math import inf"
   ]
  },
  {
   "cell_type": "code",
   "execution_count": 2,
   "metadata": {
    "collapsed": true
   },
   "outputs": [],
   "source": [
    "f = open('../../Glove/word_embedding_glove', 'rb')\n",
    "word_embedding = pickle.load(f)\n",
    "f.close()\n",
    "word_embedding = word_embedding[: len(word_embedding)-1]\n",
    "\n",
    "f = open('../../Glove/vocab_glove', 'rb')\n",
    "vocab = pickle.load(f)\n",
    "f.close()\n",
    "\n",
    "word2id = dict((w, i) for i,w in enumerate(vocab))\n",
    "id2word = dict((i, w) for i,w in enumerate(vocab))\n",
    "\n",
    "unknown_token = \"UNKNOWN_TOKEN\""
   ]
  },
  {
   "cell_type": "code",
   "execution_count": 3,
   "metadata": {
    "collapsed": true
   },
   "outputs": [],
   "source": [
    "f = open(\"../../../dataset/sense/dict_sense-keys\", 'rb')\n",
    "dict_sense_keys = pickle.load(f)\n",
    "f.close()\n",
    "\n",
    "f = open(\"../../../dataset/sense/dict_word-sense\", 'rb')\n",
    "dict_word_sense = pickle.load(f)\n",
    "f.close()"
   ]
  },
  {
   "cell_type": "code",
   "execution_count": 4,
   "metadata": {
    "collapsed": true
   },
   "outputs": [],
   "source": [
    "# Model Description\n",
    "sense_word = 'place'\n",
    "model_name = 'model-4'\n",
    "sense_word_dir = '../output/' + sense_word\n",
    "model_dir = sense_word_dir + '/' + model_name\n",
    "save_dir = os.path.join(model_dir, \"save/\")\n",
    "log_dir = os.path.join(model_dir, \"log\")\n",
    "\n",
    "if not os.path.exists(sense_word_dir):\n",
    "    os.mkdir(sense_word_dir)\n",
    "if not os.path.exists(model_dir):\n",
    "    os.mkdir(model_dir)\n",
    "if not os.path.exists(save_dir):\n",
    "    os.mkdir(save_dir)\n",
    "if not os.path.exists(log_dir):\n",
    "    os.mkdir(log_dir)"
   ]
  },
  {
   "cell_type": "code",
   "execution_count": 5,
   "metadata": {
    "scrolled": false
   },
   "outputs": [
    {
     "data": {
      "text/plain": [
       "([('1:15', 1149),\n",
       "  ('2:35', 623),\n",
       "  ('2:41', 490),\n",
       "  ('1:26', 488),\n",
       "  ('2:31', 479),\n",
       "  ('1:04', 282)],\n",
       " ['1:15', '1:26', '1:04', '2:35', '2:41', '2:31'])"
      ]
     },
     "execution_count": 5,
     "metadata": {},
     "output_type": "execute_result"
    }
   ],
   "source": [
    "f = open(\"../../../dataset/checkwords/\"+ sense_word + \"_data\", 'rb')\n",
    "data = pickle.load(f)\n",
    "f.close()\n",
    "\n",
    "data_y = []\n",
    "for i in range(len(data)):\n",
    "    data_y.append(dict_sense_keys[data[i][0]][3])\n",
    "\n",
    "sense_count = Counter(data_y)\n",
    "sense_count = sense_count.most_common()[:6]\n",
    "vocab_sense = [k for k,v in sense_count]\n",
    "vocab_sense = sorted(vocab_sense, key=lambda x:int(x[0]))\n",
    "sense_count,vocab_sense"
   ]
  },
  {
   "cell_type": "code",
   "execution_count": 6,
   "metadata": {
    "collapsed": true
   },
   "outputs": [],
   "source": [
    "def make_mask_matrix(sense_word,vocab_sense):\n",
    "    mask_mat = []\n",
    "    sense_list = [int(string[0]) for string in vocab_sense]\n",
    "    sense_count = list(Counter(sense_list).values())\n",
    "    start=0\n",
    "    prev=0\n",
    "    for i in range(len(set(sense_list))):\n",
    "        temp_row=[0]*len(sense_list)\n",
    "        for j in range(len(sense_list)):\n",
    "            if j>=start and j<sense_count[i]+prev:\n",
    "                temp_row[j]= 0\n",
    "            else:\n",
    "                temp_row[j]= -10\n",
    "        start+=sense_count[i]\n",
    "        prev+=sense_count[i]\n",
    "        mask_mat.append(temp_row)\n",
    "    return mask_mat"
   ]
  },
  {
   "cell_type": "code",
   "execution_count": 7,
   "metadata": {},
   "outputs": [
    {
     "data": {
      "text/plain": [
       "['1:15', '1:26', '1:04', '2:35', '2:41', '2:31']"
      ]
     },
     "execution_count": 7,
     "metadata": {},
     "output_type": "execute_result"
    }
   ],
   "source": [
    "vocab_sense"
   ]
  },
  {
   "cell_type": "code",
   "execution_count": 8,
   "metadata": {},
   "outputs": [
    {
     "data": {
      "text/plain": [
       "[[0, 0, 0, -10, -10, -10], [-10, -10, -10, 0, 0, 0]]"
      ]
     },
     "execution_count": 8,
     "metadata": {},
     "output_type": "execute_result"
    }
   ],
   "source": [
    "mask_mat = make_mask_matrix(sense_word,vocab_sense)\n",
    "mask_mat"
   ]
  },
  {
   "cell_type": "code",
   "execution_count": 9,
   "metadata": {},
   "outputs": [
    {
     "name": "stdout",
     "output_type": "stream",
     "text": [
      "3511 3569\n",
      "[1, 2]\n"
     ]
    }
   ],
   "source": [
    "data_x = []\n",
    "data_label = []\n",
    "data_pos = []\n",
    "for i in range(len(data)):\n",
    "    if dict_sense_keys[data[i][0]][3] in vocab_sense:\n",
    "        data_x.append(data[i][1])\n",
    "        data_label.append(dict_sense_keys[data[i][0]][3])\n",
    "        data_pos.append(dict_sense_keys[data[i][0]][1])\n",
    "\n",
    "\n",
    "print(len(data_label), len(data_y))\n",
    "\n",
    "# vocab_sense = dict_word_sense[sense_word]\n",
    "\n",
    "sense2id = dict((s, i) for i,s in enumerate(vocab_sense))\n",
    "id2sense = dict((i, s) for i,s in enumerate(vocab_sense))\n",
    "\n",
    "count_pos = Counter(data_pos)\n",
    "count_pos = count_pos.most_common()\n",
    "vocab_pos = [int(k) for k,v in count_pos]\n",
    "vocab_pos = sorted(vocab_pos, key=lambda x:int(x))\n",
    "\n",
    "pos2id = dict((str(s), i) for i,s in enumerate(vocab_pos))\n",
    "id2pos = dict((i, str(s)) for i,s in enumerate(vocab_pos))\n",
    "\n",
    "print(vocab_pos)"
   ]
  },
  {
   "cell_type": "code",
   "execution_count": 10,
   "metadata": {
    "collapsed": true
   },
   "outputs": [],
   "source": [
    "# Parameters\n",
    "mode = 'train'\n",
    "num_senses = len(vocab_sense)\n",
    "num_pos = len(vocab_pos)\n",
    "batch_size = 64\n",
    "vocab_size = len(vocab)\n",
    "unk_vocab_size = 1\n",
    "word_emb_size = len(word_embedding[0])\n",
    "max_sent_size = 200\n",
    "hidden_size = 100\n",
    "keep_prob = 0.5\n",
    "l2_lambda = 0.001\n",
    "init_lr = 0.005\n",
    "decay_steps = 500\n",
    "decay_rate = 0.96\n",
    "clip_norm = 1\n",
    "clipping = True\n",
    "lambda_loss_pos = 5"
   ]
  },
  {
   "cell_type": "code",
   "execution_count": 11,
   "metadata": {
    "collapsed": true,
    "scrolled": true
   },
   "outputs": [],
   "source": [
    "# MODEL\n",
    "def attention(input_x, input_mask, W_att):\n",
    "    h_masked = tf.boolean_mask(input_x, input_mask)\n",
    "    h_tanh = tf.tanh(h_masked)\n",
    "    u = tf.matmul(h_tanh, W_att)\n",
    "    a = tf.nn.softmax(u)\n",
    "    c = tf.reduce_sum(tf.multiply(h_tanh, a), 0)  \n",
    "    return c\n",
    "\n",
    "x = tf.placeholder('int32', [batch_size, max_sent_size], name=\"x\")\n",
    "y = tf.placeholder('int32', [batch_size], name=\"y\")\n",
    "y_pos = tf.placeholder('int32', [batch_size], name=\"y_pos\")\n",
    "x_mask  = tf.placeholder('bool', [batch_size, max_sent_size], name='x_mask') \n",
    "is_train = tf.placeholder('bool', [], name='is_train')\n",
    "word_emb_mat = tf.placeholder('float', [None, word_emb_size], name='emb_mat')\n",
    "input_keep_prob = tf.cond(is_train,lambda:keep_prob, lambda:tf.constant(1.0))\n",
    "x_len = tf.reduce_sum(tf.cast(x_mask, 'int32'), 1)\n",
    "\n",
    "mask_matrix = tf.constant(value=mask_mat, shape=list(np.array(mask_mat).shape), dtype='float32') # mask_matrix\n",
    "\n",
    "with tf.name_scope(\"word_embedding\"):\n",
    "    if mode == 'train':\n",
    "        unk_word_emb_mat = tf.get_variable(\"word_emb_mat\", dtype='float', shape=[unk_vocab_size, word_emb_size], initializer=tf.contrib.layers.xavier_initializer(uniform=True, seed=0, dtype=tf.float32))\n",
    "    else:\n",
    "        unk_word_emb_mat = tf.get_variable(\"word_emb_mat\", shape=[unk_vocab_size, word_emb_size], dtype='float')\n",
    "        \n",
    "    final_word_emb_mat = tf.concat([word_emb_mat, unk_word_emb_mat], 0)\n",
    "    Wx = tf.nn.embedding_lookup(final_word_emb_mat, x)  \n",
    "\n",
    "with tf.variable_scope(\"lstm1\"):\n",
    "    cell_fw1 = tf.contrib.rnn.BasicLSTMCell(hidden_size,state_is_tuple=True)\n",
    "    cell_bw1 = tf.contrib.rnn.BasicLSTMCell(hidden_size,state_is_tuple=True)\n",
    "\n",
    "    d_cell_fw1 = tf.contrib.rnn.DropoutWrapper(cell_fw1, input_keep_prob=input_keep_prob)\n",
    "    d_cell_bw1 = tf.contrib.rnn.DropoutWrapper(cell_bw1, input_keep_prob=input_keep_prob)\n",
    "    \n",
    "    (fw_h1, bw_h1), _ = tf.nn.bidirectional_dynamic_rnn(d_cell_fw1, d_cell_bw1, Wx, sequence_length=x_len, dtype='float', scope='lstm1')\n",
    "    h1 = tf.concat([fw_h1, bw_h1], 2)\n",
    "    \n",
    "with tf.variable_scope(\"lstm2\"):\n",
    "    cell_fw2 = tf.contrib.rnn.BasicLSTMCell(hidden_size,state_is_tuple=True)\n",
    "    cell_bw2 = tf.contrib.rnn.BasicLSTMCell(hidden_size,state_is_tuple=True)\n",
    "\n",
    "    d_cell_fw2 = tf.contrib.rnn.DropoutWrapper(cell_fw2, input_keep_prob=input_keep_prob)\n",
    "    d_cell_bw2 = tf.contrib.rnn.DropoutWrapper(cell_bw2, input_keep_prob=input_keep_prob)\n",
    "    \n",
    "    (fw_h2, bw_h2), _ = tf.nn.bidirectional_dynamic_rnn(d_cell_fw2, d_cell_bw2, h1, sequence_length=x_len, dtype='float', scope='lstm2')\n",
    "    h = tf.concat([fw_h2, bw_h2], 2)\n",
    "    \n",
    "with tf.variable_scope(\"attention_pos\"):\n",
    "    W_att1 = tf.Variable(tf.truncated_normal([2*hidden_size, 1], mean=0.0, stddev=0.1, seed=0), name=\"W_att1\")\n",
    "    c1 = tf.expand_dims(attention(h1[0], x_mask[0], W_att1), 0)\n",
    "    for i in range(1, batch_size):\n",
    "        c1 = tf.concat([c1, tf.expand_dims(attention(h1[i], x_mask[i], W_att1), 0)], 0)\n",
    "        \n",
    "with tf.variable_scope(\"softmax_layer_pos\"):\n",
    "    W1 = tf.Variable(tf.truncated_normal([2*hidden_size, num_pos], mean=0.0, stddev=0.1, seed=0), name=\"W1\")\n",
    "    b1 = tf.Variable(tf.zeros([num_pos]), name=\"b1\")\n",
    "    drop_c1 = tf.nn.dropout(c1, input_keep_prob)\n",
    "    logits_pos = tf.matmul(drop_c1, W1) + b1\n",
    "    predictions_pos = tf.argmax(logits_pos, 1)\n",
    "    final_masking = tf.nn.embedding_lookup(mask_matrix, predictions_pos)\n",
    "\n",
    "with tf.variable_scope(\"attention\"):\n",
    "    W_att = tf.Variable(tf.truncated_normal([2*hidden_size, 1], mean=0.0, stddev=0.1, seed=0), name=\"W_att\")\n",
    "    c = tf.expand_dims(attention(h[0], x_mask[0], W_att), 0)\n",
    "    for i in range(1, batch_size):\n",
    "        c = tf.concat([c, tf.expand_dims(attention(h[i], x_mask[i], W_att), 0)], 0)\n",
    "        \n",
    "with tf.variable_scope(\"softmax_layer\"):\n",
    "    W = tf.Variable(tf.truncated_normal([2*hidden_size, num_senses], mean=0.0, stddev=0.1, seed=0), name=\"W\")\n",
    "    b = tf.Variable(tf.zeros([num_senses]), name=\"b\")\n",
    "    drop_c = tf.nn.dropout(c, input_keep_prob)\n",
    "    logits = tf.matmul(drop_c, W) + b\n",
    "    masked_logits = logits + final_masking\n",
    "    predictions = tf.argmax(masked_logits, 1)\n",
    "    \n",
    "loss_pos = lambda_loss_pos * tf.reduce_mean(tf.nn.sparse_softmax_cross_entropy_with_logits(logits=logits_pos, labels=y_pos))\n",
    "loss = tf.reduce_mean(tf.nn.sparse_softmax_cross_entropy_with_logits(logits=masked_logits, labels=y))\n",
    "\n",
    "global_step = tf.Variable(0, trainable=False, name=\"global_step\")\n",
    "\n",
    "learning_rate = tf.train.exponential_decay(init_lr, global_step, decay_steps, decay_rate, staircase=True)\n",
    "\n",
    "tv_all = tf.trainable_variables()\n",
    "tv_regu =[]\n",
    "for t in tv_all:\n",
    "    if t.name.find('b:')==-1:\n",
    "        tv_regu.append(t)\n",
    "        \n",
    "# l2 Loss\n",
    "l2_loss = l2_lambda * tf.reduce_sum([ tf.nn.l2_loss(v) for v in tv_regu ])\n",
    "\n",
    "total_loss = loss + l2_loss + loss_pos\n",
    "\n",
    "#pos optimizer\n",
    "pos_optimizer = tf.train.AdamOptimizer(learning_rate).minimize(loss_pos, global_step)\n",
    "\n",
    "# Optimizer for loss\n",
    "optimizer = tf.train.AdamOptimizer(learning_rate)\n",
    "\n",
    "# Gradients and Variables for Loss\n",
    "grads_vars = optimizer.compute_gradients(total_loss)\n",
    "\n",
    "# Clipping of Gradients\n",
    "clipped_grads = grads_vars\n",
    "if(clipping == True):\n",
    "    clipped_grads = [(tf.clip_by_norm(grad, clip_norm), var) for grad, var in clipped_grads]\n",
    "\n",
    "# Training Optimizer for Total Loss\n",
    "train_op = optimizer.apply_gradients(clipped_grads, global_step=global_step)\n",
    "\n",
    "# Summaries\n",
    "var_summaries = []\n",
    "for v in tv_all:\n",
    "    var_summary = tf.summary.histogram(\"{}/var\".format(v.name), v)\n",
    "    var_summaries.append(var_summary)\n",
    "\n",
    "var_summaries_merged = tf.summary.merge(var_summaries)\n",
    "\n",
    "loss_summary = tf.summary.scalar(\"loss\", loss)\n",
    "loss_poss_summary = tf.summary.scalar('loss_pos',loss_pos)\n",
    "total_loss_summary = tf.summary.scalar(\"total_loss\", total_loss)\n",
    "summary = tf.summary.merge_all()"
   ]
  },
  {
   "cell_type": "code",
   "execution_count": 12,
   "metadata": {
    "collapsed": true
   },
   "outputs": [],
   "source": [
    "os.environ[\"CUDA_DEVICE_ORDER\"]=\"PCI_BUS_ID\"   # see issue #152\n",
    "os.environ[\"CUDA_VISIBLE_DEVICES\"]=\"0\"\n",
    "config = tf.ConfigProto()\n",
    "config.gpu_options.allow_growth = True\n",
    "sess = tf.Session(config=config)\n",
    "sess.run(tf.global_variables_initializer())                          # For initializing all the variables\n",
    "saver = tf.train.Saver()                                             # For Saving the model\n",
    "summary_writer = tf.summary.FileWriter(log_dir, sess.graph)          # For writing Summaries"
   ]
  },
  {
   "cell_type": "code",
   "execution_count": 13,
   "metadata": {
    "collapsed": true
   },
   "outputs": [],
   "source": [
    "index = []\n",
    "for i in range(len(data_x)):\n",
    "    index.append(i)"
   ]
  },
  {
   "cell_type": "code",
   "execution_count": 14,
   "metadata": {
    "scrolled": true
   },
   "outputs": [
    {
     "name": "stderr",
     "output_type": "stream",
     "text": [
      "/users/btech/aviraj/cs771/lib/python3.5/site-packages/sklearn/model_selection/_split.py:2026: FutureWarning: From version 0.21, test_size will always complement train_size unless both are specified.\n",
      "  FutureWarning)\n"
     ]
    }
   ],
   "source": [
    "index_train, index_val, label_train, label_val = train_test_split(index, data_label, train_size=0.8, shuffle=True, stratify=data_label, random_state=0)\n",
    "\n",
    "data_x = np.array(data_x)\n",
    "data_pos = np.array(data_pos)\n",
    "\n",
    "x_train = data_x[index_train]\n",
    "pos_train = data_pos[index_train]\n",
    "x_val = data_x[index_val]\n",
    "pos_val = data_pos[index_val]"
   ]
  },
  {
   "cell_type": "code",
   "execution_count": 15,
   "metadata": {
    "collapsed": true
   },
   "outputs": [],
   "source": [
    "def data_prepare(x, y, p):\n",
    "    num_examples = len(x)\n",
    "\n",
    "    xx = np.zeros([num_examples, max_sent_size], dtype=int)\n",
    "    xx_mask = np.zeros([num_examples, max_sent_size], dtype=bool)\n",
    "    yy = np.zeros([num_examples], dtype=int)\n",
    "    pp = np.zeros([num_examples], dtype=int)\n",
    "    \n",
    "    for j in range(num_examples):\n",
    "        for i in range(max_sent_size):\n",
    "            if(i>=len(x[j])):\n",
    "                break\n",
    "            w = x[j][i]\n",
    "            xx[j][i] = word2id[w] if w in word2id else word2id['UNKNOWN_TOKEN']\n",
    "            xx_mask[j][i] = True\n",
    "        yy[j] = sense2id[y[j]]\n",
    "        pp[j] = pos2id[p[j]]\n",
    "    return xx, xx_mask, yy, pp\n",
    "\n",
    "def eval_score(yy, pred, pp, pred_pos):\n",
    "    num_batches = int(len(yy)/batch_size)\n",
    "    f1 = f1_score(yy[:batch_size*num_batches], pred, average='macro')\n",
    "    accu = accuracy_score(yy[:batch_size*num_batches], pred)\n",
    "    \n",
    "    f1_pos = f1_score(pp[:batch_size*num_batches], pred_pos, average='macro')\n",
    "    accu_pos = accuracy_score(pp[:batch_size*num_batches], pred_pos)\n",
    "    return f1*100, accu*100, f1_pos*100, accu_pos*100\n",
    "\n",
    "def model(xx, yy, mask, pp, train_cond=True, pre_train=False):\n",
    "    num_batches = int(len(xx)/batch_size)\n",
    "    losses = 0\n",
    "    preds = []\n",
    "    pos_preds = []\n",
    "    for j in range(num_batches): \n",
    "        \n",
    "        s = j * batch_size\n",
    "        e = (j+1) * batch_size\n",
    "        \n",
    "        feed_dict = {x:xx[s:e], y:yy[s:e], y_pos:pp[s:e], x_mask:mask[s:e], is_train:train_cond, input_keep_prob:keep_prob, word_emb_mat:word_embedding}\n",
    "        \n",
    "        if(train_cond==True):\n",
    "            \n",
    "            if(pre_train==False):\n",
    "                _, _loss, step, _summary = sess.run([train_op, total_loss, global_step, summary], feed_dict)\n",
    "                \n",
    "            else:\n",
    "                _, _loss, step, _summary = sess.run([pos_optimizer, loss_pos, global_step, summary], feed_dict)\n",
    "            \n",
    "            summary_writer.add_summary(_summary, step)\n",
    "#             if step%5==0:\n",
    "#                 print(\"Steps:{}\".format(step), \", Loss: {}\".format(_loss))\n",
    "\n",
    "        else:\n",
    "            _loss, pred, pred_pos = sess.run([total_loss, predictions, predictions_pos], feed_dict)\n",
    "            preds.append(pred)\n",
    "            pos_preds.append(pred_pos)\n",
    "            \n",
    "        losses +=_loss\n",
    "        \n",
    "\n",
    "    if(train_cond==False):\n",
    "        y_pred = []\n",
    "        y_pred_pos = []\n",
    "        for i in range(num_batches):\n",
    "            for pred in preds[i]:\n",
    "                y_pred.append(pred)\n",
    "            for pred_pos in pos_preds[i]:\n",
    "                y_pred_pos.append(pred_pos)\n",
    "        return losses/num_batches, y_pred, y_pred_pos\n",
    "    \n",
    "    return losses/num_batches, step"
   ]
  },
  {
   "cell_type": "code",
   "execution_count": 16,
   "metadata": {
    "collapsed": true
   },
   "outputs": [],
   "source": [
    "x_id_train, mask_train, y_train, pos_id_train = data_prepare(x_train, label_train, pos_train)\n",
    "x_id_val, mask_val, y_val, pos_id_val = data_prepare(x_val, label_val, pos_val)"
   ]
  },
  {
   "cell_type": "code",
   "execution_count": 17,
   "metadata": {
    "scrolled": true
   },
   "outputs": [
    {
     "name": "stdout",
     "output_type": "stream",
     "text": [
      "Epoch: 1 Step: 43 loss: 19.7660060428\n",
      "Epoch: 2 Step: 86 loss: 7.90963750107\n",
      "Epoch: 3 Step: 129 loss: 4.00364196023\n",
      "Epoch: 4 Step: 172 loss: 3.02462588077\n",
      "Epoch: 5 Step: 215 loss: 2.8901152389\n",
      "Model Saved\n",
      "Train: F1 :  62.2385074704 Accu:  67.6598837209 POS F1 :  93.9333948783 POS Accu:  94.0406976744 Loss:  2.66142181186\n",
      "Val: F1 :  59.5789388263 Accu:  65.3125 POS F1 :  92.3869189821 POS Accu:  92.5 Loss:  2.96424570084\n",
      "Epoch: 6 Step: 258 loss: 2.69714353251\n",
      "Epoch: 7 Step: 301 loss: 2.70068740013\n",
      "Epoch: 8 Step: 344 loss: 2.60896997951\n",
      "Epoch: 9 Step: 387 loss: 2.41318572954\n",
      "Epoch: 10 Step: 430 loss: 2.43129668957\n",
      "Model Saved\n",
      "Train: F1 :  71.6399014068 Accu:  75.2906976744 POS F1 :  94.853249207 POS Accu:  94.9127906977 Loss:  2.28305977722\n",
      "Val: F1 :  66.3664746131 Accu:  71.25 POS F1 :  93.0465015211 POS Accu:  93.125 Loss:  2.78860605955\n",
      "Epoch: 11 Step: 473 loss: 2.27712107259\n",
      "Epoch: 12 Step: 516 loss: 2.34832395786\n",
      "Epoch: 13 Step: 559 loss: 2.18602590505\n",
      "Epoch: 14 Step: 602 loss: 2.209154312\n",
      "Epoch: 15 Step: 645 loss: 2.0660918757\n",
      "Model Saved\n",
      "Train: F1 :  73.1855668146 Accu:  78.7427325581 POS F1 :  97.0265614214 POS Accu:  97.0566860465 Loss:  1.79814233336\n",
      "Val: F1 :  67.6760975701 Accu:  74.0625 POS F1 :  95.8964646465 POS Accu:  95.9375 Loss:  2.29187803268\n",
      "Epoch: 16 Step: 688 loss: 2.07056403437\n",
      "Epoch: 17 Step: 731 loss: 1.98066488809\n",
      "Epoch: 18 Step: 774 loss: 1.76211664011\n",
      "Epoch: 19 Step: 817 loss: 1.74142052406\n",
      "Epoch: 20 Step: 860 loss: 1.74494866992\n",
      "Model Saved\n",
      "Train: F1 :  78.5928821283 Accu:  82.1584302326 POS F1 :  97.9084975686 POS Accu:  97.9287790698 Loss:  1.57753363044\n",
      "Val: F1 :  74.9153543462 Accu:  78.4375 POS F1 :  96.6886682977 POS Accu:  96.71875 Loss:  2.14648760557\n"
     ]
    }
   ],
   "source": [
    "num_epochs = 20\n",
    "pre_train_period = 1\n",
    "log_period = 5\n",
    "\n",
    "for i in range(num_epochs):\n",
    "    random = np.random.choice(len(y_train), size=(len(y_train)), replace=False)\n",
    "    x_id_train = x_id_train[random]\n",
    "    y_train = y_train[random]\n",
    "    mask_train = mask_train[random]    \n",
    "    pos_id_train = pos_id_train[random]\n",
    "    \n",
    "    if(i<pre_train_period):\n",
    "        losses, step = model(x_id_train, y_train, mask_train, pos_id_train, pre_train=True)\n",
    "    else:\n",
    "        losses, step = model(x_id_train, y_train, mask_train, pos_id_train)\n",
    "    print(\"Epoch:\", i+1,\"Step:\", step, \"loss:\",losses)\n",
    "    \n",
    "    if((i+1)%log_period==0):\n",
    "        saver.save(sess, save_path=save_dir)                         \n",
    "        print(\"Model Saved\")\n",
    "        train_loss, train_pred, train_pred_pos = model(x_id_train, y_train, mask_train, pos_id_train, train_cond=False)        \n",
    "        f1_, accu_, f1_pos_, accu_pos_ = eval_score(y_train, train_pred, pos_id_train, train_pred_pos)\n",
    "        print(\"Train: F1 : \",  f1_, \"Accu: \", accu_, \"POS F1 : \",  f1_pos_, \"POS Accu: \", accu_pos_, \"Loss: \", train_loss)\n",
    "        \n",
    "        val_loss, val_pred, val_pred_pos = model(x_id_val, y_val, mask_val, pos_id_val, train_cond=False)        \n",
    "        f1_, accu_, f1_pos_, accu_pos_ = eval_score(y_val, val_pred, pos_id_val, val_pred_pos)\n",
    "        print(\"Val: F1 : \",  f1_, \"Accu: \", accu_, \"POS F1 : \",  f1_pos_, \"POS Accu: \", accu_pos_, \"Loss: \", val_loss)"
   ]
  },
  {
   "cell_type": "code",
   "execution_count": 18,
   "metadata": {
    "scrolled": true
   },
   "outputs": [
    {
     "name": "stdout",
     "output_type": "stream",
     "text": [
      "Epoch: 1 Step: 903 loss: 1.60123486852\n",
      "Epoch: 2 Step: 946 loss: 1.66395208725\n",
      "Epoch: 3 Step: 989 loss: 1.70490837652\n",
      "Epoch: 4 Step: 1032 loss: 1.55862255568\n",
      "Epoch: 5 Step: 1075 loss: 1.70186423701\n",
      "Model Saved\n",
      "Train: F1 :  80.7070151164 Accu:  82.7398255814 POS F1 :  97.0772764082 POS Accu:  97.0930232558 Loss:  1.73972274259\n",
      "Val: F1 :  74.868120971 Accu:  77.03125 POS F1 :  94.8264585492 POS Accu:  94.84375 Loss:  2.81427048445\n",
      "Epoch: 6 Step: 1118 loss: 1.55971108342\n",
      "Epoch: 7 Step: 1161 loss: 1.5758984976\n",
      "Epoch: 8 Step: 1204 loss: 1.50112192021\n",
      "Epoch: 9 Step: 1247 loss: 1.56894098049\n",
      "Epoch: 10 Step: 1290 loss: 1.37336764918\n",
      "Model Saved\n",
      "Train: F1 :  77.1270195676 Accu:  81.3590116279 POS F1 :  98.4986606875 POS Accu:  98.5101744186 Loss:  1.4341281001\n",
      "Val: F1 :  74.3986316498 Accu:  77.96875 POS F1 :  97.1642099666 POS Accu:  97.1875 Loss:  2.1966968894\n",
      "Epoch: 11 Step: 1333 loss: 1.54621222269\n",
      "Epoch: 12 Step: 1376 loss: 1.63824103184\n",
      "Epoch: 13 Step: 1419 loss: 1.50091427703\n",
      "Epoch: 14 Step: 1462 loss: 1.50778102875\n",
      "Epoch: 15 Step: 1505 loss: 1.49819613335\n",
      "Model Saved\n",
      "Train: F1 :  82.3367613707 Accu:  84.1569767442 POS F1 :  98.34881387 POS Accu:  98.3648255814 Loss:  1.43034202138\n",
      "Val: F1 :  77.4799396284 Accu:  79.21875 POS F1 :  97.0058037176 POS Accu:  97.03125 Loss:  2.00961462259\n",
      "Epoch: 16 Step: 1548 loss: 1.4220813097\n",
      "Epoch: 17 Step: 1591 loss: 1.40255979743\n",
      "Epoch: 18 Step: 1634 loss: 1.45727322684\n",
      "Epoch: 19 Step: 1677 loss: 1.46937554936\n",
      "Epoch: 20 Step: 1720 loss: 1.53604118214\n",
      "Model Saved\n",
      "Train: F1 :  81.9177230948 Accu:  84.2296511628 POS F1 :  98.8270594654 POS Accu:  98.8372093023 Loss:  1.27689142976\n",
      "Val: F1 :  77.6228333057 Accu:  79.84375 POS F1 :  96.0555283004 POS Accu:  96.09375 Loss:  2.26857064962\n",
      "Epoch: 21 Step: 1763 loss: 1.35917396046\n",
      "Epoch: 22 Step: 1806 loss: 1.42495583795\n",
      "Epoch: 23 Step: 1849 loss: 1.44700613687\n",
      "Epoch: 24 Step: 1892 loss: 1.49251319919\n",
      "Epoch: 25 Step: 1935 loss: 1.31522107263\n",
      "Model Saved\n",
      "Train: F1 :  83.5466862537 Accu:  85.6468023256 POS F1 :  98.9733948103 POS Accu:  98.9825581395 Loss:  1.19132081159\n",
      "Val: F1 :  76.6059255111 Accu:  79.0625 POS F1 :  96.2144737231 POS Accu:  96.25 Loss:  2.51456797123\n",
      "Epoch: 26 Step: 1978 loss: 1.33664511525\n",
      "Epoch: 27 Step: 2021 loss: 1.41373269641\n",
      "Epoch: 28 Step: 2064 loss: 1.36889518555\n",
      "Epoch: 29 Step: 2107 loss: 1.23448175746\n",
      "Epoch: 30 Step: 2150 loss: 1.2711470141\n",
      "Model Saved\n",
      "Train: F1 :  85.0323793747 Accu:  86.664244186 POS F1 :  99.0099905628 POS Accu:  99.0188953488 Loss:  1.1670418146\n",
      "Val: F1 :  80.4496125799 Accu:  82.03125 POS F1 :  96.8491221851 POS Accu:  96.875 Loss:  2.45152355433\n"
     ]
    }
   ],
   "source": [
    "num_epochs = 30\n",
    "pre_train_period = 0\n",
    "log_period = 5\n",
    "\n",
    "for i in range(num_epochs):\n",
    "    random = np.random.choice(len(y_train), size=(len(y_train)), replace=False)\n",
    "    x_id_train = x_id_train[random]\n",
    "    y_train = y_train[random]\n",
    "    mask_train = mask_train[random]    \n",
    "    pos_id_train = pos_id_train[random]\n",
    "    \n",
    "    if(i<pre_train_period):\n",
    "        losses, step = model(x_id_train, y_train, mask_train, pos_id_train, pre_train=True)\n",
    "    else:\n",
    "        losses, step = model(x_id_train, y_train, mask_train, pos_id_train)\n",
    "    print(\"Epoch:\", i+1,\"Step:\", step, \"loss:\",losses)\n",
    "    \n",
    "    if((i+1)%log_period==0):\n",
    "        saver.save(sess, save_path=save_dir)                         \n",
    "        print(\"Model Saved\")\n",
    "        train_loss, train_pred, train_pred_pos = model(x_id_train, y_train, mask_train, pos_id_train, train_cond=False)        \n",
    "        f1_, accu_, f1_pos_, accu_pos_ = eval_score(y_train, train_pred, pos_id_train, train_pred_pos)\n",
    "        print(\"Train: F1 : \",  f1_, \"Accu: \", accu_, \"POS F1 : \",  f1_pos_, \"POS Accu: \", accu_pos_, \"Loss: \", train_loss)\n",
    "        \n",
    "        val_loss, val_pred, val_pred_pos = model(x_id_val, y_val, mask_val, pos_id_val, train_cond=False)        \n",
    "        f1_, accu_, f1_pos_, accu_pos_ = eval_score(y_val, val_pred, pos_id_val, val_pred_pos)\n",
    "        print(\"Val: F1 : \",  f1_, \"Accu: \", accu_, \"POS F1 : \",  f1_pos_, \"POS Accu: \", accu_pos_, \"Loss: \", val_loss)"
   ]
  },
  {
   "cell_type": "code",
   "execution_count": 19,
   "metadata": {},
   "outputs": [
    {
     "name": "stdout",
     "output_type": "stream",
     "text": [
      "Epoch: 1 Step: 2193 loss: 1.3766035895\n",
      "Epoch: 2 Step: 2236 loss: 1.29416433046\n",
      "Epoch: 3 Step: 2279 loss: 1.31451716534\n",
      "Epoch: 4 Step: 2322 loss: 1.34232876883\n",
      "Epoch: 5 Step: 2365 loss: 1.28058474286\n",
      "Model Saved\n",
      "Train: F1 :  81.6897913296 Accu:  84.4840116279 POS F1 :  98.6051563971 POS Accu:  98.6191860465 Loss:  1.32602877118\n",
      "Val: F1 :  78.105125476 Accu:  81.40625 POS F1 :  97.7917763385 POS Accu:  97.8125 Loss:  1.9950668335\n",
      "Epoch: 6 Step: 2408 loss: 1.49707775199\n",
      "Epoch: 7 Step: 2451 loss: 1.46867943365\n",
      "Epoch: 8 Step: 2494 loss: 1.22669876869\n",
      "Epoch: 9 Step: 2537 loss: 1.2759284183\n",
      "Epoch: 10 Step: 2580 loss: 1.31809062459\n",
      "Model Saved\n",
      "Train: F1 :  82.8268451801 Accu:  84.7020348837 POS F1 :  98.6454774199 POS Accu:  98.6555232558 Loss:  1.4226906161\n",
      "Val: F1 :  77.2141144635 Accu:  79.53125 POS F1 :  96.8573224387 POS Accu:  96.875 Loss:  2.13040351868\n",
      "Epoch: 11 Step: 2623 loss: 1.24871666487\n",
      "Epoch: 12 Step: 2666 loss: 1.30132872559\n",
      "Epoch: 13 Step: 2709 loss: 1.30720291443\n",
      "Epoch: 14 Step: 2752 loss: 1.28246833141\n",
      "Epoch: 15 Step: 2795 loss: 1.18123188684\n",
      "Model Saved\n",
      "Train: F1 :  85.8345539378 Accu:  87.3183139535 POS F1 :  99.0457733274 POS Accu:  99.0552325581 Loss:  1.16038729562\n",
      "Val: F1 :  77.6980444411 Accu:  79.84375 POS F1 :  96.8326553236 POS Accu:  96.875 Loss:  2.23379753828\n",
      "Epoch: 16 Step: 2838 loss: 1.24891693093\n",
      "Epoch: 17 Step: 2881 loss: 1.29795112444\n",
      "Epoch: 18 Step: 2924 loss: 1.20895310058\n",
      "Epoch: 19 Step: 2967 loss: 1.35417339136\n",
      "Epoch: 20 Step: 3010 loss: 1.35675991275\n",
      "Model Saved\n",
      "Train: F1 :  87.3632969048 Accu:  88.6627906977 POS F1 :  99.1201741322 POS Accu:  99.1279069767 Loss:  1.10194745591\n",
      "Val: F1 :  80.4362840441 Accu:  82.1875 POS F1 :  97.0091619012 POS Accu:  97.03125 Loss:  2.0214974761\n"
     ]
    }
   ],
   "source": [
    "num_epochs = 20\n",
    "pre_train_period = 0\n",
    "log_period = 5\n",
    "\n",
    "for i in range(num_epochs):\n",
    "    random = np.random.choice(len(y_train), size=(len(y_train)), replace=False)\n",
    "    x_id_train = x_id_train[random]\n",
    "    y_train = y_train[random]\n",
    "    mask_train = mask_train[random]    \n",
    "    pos_id_train = pos_id_train[random]\n",
    "    \n",
    "    if(i<pre_train_period):\n",
    "        losses, step = model(x_id_train, y_train, mask_train, pos_id_train, pre_train=True)\n",
    "    else:\n",
    "        losses, step = model(x_id_train, y_train, mask_train, pos_id_train)\n",
    "    print(\"Epoch:\", i+1,\"Step:\", step, \"loss:\",losses)\n",
    "    \n",
    "    if((i+1)%log_period==0):\n",
    "        saver.save(sess, save_path=save_dir)                         \n",
    "        print(\"Model Saved\")\n",
    "        train_loss, train_pred, train_pred_pos = model(x_id_train, y_train, mask_train, pos_id_train, train_cond=False)        \n",
    "        f1_, accu_, f1_pos_, accu_pos_ = eval_score(y_train, train_pred, pos_id_train, train_pred_pos)\n",
    "        print(\"Train: F1 : \",  f1_, \"Accu: \", accu_, \"POS F1 : \",  f1_pos_, \"POS Accu: \", accu_pos_, \"Loss: \", train_loss)\n",
    "        \n",
    "        val_loss, val_pred, val_pred_pos = model(x_id_val, y_val, mask_val, pos_id_val, train_cond=False)        \n",
    "        f1_, accu_, f1_pos_, accu_pos_ = eval_score(y_val, val_pred, pos_id_val, val_pred_pos)\n",
    "        print(\"Val: F1 : \",  f1_, \"Accu: \", accu_, \"POS F1 : \",  f1_pos_, \"POS Accu: \", accu_pos_, \"Loss: \", val_loss)"
   ]
  },
  {
   "cell_type": "code",
   "execution_count": null,
   "metadata": {
    "collapsed": true
   },
   "outputs": [],
   "source": []
  },
  {
   "cell_type": "code",
   "execution_count": null,
   "metadata": {
    "collapsed": true
   },
   "outputs": [],
   "source": [
    "saver.restore(sess, save_dir)"
   ]
  }
 ],
 "metadata": {
  "kernelspec": {
   "display_name": "cs771",
   "language": "python",
   "name": "cs771"
  },
  "language_info": {
   "codemirror_mode": {
    "name": "ipython",
    "version": 3
   },
   "file_extension": ".py",
   "mimetype": "text/x-python",
   "name": "python",
   "nbconvert_exporter": "python",
   "pygments_lexer": "ipython3",
   "version": "3.5.2"
  }
 },
 "nbformat": 4,
 "nbformat_minor": 2
}
