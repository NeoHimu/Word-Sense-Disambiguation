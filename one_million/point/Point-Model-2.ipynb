{
 "cells": [
  {
   "cell_type": "code",
   "execution_count": 1,
   "metadata": {
    "collapsed": true
   },
   "outputs": [],
   "source": [
    "import tensorflow as tf\n",
    "tf.logging.set_verbosity(tf.logging.WARN)\n",
    "import pickle\n",
    "import numpy as np\n",
    "import os\n",
    "from sklearn.model_selection import train_test_split\n",
    "from sklearn.metrics import f1_score\n",
    "from sklearn.metrics import accuracy_score\n",
    "import os\n",
    "from tensorflow.python.client import device_lib\n",
    "from collections import Counter"
   ]
  },
  {
   "cell_type": "code",
   "execution_count": 2,
   "metadata": {
    "collapsed": true
   },
   "outputs": [],
   "source": [
    "f = open('../Glove/word_embedding_glove', 'rb')\n",
    "word_embedding = pickle.load(f)\n",
    "f.close()\n",
    "word_embedding = word_embedding[: len(word_embedding)-1]\n",
    "\n",
    "f = open('../Glove/vocab_glove', 'rb')\n",
    "vocab = pickle.load(f)\n",
    "f.close()\n",
    "\n",
    "word2id = dict((w, i) for i,w in enumerate(vocab))\n",
    "id2word = dict((i, w) for i,w in enumerate(vocab))\n",
    "\n",
    "unknown_token = \"UNKNOWN_TOKEN\""
   ]
  },
  {
   "cell_type": "code",
   "execution_count": 3,
   "metadata": {
    "collapsed": true
   },
   "outputs": [],
   "source": [
    "f = open(\"../../dataset/sense/dict_sense-keys\", 'rb')\n",
    "dict_sense_keys = pickle.load(f)\n",
    "f.close()\n",
    "\n",
    "f = open(\"../../dataset/sense/dict_word-sense\", 'rb')\n",
    "dict_word_sense = pickle.load(f)\n",
    "f.close()"
   ]
  },
  {
   "cell_type": "code",
   "execution_count": 4,
   "metadata": {
    "collapsed": true
   },
   "outputs": [],
   "source": [
    "# Model Description\n",
    "sense_word = 'point'\n",
    "model_name = 'model-2'\n",
    "sense_word_dir = 'output/' + sense_word\n",
    "model_dir = sense_word_dir + '/' + model_name\n",
    "save_dir = os.path.join(model_dir, \"save/\")\n",
    "log_dir = os.path.join(model_dir, \"log\")\n",
    "\n",
    "if not os.path.exists(sense_word_dir):\n",
    "    os.mkdir(sense_word_dir)\n",
    "if not os.path.exists(model_dir):\n",
    "    os.mkdir(model_dir)\n",
    "if not os.path.exists(save_dir):\n",
    "    os.mkdir(save_dir)\n",
    "if not os.path.exists(log_dir):\n",
    "    os.mkdir(log_dir)"
   ]
  },
  {
   "cell_type": "code",
   "execution_count": 5,
   "metadata": {
    "scrolled": false
   },
   "outputs": [
    {
     "name": "stdout",
     "output_type": "stream",
     "text": [
      "[('1:09', 989), ('2:32', 518), ('1:28', 479), ('1:15', 282), ('1:10', 193), ('1:26', 163), ('2:33', 87), ('1:23', 55), ('2:30', 46), ('1:07', 25), ('2:42', 8), ('2:38', 5), ('1:17', 2), ('1:25', 2), ('1:06', 1)]\n",
      "['1:09', '2:32', '1:28', '1:15', '1:10', '1:26', '2:33', '1:23']\n"
     ]
    }
   ],
   "source": [
    "f = open(\"../../dataset/checkwords/\"+ sense_word + \"_data\", 'rb')\n",
    "data = pickle.load(f)\n",
    "f.close()\n",
    "\n",
    "pos_tags = []\n",
    "for i in range(len(data)):\n",
    "    for p in data[i][2]:\n",
    "        pos_tags.append(p)\n",
    "        \n",
    "pos_count = Counter(pos_tags)\n",
    "pos_count = pos_count.most_common()\n",
    "vocab_pos = [k for k,v in pos_count]\n",
    "\n",
    "data_y = []\n",
    "for i in range(len(data)):\n",
    "    data_y.append(dict_sense_keys[data[i][0]][3])\n",
    "\n",
    "sense_count = Counter(data_y)\n",
    "sense_count = sense_count.most_common()\n",
    "vocab_sense = [k for k,v in sense_count[:8]]\n",
    "print(sense_count)\n",
    "print(vocab_sense)"
   ]
  },
  {
   "cell_type": "code",
   "execution_count": 6,
   "metadata": {},
   "outputs": [
    {
     "name": "stdout",
     "output_type": "stream",
     "text": [
      "2766 2855\n",
      "max_len:  100\n"
     ]
    }
   ],
   "source": [
    "data_x = []\n",
    "data_label = []\n",
    "data_pos = []\n",
    "for i in range(len(data)):\n",
    "    if dict_sense_keys[data[i][0]][3] in vocab_sense:\n",
    "        data_x.append(data[i][1])\n",
    "        data_pos.append(data[i][2])\n",
    "        data_label.append(dict_sense_keys[data[i][0]][3])\n",
    "\n",
    "print(len(data_label), len(data_y))\n",
    "\n",
    "pos2id = dict((s, i) for i,s in enumerate(vocab_pos))\n",
    "id2pos = dict((i, s) for i,s in enumerate(vocab_pos))\n",
    "\n",
    "# vocab_sense = dict_word_sense[sense_word]\n",
    "\n",
    "sense2id = dict((s, i) for i,s in enumerate(vocab_sense))\n",
    "id2sense = dict((i, s) for i,s in enumerate(vocab))\n",
    "\n",
    "len(vocab_pos)\n",
    "\n",
    "max_len = 0\n",
    "for i in range(len(data_x)):\n",
    "    max_len = max(max_len, len(data_x[i]))\n",
    "    if(len(data_x[i])>200):\n",
    "        print(i)\n",
    "        \n",
    "print(\"max_len: \", max_len)"
   ]
  },
  {
   "cell_type": "code",
   "execution_count": 7,
   "metadata": {
    "collapsed": true
   },
   "outputs": [],
   "source": [
    "# Parameters\n",
    "mode = 'train'\n",
    "num_senses = len(vocab_sense)\n",
    "num_pos = len(vocab_pos)\n",
    "batch_size = 64\n",
    "vocab_size = len(vocab)\n",
    "unk_vocab_size = 1\n",
    "word_emb_size = len(word_embedding[0])\n",
    "max_sent_size = max(200, max_len)\n",
    "hidden_size = 100\n",
    "keep_prob = 0.5\n",
    "l2_lambda = 0.001\n",
    "init_lr = 0.005\n",
    "decay_steps = 500\n",
    "decay_rate = 0.96\n",
    "clip_norm = 1\n",
    "clipping = True\n",
    "pos_lambda = 5"
   ]
  },
  {
   "cell_type": "code",
   "execution_count": 8,
   "metadata": {
    "collapsed": true,
    "scrolled": true
   },
   "outputs": [],
   "source": [
    "# MODEL\n",
    "x = tf.placeholder('int32', [batch_size, max_sent_size], name=\"x\")\n",
    "y = tf.placeholder('int32', [batch_size], name=\"y\")\n",
    "y_pos = tf.placeholder('int32', [batch_size, None], name=\"y_pos\")\n",
    "x_mask  = tf.placeholder('bool', [batch_size, max_sent_size], name='x_mask') \n",
    "is_train = tf.placeholder('bool', [], name='is_train')\n",
    "word_emb_mat = tf.placeholder('float', [None, word_emb_size], name='emb_mat')\n",
    "input_keep_prob = tf.cond(is_train,lambda:keep_prob, lambda:tf.constant(1.0))\n",
    "x_len = tf.reduce_sum(tf.cast(x_mask, 'int32'), 1)\n",
    "\n",
    "with tf.name_scope(\"word_embedding\"):\n",
    "    if mode == 'train':\n",
    "        unk_word_emb_mat = tf.get_variable(\"word_emb_mat\", dtype='float', shape=[unk_vocab_size, word_emb_size], initializer=tf.contrib.layers.xavier_initializer(uniform=True, seed=0, dtype=tf.float32))\n",
    "    else:\n",
    "        unk_word_emb_mat = tf.get_variable(\"word_emb_mat\", shape=[unk_vocab_size, word_emb_size], dtype='float')\n",
    "        \n",
    "    final_word_emb_mat = tf.concat([word_emb_mat, unk_word_emb_mat], 0)\n",
    "    Wx = tf.nn.embedding_lookup(final_word_emb_mat, x)  \n",
    "\n",
    "with tf.variable_scope(\"lstm1\"):\n",
    "    cell_fw1 = tf.contrib.rnn.BasicLSTMCell(hidden_size,state_is_tuple=True)\n",
    "    cell_bw1 = tf.contrib.rnn.BasicLSTMCell(hidden_size,state_is_tuple=True)\n",
    "\n",
    "    d_cell_fw1 = tf.contrib.rnn.DropoutWrapper(cell_fw1, input_keep_prob=input_keep_prob)\n",
    "    d_cell_bw1 = tf.contrib.rnn.DropoutWrapper(cell_bw1, input_keep_prob=input_keep_prob)\n",
    "    \n",
    "    (fw_h1, bw_h1), _ = tf.nn.bidirectional_dynamic_rnn(d_cell_fw1, d_cell_bw1, Wx, sequence_length=x_len, dtype='float', scope='lstm1')\n",
    "    h1 = tf.concat([fw_h1, bw_h1], 2)\n",
    "    \n",
    "with tf.variable_scope(\"lstm2\"):\n",
    "    cell_fw2 = tf.contrib.rnn.BasicLSTMCell(hidden_size,state_is_tuple=True)\n",
    "    cell_bw2 = tf.contrib.rnn.BasicLSTMCell(hidden_size,state_is_tuple=True)\n",
    "\n",
    "    d_cell_fw2 = tf.contrib.rnn.DropoutWrapper(cell_fw2, input_keep_prob=input_keep_prob)\n",
    "    d_cell_bw2 = tf.contrib.rnn.DropoutWrapper(cell_bw2, input_keep_prob=input_keep_prob)\n",
    "    \n",
    "    (fw_h2, bw_h2), _ = tf.nn.bidirectional_dynamic_rnn(d_cell_fw2, d_cell_bw2, h1, sequence_length=x_len, dtype='float', scope='lstm2')\n",
    "    h = tf.concat([fw_h2, bw_h2], 2)\n",
    "\n",
    "def attention(input_x, input_mask, W_att):\n",
    "    h_masked = tf.boolean_mask(input_x, input_mask)\n",
    "    h_tanh = tf.tanh(h_masked)\n",
    "    u = tf.matmul(h_tanh, W_att)\n",
    "    a = tf.nn.softmax(u)\n",
    "    c = tf.reduce_sum(tf.multiply(h_tanh, a), 0)  \n",
    "    return c\n",
    "\n",
    "with tf.variable_scope(\"attention\"):\n",
    "    W_att = tf.Variable(tf.truncated_normal([2*hidden_size, 1], mean=0.0, stddev=0.1, seed=0), name=\"W_att\")\n",
    "    c = tf.expand_dims(attention(h[0], x_mask[0], W_att), 0)\n",
    "    for i in range(1, batch_size):\n",
    "        c = tf.concat([c, tf.expand_dims(attention(h[i], x_mask[i], W_att), 0)], 0)\n",
    "        \n",
    "with tf.variable_scope(\"softmax_layer\"):\n",
    "    W = tf.Variable(tf.truncated_normal([2*hidden_size, num_senses], mean=0.0, stddev=0.1, seed=0), name=\"W\")\n",
    "    b = tf.Variable(tf.zeros([num_senses]), name=\"b\")\n",
    "    drop_c = tf.nn.dropout(c, input_keep_prob)\n",
    "    logits = tf.matmul(drop_c, W) + b\n",
    "    predictions = tf.argmax(logits, 1)\n",
    "    \n",
    "flat_h1 = tf.reshape(h1, [-1, 2*hidden_size])\n",
    "\n",
    "with tf.variable_scope(\"softmax_layer_pos\"):\n",
    "    W = tf.Variable(tf.truncated_normal([2*hidden_size, num_pos], mean=0.0, stddev=0.1, seed=0), name=\"W\")\n",
    "    b = tf.Variable(tf.zeros([num_pos]), name=\"b\")\n",
    "    drop_flat_h1 = tf.nn.dropout(flat_h1, input_keep_prob)\n",
    "    flat_logits_pos = tf.matmul(drop_flat_h1, W) + b\n",
    "    logits_pos = tf.reshape(flat_logits_pos, [batch_size, max_sent_size, num_pos])\n",
    "    predictions_pos = tf.arg_max(logits_pos, 2)\n",
    "    \n",
    "\n",
    "float_x_mask = tf.cast(x_mask, 'float')\n",
    "\n",
    "loss = tf.reduce_mean(tf.nn.sparse_softmax_cross_entropy_with_logits(logits=logits, labels=y))\n",
    "loss_pos = pos_lambda*tf.contrib.seq2seq.sequence_loss(logits_pos, y_pos, float_x_mask, name=\"loss_pos\")\n",
    "\n",
    "global_step = tf.Variable(0, trainable=False, name=\"global_step\")\n",
    "\n",
    "learning_rate = tf.train.exponential_decay(init_lr, global_step, decay_steps, decay_rate, staircase=True)\n",
    "\n",
    "tv_all = tf.trainable_variables()\n",
    "tv_regu =[]\n",
    "for t in tv_all:\n",
    "    if t.name.find('b:')==-1:\n",
    "        tv_regu.append(t)\n",
    "        \n",
    "# l2 Loss\n",
    "l2_loss = l2_lambda * tf.reduce_sum([ tf.nn.l2_loss(v) for v in tv_regu ])\n",
    "\n",
    "total_loss = loss + l2_loss + loss_pos\n",
    "\n",
    "# Optimizer for loss\n",
    "optimizer = tf.train.AdamOptimizer(learning_rate)\n",
    "optimizer_pos = tf.train.AdamOptimizer(learning_rate).minimize(loss_pos, global_step)\n",
    "\n",
    "# Gradients and Variables for Loss\n",
    "grads_vars = optimizer.compute_gradients(total_loss)\n",
    "\n",
    "# Clipping of Gradients\n",
    "clipped_grads = grads_vars\n",
    "if(clipping == True):\n",
    "    clipped_grads = [(tf.clip_by_norm(grad, clip_norm), var) for grad, var in clipped_grads]\n",
    "\n",
    "# Training Optimizer for Total Loss\n",
    "train_op = optimizer.apply_gradients(clipped_grads, global_step=global_step)\n",
    "\n",
    "# Summaries\n",
    "var_summaries = []\n",
    "for v in tv_all:\n",
    "    var_summary = tf.summary.histogram(\"{}/var\".format(v.name), v)\n",
    "    var_summaries.append(var_summary)\n",
    "\n",
    "var_summaries_merged = tf.summary.merge(var_summaries)\n",
    "\n",
    "loss_summary = tf.summary.scalar(\"loss\", loss)\n",
    "loss_pos_summary = tf.summary.scalar(\"loss_pos\", loss_pos)\n",
    "total_loss_summary = tf.summary.scalar(\"total_loss\", total_loss)\n",
    "summary = tf.summary.merge_all()"
   ]
  },
  {
   "cell_type": "code",
   "execution_count": 9,
   "metadata": {
    "collapsed": true
   },
   "outputs": [],
   "source": [
    "os.environ[\"CUDA_DEVICE_ORDER\"]=\"PCI_BUS_ID\"   # see issue #152\n",
    "os.environ[\"CUDA_VISIBLE_DEVICES\"]=\"0\"\n",
    "config = tf.ConfigProto()\n",
    "config.gpu_options.allow_growth = True\n",
    "sess = tf.Session(config=config)\n",
    "sess.run(tf.global_variables_initializer())                          # For initializing all the variables\n",
    "saver = tf.train.Saver()                                             # For Saving the model\n",
    "summary_writer = tf.summary.FileWriter(log_dir, sess.graph)          # For writing Summaries"
   ]
  },
  {
   "cell_type": "code",
   "execution_count": 10,
   "metadata": {
    "collapsed": true
   },
   "outputs": [],
   "source": [
    "index = []\n",
    "for i in range(len(data_x)):\n",
    "    index.append(i)"
   ]
  },
  {
   "cell_type": "code",
   "execution_count": 11,
   "metadata": {
    "scrolled": true
   },
   "outputs": [
    {
     "name": "stderr",
     "output_type": "stream",
     "text": [
      "/users/btech/aviraj/cs771/lib/python3.5/site-packages/sklearn/model_selection/_split.py:2026: FutureWarning: From version 0.21, test_size will always complement train_size unless both are specified.\n",
      "  FutureWarning)\n"
     ]
    }
   ],
   "source": [
    "index_train, index_val, label_train, label_val = train_test_split(index, data_label, train_size=0.8, shuffle=True, stratify=data_label, random_state=0)\n",
    "\n",
    "data_x = np.array(data_x)\n",
    "data_pos = np.array(data_pos)\n",
    "\n",
    "x_train = data_x[index_train]\n",
    "pos_train = data_pos[index_train]\n",
    "x_val = data_x[index_val]\n",
    "pos_val = data_pos[index_val]"
   ]
  },
  {
   "cell_type": "code",
   "execution_count": 12,
   "metadata": {
    "collapsed": true
   },
   "outputs": [],
   "source": [
    "def data_prepare(x, y, p):\n",
    "    num_examples = len(x)\n",
    "\n",
    "    xx = np.zeros([num_examples, max_sent_size], dtype=int)\n",
    "    xx_mask = np.zeros([num_examples, max_sent_size], dtype=bool)\n",
    "    yy = np.zeros([num_examples], dtype=int)\n",
    "    pp = np.zeros([num_examples, max_sent_size], dtype=int)\n",
    "\n",
    "    for j in range(num_examples):\n",
    "        for i in range(max_sent_size):\n",
    "            if(i>=len(x[j])):\n",
    "                break\n",
    "            w = x[j][i]\n",
    "            xx[j][i] = word2id[w] if w in word2id else word2id['UNKNOWN_TOKEN']\n",
    "            xx_mask[j][i] = True\n",
    "            pp[j][i] = pos2id[p[j][i]]\n",
    "        yy[j] = sense2id[y[j]]\n",
    "        \n",
    "    return xx, xx_mask, yy, pp\n",
    "\n",
    "def model(xx, yy, mask, pp, train_cond=True, pretrain=False):\n",
    "    num_batches = int(len(xx)/batch_size)\n",
    "    losses = 0\n",
    "    preds = []\n",
    "    preds_pos = []\n",
    "    true_pos = []\n",
    "    for j in range(num_batches): \n",
    "        \n",
    "        s = j * batch_size\n",
    "        e = (j+1) * batch_size\n",
    "        \n",
    "        feed_dict = {x:xx[s:e], y:yy[s:e], y_pos:pp[s:e], x_mask:mask[s:e], is_train:train_cond, input_keep_prob:keep_prob, word_emb_mat:word_embedding}\n",
    "        \n",
    "        \n",
    "        if(train_cond==True):\n",
    "            if(pretrain==False):\n",
    "                _, _loss, step, _summary = sess.run([train_op, total_loss, global_step, summary], feed_dict)\n",
    "            else:\n",
    "                 _, _loss, step, _summary = sess.run([optimizer_pos, loss_pos, global_step, summary], feed_dict)\n",
    "            \n",
    "            summary_writer.add_summary(_summary, step)  \n",
    "#             print(\"Steps:{}\".format(step), \", Loss: {}\".format(_loss))\n",
    "\n",
    "        else:\n",
    "            _loss, pred, pred_pos = sess.run([total_loss, predictions, predictions_pos], feed_dict)\n",
    "            preds.append(pred)\n",
    "            for k in range(batch_size):\n",
    "                preds_pos.append(pred_pos[k][:sum(mask[s+k])])\n",
    "                true_pos.append(pp[s+k][:sum(mask[s+k])])\n",
    "\n",
    "        losses +=_loss\n",
    "\n",
    "    if(train_cond==False):\n",
    "        y_pred = []\n",
    "        pos_true = []\n",
    "        pos_pred = []\n",
    "        for i in range(num_batches):\n",
    "            for pred in preds[i]:\n",
    "                y_pred.append(pred)\n",
    "                \n",
    "        for i in range(len(preds_pos)):\n",
    "            for j in range(len(preds_pos[i])):\n",
    "                pos_pred.append(preds_pos[i][j])\n",
    "                pos_true.append(true_pos[i][j])\n",
    "\n",
    "        return losses/num_batches, y_pred, pos_pred, pos_true\n",
    "    \n",
    "    return losses/num_batches, step\n",
    "\n",
    "def eval_score(yy, pred, pos_true, pos_pred):\n",
    "    num_batches = int(len(yy)/batch_size)\n",
    "    f1 = f1_score(yy[:batch_size*num_batches], pred, average='macro')\n",
    "    f1_pos = f1_score(pos_true, pos_pred, average='macro')\n",
    "    accu = accuracy_score(yy[:batch_size*num_batches], pred)\n",
    "    accu_pos = accuracy_score(pos_true, pos_pred)\n",
    "    return f1*100, accu*100, f1_pos*100, accu_pos*100"
   ]
  },
  {
   "cell_type": "code",
   "execution_count": 13,
   "metadata": {
    "collapsed": true
   },
   "outputs": [],
   "source": [
    "x_id_train, mask_train, y_train, pos_id_train = data_prepare(x_train, label_train, pos_train)\n",
    "x_id_val, mask_val, y_val, pos_id_val = data_prepare(x_val, label_val,pos_val)"
   ]
  },
  {
   "cell_type": "code",
   "execution_count": 14,
   "metadata": {
    "scrolled": true
   },
   "outputs": [
    {
     "name": "stdout",
     "output_type": "stream",
     "text": [
      "Epoch: 1 Step: 34 loss: 6.20712721348\n",
      "Epoch: 2 Step: 68 loss: 2.76036167846\n",
      "Epoch: 3 Step: 102 loss: 2.22449555117\n",
      "Epoch: 4 Step: 136 loss: 1.9330807188\n",
      "Epoch: 5 Step: 170 loss: 1.76687108419\n",
      "Model Saved\n"
     ]
    },
    {
     "name": "stderr",
     "output_type": "stream",
     "text": [
      "/users/btech/aviraj/cs771/lib/python3.5/site-packages/sklearn/metrics/classification.py:1137: UndefinedMetricWarning: F-score is ill-defined and being set to 0.0 in labels with no true samples.\n",
      "  'recall', 'true', average, warn_for)\n"
     ]
    },
    {
     "name": "stdout",
     "output_type": "stream",
     "text": [
      "Train: F1 :  10.7572330065 Accu:  17.1875 POS F1 :  78.541699505 POS Accu:  88.8313421878 Loss:  12.9763524112\n",
      "Val: F1 :  9.26223306874 Accu:  16.2109375 POS F1 :  78.3458319456 POS Accu:  88.4180952927 Loss:  13.8156551123\n",
      "Epoch: 6 Step: 204 loss: 10.2704559354\n",
      "Epoch: 7 Step: 238 loss: 4.47748020817\n",
      "Epoch: 8 Step: 272 loss: 3.78206023048\n",
      "Epoch: 9 Step: 306 loss: 3.43020581498\n",
      "Epoch: 10 Step: 340 loss: 3.26769635257\n",
      "Model Saved\n",
      "Train: F1 :  54.0063301548 Accu:  73.9430147059 POS F1 :  80.2005320778 POS Accu:  89.6696094168 Loss:  3.30015731559\n"
     ]
    },
    {
     "name": "stderr",
     "output_type": "stream",
     "text": [
      "/users/btech/aviraj/cs771/lib/python3.5/site-packages/sklearn/metrics/classification.py:1135: UndefinedMetricWarning: F-score is ill-defined and being set to 0.0 in labels with no predicted samples.\n",
      "  'precision', 'predicted', average, warn_for)\n"
     ]
    },
    {
     "name": "stdout",
     "output_type": "stream",
     "text": [
      "Val: F1 :  50.5554747365 Accu:  72.8515625 POS F1 :  79.1628509487 POS Accu:  88.7449114156 Loss:  3.46786105633\n",
      "Epoch: 11 Step: 374 loss: 3.16442894234\n",
      "Epoch: 12 Step: 408 loss: 3.09312956473\n",
      "Epoch: 13 Step: 442 loss: 2.99291363183\n",
      "Epoch: 14 Step: 476 loss: 3.01991004102\n",
      "Epoch: 15 Step: 510 loss: 2.94343192437\n",
      "Model Saved\n",
      "Train: F1 :  66.3512676646 Accu:  81.0202205882 POS F1 :  81.7681418172 POS Accu:  90.1396428238 Loss:  2.91995360571\n",
      "Val: F1 :  62.4504428038 Accu:  78.7109375 POS F1 :  83.1087823701 POS Accu:  89.5132159853 Loss:  3.15506726503\n",
      "Epoch: 16 Step: 544 loss: 2.8979729414\n",
      "Epoch: 17 Step: 578 loss: 2.88455147603\n",
      "Epoch: 18 Step: 612 loss: 2.80793998522\n",
      "Epoch: 19 Step: 646 loss: 2.83772148806\n",
      "Epoch: 20 Step: 680 loss: 2.81417873326\n",
      "Model Saved\n",
      "Train: F1 :  70.4459153787 Accu:  83.1801470588 POS F1 :  83.2478087533 POS Accu:  90.8954784887 Loss:  2.75307405696\n",
      "Val: F1 :  65.3267655638 Accu:  78.7109375 POS F1 :  80.5121696047 POS Accu:  90.0235078264 Loss:  2.96828320622\n",
      "Epoch: 21 Step: 714 loss: 2.81460379853\n",
      "Epoch: 22 Step: 748 loss: 2.73363910703\n",
      "Epoch: 23 Step: 782 loss: 2.72967688476\n",
      "Epoch: 24 Step: 816 loss: 2.74849894468\n",
      "Epoch: 25 Step: 850 loss: 2.73379141443\n",
      "Model Saved\n",
      "Train: F1 :  69.5371778922 Accu:  83.6856617647 POS F1 :  81.769837813 POS Accu:  91.0763926013 Loss:  2.70440149307\n",
      "Val: F1 :  60.5079980085 Accu:  77.5390625 POS F1 :  81.1648983492 POS Accu:  90.2127171607 Loss:  3.00688138604\n",
      "Epoch: 26 Step: 884 loss: 2.76111617509\n",
      "Epoch: 27 Step: 918 loss: 2.6900759725\n",
      "Epoch: 28 Step: 952 loss: 2.68703182305\n",
      "Epoch: 29 Step: 986 loss: 2.69392639048\n",
      "Epoch: 30 Step: 1020 loss: 2.67301946528\n",
      "Model Saved\n",
      "Train: F1 :  74.5376593571 Accu:  83.3180147059 POS F1 :  82.1073564302 POS Accu:  91.2956411455 Loss:  2.7073022057\n",
      "Val: F1 :  67.4057757613 Accu:  79.4921875 POS F1 :  82.6935003348 POS Accu:  90.728742618 Loss:  2.99380490184\n",
      "Epoch: 31 Step: 1054 loss: 2.69993418105\n",
      "Epoch: 32 Step: 1088 loss: 2.67161313225\n",
      "Epoch: 33 Step: 1122 loss: 2.66852308021\n",
      "Epoch: 34 Step: 1156 loss: 2.65724193349\n",
      "Epoch: 35 Step: 1190 loss: 2.63229616249\n",
      "Model Saved\n",
      "Train: F1 :  75.9553781501 Accu:  85.2022058824 POS F1 :  82.6107484898 POS Accu:  91.2583295421 Loss:  2.61550451727\n",
      "Val: F1 :  67.9503675624 Accu:  79.8828125 POS F1 :  82.4444692066 POS Accu:  90.3847256465 Loss:  2.95309513807\n",
      "Epoch: 36 Step: 1224 loss: 2.6651199425\n",
      "Epoch: 37 Step: 1258 loss: 2.62719612262\n",
      "Epoch: 38 Step: 1292 loss: 2.66385398192\n",
      "Epoch: 39 Step: 1326 loss: 2.62988487412\n",
      "Epoch: 40 Step: 1360 loss: 2.62822407133\n",
      "Model Saved\n",
      "Train: F1 :  75.9810677756 Accu:  84.2830882353 POS F1 :  83.2502722168 POS Accu:  91.3609562178 Loss:  2.63442015648\n",
      "Val: F1 :  68.0414154402 Accu:  80.2734375 POS F1 :  81.422278861 POS Accu:  90.4133937274 Loss:  2.8974378705\n",
      "Epoch: 41 Step: 1394 loss: 2.60263335004\n",
      "Epoch: 42 Step: 1428 loss: 2.53726068665\n",
      "Epoch: 43 Step: 1462 loss: 2.59365416976\n",
      "Epoch: 44 Step: 1496 loss: 2.62361571368\n",
      "Epoch: 45 Step: 1530 loss: 2.59878997943\n",
      "Model Saved\n",
      "Train: F1 :  76.0512886216 Accu:  86.3970588235 POS F1 :  83.3203274098 POS Accu:  91.6484512449 Loss:  2.54728685407\n",
      "Val: F1 :  70.7493627822 Accu:  81.4453125 POS F1 :  82.0626070217 POS Accu:  90.877816639 Loss:  2.91863128543\n",
      "Epoch: 46 Step: 1564 loss: 2.62689713871\n",
      "Epoch: 47 Step: 1598 loss: 2.61547599821\n",
      "Epoch: 48 Step: 1632 loss: 2.56153583527\n",
      "Epoch: 49 Step: 1666 loss: 2.58527746621\n",
      "Epoch: 50 Step: 1700 loss: 2.59905876833\n",
      "Model Saved\n",
      "Train: F1 :  78.4453309157 Accu:  86.71875 POS F1 :  83.4503559232 POS Accu:  91.5953806672 Loss:  2.52905901741\n",
      "Val: F1 :  67.5296063548 Accu:  79.8828125 POS F1 :  84.560499445 POS Accu:  91.0096898114 Loss:  2.94889751077\n",
      "Epoch: 51 Step: 1734 loss: 2.55222540042\n",
      "Epoch: 52 Step: 1768 loss: 2.58444522409\n",
      "Epoch: 53 Step: 1802 loss: 2.56058830373\n",
      "Epoch: 54 Step: 1836 loss: 2.55363296761\n",
      "Epoch: 55 Step: 1870 loss: 2.57941652046\n",
      "Model Saved\n",
      "Train: F1 :  73.8875182551 Accu:  85.9375 POS F1 :  82.9508664515 POS Accu:  91.6349047141 Loss:  2.57261825309\n",
      "Val: F1 :  65.5814400464 Accu:  80.2734375 POS F1 :  82.7992222927 POS Accu:  90.9007511037 Loss:  2.88867011666\n",
      "Epoch: 56 Step: 1904 loss: 2.55866868356\n",
      "Epoch: 57 Step: 1938 loss: 2.53603027849\n",
      "Epoch: 58 Step: 1972 loss: 2.57494783401\n",
      "Epoch: 59 Step: 2006 loss: 2.57172221296\n",
      "Epoch: 60 Step: 2040 loss: 2.55018025286\n",
      "Model Saved\n",
      "Train: F1 :  78.3129730333 Accu:  86.8106617647 POS F1 :  83.6448085768 POS Accu:  91.8758185657 Loss:  2.49804173498\n",
      "Val: F1 :  72.6814046667 Accu:  82.8125 POS F1 :  82.2306848722 POS Accu:  90.9122183361 Loss:  2.92904502153\n"
     ]
    }
   ],
   "source": [
    "num_epochs = 60\n",
    "pre_train_period = 5\n",
    "log_period = 5\n",
    "\n",
    "for i in range(num_epochs):\n",
    "    random = np.random.choice(len(y_train), size=(len(y_train)), replace=False)\n",
    "    x_id_train = x_id_train[random]\n",
    "    y_train = y_train[random]\n",
    "    mask_train = mask_train[random]    \n",
    "    pos_id_train = pos_id_train[random]\n",
    "    \n",
    "    if(i<pre_train_period):\n",
    "        losses, step = model(x_id_train, y_train, mask_train, pos_id_train, pretrain=True)\n",
    "    else:\n",
    "        losses, step = model(x_id_train, y_train, mask_train, pos_id_train)\n",
    "    print(\"Epoch:\", i+1,\"Step:\", step, \"loss:\",losses)\n",
    "    \n",
    "    if((i+1)%log_period==0):\n",
    "        saver.save(sess, save_path=save_dir)                         \n",
    "        print(\"Model Saved\")\n",
    "        train_loss, train_pred, train_pred_pos, train_true_pos = model(x_id_train, y_train, mask_train, pos_id_train, train_cond=False)        \n",
    "        f1_, accu_, f1_pos_, accu_pos_ = eval_score(y_train, train_pred, train_pred_pos, train_true_pos)\n",
    "        print(\"Train: F1 : \",  f1_, \"Accu: \", accu_, \"POS F1 : \",  f1_pos_, \"POS Accu: \", accu_pos_, \"Loss: \", train_loss)\n",
    "        \n",
    "        val_loss, val_pred, val_pred_pos, val_true_pos = model(x_id_val, y_val, mask_val, pos_id_val, train_cond=False)        \n",
    "        f1_, accu_, f1_pos_, accu_pos_ = eval_score(y_val, val_pred, val_pred_pos, val_true_pos)\n",
    "        print(\"Val: F1 : \",  f1_, \"Accu: \", accu_, \"POS F1 : \",  f1_pos_, \"POS Accu: \", accu_pos_, \"Loss: \", val_loss)\n",
    "        \n",
    "# test_loss, test_pred, test_pred_pos, test_true_pos = model(x_id_test, y_test, mask_test, pos_id_test, train_cond=False)        \n",
    "# f1_, accu_, f1_pos_, accu_pos_ = etest_score(y_test, test_pred, test_pred_pos, test_true_pos)\n",
    "# print(\"test: F1 Score: \",  f1_, \"Accuracy: \", accu_, \"POS F1 Score: \",  f1_pos_, \"POS Accuracy: \", accu_pos_, \"Loss: \", test_loss)"
   ]
  },
  {
   "cell_type": "code",
   "execution_count": null,
   "metadata": {
    "collapsed": true
   },
   "outputs": [],
   "source": []
  },
  {
   "cell_type": "code",
   "execution_count": null,
   "metadata": {
    "collapsed": true
   },
   "outputs": [],
   "source": [
    "saver.restore(sess, save_dir)"
   ]
  }
 ],
 "metadata": {
  "kernelspec": {
   "display_name": "cs771",
   "language": "python",
   "name": "cs771"
  },
  "language_info": {
   "codemirror_mode": {
    "name": "ipython",
    "version": 3
   },
   "file_extension": ".py",
   "mimetype": "text/x-python",
   "name": "python",
   "nbconvert_exporter": "python",
   "pygments_lexer": "ipython3",
   "version": "3.5.2"
  }
 },
 "nbformat": 4,
 "nbformat_minor": 2
}
