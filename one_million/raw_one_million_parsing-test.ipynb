{
 "cells": [
  {
   "cell_type": "code",
   "execution_count": 1,
   "metadata": {},
   "outputs": [],
   "source": [
    "import xml.etree.ElementTree as ET\n",
    "import numpy as np\n",
    "tree = ET.parse('../../dataset/ALL.data.xml')\n",
    "root = tree.getroot()"
   ]
  },
  {
   "cell_type": "code",
   "execution_count": 2,
   "metadata": {},
   "outputs": [
    {
     "data": {
      "text/plain": [
       "<Element 'corpus' at 0x7f5c0c0ee9a8>"
      ]
     },
     "execution_count": 2,
     "metadata": {},
     "output_type": "execute_result"
    }
   ],
   "source": [
    "root"
   ]
  },
  {
   "cell_type": "code",
   "execution_count": 4,
   "metadata": {
    "collapsed": true
   },
   "outputs": [],
   "source": [
    "def isalphabet(word):\n",
    "    return True"
   ]
  },
  {
   "cell_type": "code",
   "execution_count": 5,
   "metadata": {},
   "outputs": [
    {
     "name": "stdout",
     "output_type": "stream",
     "text": [
      "1173\n"
     ]
    }
   ],
   "source": [
    "train1 = []\n",
    "count=0\n",
    "for sentences in root.findall('text'):\n",
    "    for sentence in sentences:\n",
    "        temp_sent = []\n",
    "        temp_sent.append(sentence.get('id'))\n",
    "\n",
    "        temp_words = []\n",
    "        i_cnt=1\n",
    "        ind=[]\n",
    "        for word in sentence:\n",
    "            string = word.text.lower()        \n",
    "            if (isalphabet(string)):\n",
    "                temp_words.append(string)\n",
    "                ind.append(i_cnt)\n",
    "            i_cnt+=1\n",
    "\n",
    "        temp_sent.append(temp_words)\n",
    "        list_ = sentence.iter()\n",
    "        id_list = []\n",
    "        lemma_list = []\n",
    "        pos_list = []\n",
    "        for i in list_:\n",
    "            id_list.append(i.get('id'))\n",
    "            lemma_list.append(i.get('lemma'))\n",
    "            pos_list.append(i.get('pos'))\n",
    "\n",
    "        id_list, lemma_list , pos_list = np.array(id_list),np.array(lemma_list),np.array(pos_list)\n",
    "        temp_sent.extend([list(id_list[ind]), list(lemma_list[ind]), list(pos_list[ind])])\n",
    "        train1.append(temp_sent)\n",
    "        count+=1\n",
    "        \n",
    "print(count)"
   ]
  },
  {
   "cell_type": "code",
   "execution_count": 6,
   "metadata": {},
   "outputs": [
    {
     "data": {
      "text/plain": [
       "1173"
      ]
     },
     "execution_count": 6,
     "metadata": {},
     "output_type": "execute_result"
    }
   ],
   "source": [
    "len(train1)"
   ]
  },
  {
   "cell_type": "code",
   "execution_count": 10,
   "metadata": {
    "collapsed": true
   },
   "outputs": [],
   "source": [
    "import pickle\n",
    "with open('/data/aviraj/dataset/raw_preprocess_test','wb') as f:\n",
    "    pickle.dump(train1,f)"
   ]
  },
  {
   "cell_type": "code",
   "execution_count": 12,
   "metadata": {},
   "outputs": [
    {
     "data": {
      "text/plain": [
       "['senseval2.d000.s000',\n",
       " ['the',\n",
       "  'art',\n",
       "  'of',\n",
       "  'change-ringing',\n",
       "  'is',\n",
       "  'peculiar',\n",
       "  'to',\n",
       "  'the',\n",
       "  'english',\n",
       "  ',',\n",
       "  'and',\n",
       "  ',',\n",
       "  'like',\n",
       "  'most',\n",
       "  'english',\n",
       "  'peculiarities',\n",
       "  ',',\n",
       "  'unintelligible',\n",
       "  'to',\n",
       "  'the',\n",
       "  'rest',\n",
       "  'of',\n",
       "  'the',\n",
       "  'world',\n",
       "  '.'],\n",
       " [None,\n",
       "  'senseval2.d000.s000.t000',\n",
       "  None,\n",
       "  'senseval2.d000.s000.t001',\n",
       "  None,\n",
       "  'senseval2.d000.s000.t002',\n",
       "  None,\n",
       "  None,\n",
       "  'senseval2.d000.s000.t003',\n",
       "  None,\n",
       "  None,\n",
       "  None,\n",
       "  None,\n",
       "  'senseval2.d000.s000.t004',\n",
       "  'senseval2.d000.s000.t005',\n",
       "  'senseval2.d000.s000.t006',\n",
       "  None,\n",
       "  'senseval2.d000.s000.t007',\n",
       "  None,\n",
       "  None,\n",
       "  'senseval2.d000.s000.t008',\n",
       "  None,\n",
       "  None,\n",
       "  'senseval2.d000.s000.t009',\n",
       "  None],\n",
       " ['the',\n",
       "  'art',\n",
       "  'of',\n",
       "  'change_ringing',\n",
       "  'be',\n",
       "  'peculiar',\n",
       "  'to',\n",
       "  'the',\n",
       "  'english',\n",
       "  ',',\n",
       "  'and',\n",
       "  ',',\n",
       "  'like',\n",
       "  'most',\n",
       "  'english',\n",
       "  'peculiarity',\n",
       "  ',',\n",
       "  'unintelligible',\n",
       "  'to',\n",
       "  'the',\n",
       "  'rest',\n",
       "  'of',\n",
       "  'the',\n",
       "  'world',\n",
       "  '.'],\n",
       " ['DET',\n",
       "  'NOUN',\n",
       "  'ADP',\n",
       "  'NOUN',\n",
       "  'VERB',\n",
       "  'ADJ',\n",
       "  'PRT',\n",
       "  'DET',\n",
       "  'NOUN',\n",
       "  '.',\n",
       "  'CONJ',\n",
       "  '.',\n",
       "  'ADP',\n",
       "  'ADJ',\n",
       "  'ADJ',\n",
       "  'NOUN',\n",
       "  '.',\n",
       "  'ADJ',\n",
       "  'PRT',\n",
       "  'DET',\n",
       "  'NOUN',\n",
       "  'ADP',\n",
       "  'DET',\n",
       "  'NOUN',\n",
       "  '.']]"
      ]
     },
     "execution_count": 12,
     "metadata": {},
     "output_type": "execute_result"
    }
   ],
   "source": [
    "train1[0]"
   ]
  },
  {
   "cell_type": "code",
   "execution_count": null,
   "metadata": {},
   "outputs": [],
   "source": []
  }
 ],
 "metadata": {
  "kernelspec": {
   "display_name": "envs",
   "language": "python",
   "name": "cs771"
  },
  "language_info": {
   "codemirror_mode": {
    "name": "ipython",
    "version": 3
   },
   "file_extension": ".py",
   "mimetype": "text/x-python",
   "name": "python",
   "nbconvert_exporter": "python",
   "pygments_lexer": "ipython3",
   "version": "3.5.2"
  }
 },
 "nbformat": 4,
 "nbformat_minor": 2
}
