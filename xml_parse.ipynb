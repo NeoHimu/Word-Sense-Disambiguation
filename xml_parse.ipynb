{
 "cells": [
  {
   "cell_type": "code",
   "execution_count": 8,
   "metadata": {
    "collapsed": true
   },
   "outputs": [],
   "source": [
    "from nltk.corpus import wordnet as wn\n",
    "from bs4 import BeautifulSoup\n",
    "import urllib.request\n",
    "import pickle"
   ]
  },
  {
   "cell_type": "code",
   "execution_count": 9,
   "metadata": {
    "collapsed": true
   },
   "outputs": [],
   "source": [
    "with open('./dataset/SemCor+OMSTI/semcor+omsti.data.xml', 'r') as f:\n",
    "    soup = BeautifulSoup(f, 'xml')"
   ]
  },
  {
   "cell_type": "code",
   "execution_count": 11,
   "metadata": {
    "collapsed": true
   },
   "outputs": [],
   "source": [
    "train = []\n",
    "count = 0\n",
    "for sentence in soup.find_all('sentence'):\n",
    "    temp_sent = []\n",
    "    temp_sent.append(sentence.get('id'))\n",
    "    \n",
    "    string = sentence.text.strip('\\n').split('\\n')\n",
    "    temp_sent.append(string)\n",
    "    \n",
    "    list_ = sentence.contents\n",
    "    id_list = []\n",
    "    lemma_list = []\n",
    "    pos_list = []\n",
    "    for i in range(1,len(list_),2):\n",
    "        id_list.append(list_[i].get('id'))\n",
    "        lemma_list.append(list_[i].get('lemma'))\n",
    "        pos_list.append(list_[i].get('pos'))\n",
    "    temp_sent.extend([id_list, lemma_list, pos_list])\n",
    "    train.append(temp_sent)"
   ]
  },
  {
   "cell_type": "code",
   "execution_count": 12,
   "metadata": {
    "collapsed": true
   },
   "outputs": [],
   "source": [
    "with open('one_million', 'wb') as f:\n",
    "    pickle.dump(train, f)\n",
    "\n",
    "del train,soup"
   ]
  },
  {
   "cell_type": "code",
   "execution_count": 13,
   "metadata": {
    "collapsed": true
   },
   "outputs": [],
   "source": [
    "#with open('one_million','rb') as f:\n",
    "#    data=pickle.load(f)"
   ]
  },
  {
   "cell_type": "code",
   "execution_count": 15,
   "metadata": {
    "collapsed": true
   },
   "outputs": [],
   "source": [
    "with open('./dataset/SemCor/semcor.data.xml', 'r') as f:\n",
    "    soup = BeautifulSoup(f, 'xml')"
   ]
  },
  {
   "cell_type": "code",
   "execution_count": 16,
   "metadata": {
    "collapsed": true
   },
   "outputs": [],
   "source": [
    "train = []\n",
    "count = 0\n",
    "for sentence in soup.find_all('sentence'):\n",
    "    temp_sent = []\n",
    "    temp_sent.append(sentence.get('id'))\n",
    "    \n",
    "    string = sentence.text.strip('\\n').split('\\n')\n",
    "    temp_sent.append(string)\n",
    "    \n",
    "    list_ = sentence.contents\n",
    "    id_list = []\n",
    "    lemma_list = []\n",
    "    pos_list = []\n",
    "    for i in range(1,len(list_),2):\n",
    "        id_list.append(list_[i].get('id'))\n",
    "        lemma_list.append(list_[i].get('lemma'))\n",
    "        pos_list.append(list_[i].get('pos'))\n",
    "    temp_sent.extend([id_list, lemma_list, pos_list])\n",
    "    train.append(temp_sent)"
   ]
  },
  {
   "cell_type": "code",
   "execution_count": 17,
   "metadata": {},
   "outputs": [
    {
     "name": "stdout",
     "output_type": "stream",
     "text": [
      "37176\n"
     ]
    }
   ],
   "source": [
    "#print(len(train))\n",
    "with open('train', 'wb') as f:\n",
    "    pickle.dump(train, f)\n",
    "\n",
    "del train,soup"
   ]
  },
  {
   "cell_type": "code",
   "execution_count": null,
   "metadata": {
    "collapsed": true
   },
   "outputs": [],
   "source": []
  }
 ],
 "metadata": {
  "kernelspec": {
   "display_name": "cs771",
   "language": "python",
   "name": "cs771"
  },
  "language_info": {
   "codemirror_mode": {
    "name": "ipython",
    "version": 3
   },
   "file_extension": ".py",
   "mimetype": "text/x-python",
   "name": "python",
   "nbconvert_exporter": "python",
   "pygments_lexer": "ipython3",
   "version": "3.5.2"
  }
 },
 "nbformat": 4,
 "nbformat_minor": 2
}
